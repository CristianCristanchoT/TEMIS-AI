{
 "cells": [
  {
   "cell_type": "markdown",
   "id": "expired-associate",
   "metadata": {},
   "source": [
    "## **Exploración de Sentencias - Corte Constitucional**"
   ]
  },
  {
   "cell_type": "markdown",
   "id": "controlling-tribe",
   "metadata": {},
   "source": [
    "## **Importación de librerías**"
   ]
  },
  {
   "cell_type": "code",
   "execution_count": 1,
   "id": "retained-amino",
   "metadata": {},
   "outputs": [],
   "source": [
    "import pandas as pd\n",
    "import numpy as np\n",
    "\n",
    "import tqdm\n",
    "import os\n",
    "import re\n",
    "\n",
    "from multiprocessing import Pool\n",
    "\n",
    "from sklearn.feature_extraction.text import CountVectorizer\n",
    "\n",
    "import gensim\n",
    "\n",
    "\n",
    "from gensim.test.utils import datapath\n",
    "from gensim.models import FastText\n",
    "\n",
    "import numpy as np\n",
    "\n",
    "import nltk\n",
    "\n",
    "from sklearn.metrics.pairwise import cosine_distances"
   ]
  },
  {
   "cell_type": "code",
   "execution_count": 2,
   "id": "excited-dining",
   "metadata": {},
   "outputs": [
    {
     "name": "stderr",
     "output_type": "stream",
     "text": [
      "[nltk_data] Downloading package stopwords to\n",
      "[nltk_data]     /home/caicardo/nltk_data...\n",
      "[nltk_data]   Package stopwords is already up-to-date!\n"
     ]
    },
    {
     "data": {
      "text/plain": [
       "True"
      ]
     },
     "execution_count": 2,
     "metadata": {},
     "output_type": "execute_result"
    }
   ],
   "source": [
    "nltk.download('stopwords')"
   ]
  },
  {
   "cell_type": "code",
   "execution_count": null,
   "id": "linear-advocate",
   "metadata": {},
   "outputs": [],
   "source": []
  },
  {
   "cell_type": "markdown",
   "id": "accompanied-helena",
   "metadata": {},
   "source": [
    "## **Definición de funciones**"
   ]
  },
  {
   "cell_type": "code",
   "execution_count": 3,
   "id": "selective-coordinator",
   "metadata": {},
   "outputs": [],
   "source": [
    "def preprocessor(text):\n",
    "    \"\"\"\n",
    "    preprocesador de texto\n",
    "    \"\"\"\n",
    "    punctuations = '''!()-[]{};:'\"\\,<>./?@#$%^&*_~'''\n",
    "    for char in punctuations:\n",
    "        text = text.replace(char, \" \")\n",
    "    \n",
    "    #     text = re.sub(\"[.,;\\\"\\'?():-_`]\", \" \", text)\n",
    "    text = re.sub(\"\\s+\", \" \", text)\n",
    "    text = text.lower()\n",
    "    return text"
   ]
  },
  {
   "cell_type": "code",
   "execution_count": 4,
   "id": "novel-scanning",
   "metadata": {},
   "outputs": [],
   "source": [
    "def preprocessor_sentences(text):\n",
    "    \"\"\"\n",
    "    preprocesador de texto con separación de frases por línea.\n",
    "    \"\"\"\n",
    "    punctuations = '''!()-[]{};:'\"\\,<>/?@#$%^&*_~'''\n",
    "    for char in punctuations:\n",
    "        text = text.replace(char, \" \")\n",
    "    text = text.replace(\"\\n\\n\", \"<FIN>\")\n",
    "    text = text.replace(\".\", \"<FIN>\")\n",
    "    text = re.sub(\"\\s+\", \" \", text)\n",
    "    text = text.replace(\"<FIN>\", \"\\n\")\n",
    "    text = \"\".join([c for c in text if str.isprintable(c) or c==\"\\n\" or c==\".\"])\n",
    "    text = re.sub(\"[\\n\\r]+\", \"\\n\", text)\n",
    "    text = text.lower()\n",
    "    text = text.strip(\"\\n \")\n",
    "    return text"
   ]
  },
  {
   "cell_type": "code",
   "execution_count": 5,
   "id": "responsible-brain",
   "metadata": {},
   "outputs": [],
   "source": [
    "def wv_vectorizer(text):\n",
    "    \"\"\"\n",
    "    Calcula el vector promedio de las palabras de la frase.\n",
    "    \"\"\"\n",
    "    text = preprocessor(text)\n",
    "    vec_list = []\n",
    "    for word in [w for w in text.split() if w not in es_stopwords]:\n",
    "        vec_list.append(model.wv[word])\n",
    "    vec_list = np.array(vec_list)\n",
    "    vec = np.mean(vec_list, axis=0)\n",
    "    return vec"
   ]
  },
  {
   "cell_type": "markdown",
   "id": "regional-service",
   "metadata": {},
   "source": [
    "## **Configuración**"
   ]
  },
  {
   "cell_type": "code",
   "execution_count": 6,
   "id": "crazy-intelligence",
   "metadata": {},
   "outputs": [],
   "source": [
    "RANDOM_STATE = 42\n",
    "N_TOP_DOCS = 5\n",
    "CARACTERES = 500"
   ]
  },
  {
   "cell_type": "code",
   "execution_count": 7,
   "id": "painful-catering",
   "metadata": {},
   "outputs": [],
   "source": [
    "es_stopwords = nltk.corpus.stopwords.words(\"spanish\")"
   ]
  },
  {
   "cell_type": "code",
   "execution_count": 8,
   "id": "alpha-airfare",
   "metadata": {},
   "outputs": [],
   "source": [
    "es_stopwords.remove(\"no\")"
   ]
  },
  {
   "cell_type": "markdown",
   "id": "lined-winner",
   "metadata": {},
   "source": [
    "## **Lectura de datos**"
   ]
  },
  {
   "cell_type": "code",
   "execution_count": 9,
   "id": "gothic-arabic",
   "metadata": {},
   "outputs": [],
   "source": [
    "df = pd.read_csv(\"documents_pp.csv\")"
   ]
  },
  {
   "cell_type": "code",
   "execution_count": 10,
   "id": "gentle-length",
   "metadata": {},
   "outputs": [
    {
     "data": {
      "text/plain": [
       "Index(['Unnamed: 0', 'INDEX', 'LINK', 'DOCUMENT', 'tipo', 'pp'], dtype='object')"
      ]
     },
     "execution_count": 10,
     "metadata": {},
     "output_type": "execute_result"
    }
   ],
   "source": [
    "df.columns"
   ]
  },
  {
   "cell_type": "code",
   "execution_count": 11,
   "id": "incorporate-roller",
   "metadata": {},
   "outputs": [],
   "source": [
    "df[\"tipo\"] = [x.strip()[0] for x in df.INDEX]"
   ]
  },
  {
   "cell_type": "code",
   "execution_count": 12,
   "id": "bacterial-medium",
   "metadata": {},
   "outputs": [
    {
     "data": {
      "text/html": [
       "<div>\n",
       "<style scoped>\n",
       "    .dataframe tbody tr th:only-of-type {\n",
       "        vertical-align: middle;\n",
       "    }\n",
       "\n",
       "    .dataframe tbody tr th {\n",
       "        vertical-align: top;\n",
       "    }\n",
       "\n",
       "    .dataframe thead th {\n",
       "        text-align: right;\n",
       "    }\n",
       "</style>\n",
       "<table border=\"1\" class=\"dataframe\">\n",
       "  <thead>\n",
       "    <tr style=\"text-align: right;\">\n",
       "      <th></th>\n",
       "      <th>Unnamed: 0</th>\n",
       "      <th>INDEX</th>\n",
       "      <th>LINK</th>\n",
       "      <th>DOCUMENT</th>\n",
       "      <th>tipo</th>\n",
       "      <th>pp</th>\n",
       "    </tr>\n",
       "  </thead>\n",
       "  <tbody>\n",
       "    <tr>\n",
       "      <th>0</th>\n",
       "      <td>0</td>\n",
       "      <td>A107-21</td>\n",
       "      <td>https://www.corteconstitucional.gov.co/Relator...</td>\n",
       "      <td>\\nAuto 107/21\\n \\n \\nReferencia: Expediente T-...</td>\n",
       "      <td>A</td>\n",
       "      <td>auto 107 21 referencia expediente t 7 909 170...</td>\n",
       "    </tr>\n",
       "    <tr>\n",
       "      <th>1</th>\n",
       "      <td>1</td>\n",
       "      <td>A106-21</td>\n",
       "      <td>https://www.corteconstitucional.gov.co/Relator...</td>\n",
       "      <td>\\nAuto 106/21\\n \\n \\nReferencia: Expediente T-...</td>\n",
       "      <td>A</td>\n",
       "      <td>auto 106 21 referencia expediente t 6 839 494...</td>\n",
       "    </tr>\n",
       "    <tr>\n",
       "      <th>2</th>\n",
       "      <td>2</td>\n",
       "      <td>A092-21</td>\n",
       "      <td>https://www.corteconstitucional.gov.co/Relator...</td>\n",
       "      <td>\\nAuto 092/21\\n \\n \\nReferencia: respuesta a l...</td>\n",
       "      <td>A</td>\n",
       "      <td>auto 092 21 referencia respuesta a la solicit...</td>\n",
       "    </tr>\n",
       "    <tr>\n",
       "      <th>3</th>\n",
       "      <td>3</td>\n",
       "      <td>A091-21</td>\n",
       "      <td>https://www.corteconstitucional.gov.co/Relator...</td>\n",
       "      <td>\\nAuto 091/21\\n \\n \\nReferencia: requerimiento...</td>\n",
       "      <td>A</td>\n",
       "      <td>auto 091 21 referencia requerimiento al minis...</td>\n",
       "    </tr>\n",
       "    <tr>\n",
       "      <th>4</th>\n",
       "      <td>4</td>\n",
       "      <td>A090-21</td>\n",
       "      <td>https://www.corteconstitucional.gov.co/Relator...</td>\n",
       "      <td>\\nAuto 090/21\\n \\n \\nReferencia: Expediente T-...</td>\n",
       "      <td>A</td>\n",
       "      <td>auto 090 21 referencia expediente t 7 185 421...</td>\n",
       "    </tr>\n",
       "  </tbody>\n",
       "</table>\n",
       "</div>"
      ],
      "text/plain": [
       "   Unnamed: 0     INDEX                                               LINK  \\\n",
       "0           0   A107-21  https://www.corteconstitucional.gov.co/Relator...   \n",
       "1           1   A106-21  https://www.corteconstitucional.gov.co/Relator...   \n",
       "2           2   A092-21  https://www.corteconstitucional.gov.co/Relator...   \n",
       "3           3   A091-21  https://www.corteconstitucional.gov.co/Relator...   \n",
       "4           4   A090-21  https://www.corteconstitucional.gov.co/Relator...   \n",
       "\n",
       "                                            DOCUMENT tipo  \\\n",
       "0  \\nAuto 107/21\\n \\n \\nReferencia: Expediente T-...    A   \n",
       "1  \\nAuto 106/21\\n \\n \\nReferencia: Expediente T-...    A   \n",
       "2  \\nAuto 092/21\\n \\n \\nReferencia: respuesta a l...    A   \n",
       "3  \\nAuto 091/21\\n \\n \\nReferencia: requerimiento...    A   \n",
       "4  \\nAuto 090/21\\n \\n \\nReferencia: Expediente T-...    A   \n",
       "\n",
       "                                                  pp  \n",
       "0   auto 107 21 referencia expediente t 7 909 170...  \n",
       "1   auto 106 21 referencia expediente t 6 839 494...  \n",
       "2   auto 092 21 referencia respuesta a la solicit...  \n",
       "3   auto 091 21 referencia requerimiento al minis...  \n",
       "4   auto 090 21 referencia expediente t 7 185 421...  "
      ]
     },
     "execution_count": 12,
     "metadata": {},
     "output_type": "execute_result"
    }
   ],
   "source": [
    "df.head()"
   ]
  },
  {
   "cell_type": "code",
   "execution_count": 13,
   "id": "saving-complement",
   "metadata": {},
   "outputs": [
    {
     "data": {
      "text/plain": [
       "T    19190\n",
       "A     8937\n",
       "C     6874\n",
       "S      371\n",
       "s       24\n",
       "t       16\n",
       "c        7\n",
       "E        2\n",
       "Name: tipo, dtype: int64"
      ]
     },
     "execution_count": 13,
     "metadata": {},
     "output_type": "execute_result"
    }
   ],
   "source": [
    "df.tipo.value_counts()"
   ]
  },
  {
   "cell_type": "markdown",
   "id": "blessed-exploration",
   "metadata": {},
   "source": [
    "## **Preprocesamiento de texto (para TF-IDF)**\n",
    "\n",
    "No es necesario volver a preprocesar los datos, se deja el código para referencia y replicación"
   ]
  },
  {
   "cell_type": "code",
   "execution_count": 19,
   "id": "pointed-halifax",
   "metadata": {},
   "outputs": [],
   "source": [
    "%%time\n",
    "with Pool(8) as my_pool:\n",
    "    pp_list = my_pool.map(preprocessor, df.DOCUMENT.values)"
   ]
  },
  {
   "cell_type": "code",
   "execution_count": 21,
   "id": "younger-precipitation",
   "metadata": {},
   "outputs": [],
   "source": [
    "df[\"pp\"] = pp_list"
   ]
  },
  {
   "cell_type": "code",
   "execution_count": 22,
   "id": "together-publicity",
   "metadata": {},
   "outputs": [
    {
     "data": {
      "text/html": [
       "<div>\n",
       "<style scoped>\n",
       "    .dataframe tbody tr th:only-of-type {\n",
       "        vertical-align: middle;\n",
       "    }\n",
       "\n",
       "    .dataframe tbody tr th {\n",
       "        vertical-align: top;\n",
       "    }\n",
       "\n",
       "    .dataframe thead th {\n",
       "        text-align: right;\n",
       "    }\n",
       "</style>\n",
       "<table border=\"1\" class=\"dataframe\">\n",
       "  <thead>\n",
       "    <tr style=\"text-align: right;\">\n",
       "      <th></th>\n",
       "      <th>INDEX</th>\n",
       "      <th>LINK</th>\n",
       "      <th>DOCUMENT</th>\n",
       "      <th>tipo</th>\n",
       "      <th>pp</th>\n",
       "    </tr>\n",
       "  </thead>\n",
       "  <tbody>\n",
       "    <tr>\n",
       "      <th>0</th>\n",
       "      <td>A107-21</td>\n",
       "      <td>https://www.corteconstitucional.gov.co/Relator...</td>\n",
       "      <td>\\nAuto 107/21\\n \\n \\nReferencia: Expediente T-...</td>\n",
       "      <td>A</td>\n",
       "      <td>auto 107 21 referencia expediente t 7 909 170...</td>\n",
       "    </tr>\n",
       "    <tr>\n",
       "      <th>1</th>\n",
       "      <td>A106-21</td>\n",
       "      <td>https://www.corteconstitucional.gov.co/Relator...</td>\n",
       "      <td>\\nAuto 106/21\\n \\n \\nReferencia: Expediente T-...</td>\n",
       "      <td>A</td>\n",
       "      <td>auto 106 21 referencia expediente t 6 839 494...</td>\n",
       "    </tr>\n",
       "    <tr>\n",
       "      <th>2</th>\n",
       "      <td>A092-21</td>\n",
       "      <td>https://www.corteconstitucional.gov.co/Relator...</td>\n",
       "      <td>\\nAuto 092/21\\n \\n \\nReferencia: respuesta a l...</td>\n",
       "      <td>A</td>\n",
       "      <td>auto 092 21 referencia respuesta a la solicit...</td>\n",
       "    </tr>\n",
       "    <tr>\n",
       "      <th>3</th>\n",
       "      <td>A091-21</td>\n",
       "      <td>https://www.corteconstitucional.gov.co/Relator...</td>\n",
       "      <td>\\nAuto 091/21\\n \\n \\nReferencia: requerimiento...</td>\n",
       "      <td>A</td>\n",
       "      <td>auto 091 21 referencia requerimiento al minis...</td>\n",
       "    </tr>\n",
       "    <tr>\n",
       "      <th>4</th>\n",
       "      <td>A090-21</td>\n",
       "      <td>https://www.corteconstitucional.gov.co/Relator...</td>\n",
       "      <td>\\nAuto 090/21\\n \\n \\nReferencia: Expediente T-...</td>\n",
       "      <td>A</td>\n",
       "      <td>auto 090 21 referencia expediente t 7 185 421...</td>\n",
       "    </tr>\n",
       "  </tbody>\n",
       "</table>\n",
       "</div>"
      ],
      "text/plain": [
       "      INDEX                                               LINK  \\\n",
       "0   A107-21  https://www.corteconstitucional.gov.co/Relator...   \n",
       "1   A106-21  https://www.corteconstitucional.gov.co/Relator...   \n",
       "2   A092-21  https://www.corteconstitucional.gov.co/Relator...   \n",
       "3   A091-21  https://www.corteconstitucional.gov.co/Relator...   \n",
       "4   A090-21  https://www.corteconstitucional.gov.co/Relator...   \n",
       "\n",
       "                                            DOCUMENT tipo  \\\n",
       "0  \\nAuto 107/21\\n \\n \\nReferencia: Expediente T-...    A   \n",
       "1  \\nAuto 106/21\\n \\n \\nReferencia: Expediente T-...    A   \n",
       "2  \\nAuto 092/21\\n \\n \\nReferencia: respuesta a l...    A   \n",
       "3  \\nAuto 091/21\\n \\n \\nReferencia: requerimiento...    A   \n",
       "4  \\nAuto 090/21\\n \\n \\nReferencia: Expediente T-...    A   \n",
       "\n",
       "                                                  pp  \n",
       "0   auto 107 21 referencia expediente t 7 909 170...  \n",
       "1   auto 106 21 referencia expediente t 6 839 494...  \n",
       "2   auto 092 21 referencia respuesta a la solicit...  \n",
       "3   auto 091 21 referencia requerimiento al minis...  \n",
       "4   auto 090 21 referencia expediente t 7 185 421...  "
      ]
     },
     "execution_count": 22,
     "metadata": {},
     "output_type": "execute_result"
    }
   ],
   "source": [
    "df.head()"
   ]
  },
  {
   "cell_type": "markdown",
   "id": "sonic-founder",
   "metadata": {},
   "source": [
    "**Guardar datos preprocesados**"
   ]
  },
  {
   "cell_type": "code",
   "execution_count": 23,
   "id": "inappropriate-twist",
   "metadata": {},
   "outputs": [],
   "source": [
    "df.to_csv(\"documents_pp.csv\")"
   ]
  },
  {
   "cell_type": "code",
   "execution_count": 24,
   "id": "twenty-semiconductor",
   "metadata": {
    "scrolled": true
   },
   "outputs": [
    {
     "data": {
      "text/plain": [
       "' auto 107 21 referencia expediente t 7 909 170 ac acción de tutela promovida por carmen alicia rodríguez berrío y otros contra holding inmobiliaria y otros asunto solicitud de cumplimiento de la sentencia t 020 de 2021 peticionaria carmen alicia rodríguez berrío magistrada sustanciadora gloria stella ortiz delgado bogotá d c nueve 9 de marzo de dos mil veintiuno 2021 la suscrita magistrada sustanciadora en ejercicio de sus competencias constitucionales y legales profiere el presente auto con fundamento en los siguientes antecedentes 1 el pasado 27 de enero la sala sexta de revisión profirió la sentencia t 020 de 2021 1 en el caso particular de la señora carmen alicia dicha providencia concedió el amparo de los derechos a la estabilidad laboral reforzada y al mínimo vital 2 en consecuencia esta corporación le ordenó a holding inmobiliaria reintegrar a la peticionaria al trabajo que desempeñaba en la empresa lo anterior porque declaró ineficaz el despido además le ordenó reconocerle la indemnización prevista en el inciso 2º del artículo 26 de la ley 361 de 1997 las prestaciones los salarios y los aportes dejados de percibir de igual forma le ordenó a positiva arl pagarle las incapacidades pendientes 3 mediante escritos del 26 de febrero y del 1º de marzo de 2021 la actora solicitó a la corte constitucional el cumplimiento de la decisión consideraciones competencia de la magistrada sustanciadora para proferir este auto 1 en sesión del 25 de febrero de 2021 la sala plena aclaró que los magistrados ponentes son competentes para conocer de los asuntos sometidos a su consideración siempre que se trate de aspectos procedimentales y su resolución no implique un estudio de fondo lo anterior con fundamento en los siguientes argumentos 1 1 en primer lugar según el artículo 34 2 del decreto 2591 de 1991 3 las salas de revisión conocen de los fallos de tutela de conformidad con el procedimiento vigente para los tribunales del distrito judicial no obstante ni el decreto estatutario ni la regulación de esas corporaciones aluden a la competencia para tramitar las solicitudes de cumplimiento y los incidentes de desacato lo mismo se predica del artículo 56 del acuerdo 02 de 2015 4 que establece el funcionamiento de las salas por consiguiente no existe disposición especial que se refiera a la competencia en estos asuntos de ahí que deba acudirse al código general del proceso como norma supletoria 1 2 en segundo lugar el artículo 35 5 de ese código indica que el magistrado sustanciador dictará los autos que no correspondan a la sala de decisión 1 3 por último en atención a los principios de celeridad y de eficiencia en la administración de justicia el magistrado sustanciador debe resolver los asuntos que requieran de impulso procesal esto es aquellos que no supongan la modificación de situaciones jurídicas ni la definición de aspectos sustanciales competencia de la corte constitucional en el trámite de las solicitudes de cumplimiento 2 el artículo 36 del decreto 2591 de 1991 establece que los fallos dictados por la corte deberán comunicarse al juez de primera instancia y que este a su vez los notificará a las partes asimismo los artículos 23 6 27 7 y 52 8 de esa normativa señalan que ante la inobservancia de una orden de tutela el beneficiario puede solicitar simultánea o sucesivamente i su cumplimiento por medio del trámite de cumplimiento y o ii la imposición de sanciones a la autoridad renuente mediante el incidente de desacato 9 3 en virtud de lo anterior esta corte ha considerado que por regla general el juez de primera instancia es la autoridad competente para verificar el cumplimiento del fallo de tutela ello a pesar de que la decisión se hubiese dictado en la segunda instancia o en sede de revisión 10 4 no obstante en casos excepcionales esta corporación puede verificar la observancia de sus sentencias y tramitar el incidente de desacato en particular la corte ha indicado que esta facultad se activa entre otras en las siguientes situaciones \\x93 i cuando ha habido manifiesto incumplimiento de las decisiones de tutela sin que los jueces de primera instancia hayan podido adoptar las medidas que hagan efectiva la orden de protección ii o dichas medidas han sido insuficientes o ineficaces o iii cuando en presencia de un estado de cosas inconstitucional que afecta a un conjunto amplio de personas se han emitido órdenes complejas para cuya efectividad es necesario un permanente seguimiento y la adopción de nuevas determinaciones de acuerdo con las circunstancias de una situación que se prolonga en el tiempo\\x94 11 caso concreto 5 en esta oportunidad la señora carmen alicia rodríguez berrío solicitó a la corte adelantar el trámite de cumplimiento de la sentencia t 020 de 2021 ello ante la presunta renuencia de holding inmobiliaria y positiva arl de acatar las órdenes de protección contenidas en la decisión al respecto la suscrita magistrada advierte que no se configura ninguna de las causales que habilitan la intervención de esta corporación en efecto la peticionaria no allegó elementos de juicio que evidencien el manifiesto incumplimiento de las órdenes de tutela ni la insuficiencia o la ineficacia de las medidas adoptadas por el juez de primera instancia autoridad competente para iniciar la actuación pretendida 6 visto lo anterior este despacho se abstendrá de tramitar la solicitud de cumplimiento presentada por la peticionaria asimismo ordenará su remisión al juzgado séptimo civil municipal de santa marta autoridad que conoció de la acción de tutela en única instancia y por consiguiente es competente para conocer del asunto con fundamento en lo expuesto la suscrita magistrada sustanciadora resuelve primero abstenerse de tramitar la solicitud de cumplimiento de la sentencia t 020 de 2021 promovida por la señora carmen alicia rodríguez berrío segundo por secretaría general de la corte constitucional disponer que la solicitud presentada por la señora carmen alicia rodríguez berrío sea remitida al juzgado séptimo civil municipal de santa marta para lo de su competencia tercero ordenar que por secretaría general de la corporación se comunique la decisión adoptada en esta providencia a la señora carmen alicia rodríguez berrío 12 comuníquese y cúmplase gloria stella ortiz delgado magistrada sustanciadora martha victoria sáchica méndez secretaria general '"
      ]
     },
     "execution_count": 24,
     "metadata": {},
     "output_type": "execute_result"
    }
   ],
   "source": [
    "# Ejemplo\n",
    "df.iloc[0].pp"
   ]
  },
  {
   "cell_type": "markdown",
   "id": "answering-priority",
   "metadata": {},
   "source": [
    "**Prueba Segmentación por frases**"
   ]
  },
  {
   "cell_type": "code",
   "execution_count": 42,
   "id": "vietnamese-sweden",
   "metadata": {
    "scrolled": true
   },
   "outputs": [
    {
     "name": "stdout",
     "output_type": "stream",
     "text": [
      "0. auto 107 21 referencia expediente t 7\n",
      "1. 909\n",
      "2. 170 ac\n",
      "3.  acción de tutela promovida por carmen alicia rodríguez berrío y otros contra holding inmobiliaria y otros\n",
      "4.  asunto solicitud de cumplimiento de la sentencia t 020 de 2021\n",
      "5.  peticionaria carmen alicia rodríguez berrío\n",
      "6.  magistrada sustanciadora gloria stella ortiz delgado\n",
      "7.  bogotá d\n",
      "8. c\n",
      "9.  nueve 9 de marzo de dos mil veintiuno 2021 \n",
      "10.  la suscrita magistrada sustanciadora en ejercicio de sus competencias constitucionales y legales profiere el presente auto con fundamento en los siguientes antecedentes 1\n",
      "11.  el pasado 27 de enero la sala sexta de revisión profirió la sentencia t 020 de 2021 1 \n",
      "12.  en el caso particular de la señora carmen alicia dicha providencia concedió el amparo de los derechos a la estabilidad laboral reforzada y al mínimo vital\n",
      "13.  2\n",
      "14.  en consecuencia esta corporación le ordenó a holding inmobiliaria reintegrar a la peticionaria al trabajo que desempeñaba en la empresa\n",
      "15.  lo anterior porque declaró ineficaz el despido\n",
      "16.  además le ordenó reconocerle la indemnización prevista en el inciso 2º del artículo 26 de la ley 361 de 1997 las prestaciones los salarios y los aportes dejados de percibir\n",
      "17.  de igual forma le ordenó a positiva arl pagarle las incapacidades pendientes\n",
      "18.  3\n",
      "19.  mediante escritos del 26 de febrero y del 1º de marzo de 2021 la actora solicitó a la corte constitucional el cumplimiento de la decisión\n",
      "20.  consideraciones competencia de la magistrada sustanciadora para proferir este auto 1\n",
      "21.  en sesión del 25 de febrero de 2021 la sala plena aclaró que los magistrados ponentes son competentes para conocer de los asuntos sometidos a su consideración siempre que se trate de aspectos procedimentales y su resolución no implique un estudio de fondo\n",
      "22.  lo anterior con fundamento en los siguientes argumentos 1\n",
      "23. 1\n",
      "24.  en primer lugar según el artículo 34 2 del decreto 2591 de 1991 3 las salas de revisión conocen de los fallos de tutela de conformidad con el procedimiento vigente para los tribunales del distrito judicial\n",
      "25.  no obstante ni el decreto estatutario ni la regulación de esas corporaciones aluden a la competencia para tramitar las solicitudes de cumplimiento y los incidentes de desacato\n",
      "26.  lo mismo se predica del artículo 56 del acuerdo 02 de 2015 4 que establece el funcionamiento de las salas\n",
      "27.  por consiguiente no existe disposición especial que se refiera a la competencia en estos asuntos\n",
      "28.  de ahí que deba acudirse al código general del proceso como norma supletoria\n",
      "29.  1\n",
      "30. 2\n",
      "31.  en segundo lugar el artículo 35 5 de ese código indica que el magistrado sustanciador dictará los autos que no correspondan a la sala de decisión\n",
      "32.  1\n",
      "33. 3\n",
      "34.  por último en atención a los principios de celeridad y de eficiencia en la administración de justicia el magistrado sustanciador debe resolver los asuntos que requieran de impulso procesal\n",
      "35.  esto es aquellos que no supongan la modificación de situaciones jurídicas ni la definición de aspectos sustanciales\n",
      "36.  competencia de la corte constitucional en el trámite de las solicitudes de cumplimiento 2\n",
      "37.  el artículo 36 del decreto 2591 de 1991 establece que los fallos dictados por la corte deberán comunicarse al juez de primera instancia y que este a su vez los notificará a las partes\n",
      "38.  asimismo los artículos 23 6 27 7 y 52 8 de esa normativa señalan que ante la inobservancia de una orden de tutela el beneficiario puede solicitar simultánea o sucesivamente i su cumplimiento por medio del trámite de cumplimiento y o ii la imposición de sanciones a la autoridad renuente mediante el incidente de desacato 9 \n",
      "39.  3\n",
      "40.  en virtud de lo anterior esta corte ha considerado que por regla general el juez de primera instancia es la autoridad competente para verificar el cumplimiento del fallo de tutela\n",
      "41.  ello a pesar de que la decisión se hubiese dictado en la segunda instancia o en sede de revisión 10 \n",
      "42.  4\n",
      "43.  no obstante en casos excepcionales esta corporación puede verificar la observancia de sus sentencias y tramitar el incidente de desacato\n",
      "44.  en particular la corte ha indicado que esta facultad se activa entre otras en las siguientes situaciones  i cuando ha habido manifiesto incumplimiento de las decisiones de tutela sin que los jueces de primera instancia hayan podido adoptar las medidas que hagan efectiva la orden de protección ii o dichas medidas han sido insuficientes o ineficaces o iii cuando en presencia de un estado de cosas inconstitucional que afecta a un conjunto amplio de personas se han emitido órdenes complejas para cuya efectividad es necesario un permanente seguimiento y la adopción de nuevas determinaciones de acuerdo con las circunstancias de una situación que se prolonga en el tiempo 11 \n",
      "45.  caso concreto 5\n",
      "46.  en esta oportunidad la señora carmen alicia rodríguez berrío solicitó a la corte adelantar el trámite de cumplimiento de la sentencia t 020 de 2021\n",
      "47.  ello ante la presunta renuencia de holding inmobiliaria y positiva arl de acatar las órdenes de protección contenidas en la decisión\n",
      "48.  al respecto la suscrita magistrada advierte que no se configura ninguna de las causales que habilitan la intervención de esta corporación\n",
      "49.  en efecto la peticionaria no allegó elementos de juicio que evidencien el manifiesto incumplimiento de las órdenes de tutela ni la insuficiencia o la ineficacia de las medidas adoptadas por el juez de primera instancia autoridad competente para iniciar la actuación pretendida\n",
      "50.  6\n",
      "51.  visto lo anterior este despacho se abstendrá de tramitar la solicitud de cumplimiento presentada por la peticionaria\n",
      "52.  asimismo ordenará su remisión al juzgado séptimo civil municipal de santa marta autoridad que conoció de la acción de tutela en única instancia y por consiguiente es competente para conocer del asunto\n",
      "53.  con fundamento en lo expuesto la suscrita magistrada sustanciadora resuelve primero\n",
      "54.  abstenerse de tramitar la solicitud de cumplimiento de la sentencia t 020 de 2021 promovida por la señora carmen alicia rodríguez berrío\n",
      "55.  segundo\n",
      "56.  por secretaría general de la corte constitucional disponer que la solicitud presentada por la señora carmen alicia rodríguez berrío sea remitida al juzgado séptimo civil municipal de santa marta para lo de su competencia\n",
      "57.  tercero\n",
      "58.  ordenar que por secretaría general de la corporación se comunique la decisión adoptada en esta providencia a la señora carmen alicia rodríguez berrío 12 \n",
      "59.  comuníquese y cúmplase gloria stella ortiz delgado magistrada sustanciadora martha victoria sáchica méndez secretaria general\n"
     ]
    }
   ],
   "source": [
    "for i, frase in enumerate([frase for frase in preprocessor_sentences(df.iloc[0].DOCUMENT).split(\"\\n\")]):\n",
    "    print(\"{0}. {1}\".format(i, frase))"
   ]
  },
  {
   "cell_type": "markdown",
   "id": "atmospheric-leeds",
   "metadata": {},
   "source": [
    "**Guardar Corpus de documentos segmentados por frase**"
   ]
  },
  {
   "cell_type": "code",
   "execution_count": 43,
   "id": "pharmaceutical-panel",
   "metadata": {},
   "outputs": [],
   "source": [
    "with open(\"corpus_cc.txt\", \"w\") as file:\n",
    "    for doc in df.DOCUMENT.values:\n",
    "        file.write(preprocessor_sentences(doc))\n",
    "        file.write(\"\\n\")"
   ]
  },
  {
   "cell_type": "markdown",
   "id": "honest-worst",
   "metadata": {},
   "source": [
    "## **Entrenamiento de vectores de palabras**"
   ]
  },
  {
   "cell_type": "markdown",
   "id": "devoted-musical",
   "metadata": {},
   "source": [
    "No es necesario entrenar el modelo con el corpus cada vez que se ejecute el libro, pasar a \"cargar modelo\""
   ]
  },
  {
   "cell_type": "code",
   "execution_count": null,
   "id": "fresh-portland",
   "metadata": {},
   "outputs": [],
   "source": [
    "carpeta = os.getcwd()\n",
    "direccion_corpus = os.path.join(carpeta, 'corpus_cc.txt')"
   ]
  },
  {
   "cell_type": "code",
   "execution_count": 48,
   "id": "crude-booking",
   "metadata": {},
   "outputs": [],
   "source": [
    "corpus_file = datapath(direccion_corpus)         # absolute path to corpus\n",
    "model = FastText(size=100, \n",
    "                 window=5, \n",
    "                 min_count=5, \n",
    "                 workers=-1, \n",
    "                 seed=RANDOM_STATE)\n",
    "model.build_vocab(corpus_file=corpus_file)      # scan over corpus to build the vocabulary\n",
    "total_words = model.corpus_total_words          # number of words in the corpus\n",
    "model.train(corpus_file=corpus_file, total_words=total_words, epochs=5)"
   ]
  },
  {
   "cell_type": "markdown",
   "id": "enormous-facial",
   "metadata": {},
   "source": [
    "**Guardar modelo** "
   ]
  },
  {
   "cell_type": "code",
   "execution_count": 78,
   "id": "upset-trading",
   "metadata": {},
   "outputs": [],
   "source": [
    "model.save(\"modelo_cc.vec\")"
   ]
  },
  {
   "cell_type": "markdown",
   "id": "north-moderator",
   "metadata": {},
   "source": [
    "**Cargar modelo**"
   ]
  },
  {
   "cell_type": "code",
   "execution_count": 14,
   "id": "daily-mattress",
   "metadata": {},
   "outputs": [],
   "source": [
    "model = FastText.load(\"modelo_cc.vec\")"
   ]
  },
  {
   "cell_type": "markdown",
   "id": "lyric-excess",
   "metadata": {},
   "source": [
    "## **Calcular vectores de las frases y los documentos**"
   ]
  },
  {
   "cell_type": "markdown",
   "id": "dressed-tomorrow",
   "metadata": {},
   "source": [
    "**Entrenar vectores de documentos**"
   ]
  },
  {
   "cell_type": "code",
   "execution_count": 15,
   "id": "hired-allocation",
   "metadata": {},
   "outputs": [
    {
     "name": "stdout",
     "output_type": "stream",
     "text": [
      "CPU times: user 3.3 s, sys: 3.32 s, total: 6.62 s\n",
      "Wall time: 11min 17s\n"
     ]
    }
   ],
   "source": [
    "%%time\n",
    "with Pool(8) as libreypool:\n",
    "    vectors = libreypool.map(wv_vectorizer, df.pp.values)\n",
    "\n",
    "df[\"vec\"] = vectors"
   ]
  },
  {
   "cell_type": "code",
   "execution_count": 21,
   "id": "prime-consideration",
   "metadata": {},
   "outputs": [],
   "source": [
    "doc_vectors = np.array([x for x in df.vec.values])"
   ]
  },
  {
   "cell_type": "markdown",
   "id": "injured-prior",
   "metadata": {},
   "source": [
    "**Guardar documentos con vectores**"
   ]
  },
  {
   "cell_type": "code",
   "execution_count": 16,
   "id": "coordinated-investigation",
   "metadata": {},
   "outputs": [],
   "source": [
    "df.to_csv(\"documents_vectors.csv\")"
   ]
  },
  {
   "cell_type": "markdown",
   "id": "contained-macintosh",
   "metadata": {},
   "source": [
    "**Cálculo de vector de la frase**"
   ]
  },
  {
   "cell_type": "code",
   "execution_count": 22,
   "id": "stable-pressure",
   "metadata": {},
   "outputs": [],
   "source": [
    "frase = \"Deberes y atribuciones del juez para obtener la prueba genética ADN\""
   ]
  },
  {
   "cell_type": "code",
   "execution_count": 23,
   "id": "proud-retailer",
   "metadata": {},
   "outputs": [],
   "source": [
    "# calcular el vector de la frase\n",
    "phrase_vec = wv_vectorizer(frase)"
   ]
  },
  {
   "cell_type": "code",
   "execution_count": 24,
   "id": "pleasant-director",
   "metadata": {},
   "outputs": [],
   "source": [
    "# Calcular distancia de la frase a los documentos\n",
    "distances = cosine_distances(phrase_vec.reshape(1, -1), doc_vectors)"
   ]
  },
  {
   "cell_type": "code",
   "execution_count": 25,
   "id": "metallic-public",
   "metadata": {},
   "outputs": [],
   "source": [
    "distances = distances.flatten()"
   ]
  },
  {
   "cell_type": "code",
   "execution_count": 26,
   "id": "corresponding-irish",
   "metadata": {},
   "outputs": [],
   "source": [
    "top_docs = np.argsort(distances, )[:N_TOP_DOCS]"
   ]
  },
  {
   "cell_type": "code",
   "execution_count": 27,
   "id": "selected-purse",
   "metadata": {},
   "outputs": [
    {
     "name": "stdout",
     "output_type": "stream",
     "text": [
      "1.  C-476-05:\n",
      " \n",
      "\n",
      "\n",
      "REPUBLICA DE COLOMBIA\n",
      "\n",
      "\n",
      "Sentencia C-476/05\n",
      " \n",
      "DERECHO AL RECONOCIMIENTO DE LA PERSONALIDAD JURIDICA-Guarda estrecha relación con el derecho a la igualdad/ESTADO\n",
      "CIVIL DE LAS PERSONAS-Determina la situación de una persona en la familia y\n",
      "en la sociedad y de él se derivan derechos y obligaciones que se regulan por la\n",
      "ley civil\n",
      " \n",
      "Conforme a lo dispuesto por el artículo 14 de la Constitución\n",
      "Política toda persona tiene derecho al reconocimiento de su personalidad\n",
      "jurídica, lo cual se hace in\n",
      "----------------------------------------------------------------------\n",
      "2.  C-860-08:\n",
      " \n",
      "\n",
      "\n",
      "Referencia: expedientes D-xxx, D-xxx y D-xxx (acumulados)\n",
      "\n",
      "\n",
      "SENTENCIA C-860/08\n",
      " (Bogotá\n",
      "D.C. septiembre 3)\n",
      " \n",
      "PRINCIPIO DE INMEDIACION EN PROCESO DE FILIACION-Importancia\n",
      " \n",
      "Por regla\n",
      "general, la prueba, o la parte de ella que no dependa del dictamen de un\n",
      "experto, debe practicarse en presencia del funcionario investido por la\n",
      "Constitución y la ley de funciones judiciales, que es quien ha de valorar la\n",
      "misma en el caso concreto, exigencia que no sólo tiene especial relevancia para\n",
      "la con\n",
      "----------------------------------------------------------------------\n",
      "3.  A042-95:\n",
      " \n",
      "\n",
      "\n",
      "Auto No\n",
      "\n",
      "\n",
      "Auto No. 042/95\n",
      " \n",
      " \n",
      "NULIDAD POR FALTA\n",
      "DE JURISDICCION/NULIDAD POR FALTA DE COMPETENCIA\n",
      " \n",
      "La regla general\n",
      "es que cada juez actúa sólo dentro de su territorio, donde tiene su residencia\n",
      "o sede. Si tienen que practicarse pruebas, el juez puede optar por comisionar a\n",
      "otro juez de igual o inferior categoría,  o puede citar, a su sede, a las personas\n",
      "a quienes considere deban declarar. En el presente caso, el Juez no podía\n",
      "comisionar al Juez que se declaró impedido, ni podía comis\n",
      "----------------------------------------------------------------------\n",
      "4.  A722-18:\n",
      "\n",
      "Auto 722/18\n",
      " \n",
      " \n",
      "Expediente: OG-164\n",
      " \n",
      "Revisión de las Objeciones Gubernamentales al proyecto\n",
      "de Ley 113 de 2016 Cámara y 257 de 2017 Senado, Por la cual se establece la caracterización integral\n",
      "de la población negra, afrocolombiana, palenquera y raizal\n",
      " \n",
      "Magistrada Sustanciadora:\n",
      "DIANA FAJARDO RIVERA\n",
      " \n",
      " \n",
      "Bogotá D.C., siete (7) de noviembre de dos mil\n",
      "dieciocho (2018)\n",
      " \n",
      " \n",
      "La\n",
      "Sala Plena de la Corte Constitucional, en ejercicio de sus atribuciones\n",
      "constitucionales y legales, en especial las \n",
      "----------------------------------------------------------------------\n",
      "5.  A385-18:\n",
      "\n",
      "Auto 385/18\n",
      " \n",
      " \n",
      "Referencia: Expediente OG-160\n",
      " \n",
      "Asunto: Objeciones gubernamentales al proyecto de ley No. 206 de 2016\n",
      "Senado  094 de 2015 Cámara,  por medio del cual se modifica el número de\n",
      "semanas por cotizar para acceder a la pensión por parte de las mujeres  \n",
      " \n",
      "Magistrado\n",
      "Sustanciador:\n",
      "LUIS\n",
      "GUILLERMO GUERRERO PÉREZ\n",
      " \n",
      "\n",
      "Bogotá D.C., veinte (20) de junio de dos mil dieciocho (2018)\n",
      " \n",
      " \n",
      "El suscrito\n",
      "magistrado sustanciador dentro del proceso de la referencia, en uso de sus\n",
      "facultades c\n",
      "----------------------------------------------------------------------\n"
     ]
    }
   ],
   "source": [
    "for i, doc in enumerate(zip(df.iloc[top_docs].DOCUMENT, df.iloc[top_docs].INDEX)):\n",
    "    print(f\"{i+1}. {doc[1]}:\\n{doc[0][:CARACTERES]}\")\n",
    "    print(\"-\"*70)"
   ]
  },
  {
   "cell_type": "markdown",
   "id": "involved-penetration",
   "metadata": {},
   "source": [
    "## **Búsqueda Literal**"
   ]
  },
  {
   "cell_type": "code",
   "execution_count": 32,
   "id": "dominican-supervisor",
   "metadata": {},
   "outputs": [],
   "source": [
    "busqueda = \"ADN\""
   ]
  },
  {
   "cell_type": "code",
   "execution_count": 33,
   "id": "defensive-aerospace",
   "metadata": {},
   "outputs": [
    {
     "name": "stdout",
     "output_type": "stream",
     "text": [
      "1.  A338-20:\n",
      "\n",
      "Auto 338/20\n",
      " \n",
      " \n",
      "Referencia: Solicitudes de nulidad\n",
      "formuladas por: (i) la empresa Carbones del Cerrejón Limited; y, (ii) Mary Luz\n",
      "Uriana Ipuana y Yasmina Uriana, integrantes del Resguardo Indígena Provincial,\n",
      "contra la Sentencia T-614 de 2019.\n",
      " \n",
      "Expediente: T-6.518.300. Acción\n",
      "de tutela formulada por Mary Luz Uriana Ipuana y Yasmina Uriana, integrantes\n",
      "del Resguardo Indígena Provincial, contra la empresa Carbones del\n",
      "Cerrejón Limited, el Ministerio de Ambiente y Desarrollo Sostenible, el\n",
      "\n",
      "----------------------------------------------------------------------\n",
      "2.  A387-19:\n",
      "\n",
      "Auto 387/19\n",
      " \n",
      " \n",
      "Asunto: Verificación de cumplimiento de\n",
      "órdenes proferidas en la Sentencia T-236 del 21 de abril de 2017.\n",
      " \n",
      "Magistrado Sustanciador:\n",
      "ALBERTO ROJAS RÍOS\n",
      " \n",
      " \n",
      "Bogotá D.C., dieciocho (18) de julio de\n",
      "dos mil diecinueve (2019)\n",
      " \n",
      " \n",
      "La Sala Plena de la Corte Constitucional\n",
      "integrada por las Magistradas Gloria Stella Ortiz Delgado, quién la preside y\n",
      "Diana Fajardo Rivera, al igual que los Magistrados Carlos Bernal Pulido, Luis\n",
      "Guillermo Guerrero Pérez, Alejandro Linares Cantillo, A\n",
      "----------------------------------------------------------------------\n",
      "3.  A024-19:\n",
      "\n",
      "Auto 024/19\n",
      " \n",
      " \n",
      "Referencia: incidente de nulidad de la sentencia T-249 de 2018.\n",
      " \n",
      "Acción de tutela interpuesta por Juan David y José Luis Serna\n",
      "Arbeláez contra el Juzgado Décimo de Familia de Bogotá. \n",
      " \n",
      "Magistrado\n",
      "Ponente:\n",
      "JOSÉ\n",
      "FERNANDO REYES CUARTAS \n",
      " \n",
      " \n",
      "Bogotá, D. C., treinta (30) de enero de dos mil diecinueve\n",
      "(2019).\n",
      " \n",
      " \n",
      "La Sala Plena de la Corte\n",
      "Constitucional, integrada por los Magistrados Alejandro Linares Cantillo, quien\n",
      "la preside, Carlos Bernal Pulido, Diana Fajardo Rivera, Luis\n",
      "----------------------------------------------------------------------\n",
      "4.  A790-18:\n",
      "\n",
      "Auto 790/18\n",
      " \n",
      " \n",
      "Referencia:\n",
      "Expediente CJU-0014\n",
      " \n",
      "Conflicto aparente de jurisdicción suscitado por la Sala Penal del\n",
      "Tribunal Superior del Distrito Judicial de Villavicencio.\n",
      " \n",
      "Magistrada Sustanciadora:\n",
      "GLORIA STELLA ORTIZ DELGADO\n",
      " \n",
      " \n",
      "Bogotá, D. C., cinco (5) de diciembre\n",
      "de dos mil dieciocho (2018).\n",
      " \n",
      " \n",
      "La Sala Plena de la Corte Constitucional,\n",
      "en cumplimiento de sus atribuciones constitucionales y legales, en especial la\n",
      "prevista en el numeral 11 del artículo 241 de la Constitución, prof\n",
      "----------------------------------------------------------------------\n",
      "5.  A616-18:\n",
      "\n",
      "Auto 616/18\n",
      " \n",
      " \n",
      "Referencia: Solicitudes de nulidad parcial formuladas por\n",
      "Cerro Matoso S.A. y la Asociación Colombiana de Minería, contra la Sentencia\n",
      "T-733 de 2017. \n",
      "Expedientes: Acciones de tutela formuladas por: (i) Javier Martín\n",
      "Rubio Rodríguez, en calidad de agente oficioso de las comunidades indígenas del\n",
      "Departamento de Córdoba, contra la sociedad BHP Billiton, el Ministerio de\n",
      "Ambiente y Desarrollo Sostenible, el Ministerio de Vivienda y Desarrollo\n",
      "Territorial, el Ministerio de Mi\n",
      "----------------------------------------------------------------------\n"
     ]
    }
   ],
   "source": [
    "df_tmp = df[df.pp.str.contains(busqueda.lower())].head(N_TOP_DOCS)\n",
    "\n",
    "for i, doc in enumerate(zip(df_tmp.DOCUMENT, df_tmp.INDEX)):\n",
    "    print(f\"{i+1}. {doc[1]}:\\n{doc[0][:CARACTERES]}\")\n",
    "    print(\"-\"*70)"
   ]
  },
  {
   "cell_type": "markdown",
   "id": "blond-optics",
   "metadata": {},
   "source": [
    "## **[EN CONSTRUCCIÓN] Análisis de frecuencia de palabras**"
   ]
  },
  {
   "cell_type": "code",
   "execution_count": 120,
   "id": "equipped-nebraska",
   "metadata": {},
   "outputs": [],
   "source": [
    "df[\"palabras\"] = [len(doc.split()) for doc in df.pp.values]"
   ]
  },
  {
   "cell_type": "code",
   "execution_count": 121,
   "id": "adult-terrain",
   "metadata": {},
   "outputs": [],
   "source": [
    "import matplotlib.pyplot as plt"
   ]
  },
  {
   "cell_type": "code",
   "execution_count": 137,
   "id": "average-tournament",
   "metadata": {},
   "outputs": [
    {
     "data": {
      "image/png": "[encoded data removed]",
      "text/plain": [
       "<Figure size 432x288 with 1 Axes>"
      ]
     },
     "metadata": {
      "needs_background": "light"
     },
     "output_type": "display_data"
    }
   ],
   "source": [
    "fig, ax = plt.subplots(1,1)\n",
    "# fig.set_figheight(15)\n",
    "# fig.set_figwidth(15)\n",
    "# # ax.set_size_inches(10,15)\n",
    "ax.set_xlim(10000)\n",
    "ax.rev\n",
    "ax.hist(df.palabras.values, bins=10000)\n",
    "\n",
    "# data['pm2.5'].hist(bins=1000,grid=False)\n",
    "# ax.set_xlabel(\"Palabras\", fontsize=15)\n",
    "# ax.set_ylabel(\"Documentos\",fontsize=15)\n",
    "plt.show()"
   ]
  },
  {
   "cell_type": "code",
   "execution_count": 139,
   "id": "suburban-front",
   "metadata": {},
   "outputs": [
    {
     "data": {
      "text/plain": [
       "33328"
      ]
     },
     "execution_count": 139,
     "metadata": {},
     "output_type": "execute_result"
    }
   ],
   "source": [
    "np.argmax(df.palabras.values)"
   ]
  },
  {
   "cell_type": "code",
   "execution_count": 145,
   "id": "convinced-bidder",
   "metadata": {},
   "outputs": [
    {
     "name": "stdout",
     "output_type": "stream",
     "text": [
      "https://www.corteconstitucional.gov.co/Relatoria/1996/C-037-96.htm\n"
     ]
    }
   ],
   "source": [
    "print(df.iloc[np.argmax(df.palabras.values)].LINK)"
   ]
  },
  {
   "cell_type": "code",
   "execution_count": 146,
   "id": "ultimate-jewel",
   "metadata": {},
   "outputs": [],
   "source": [
    "from bs4 import BeautifulSoup"
   ]
  },
  {
   "cell_type": "code",
   "execution_count": 148,
   "id": "decimal-product",
   "metadata": {},
   "outputs": [],
   "source": [
    "main_soup = BeautifulSoup(df.iloc[np.argmax(df.palabras.values)].DOCUMENT, 'lxml')"
   ]
  },
  {
   "cell_type": "code",
   "execution_count": 149,
   "id": "cubic-substance",
   "metadata": {},
   "outputs": [
    {
     "data": {
      "text/plain": [
       "'LEY ESTATUTARIA JUSTICIA\\n\\n\\n'"
      ]
     },
     "execution_count": 149,
     "metadata": {},
     "output_type": "execute_result"
    }
   ],
   "source": [
    "main_soup.text"
   ]
  },
  {
   "cell_type": "code",
   "execution_count": 150,
   "id": "opposed-cleaners",
   "metadata": {},
   "outputs": [],
   "source": [
    "with open(\"sentencia_sucia.txt\", \"w\") as f:\n",
    "    f.write(df.iloc[np.argmax(df.palabras.values)].DOCUMENT)"
   ]
  },
  {
   "cell_type": "code",
   "execution_count": null,
   "id": "angry-sequence",
   "metadata": {},
   "outputs": [],
   "source": []
  }
 ],
 "metadata": {
  "kernelspec": {
   "display_name": "Python 3",
   "language": "python",
   "name": "python3"
  },
  "language_info": {
   "codemirror_mode": {
    "name": "ipython",
    "version": 3
   },
   "file_extension": ".py",
   "mimetype": "text/x-python",
   "name": "python",
   "nbconvert_exporter": "python",
   "pygments_lexer": "ipython3",
   "version": "3.7.10"
  }
 },
 "nbformat": 4,
 "nbformat_minor": 5
}
