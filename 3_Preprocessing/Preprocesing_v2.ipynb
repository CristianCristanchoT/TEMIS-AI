{
 "cells": [
  {
   "cell_type": "code",
   "execution_count": 1,
   "id": "controversial-spoke",
   "metadata": {},
   "outputs": [],
   "source": [
    "import matplotlib.pyplot as plt\n",
    "import numpy as np\n",
    "import pandas as pd\n",
    "from tqdm import tqdm\n",
    "import re\n",
    "import nltk\n",
    "from multiprocessing import Pool\n",
    "import matplotlib.pyplot as plt\n",
    "import seaborn as sns"
   ]
  },
  {
   "cell_type": "code",
   "execution_count": 2,
   "id": "broad-plumbing",
   "metadata": {},
   "outputs": [],
   "source": [
    "documents = pd.read_csv('../DATA/DATA.csv')"
   ]
  },
  {
   "cell_type": "code",
   "execution_count": 4,
   "id": "endless-device",
   "metadata": {},
   "outputs": [
    {
     "data": {
      "text/html": [
       "<div>\n",
       "<style scoped>\n",
       "    .dataframe tbody tr th:only-of-type {\n",
       "        vertical-align: middle;\n",
       "    }\n",
       "\n",
       "    .dataframe tbody tr th {\n",
       "        vertical-align: top;\n",
       "    }\n",
       "\n",
       "    .dataframe thead th {\n",
       "        text-align: right;\n",
       "    }\n",
       "</style>\n",
       "<table border=\"1\" class=\"dataframe\">\n",
       "  <thead>\n",
       "    <tr style=\"text-align: right;\">\n",
       "      <th></th>\n",
       "      <th>INDEX</th>\n",
       "      <th>TEXT</th>\n",
       "    </tr>\n",
       "  </thead>\n",
       "  <tbody>\n",
       "    <tr>\n",
       "      <th>0</th>\n",
       "      <td>A001-00</td>\n",
       "      <td>Auto 001/00\\n\\nDEBIDO PROCESO DE TUTELA-Notifi...</td>\n",
       "    </tr>\n",
       "    <tr>\n",
       "      <th>1</th>\n",
       "      <td>A001-01</td>\n",
       "      <td>Auto 001/01\\n\\nNULIDAD SENTENCIA DE CONSTITUCI...</td>\n",
       "    </tr>\n",
       "    <tr>\n",
       "      <th>2</th>\n",
       "      <td>A001-02</td>\n",
       "      <td>Auto 001/02\\n \\nLEGITIMACION POR PASIVA EN TUT...</td>\n",
       "    </tr>\n",
       "    <tr>\n",
       "      <th>3</th>\n",
       "      <td>A001-03</td>\n",
       "      <td>Auto 001/03\\n\\nREFERENDO-Etapas de desarrollo ...</td>\n",
       "    </tr>\n",
       "    <tr>\n",
       "      <th>4</th>\n",
       "      <td>A001-04</td>\n",
       "      <td>Auto 001/04\\n\\nCONFLICTO DE COMPETENCIA EN TUT...</td>\n",
       "    </tr>\n",
       "    <tr>\n",
       "      <th>...</th>\n",
       "      <td>...</td>\n",
       "      <td>...</td>\n",
       "    </tr>\n",
       "    <tr>\n",
       "      <th>35732</th>\n",
       "      <td>T-999-08</td>\n",
       "      <td>Sentencia T-999/08\\n\\nDERECHO A LA SALUD COMO ...</td>\n",
       "    </tr>\n",
       "    <tr>\n",
       "      <th>35733</th>\n",
       "      <td>T-999-10</td>\n",
       "      <td>Sentencia T-999/10\\n\\nMUJER EMBARAZADA-Deber d...</td>\n",
       "    </tr>\n",
       "    <tr>\n",
       "      <th>35734</th>\n",
       "      <td>T-999-12</td>\n",
       "      <td>Sentencia T-999/12\\n\\n\\nACCION DE TUTELA DE PE...</td>\n",
       "    </tr>\n",
       "    <tr>\n",
       "      <th>35735</th>\n",
       "      <td>T-999-99</td>\n",
       "      <td>Sentencia T-999/99\\n\\nDERECHO A LA SEGURIDAD S...</td>\n",
       "    </tr>\n",
       "    <tr>\n",
       "      <th>35736</th>\n",
       "      <td>T-999A-01</td>\n",
       "      <td>Sentencia T-999A/01\\n\\nACCION DE TUTELA-Hecho ...</td>\n",
       "    </tr>\n",
       "  </tbody>\n",
       "</table>\n",
       "<p>35737 rows × 2 columns</p>\n",
       "</div>"
      ],
      "text/plain": [
       "           INDEX                                               TEXT\n",
       "0        A001-00  Auto 001/00\\n\\nDEBIDO PROCESO DE TUTELA-Notifi...\n",
       "1        A001-01  Auto 001/01\\n\\nNULIDAD SENTENCIA DE CONSTITUCI...\n",
       "2        A001-02  Auto 001/02\\n \\nLEGITIMACION POR PASIVA EN TUT...\n",
       "3        A001-03  Auto 001/03\\n\\nREFERENDO-Etapas de desarrollo ...\n",
       "4        A001-04  Auto 001/04\\n\\nCONFLICTO DE COMPETENCIA EN TUT...\n",
       "...          ...                                                ...\n",
       "35732   T-999-08  Sentencia T-999/08\\n\\nDERECHO A LA SALUD COMO ...\n",
       "35733   T-999-10  Sentencia T-999/10\\n\\nMUJER EMBARAZADA-Deber d...\n",
       "35734   T-999-12  Sentencia T-999/12\\n\\n\\nACCION DE TUTELA DE PE...\n",
       "35735   T-999-99  Sentencia T-999/99\\n\\nDERECHO A LA SEGURIDAD S...\n",
       "35736  T-999A-01  Sentencia T-999A/01\\n\\nACCION DE TUTELA-Hecho ...\n",
       "\n",
       "[35737 rows x 2 columns]"
      ]
     },
     "execution_count": 4,
     "metadata": {},
     "output_type": "execute_result"
    }
   ],
   "source": [
    "documents"
   ]
  },
  {
   "cell_type": "code",
   "execution_count": 5,
   "id": "modular-camera",
   "metadata": {},
   "outputs": [],
   "source": [
    "documents['INDEX'] = documents['INDEX'].str.upper()"
   ]
  },
  {
   "cell_type": "code",
   "execution_count": 6,
   "id": "excess-librarian",
   "metadata": {},
   "outputs": [],
   "source": [
    "documents[\"DOCUMENT_TYPE\"] = [x.strip()[0] for x in documents.INDEX]"
   ]
  },
  {
   "cell_type": "code",
   "execution_count": 7,
   "id": "charged-sugar",
   "metadata": {},
   "outputs": [
    {
     "data": {
      "text/plain": [
       "['INDEX', 'TEXT', 'DOCUMENT_TYPE']"
      ]
     },
     "execution_count": 7,
     "metadata": {},
     "output_type": "execute_result"
    }
   ],
   "source": [
    "documents.columns.tolist()"
   ]
  },
  {
   "cell_type": "code",
   "execution_count": 8,
   "id": "serious-fundamentals",
   "metadata": {},
   "outputs": [],
   "source": [
    "documents = documents[['INDEX','DOCUMENT_TYPE', 'TEXT']]"
   ]
  },
  {
   "cell_type": "code",
   "execution_count": 9,
   "id": "entitled-thong",
   "metadata": {},
   "outputs": [
    {
     "data": {
      "text/plain": [
       "T    19378\n",
       "A     9084\n",
       "C     6843\n",
       "S      431\n",
       "E        1\n",
       "Name: DOCUMENT_TYPE, dtype: int64"
      ]
     },
     "execution_count": 9,
     "metadata": {},
     "output_type": "execute_result"
    }
   ],
   "source": [
    "documents.DOCUMENT_TYPE.value_counts()"
   ]
  },
  {
   "cell_type": "code",
   "execution_count": 10,
   "id": "partial-tooth",
   "metadata": {},
   "outputs": [
    {
     "data": {
      "text/plain": [
       "Text(0, 0.5, 'Conteo')"
      ]
     },
     "execution_count": 10,
     "metadata": {},
     "output_type": "execute_result"
    },
    {
     "data": {
      "image/png": "[encoded data removed]",
      "text/plain": [
       "<Figure size 2160x720 with 1 Axes>"
      ]
     },
     "metadata": {
      "needs_background": "light"
     },
     "output_type": "display_data"
    }
   ],
   "source": [
    "plt.figure(figsize=(30, 10))\n",
    "documents['DOCUMENT_TYPE'].hist()\n",
    "plt.xlabel(\"Tipo de documento\", fontsize=15)\n",
    "plt.ylabel(\"Conteo\",fontsize=15)"
   ]
  },
  {
   "cell_type": "code",
   "execution_count": 11,
   "id": "confidential-click",
   "metadata": {},
   "outputs": [],
   "source": [
    "def preprocessor_sentences(text):\n",
    "    \"\"\"\n",
    "    preprocesador de texto con separación de frases por línea.\n",
    "    \"\"\"\n",
    "    \n",
    "    text = text.replace(\"\\n\", \" \")\n",
    "    text = text.replace(\"\\xa0\", \"\")\n",
    "    text = text.replace(\"\\x93\", \"\")\n",
    "    text = text.replace(\"\\x94\", \"\")\n",
    "    text = text.replace(\"\\r\", \"\")\n",
    "    text = text.replace(\"  \", \" \")\n",
    "    text = text.replace(\"   \", \" \")\n",
    "    text = text.replace(\"    \", \" \")\n",
    "    text = text.replace(\"     \", \" \")\n",
    "    text = text.replace(\"      \", \" \")\n",
    "    text = re.sub(\"\\[([\\s\\S]*?)\\]\", \"\", text)\n",
    "    \n",
    "    return text"
   ]
  },
  {
   "cell_type": "code",
   "execution_count": 12,
   "id": "electoral-partition",
   "metadata": {},
   "outputs": [
    {
     "name": "stderr",
     "output_type": "stream",
     "text": [
      "100%|██████████| 35737/35737 [00:31<00:00, 1125.45it/s]\n",
      "C:\\ProgramData\\Anaconda3\\envs\\NLP\\lib\\site-packages\\ipykernel_launcher.py:1: SettingWithCopyWarning: \n",
      "A value is trying to be set on a copy of a slice from a DataFrame.\n",
      "Try using .loc[row_indexer,col_indexer] = value instead\n",
      "\n",
      "See the caveats in the documentation: https://pandas.pydata.org/pandas-docs/stable/user_guide/indexing.html#returning-a-view-versus-a-copy\n",
      "  \"\"\"Entry point for launching an IPython kernel.\n"
     ]
    }
   ],
   "source": [
    "documents[\"TEXT_PLAIN\"] = [preprocessor_sentences(str(x)) for x in tqdm(documents.TEXT)]"
   ]
  },
  {
   "cell_type": "code",
   "execution_count": 13,
   "id": "generous-arthritis",
   "metadata": {},
   "outputs": [
    {
     "data": {
      "text/html": [
       "<div>\n",
       "<style scoped>\n",
       "    .dataframe tbody tr th:only-of-type {\n",
       "        vertical-align: middle;\n",
       "    }\n",
       "\n",
       "    .dataframe tbody tr th {\n",
       "        vertical-align: top;\n",
       "    }\n",
       "\n",
       "    .dataframe thead th {\n",
       "        text-align: right;\n",
       "    }\n",
       "</style>\n",
       "<table border=\"1\" class=\"dataframe\">\n",
       "  <thead>\n",
       "    <tr style=\"text-align: right;\">\n",
       "      <th></th>\n",
       "      <th>INDEX</th>\n",
       "      <th>DOCUMENT_TYPE</th>\n",
       "      <th>TEXT</th>\n",
       "      <th>TEXT_PLAIN</th>\n",
       "    </tr>\n",
       "  </thead>\n",
       "  <tbody>\n",
       "    <tr>\n",
       "      <th>0</th>\n",
       "      <td>A001-00</td>\n",
       "      <td>A</td>\n",
       "      <td>Auto 001/00\\n\\nDEBIDO PROCESO DE TUTELA-Notifi...</td>\n",
       "      <td>Auto 001/00 DEBIDO PROCESO DE TUTELA-Notificac...</td>\n",
       "    </tr>\n",
       "    <tr>\n",
       "      <th>1</th>\n",
       "      <td>A001-01</td>\n",
       "      <td>A</td>\n",
       "      <td>Auto 001/01\\n\\nNULIDAD SENTENCIA DE CONSTITUCI...</td>\n",
       "      <td>Auto 001/01 NULIDAD SENTENCIA DE CONSTITUCIONA...</td>\n",
       "    </tr>\n",
       "    <tr>\n",
       "      <th>2</th>\n",
       "      <td>A001-02</td>\n",
       "      <td>A</td>\n",
       "      <td>Auto 001/02\\n \\nLEGITIMACION POR PASIVA EN TUT...</td>\n",
       "      <td>Auto 001/02  LEGITIMACION POR PASIVA EN TUTELA...</td>\n",
       "    </tr>\n",
       "    <tr>\n",
       "      <th>3</th>\n",
       "      <td>A001-03</td>\n",
       "      <td>A</td>\n",
       "      <td>Auto 001/03\\n\\nREFERENDO-Etapas de desarrollo ...</td>\n",
       "      <td>Auto 001/03 REFERENDO-Etapas de desarrollo de ...</td>\n",
       "    </tr>\n",
       "    <tr>\n",
       "      <th>4</th>\n",
       "      <td>A001-04</td>\n",
       "      <td>A</td>\n",
       "      <td>Auto 001/04\\n\\nCONFLICTO DE COMPETENCIA EN TUT...</td>\n",
       "      <td>Auto 001/04 CONFLICTO DE COMPETENCIA EN TUTELA...</td>\n",
       "    </tr>\n",
       "    <tr>\n",
       "      <th>...</th>\n",
       "      <td>...</td>\n",
       "      <td>...</td>\n",
       "      <td>...</td>\n",
       "      <td>...</td>\n",
       "    </tr>\n",
       "    <tr>\n",
       "      <th>35732</th>\n",
       "      <td>T-999-08</td>\n",
       "      <td>T</td>\n",
       "      <td>Sentencia T-999/08\\n\\nDERECHO A LA SALUD COMO ...</td>\n",
       "      <td>Sentencia T-999/08 DERECHO A LA SALUD COMO GAR...</td>\n",
       "    </tr>\n",
       "    <tr>\n",
       "      <th>35733</th>\n",
       "      <td>T-999-10</td>\n",
       "      <td>T</td>\n",
       "      <td>Sentencia T-999/10\\n\\nMUJER EMBARAZADA-Deber d...</td>\n",
       "      <td>Sentencia T-999/10 MUJER EMBARAZADA-Deber del ...</td>\n",
       "    </tr>\n",
       "    <tr>\n",
       "      <th>35734</th>\n",
       "      <td>T-999-12</td>\n",
       "      <td>T</td>\n",
       "      <td>Sentencia T-999/12\\n\\n\\nACCION DE TUTELA DE PE...</td>\n",
       "      <td>Sentencia T-999/12  ACCION DE TUTELA DE PERSON...</td>\n",
       "    </tr>\n",
       "    <tr>\n",
       "      <th>35735</th>\n",
       "      <td>T-999-99</td>\n",
       "      <td>T</td>\n",
       "      <td>Sentencia T-999/99\\n\\nDERECHO A LA SEGURIDAD S...</td>\n",
       "      <td>Sentencia T-999/99 DERECHO A LA SEGURIDAD SOCI...</td>\n",
       "    </tr>\n",
       "    <tr>\n",
       "      <th>35736</th>\n",
       "      <td>T-999A-01</td>\n",
       "      <td>T</td>\n",
       "      <td>Sentencia T-999A/01\\n\\nACCION DE TUTELA-Hecho ...</td>\n",
       "      <td>Sentencia T-999A/01 ACCION DE TUTELA-Hecho sup...</td>\n",
       "    </tr>\n",
       "  </tbody>\n",
       "</table>\n",
       "<p>35737 rows × 4 columns</p>\n",
       "</div>"
      ],
      "text/plain": [
       "           INDEX DOCUMENT_TYPE  \\\n",
       "0        A001-00             A   \n",
       "1        A001-01             A   \n",
       "2        A001-02             A   \n",
       "3        A001-03             A   \n",
       "4        A001-04             A   \n",
       "...          ...           ...   \n",
       "35732   T-999-08             T   \n",
       "35733   T-999-10             T   \n",
       "35734   T-999-12             T   \n",
       "35735   T-999-99             T   \n",
       "35736  T-999A-01             T   \n",
       "\n",
       "                                                    TEXT  \\\n",
       "0      Auto 001/00\\n\\nDEBIDO PROCESO DE TUTELA-Notifi...   \n",
       "1      Auto 001/01\\n\\nNULIDAD SENTENCIA DE CONSTITUCI...   \n",
       "2      Auto 001/02\\n \\nLEGITIMACION POR PASIVA EN TUT...   \n",
       "3      Auto 001/03\\n\\nREFERENDO-Etapas de desarrollo ...   \n",
       "4      Auto 001/04\\n\\nCONFLICTO DE COMPETENCIA EN TUT...   \n",
       "...                                                  ...   \n",
       "35732  Sentencia T-999/08\\n\\nDERECHO A LA SALUD COMO ...   \n",
       "35733  Sentencia T-999/10\\n\\nMUJER EMBARAZADA-Deber d...   \n",
       "35734  Sentencia T-999/12\\n\\n\\nACCION DE TUTELA DE PE...   \n",
       "35735  Sentencia T-999/99\\n\\nDERECHO A LA SEGURIDAD S...   \n",
       "35736  Sentencia T-999A/01\\n\\nACCION DE TUTELA-Hecho ...   \n",
       "\n",
       "                                              TEXT_PLAIN  \n",
       "0      Auto 001/00 DEBIDO PROCESO DE TUTELA-Notificac...  \n",
       "1      Auto 001/01 NULIDAD SENTENCIA DE CONSTITUCIONA...  \n",
       "2      Auto 001/02  LEGITIMACION POR PASIVA EN TUTELA...  \n",
       "3      Auto 001/03 REFERENDO-Etapas de desarrollo de ...  \n",
       "4      Auto 001/04 CONFLICTO DE COMPETENCIA EN TUTELA...  \n",
       "...                                                  ...  \n",
       "35732  Sentencia T-999/08 DERECHO A LA SALUD COMO GAR...  \n",
       "35733  Sentencia T-999/10 MUJER EMBARAZADA-Deber del ...  \n",
       "35734  Sentencia T-999/12  ACCION DE TUTELA DE PERSON...  \n",
       "35735  Sentencia T-999/99 DERECHO A LA SEGURIDAD SOCI...  \n",
       "35736  Sentencia T-999A/01 ACCION DE TUTELA-Hecho sup...  \n",
       "\n",
       "[35737 rows x 4 columns]"
      ]
     },
     "execution_count": 13,
     "metadata": {},
     "output_type": "execute_result"
    }
   ],
   "source": [
    "documents"
   ]
  },
  {
   "cell_type": "code",
   "execution_count": null,
   "id": "neither-cutting",
   "metadata": {},
   "outputs": [],
   "source": [
    "file_name = 'DATA_v0_1.csv'\n",
    "documents.to_csv(file_name, encoding='utf-8', index= False)"
   ]
  },
  {
   "cell_type": "code",
   "execution_count": null,
   "id": "foster-tooth",
   "metadata": {},
   "outputs": [],
   "source": []
  }
 ],
 "metadata": {
  "kernelspec": {
   "display_name": "Python 3",
   "language": "python",
   "name": "python3"
  },
  "language_info": {
   "codemirror_mode": {
    "name": "ipython",
    "version": 3
   },
   "file_extension": ".py",
   "mimetype": "text/x-python",
   "name": "python",
   "nbconvert_exporter": "python",
   "pygments_lexer": "ipython3",
   "version": "3.7.10"
  }
 },
 "nbformat": 4,
 "nbformat_minor": 5
}
