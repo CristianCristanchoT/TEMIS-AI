{
 "cells": [
  {
   "cell_type": "code",
   "execution_count": 1,
   "id": "million-horse",
   "metadata": {},
   "outputs": [],
   "source": [
    "import os\n",
    "import subprocess\n",
    "from subprocess import Popen, PIPE\n",
    "import glob\n",
    "from tqdm import tqdm "
   ]
  },
  {
   "cell_type": "code",
   "execution_count": 2,
   "id": "apart-border",
   "metadata": {},
   "outputs": [],
   "source": [
    "source_folder = 'C:/Users/crist/Desktop/TEMIS-AI/1_WebScrapping/v2/DOCUMENT_PROCESSING/DOCUMENTS'\n",
    "target_folder = 'C:/Users/crist/Desktop/TEMIS-AI/1_WebScrapping/v2/DOCUMENT_PROCESSING/TXT'"
   ]
  },
  {
   "cell_type": "code",
   "execution_count": 4,
   "id": "elect-screw",
   "metadata": {},
   "outputs": [
    {
     "name": "stderr",
     "output_type": "stream",
     "text": [
      "100%|██████████| 35737/35737 [00:00<00:00, 674262.13it/s]\n"
     ]
    }
   ],
   "source": [
    "files_path = glob.glob(source_folder + '/*', \n",
    "                   recursive = True)\n",
    "files_sorce = []\n",
    "\n",
    "for file_path in tqdm(files_path):\n",
    "    file = file_path.replace('C:/Users/crist/Desktop/TEMIS-AI/1_WebScrapping/v2/DOCUMENT_PROCESSING/DOCUMENTS\\\\','')\n",
    "    file = file.replace('.rtf','')\n",
    "    files_sorce.append(file)\n",
    "    "
   ]
  },
  {
   "cell_type": "code",
   "execution_count": 5,
   "id": "purple-bundle",
   "metadata": {},
   "outputs": [
    {
     "data": {
      "text/plain": [
       "['A001-00', 'A001-01', 'A001-02', 'A001-03', 'A001-04']"
      ]
     },
     "execution_count": 5,
     "metadata": {},
     "output_type": "execute_result"
    }
   ],
   "source": [
    "files_sorce[0:5]"
   ]
  },
  {
   "cell_type": "code",
   "execution_count": 6,
   "id": "progressive-facing",
   "metadata": {},
   "outputs": [
    {
     "data": {
      "text/plain": [
       "35737"
      ]
     },
     "execution_count": 6,
     "metadata": {},
     "output_type": "execute_result"
    }
   ],
   "source": [
    "len(files_sorce)"
   ]
  },
  {
   "cell_type": "code",
   "execution_count": 10,
   "id": "underlying-friendship",
   "metadata": {},
   "outputs": [
    {
     "name": "stderr",
     "output_type": "stream",
     "text": [
      "100%|██████████| 35676/35676 [00:00<00:00, 792886.87it/s]\n"
     ]
    }
   ],
   "source": [
    "files_path = glob.glob(target_folder + '/*', \n",
    "                   recursive = True)\n",
    "files_target = []\n",
    "\n",
    "for file_path in tqdm(files_path):\n",
    "    file = file_path.replace('C:/Users/crist/Desktop/TEMIS-AI/1_WebScrapping/v2/DOCUMENT_PROCESSING/TXT\\\\','')\n",
    "    file = file.replace('.txt','')\n",
    "    files_target.append(file)"
   ]
  },
  {
   "cell_type": "code",
   "execution_count": 11,
   "id": "specific-vacuum",
   "metadata": {},
   "outputs": [
    {
     "data": {
      "text/plain": [
       "['A001-00', 'A001-01', 'A001-02', 'A001-03', 'A001-04']"
      ]
     },
     "execution_count": 11,
     "metadata": {},
     "output_type": "execute_result"
    }
   ],
   "source": [
    "files_target[0:5]"
   ]
  },
  {
   "cell_type": "code",
   "execution_count": 12,
   "id": "correct-frederick",
   "metadata": {},
   "outputs": [
    {
     "data": {
      "text/plain": [
       "35676"
      ]
     },
     "execution_count": 12,
     "metadata": {},
     "output_type": "execute_result"
    }
   ],
   "source": [
    "len(files_target)"
   ]
  },
  {
   "cell_type": "code",
   "execution_count": null,
   "id": "soviet-manchester",
   "metadata": {},
   "outputs": [],
   "source": []
  },
  {
   "cell_type": "code",
   "execution_count": null,
   "id": "worthy-welding",
   "metadata": {},
   "outputs": [],
   "source": []
  },
  {
   "cell_type": "code",
   "execution_count": 15,
   "id": "looking-grocery",
   "metadata": {},
   "outputs": [],
   "source": [
    "files_sorce_ss= set(files_sorce)  \n",
    "files_target_ss =set(files_target) "
   ]
  },
  {
   "cell_type": "code",
   "execution_count": 19,
   "id": "played-citizenship",
   "metadata": {},
   "outputs": [],
   "source": [
    "faltantes = list(files_target_ss.union(files_sorce_ss)-files_target_ss.intersection(files_sorce_ss))"
   ]
  },
  {
   "cell_type": "code",
   "execution_count": 23,
   "id": "recovered-opera",
   "metadata": {},
   "outputs": [
    {
     "data": {
      "text/plain": [
       "61"
      ]
     },
     "execution_count": 23,
     "metadata": {},
     "output_type": "execute_result"
    }
   ],
   "source": [
    "len(faltantes)"
   ]
  },
  {
   "cell_type": "code",
   "execution_count": 22,
   "id": "alert-elimination",
   "metadata": {},
   "outputs": [
    {
     "data": {
      "text/plain": [
       "0"
      ]
     },
     "execution_count": 22,
     "metadata": {},
     "output_type": "execute_result"
    }
   ],
   "source": [
    "len(faltantes) + len(files_target) - len(files_sorce)"
   ]
  },
  {
   "cell_type": "code",
   "execution_count": 24,
   "id": "tender-means",
   "metadata": {},
   "outputs": [
    {
     "name": "stderr",
     "output_type": "stream",
     "text": [
      "100%|██████████| 61/61 [02:56<00:00,  2.89s/it]\n"
     ]
    }
   ],
   "source": [
    "for file in tqdm(faltantes):\n",
    "    \n",
    "    file_name = file\n",
    "    command = 'docto -f ' + source_folder + '/' + file_name + '.rtf' + ' -O \"' + target_folder + '/' + file_name + '.txt\" -T wdFormatText' \n",
    "    #print(command)\n",
    "    process = Popen(command, stdout=PIPE, stderr=PIPE)\n",
    "    stdout, stderr = process.communicate()\n",
    "    #print(stdout)\n"
   ]
  },
  {
   "cell_type": "code",
   "execution_count": null,
   "id": "corporate-miniature",
   "metadata": {},
   "outputs": [],
   "source": []
  },
  {
   "cell_type": "code",
   "execution_count": null,
   "id": "alike-establishment",
   "metadata": {},
   "outputs": [],
   "source": []
  },
  {
   "cell_type": "code",
   "execution_count": null,
   "id": "theoretical-hindu",
   "metadata": {},
   "outputs": [],
   "source": []
  },
  {
   "cell_type": "code",
   "execution_count": 25,
   "id": "designed-sauce",
   "metadata": {},
   "outputs": [
    {
     "name": "stderr",
     "output_type": "stream",
     "text": [
      "100%|██████████| 35708/35708 [00:00<00:00, 714143.65it/s]\n"
     ]
    }
   ],
   "source": [
    "files_path = glob.glob(target_folder + '/*', \n",
    "                   recursive = True)\n",
    "files_target = []\n",
    "\n",
    "for file_path in tqdm(files_path):\n",
    "    file = file_path.replace('C:/Users/crist/Desktop/TEMIS-AI/1_WebScrapping/v2/DOCUMENT_PROCESSING/TXT\\\\','')\n",
    "    file = file.replace('.txt','')\n",
    "    files_target.append(file)"
   ]
  },
  {
   "cell_type": "code",
   "execution_count": 26,
   "id": "immune-architecture",
   "metadata": {},
   "outputs": [
    {
     "data": {
      "text/plain": [
       "35708"
      ]
     },
     "execution_count": 26,
     "metadata": {},
     "output_type": "execute_result"
    }
   ],
   "source": [
    "len(files_target)"
   ]
  },
  {
   "cell_type": "code",
   "execution_count": 27,
   "id": "consistent-scratch",
   "metadata": {},
   "outputs": [],
   "source": [
    "files_sorce_ss= set(files_sorce)  \n",
    "files_target_ss =set(files_target) "
   ]
  },
  {
   "cell_type": "code",
   "execution_count": 28,
   "id": "italian-brisbane",
   "metadata": {},
   "outputs": [],
   "source": [
    "faltantes = list(files_target_ss.union(files_sorce_ss)-files_target_ss.intersection(files_sorce_ss))"
   ]
  },
  {
   "cell_type": "code",
   "execution_count": 32,
   "id": "danish-magnitude",
   "metadata": {},
   "outputs": [
    {
     "data": {
      "text/plain": [
       "29"
      ]
     },
     "execution_count": 32,
     "metadata": {},
     "output_type": "execute_result"
    }
   ],
   "source": [
    "len(faltantes)"
   ]
  },
  {
   "cell_type": "code",
   "execution_count": 33,
   "id": "industrial-adelaide",
   "metadata": {},
   "outputs": [
    {
     "data": {
      "text/plain": [
       "0"
      ]
     },
     "execution_count": 33,
     "metadata": {},
     "output_type": "execute_result"
    }
   ],
   "source": [
    "len(faltantes) + len(files_target) - len(files_sorce)"
   ]
  },
  {
   "cell_type": "code",
   "execution_count": 36,
   "id": "general-posting",
   "metadata": {},
   "outputs": [
    {
     "data": {
      "text/plain": [
       "{'A032-02',\n",
       " 'A033-02',\n",
       " 'A034-02',\n",
       " 'A035-02',\n",
       " 'A036-02',\n",
       " 'A037 -16',\n",
       " 'A038-02',\n",
       " 'A039-02',\n",
       " 'A041-02',\n",
       " 'A042-02',\n",
       " 'A042A-02',\n",
       " 'A044-02',\n",
       " 'A045-02',\n",
       " 'A049-02',\n",
       " 'A051-02',\n",
       " 'A052-02',\n",
       " 'A053-02',\n",
       " 'A054-02',\n",
       " 'A136 -19',\n",
       " 'A199 -16',\n",
       " 'A373 -08',\n",
       " 'A379 -16',\n",
       " 'A380 -16',\n",
       " 'A655 -17',\n",
       " 'T-025-04 ANEXO 1',\n",
       " 'T-025-04 ANEXO 2',\n",
       " 'T-025-04 ANEXO 3',\n",
       " 'T-025-04 ANEXO 4',\n",
       " 'T-025-04 ANEXO 5'}"
      ]
     },
     "execution_count": 36,
     "metadata": {},
     "output_type": "execute_result"
    }
   ],
   "source": [
    "set(faltantes)"
   ]
  },
  {
   "cell_type": "code",
   "execution_count": null,
   "id": "protected-kitchen",
   "metadata": {},
   "outputs": [],
   "source": []
  },
  {
   "cell_type": "code",
   "execution_count": 35,
   "id": "annoying-allocation",
   "metadata": {},
   "outputs": [
    {
     "name": "stderr",
     "output_type": "stream",
     "text": [
      " 10%|█         | 3/29 [00:02<00:16,  1.60it/s]"
     ]
    },
    {
     "name": "stdout",
     "output_type": "stream",
     "text": [
      "b'*******************************************\\r\\nError: EOleException Est\\xe1 intentando abrir un tipo de archivo que se bloque\\xf3 con Configuraci\\xf3n de bloqueo de archivos en el Centro de confianza\\r\\n*******************************************\\r\\n\\r\\n'\n",
      "b'*******************************************\\r\\nError: EInput file C:\\\\Users\\\\crist\\\\Desktop\\\\TEMIS-AI\\\\1_WebScrapping\\\\v2\\\\DOCUMENT_PROCESSING\\\\DOCUMENTS\\\\T-025-04 does not exist.\\r\\n*******************************************\\r\\n*******************************************\\r\\nError: Exiting with Error Code : 204\\r\\n*******************************************\\r\\n'\n",
      "b'*******************************************\\r\\nError: EInput file C:\\\\Users\\\\crist\\\\Desktop\\\\TEMIS-AI\\\\1_WebScrapping\\\\v2\\\\DOCUMENT_PROCESSING\\\\DOCUMENTS\\\\A037 does not exist.\\r\\n*******************************************\\r\\n*******************************************\\r\\nError: Exiting with Error Code : 204\\r\\n*******************************************\\r\\n'\n",
      "b'*******************************************\\r\\nError: EInput file C:\\\\Users\\\\crist\\\\Desktop\\\\TEMIS-AI\\\\1_WebScrapping\\\\v2\\\\DOCUMENT_PROCESSING\\\\DOCUMENTS\\\\A655 does not exist.\\r\\n*******************************************\\r\\n*******************************************\\r\\nError: Exiting with Error Code : 204\\r\\n*******************************************\\r\\n'\n"
     ]
    },
    {
     "name": "stderr",
     "output_type": "stream",
     "text": [
      " 17%|█▋        | 5/29 [00:04<00:20,  1.19it/s]"
     ]
    },
    {
     "name": "stdout",
     "output_type": "stream",
     "text": [
      "b'*******************************************\\r\\nError: EOleException Est\\xe1 intentando abrir un tipo de archivo que se bloque\\xf3 con Configuraci\\xf3n de bloqueo de archivos en el Centro de confianza\\r\\n*******************************************\\r\\n\\r\\n'\n",
      "b'*******************************************\\r\\nError: EInput file C:\\\\Users\\\\crist\\\\Desktop\\\\TEMIS-AI\\\\1_WebScrapping\\\\v2\\\\DOCUMENT_PROCESSING\\\\DOCUMENTS\\\\T-025-04 does not exist.\\r\\n*******************************************\\r\\n*******************************************\\r\\nError: Exiting with Error Code : 204\\r\\n*******************************************\\r\\n'\n"
     ]
    },
    {
     "name": "stderr",
     "output_type": "stream",
     "text": [
      " 28%|██▊       | 8/29 [00:06<00:15,  1.35it/s]"
     ]
    },
    {
     "name": "stdout",
     "output_type": "stream",
     "text": [
      "b'*******************************************\\r\\nError: EOleException Est\\xe1 intentando abrir un tipo de archivo que se bloque\\xf3 con Configuraci\\xf3n de bloqueo de archivos en el Centro de confianza\\r\\n*******************************************\\r\\n\\r\\n'\n",
      "b'*******************************************\\r\\nError: EInput file C:\\\\Users\\\\crist\\\\Desktop\\\\TEMIS-AI\\\\1_WebScrapping\\\\v2\\\\DOCUMENT_PROCESSING\\\\DOCUMENTS\\\\T-025-04 does not exist.\\r\\n*******************************************\\r\\n*******************************************\\r\\nError: Exiting with Error Code : 204\\r\\n*******************************************\\r\\n'\n"
     ]
    },
    {
     "name": "stderr",
     "output_type": "stream",
     "text": [
      " 31%|███       | 9/29 [00:08<00:21,  1.07s/it]"
     ]
    },
    {
     "name": "stdout",
     "output_type": "stream",
     "text": [
      "b'*******************************************\\r\\nError: EOleException Est\\xe1 intentando abrir un tipo de archivo que se bloque\\xf3 con Configuraci\\xf3n de bloqueo de archivos en el Centro de confianza\\r\\n*******************************************\\r\\n\\r\\n'\n"
     ]
    },
    {
     "name": "stderr",
     "output_type": "stream",
     "text": [
      " 34%|███▍      | 10/29 [00:10<00:25,  1.33s/it]"
     ]
    },
    {
     "name": "stdout",
     "output_type": "stream",
     "text": [
      "b'*******************************************\\r\\nError: EOleException Est\\xe1 intentando abrir un tipo de archivo que se bloque\\xf3 con Configuraci\\xf3n de bloqueo de archivos en el Centro de confianza\\r\\n*******************************************\\r\\n\\r\\n'\n"
     ]
    },
    {
     "name": "stderr",
     "output_type": "stream",
     "text": [
      " 38%|███▊      | 11/29 [00:12<00:27,  1.54s/it]"
     ]
    },
    {
     "name": "stdout",
     "output_type": "stream",
     "text": [
      "b'*******************************************\\r\\nError: EOleException Est\\xe1 intentando abrir un tipo de archivo que se bloque\\xf3 con Configuraci\\xf3n de bloqueo de archivos en el Centro de confianza\\r\\n*******************************************\\r\\n\\r\\n'\n"
     ]
    },
    {
     "name": "stderr",
     "output_type": "stream",
     "text": [
      " 41%|████▏     | 12/29 [00:14<00:28,  1.68s/it]"
     ]
    },
    {
     "name": "stdout",
     "output_type": "stream",
     "text": [
      "b'*******************************************\\r\\nError: EOleException Est\\xe1 intentando abrir un tipo de archivo que se bloque\\xf3 con Configuraci\\xf3n de bloqueo de archivos en el Centro de confianza\\r\\n*******************************************\\r\\n\\r\\n'\n"
     ]
    },
    {
     "name": "stderr",
     "output_type": "stream",
     "text": [
      " 45%|████▍     | 13/29 [00:17<00:28,  1.81s/it]"
     ]
    },
    {
     "name": "stdout",
     "output_type": "stream",
     "text": [
      "b'*******************************************\\r\\nError: EOleException Est\\xe1 intentando abrir un tipo de archivo que se bloque\\xf3 con Configuraci\\xf3n de bloqueo de archivos en el Centro de confianza\\r\\n*******************************************\\r\\n\\r\\n'\n"
     ]
    },
    {
     "name": "stderr",
     "output_type": "stream",
     "text": [
      " 48%|████▊     | 14/29 [00:19<00:28,  1.87s/it]"
     ]
    },
    {
     "name": "stdout",
     "output_type": "stream",
     "text": [
      "b'*******************************************\\r\\nError: EOleException Est\\xe1 intentando abrir un tipo de archivo que se bloque\\xf3 con Configuraci\\xf3n de bloqueo de archivos en el Centro de confianza\\r\\n*******************************************\\r\\n\\r\\n'\n"
     ]
    },
    {
     "name": "stderr",
     "output_type": "stream",
     "text": [
      " 52%|█████▏    | 15/29 [00:21<00:26,  1.92s/it]"
     ]
    },
    {
     "name": "stdout",
     "output_type": "stream",
     "text": [
      "b'*******************************************\\r\\nError: EOleException Est\\xe1 intentando abrir un tipo de archivo que se bloque\\xf3 con Configuraci\\xf3n de bloqueo de archivos en el Centro de confianza\\r\\n*******************************************\\r\\n\\r\\n'\n",
      "b'*******************************************\\r\\nError: EInput file C:\\\\Users\\\\crist\\\\Desktop\\\\TEMIS-AI\\\\1_WebScrapping\\\\v2\\\\DOCUMENT_PROCESSING\\\\DOCUMENTS\\\\T-025-04 does not exist.\\r\\n*******************************************\\r\\n*******************************************\\r\\nError: Exiting with Error Code : 204\\r\\n*******************************************\\r\\n'\n"
     ]
    },
    {
     "name": "stderr",
     "output_type": "stream",
     "text": [
      " 59%|█████▊    | 17/29 [00:23<00:18,  1.54s/it]"
     ]
    },
    {
     "name": "stdout",
     "output_type": "stream",
     "text": [
      "b'*******************************************\\r\\nError: EOleException Est\\xe1 intentando abrir un tipo de archivo que se bloque\\xf3 con Configuraci\\xf3n de bloqueo de archivos en el Centro de confianza\\r\\n*******************************************\\r\\n\\r\\n'\n",
      "b'*******************************************\\r\\nError: EInput file C:\\\\Users\\\\crist\\\\Desktop\\\\TEMIS-AI\\\\1_WebScrapping\\\\v2\\\\DOCUMENT_PROCESSING\\\\DOCUMENTS\\\\A380 does not exist.\\r\\n*******************************************\\r\\n*******************************************\\r\\nError: Exiting with Error Code : 204\\r\\n*******************************************\\r\\n'\n"
     ]
    },
    {
     "name": "stderr",
     "output_type": "stream",
     "text": [
      " 66%|██████▌   | 19/29 [00:25<00:13,  1.35s/it]"
     ]
    },
    {
     "name": "stdout",
     "output_type": "stream",
     "text": [
      "b'*******************************************\\r\\nError: EOleException Est\\xe1 intentando abrir un tipo de archivo que se bloque\\xf3 con Configuraci\\xf3n de bloqueo de archivos en el Centro de confianza\\r\\n*******************************************\\r\\n\\r\\n'\n"
     ]
    },
    {
     "name": "stderr",
     "output_type": "stream",
     "text": [
      " 69%|██████▉   | 20/29 [00:27<00:13,  1.50s/it]"
     ]
    },
    {
     "name": "stdout",
     "output_type": "stream",
     "text": [
      "b'*******************************************\\r\\nError: EOleException Est\\xe1 intentando abrir un tipo de archivo que se bloque\\xf3 con Configuraci\\xf3n de bloqueo de archivos en el Centro de confianza\\r\\n*******************************************\\r\\n\\r\\n'\n"
     ]
    },
    {
     "name": "stderr",
     "output_type": "stream",
     "text": [
      " 79%|███████▉  | 23/29 [00:29<00:06,  1.01s/it]"
     ]
    },
    {
     "name": "stdout",
     "output_type": "stream",
     "text": [
      "b'*******************************************\\r\\nError: EOleException Est\\xe1 intentando abrir un tipo de archivo que se bloque\\xf3 con Configuraci\\xf3n de bloqueo de archivos en el Centro de confianza\\r\\n*******************************************\\r\\n\\r\\n'\n",
      "b'*******************************************\\r\\nError: EInput file C:\\\\Users\\\\crist\\\\Desktop\\\\TEMIS-AI\\\\1_WebScrapping\\\\v2\\\\DOCUMENT_PROCESSING\\\\DOCUMENTS\\\\T-025-04 does not exist.\\r\\n*******************************************\\r\\n*******************************************\\r\\nError: Exiting with Error Code : 204\\r\\n*******************************************\\r\\n'\n",
      "b'*******************************************\\r\\nError: EInput file C:\\\\Users\\\\crist\\\\Desktop\\\\TEMIS-AI\\\\1_WebScrapping\\\\v2\\\\DOCUMENT_PROCESSING\\\\DOCUMENTS\\\\A373 does not exist.\\r\\n*******************************************\\r\\n*******************************************\\r\\nError: Exiting with Error Code : 204\\r\\n*******************************************\\r\\n'\n",
      "b'*******************************************\\r\\nError: EInput file C:\\\\Users\\\\crist\\\\Desktop\\\\TEMIS-AI\\\\1_WebScrapping\\\\v2\\\\DOCUMENT_PROCESSING\\\\DOCUMENTS\\\\A379 does not exist.\\r\\n*******************************************\\r\\n*******************************************\\r\\nError: Exiting with Error Code : 204\\r\\n*******************************************\\r\\n'\n"
     ]
    },
    {
     "name": "stderr",
     "output_type": "stream",
     "text": [
      " 86%|████████▌ | 25/29 [00:31<00:04,  1.03s/it]"
     ]
    },
    {
     "name": "stdout",
     "output_type": "stream",
     "text": [
      "b'*******************************************\\r\\nError: EOleException Est\\xe1 intentando abrir un tipo de archivo que se bloque\\xf3 con Configuraci\\xf3n de bloqueo de archivos en el Centro de confianza\\r\\n*******************************************\\r\\n\\r\\n'\n",
      "b'*******************************************\\r\\nError: EInput file C:\\\\Users\\\\crist\\\\Desktop\\\\TEMIS-AI\\\\1_WebScrapping\\\\v2\\\\DOCUMENT_PROCESSING\\\\DOCUMENTS\\\\A199 does not exist.\\r\\n*******************************************\\r\\n*******************************************\\r\\nError: Exiting with Error Code : 204\\r\\n*******************************************\\r\\n'\n"
     ]
    },
    {
     "name": "stderr",
     "output_type": "stream",
     "text": [
      " 93%|█████████▎| 27/29 [00:34<00:02,  1.05s/it]"
     ]
    },
    {
     "name": "stdout",
     "output_type": "stream",
     "text": [
      "b'*******************************************\\r\\nError: EOleException Est\\xe1 intentando abrir un tipo de archivo que se bloque\\xf3 con Configuraci\\xf3n de bloqueo de archivos en el Centro de confianza\\r\\n*******************************************\\r\\n\\r\\n'\n",
      "b'*******************************************\\r\\nError: EInput file C:\\\\Users\\\\crist\\\\Desktop\\\\TEMIS-AI\\\\1_WebScrapping\\\\v2\\\\DOCUMENT_PROCESSING\\\\DOCUMENTS\\\\A136 does not exist.\\r\\n*******************************************\\r\\n*******************************************\\r\\nError: Exiting with Error Code : 204\\r\\n*******************************************\\r\\n'\n"
     ]
    },
    {
     "name": "stderr",
     "output_type": "stream",
     "text": [
      "100%|██████████| 29/29 [00:36<00:00,  1.25s/it]"
     ]
    },
    {
     "name": "stdout",
     "output_type": "stream",
     "text": [
      "b'*******************************************\\r\\nError: EOleException Est\\xe1 intentando abrir un tipo de archivo que se bloque\\xf3 con Configuraci\\xf3n de bloqueo de archivos en el Centro de confianza\\r\\n*******************************************\\r\\n\\r\\n'\n"
     ]
    },
    {
     "name": "stderr",
     "output_type": "stream",
     "text": [
      "\n"
     ]
    }
   ],
   "source": [
    "for file in tqdm(faltantes):\n",
    "    \n",
    "    file_name = file\n",
    "    command = 'docto -f ' + source_folder + '/' + file_name + '.rtf' + ' -O \"' + target_folder + '/' + file_name + '.txt\" -T wdFormatText' \n",
    "    #print(command)\n",
    "    process = Popen(command, stdout=PIPE, stderr=PIPE)\n",
    "    stdout, stderr = process.communicate()\n",
    "    print(stdout)\n"
   ]
  },
  {
   "cell_type": "code",
   "execution_count": null,
   "id": "surrounded-france",
   "metadata": {},
   "outputs": [],
   "source": []
  },
  {
   "cell_type": "code",
   "execution_count": null,
   "id": "running-danish",
   "metadata": {},
   "outputs": [],
   "source": []
  },
  {
   "cell_type": "code",
   "execution_count": 37,
   "id": "obvious-lindsay",
   "metadata": {},
   "outputs": [
    {
     "name": "stderr",
     "output_type": "stream",
     "text": [
      "100%|██████████| 35737/35737 [00:00<00:00, 760351.24it/s]\n"
     ]
    }
   ],
   "source": [
    "files_path = glob.glob(target_folder + '/*', \n",
    "                   recursive = True)\n",
    "files_target = []\n",
    "\n",
    "for file_path in tqdm(files_path):\n",
    "    file = file_path.replace('C:/Users/crist/Desktop/TEMIS-AI/1_WebScrapping/v2/DOCUMENT_PROCESSING/TXT\\\\','')\n",
    "    file = file.replace('.txt','')\n",
    "    files_target.append(file)"
   ]
  },
  {
   "cell_type": "code",
   "execution_count": 38,
   "id": "illegal-rebate",
   "metadata": {},
   "outputs": [
    {
     "data": {
      "text/plain": [
       "35737"
      ]
     },
     "execution_count": 38,
     "metadata": {},
     "output_type": "execute_result"
    }
   ],
   "source": [
    "len(files_target)"
   ]
  },
  {
   "cell_type": "code",
   "execution_count": 43,
   "id": "referenced-morocco",
   "metadata": {},
   "outputs": [],
   "source": [
    "files_sorce_ss= set(files_sorce)  \n",
    "files_target_ss =set(files_target) \n",
    "faltantes = list(files_sorce_ss.union(files_target_ss)-files_sorce_ss.intersection(files_target_ss))"
   ]
  },
  {
   "cell_type": "code",
   "execution_count": 44,
   "id": "binding-satellite",
   "metadata": {},
   "outputs": [
    {
     "data": {
      "text/plain": [
       "0"
      ]
     },
     "execution_count": 44,
     "metadata": {},
     "output_type": "execute_result"
    }
   ],
   "source": [
    "len(faltantes)"
   ]
  },
  {
   "cell_type": "code",
   "execution_count": null,
   "id": "hired-basin",
   "metadata": {},
   "outputs": [],
   "source": []
  },
  {
   "cell_type": "code",
   "execution_count": null,
   "id": "potential-mouse",
   "metadata": {},
   "outputs": [],
   "source": []
  },
  {
   "cell_type": "code",
   "execution_count": null,
   "id": "amateur-nomination",
   "metadata": {},
   "outputs": [],
   "source": []
  }
 ],
 "metadata": {
  "kernelspec": {
   "display_name": "Python 3",
   "language": "python",
   "name": "python3"
  },
  "language_info": {
   "codemirror_mode": {
    "name": "ipython",
    "version": 3
   },
   "file_extension": ".py",
   "mimetype": "text/x-python",
   "name": "python",
   "nbconvert_exporter": "python",
   "pygments_lexer": "ipython3",
   "version": "3.8.8"
  }
 },
 "nbformat": 4,
 "nbformat_minor": 5
}
