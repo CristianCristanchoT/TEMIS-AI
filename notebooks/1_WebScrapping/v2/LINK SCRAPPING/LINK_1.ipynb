{
 "cells": [
  {
   "cell_type": "code",
   "execution_count": 1,
   "id": "wound-pattern",
   "metadata": {
    "executionInfo": {
     "elapsed": 681,
     "status": "ok",
     "timestamp": 1618090345216,
     "user": {
      "displayName": "Cristian Cristancho",
      "photoUrl": "https://lh3.googleusercontent.com/a-/AOh14Gg8pIl0V_AaKknYqxYKaqtY229xAnEwl2aKBp-rAA=s64",
      "userId": "06929284856658854847"
     },
     "user_tz": 300
    },
    "id": "compliant-folks"
   },
   "outputs": [],
   "source": [
    "from bs4 import BeautifulSoup\n",
    "import requests\n",
    "import pandas as pd\n",
    "from tqdm import tqdm \n",
    "from tqdm import trange\n",
    "import time\n",
    "import re"
   ]
  },
  {
   "cell_type": "code",
   "execution_count": 3,
   "id": "vital-aluminum",
   "metadata": {
    "colab": {
     "base_uri": "https://localhost:8080/"
    },
    "executionInfo": {
     "elapsed": 423,
     "status": "ok",
     "timestamp": 1618090435628,
     "user": {
      "displayName": "Cristian Cristancho",
      "photoUrl": "https://lh3.googleusercontent.com/a-/AOh14Gg8pIl0V_AaKknYqxYKaqtY229xAnEwl2aKBp-rAA=s64",
      "userId": "06929284856658854847"
     },
     "user_tz": 300
    },
    "id": "J3kq0-g5s0vQ",
    "outputId": "b70c0007-511b-44c7-e52a-a7b3294c024a"
   },
   "outputs": [
    {
     "name": "stdout",
     "output_type": "stream",
     "text": [
      "Drive already mounted at /content/drive; to attempt to forcibly remount, call drive.mount(\"/content/drive\", force_remount=True).\n"
     ]
    }
   ],
   "source": [
    "from google.colab import drive\n",
    "drive.mount('/content/drive')"
   ]
  },
  {
   "cell_type": "code",
   "execution_count": 4,
   "id": "featured-factory",
   "metadata": {
    "executionInfo": {
     "elapsed": 828,
     "status": "ok",
     "timestamp": 1618090446398,
     "user": {
      "displayName": "Cristian Cristancho",
      "photoUrl": "https://lh3.googleusercontent.com/a-/AOh14Gg8pIl0V_AaKknYqxYKaqtY229xAnEwl2aKBp-rAA=s64",
      "userId": "06929284856658854847"
     },
     "user_tz": 300
    },
    "id": "metropolitan-scotland"
   },
   "outputs": [],
   "source": [
    "data = pd.DataFrame(columns=['INDEX','LINK','LINK_RTF'])"
   ]
  },
  {
   "cell_type": "code",
   "execution_count": 5,
   "id": "empirical-walter",
   "metadata": {
    "executionInfo": {
     "elapsed": 430,
     "status": "ok",
     "timestamp": 1618090449535,
     "user": {
      "displayName": "Cristian Cristancho",
      "photoUrl": "https://lh3.googleusercontent.com/a-/AOh14Gg8pIl0V_AaKknYqxYKaqtY229xAnEwl2aKBp-rAA=s64",
      "userId": "06929284856658854847"
     },
     "user_tz": 300
    },
    "id": "accepting-peter"
   },
   "outputs": [],
   "source": [
    "root_url = 'https://www.corteconstitucional.gov.co'"
   ]
  },
  {
   "cell_type": "code",
   "execution_count": 6,
   "id": "published-custody",
   "metadata": {
    "colab": {
     "base_uri": "https://localhost:8080/"
    },
    "executionInfo": {
     "elapsed": 3287159,
     "status": "ok",
     "timestamp": 1618093740139,
     "user": {
      "displayName": "Cristian Cristancho",
      "photoUrl": "https://lh3.googleusercontent.com/a-/AOh14Gg8pIl0V_AaKknYqxYKaqtY229xAnEwl2aKBp-rAA=s64",
      "userId": "06929284856658854847"
     },
     "user_tz": 300
    },
    "id": "waiting-vessel",
    "outputId": "3888b2aa-9aa5-474b-c05f-a35d29769f0a"
   },
   "outputs": [
    {
     "name": "stderr",
     "output_type": "stream",
     "text": [
      " 51%|█████     | 26/51 [28:47<24:39, 59.19s/it]"
     ]
    },
    {
     "name": "stdout",
     "output_type": "stream",
     "text": [
      "Error!: 'NoneType' object is not subscriptable\n",
      "Problema en: https://www.corteconstitucional.gov.co/Relatoria/autos/2017/A025-17.htm\n",
      "Pagina: https://www.corteconstitucional.gov.co/relatoria/providencia.aspx?pg=26&buscar=&anio=&total=35718\n",
      "Etapa:26\n",
      "******************************\n"
     ]
    },
    {
     "name": "stderr",
     "output_type": "stream",
     "text": [
      "100%|██████████| 51/51 [54:46<00:00, 64.45s/it]\n"
     ]
    }
   ],
   "source": [
    "for i in tqdm(range(51)):\n",
    "    \n",
    "    try:\n",
    "        page_url = '/relatoria/providencia.aspx?pg='+ str(i) +'&buscar=&anio=&total=35718'\n",
    "        main_url = root_url + page_url\n",
    "\n",
    "        main_html_text = requests.get(main_url).text\n",
    "        main_soup = BeautifulSoup(main_html_text, 'lxml')\n",
    "\n",
    "        docs = main_soup.find_all('div', class_ = 'grow')\n",
    "\n",
    "        for doc in docs:\n",
    "            \n",
    "            \n",
    "            doc_link = doc.find('a')['href']\n",
    "\n",
    "            inner_doc_url = root_url + doc_link\n",
    "            \n",
    "            try:\n",
    "                \n",
    "                html_inner_doc = requests.get(inner_doc_url).text\n",
    "                inner_doc_soup = BeautifulSoup(html_inner_doc, 'lxml')\n",
    "                doc_index = doc.find('a').text\n",
    "                doc_rtf_link = root_url + (inner_doc_soup.find('a')['href'])\n",
    "\n",
    "                new_row = {'INDEX':doc_index,'LINK':inner_doc_url,'LINK_RTF':doc_rtf_link}\n",
    "                data = data.append(new_row, ignore_index=True)\n",
    "            \n",
    "            except Exception as e:\n",
    "                \n",
    "                print(\"Error!: \" + str(e))\n",
    "                print('Problema en: '+ inner_doc_url)\n",
    "                print('Pagina: ' + main_url)\n",
    "                print('Etapa:' + str(i))\n",
    "                print('*'*30)\n",
    "            \n",
    "\n",
    "    except Exception as e:\n",
    "        print(\"Error!: \" + str(e))"
   ]
  },
  {
   "cell_type": "code",
   "execution_count": 7,
   "id": "diverse-royalty",
   "metadata": {
    "colab": {
     "base_uri": "https://localhost:8080/",
     "height": 419
    },
    "executionInfo": {
     "elapsed": 3223989,
     "status": "ok",
     "timestamp": 1618093740144,
     "user": {
      "displayName": "Cristian Cristancho",
      "photoUrl": "https://lh3.googleusercontent.com/a-/AOh14Gg8pIl0V_AaKknYqxYKaqtY229xAnEwl2aKBp-rAA=s64",
      "userId": "06929284856658854847"
     },
     "user_tz": 300
    },
    "id": "beneficial-blanket",
    "outputId": "71650789-5d74-4a95-b70f-0c544f86e747"
   },
   "outputs": [
    {
     "data": {
      "text/html": [
       "<div>\n",
       "<style scoped>\n",
       "    .dataframe tbody tr th:only-of-type {\n",
       "        vertical-align: middle;\n",
       "    }\n",
       "\n",
       "    .dataframe tbody tr th {\n",
       "        vertical-align: top;\n",
       "    }\n",
       "\n",
       "    .dataframe thead th {\n",
       "        text-align: right;\n",
       "    }\n",
       "</style>\n",
       "<table border=\"1\" class=\"dataframe\">\n",
       "  <thead>\n",
       "    <tr style=\"text-align: right;\">\n",
       "      <th></th>\n",
       "      <th>INDEX</th>\n",
       "      <th>LINK</th>\n",
       "      <th>LINK_RTF</th>\n",
       "    </tr>\n",
       "  </thead>\n",
       "  <tbody>\n",
       "    <tr>\n",
       "      <th>0</th>\n",
       "      <td>A123-21</td>\n",
       "      <td>https://www.corteconstitucional.gov.co/Relator...</td>\n",
       "      <td>https://www.corteconstitucional.gov.co/sentenc...</td>\n",
       "    </tr>\n",
       "    <tr>\n",
       "      <th>1</th>\n",
       "      <td>A121-21</td>\n",
       "      <td>https://www.corteconstitucional.gov.co/Relator...</td>\n",
       "      <td>https://www.corteconstitucional.gov.co/sentenc...</td>\n",
       "    </tr>\n",
       "    <tr>\n",
       "      <th>2</th>\n",
       "      <td>A115-21</td>\n",
       "      <td>https://www.corteconstitucional.gov.co/Relator...</td>\n",
       "      <td>https://www.corteconstitucional.gov.co/sentenc...</td>\n",
       "    </tr>\n",
       "    <tr>\n",
       "      <th>3</th>\n",
       "      <td>A107-21</td>\n",
       "      <td>https://www.corteconstitucional.gov.co/Relator...</td>\n",
       "      <td>https://www.corteconstitucional.gov.co/sentenc...</td>\n",
       "    </tr>\n",
       "    <tr>\n",
       "      <th>4</th>\n",
       "      <td>A106-21</td>\n",
       "      <td>https://www.corteconstitucional.gov.co/Relator...</td>\n",
       "      <td>https://www.corteconstitucional.gov.co/sentenc...</td>\n",
       "    </tr>\n",
       "    <tr>\n",
       "      <th>...</th>\n",
       "      <td>...</td>\n",
       "      <td>...</td>\n",
       "      <td>...</td>\n",
       "    </tr>\n",
       "    <tr>\n",
       "      <th>5144</th>\n",
       "      <td>A061-11</td>\n",
       "      <td>https://www.corteconstitucional.gov.co/Relator...</td>\n",
       "      <td>https://www.corteconstitucional.gov.co/sentenc...</td>\n",
       "    </tr>\n",
       "    <tr>\n",
       "      <th>5145</th>\n",
       "      <td>A060-11</td>\n",
       "      <td>https://www.corteconstitucional.gov.co/Relator...</td>\n",
       "      <td>https://www.corteconstitucional.gov.co/sentenc...</td>\n",
       "    </tr>\n",
       "    <tr>\n",
       "      <th>5146</th>\n",
       "      <td>A059-11</td>\n",
       "      <td>https://www.corteconstitucional.gov.co/Relator...</td>\n",
       "      <td>https://www.corteconstitucional.gov.co/sentenc...</td>\n",
       "    </tr>\n",
       "    <tr>\n",
       "      <th>5147</th>\n",
       "      <td>A058-11</td>\n",
       "      <td>https://www.corteconstitucional.gov.co/Relator...</td>\n",
       "      <td>https://www.corteconstitucional.gov.co/sentenc...</td>\n",
       "    </tr>\n",
       "    <tr>\n",
       "      <th>5148</th>\n",
       "      <td>A057-11</td>\n",
       "      <td>https://www.corteconstitucional.gov.co/Relator...</td>\n",
       "      <td>https://www.corteconstitucional.gov.co/sentenc...</td>\n",
       "    </tr>\n",
       "  </tbody>\n",
       "</table>\n",
       "<p>5149 rows × 3 columns</p>\n",
       "</div>"
      ],
      "text/plain": [
       "         INDEX  ...                                           LINK_RTF\n",
       "0      A123-21  ...  https://www.corteconstitucional.gov.co/sentenc...\n",
       "1      A121-21  ...  https://www.corteconstitucional.gov.co/sentenc...\n",
       "2      A115-21  ...  https://www.corteconstitucional.gov.co/sentenc...\n",
       "3      A107-21  ...  https://www.corteconstitucional.gov.co/sentenc...\n",
       "4      A106-21  ...  https://www.corteconstitucional.gov.co/sentenc...\n",
       "...        ...  ...                                                ...\n",
       "5144   A061-11  ...  https://www.corteconstitucional.gov.co/sentenc...\n",
       "5145   A060-11  ...  https://www.corteconstitucional.gov.co/sentenc...\n",
       "5146   A059-11  ...  https://www.corteconstitucional.gov.co/sentenc...\n",
       "5147   A058-11  ...  https://www.corteconstitucional.gov.co/sentenc...\n",
       "5148   A057-11  ...  https://www.corteconstitucional.gov.co/sentenc...\n",
       "\n",
       "[5149 rows x 3 columns]"
      ]
     },
     "execution_count": 7,
     "metadata": {
      "tags": []
     },
     "output_type": "execute_result"
    }
   ],
   "source": [
    "data"
   ]
  },
  {
   "cell_type": "code",
   "execution_count": 10,
   "id": "exceptional-pastor",
   "metadata": {
    "executionInfo": {
     "elapsed": 425,
     "status": "ok",
     "timestamp": 1618093813645,
     "user": {
      "displayName": "Cristian Cristancho",
      "photoUrl": "https://lh3.googleusercontent.com/a-/AOh14Gg8pIl0V_AaKknYqxYKaqtY229xAnEwl2aKBp-rAA=s64",
      "userId": "06929284856658854847"
     },
     "user_tz": 300
    },
    "id": "collective-purpose"
   },
   "outputs": [],
   "source": [
    "file_name = '/content/drive/My Drive/LINKS_1.csv'\n",
    "data.to_csv(file_name, encoding='utf-8', index= False)"
   ]
  }
 ],
 "metadata": {
  "colab": {
   "name": "LINK_1.ipynb",
   "provenance": []
  },
  "kernelspec": {
   "display_name": "Python 3",
   "language": "python",
   "name": "python3"
  },
  "language_info": {
   "codemirror_mode": {
    "name": "ipython",
    "version": 3
   },
   "file_extension": ".py",
   "mimetype": "text/x-python",
   "name": "python",
   "nbconvert_exporter": "python",
   "pygments_lexer": "ipython3",
   "version": "3.8.8"
  }
 },
 "nbformat": 4,
 "nbformat_minor": 5
}
