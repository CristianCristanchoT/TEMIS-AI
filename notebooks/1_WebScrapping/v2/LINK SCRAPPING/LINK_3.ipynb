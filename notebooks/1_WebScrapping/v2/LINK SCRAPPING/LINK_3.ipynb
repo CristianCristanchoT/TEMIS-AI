{
 "cells": [
  {
   "cell_type": "code",
   "execution_count": 1,
   "id": "liquid-bottle",
   "metadata": {
    "executionInfo": {
     "elapsed": 705,
     "status": "ok",
     "timestamp": 1618090552657,
     "user": {
      "displayName": "Cristian Cristancho",
      "photoUrl": "https://lh3.googleusercontent.com/a-/AOh14Gg8pIl0V_AaKknYqxYKaqtY229xAnEwl2aKBp-rAA=s64",
      "userId": "06929284856658854847"
     },
     "user_tz": 300
    },
    "id": "immune-placement"
   },
   "outputs": [],
   "source": [
    "from bs4 import BeautifulSoup\n",
    "import requests\n",
    "import pandas as pd\n",
    "from tqdm import tqdm \n",
    "from tqdm import trange\n",
    "import time\n",
    "import re"
   ]
  },
  {
   "cell_type": "code",
   "execution_count": 2,
   "id": "retained-julian",
   "metadata": {
    "executionInfo": {
     "elapsed": 519,
     "status": "ok",
     "timestamp": 1618090563372,
     "user": {
      "displayName": "Cristian Cristancho",
      "photoUrl": "https://lh3.googleusercontent.com/a-/AOh14Gg8pIl0V_AaKknYqxYKaqtY229xAnEwl2aKBp-rAA=s64",
      "userId": "06929284856658854847"
     },
     "user_tz": 300
    },
    "id": "valid-machinery"
   },
   "outputs": [],
   "source": [
    "data = pd.DataFrame(columns=['INDEX','LINK','LINK_RTF'])"
   ]
  },
  {
   "cell_type": "code",
   "execution_count": 3,
   "id": "resistant-keeping",
   "metadata": {
    "colab": {
     "base_uri": "https://localhost:8080/"
    },
    "executionInfo": {
     "elapsed": 19128,
     "status": "ok",
     "timestamp": 1618090583855,
     "user": {
      "displayName": "Cristian Cristancho",
      "photoUrl": "https://lh3.googleusercontent.com/a-/AOh14Gg8pIl0V_AaKknYqxYKaqtY229xAnEwl2aKBp-rAA=s64",
      "userId": "06929284856658854847"
     },
     "user_tz": 300
    },
    "id": "jwhesQIrtoUm",
    "outputId": "ee813d67-8f2d-47c9-e343-779f05930384"
   },
   "outputs": [
    {
     "name": "stdout",
     "output_type": "stream",
     "text": [
      "Mounted at /content/drive\n"
     ]
    }
   ],
   "source": [
    "from google.colab import drive\n",
    "drive.mount('/content/drive')"
   ]
  },
  {
   "cell_type": "code",
   "execution_count": 4,
   "id": "opposed-russell",
   "metadata": {
    "executionInfo": {
     "elapsed": 1977,
     "status": "ok",
     "timestamp": 1618090583857,
     "user": {
      "displayName": "Cristian Cristancho",
      "photoUrl": "https://lh3.googleusercontent.com/a-/AOh14Gg8pIl0V_AaKknYqxYKaqtY229xAnEwl2aKBp-rAA=s64",
      "userId": "06929284856658854847"
     },
     "user_tz": 300
    },
    "id": "focused-tuning"
   },
   "outputs": [],
   "source": [
    "root_url = 'https://www.corteconstitucional.gov.co'"
   ]
  },
  {
   "cell_type": "code",
   "execution_count": 6,
   "id": "economic-south",
   "metadata": {
    "colab": {
     "base_uri": "https://localhost:8080/"
    },
    "executionInfo": {
     "elapsed": 9682989,
     "status": "ok",
     "timestamp": 1618100350459,
     "user": {
      "displayName": "Cristian Cristancho",
      "photoUrl": "https://lh3.googleusercontent.com/a-/AOh14Gg8pIl0V_AaKknYqxYKaqtY229xAnEwl2aKBp-rAA=s64",
      "userId": "06929284856658854847"
     },
     "user_tz": 300
    },
    "id": "linear-trader",
    "outputId": "ec2022b9-5b12-49a5-f532-0c86ea78f30d"
   },
   "outputs": [
    {
     "name": "stderr",
     "output_type": "stream",
     "text": [
      "\n",
      "  0%|          | 0/51 [00:00<?, ?it/s]\u001b[A\n",
      "  2%|▏         | 1/51 [03:38<3:02:07, 218.54s/it]\u001b[A\n",
      "  4%|▍         | 2/51 [06:36<2:48:32, 206.38s/it]\u001b[A\n",
      "  6%|▌         | 3/51 [09:38<2:39:13, 199.03s/it]\u001b[A\n",
      "  8%|▊         | 4/51 [12:38<2:31:30, 193.41s/it]\u001b[A\n",
      " 10%|▉         | 5/51 [16:35<2:38:09, 206.30s/it]\u001b[A\n",
      " 12%|█▏        | 6/51 [21:26<2:53:51, 231.82s/it]\u001b[A\n",
      " 14%|█▎        | 7/51 [25:29<2:52:28, 235.20s/it]\u001b[A\n",
      " 16%|█▌        | 8/51 [28:41<2:39:19, 222.31s/it]\u001b[A\n",
      " 18%|█▊        | 9/51 [31:34<2:25:06, 207.31s/it]\u001b[A\n",
      " 20%|█▉        | 10/51 [34:57<2:20:56, 206.25s/it]\u001b[A\n",
      " 22%|██▏       | 11/51 [38:14<2:15:32, 203.32s/it]\u001b[A\n",
      " 24%|██▎       | 12/51 [41:41<2:12:52, 204.41s/it]\u001b[A\n",
      " 25%|██▌       | 13/51 [46:11<2:21:58, 224.16s/it]\u001b[A\n",
      " 27%|██▋       | 14/51 [49:44<2:16:04, 220.66s/it]\u001b[A\n",
      " 29%|██▉       | 15/51 [53:08<2:09:32, 215.89s/it]\u001b[A\n",
      " 31%|███▏      | 16/51 [56:35<2:04:20, 213.15s/it]\u001b[A\n",
      " 33%|███▎      | 17/51 [59:34<1:54:59, 202.93s/it]\u001b[A"
     ]
    },
    {
     "name": "stdout",
     "output_type": "stream",
     "text": [
      "Error!: 'NoneType' object is not subscriptable\n",
      "Problema en: https://www.corteconstitucional.gov.co/Relatoria/2016/T-194-16.htm\n",
      "Pagina: https://www.corteconstitucional.gov.co/relatoria/providencia.aspx?pg=119&buscar=&anio=&total=35718\n",
      "Etapa:119\n",
      "******************************\n"
     ]
    },
    {
     "name": "stderr",
     "output_type": "stream",
     "text": [
      "\n",
      " 35%|███▌      | 18/51 [1:02:42<1:49:06, 198.39s/it]\u001b[A\n",
      " 37%|███▋      | 19/51 [1:05:56<1:45:07, 197.12s/it]\u001b[A\n",
      " 39%|███▉      | 20/51 [1:10:03<1:49:30, 211.94s/it]\u001b[A\n",
      " 41%|████      | 21/51 [1:14:28<1:53:57, 227.93s/it]\u001b[A"
     ]
    },
    {
     "name": "stdout",
     "output_type": "stream",
     "text": [
      "Error!: HTTPSConnectionPool(host='www.corteconstitucional.gov.co', port=443): Max retries exceeded with url: /Relatoria/2015/T-624-15.htm (Caused by NewConnectionError('<urllib3.connection.VerifiedHTTPSConnection object at 0x7f672217c390>: Failed to establish a new connection: [Errno 110] Connection timed out'))\n",
      "Problema en: https://www.corteconstitucional.gov.co/Relatoria/2015/T-624-15.htm\n",
      "Pagina: https://www.corteconstitucional.gov.co/relatoria/providencia.aspx?pg=123&buscar=&anio=&total=35718\n",
      "Etapa:123\n",
      "******************************\n"
     ]
    },
    {
     "name": "stderr",
     "output_type": "stream",
     "text": [
      "\n",
      " 43%|████▎     | 22/51 [1:18:17<1:50:24, 228.43s/it]\u001b[A\n",
      " 45%|████▌     | 23/51 [1:20:52<1:36:12, 206.15s/it]\u001b[A\n",
      " 47%|████▋     | 24/51 [1:23:44<1:28:09, 195.91s/it]\u001b[A\n",
      " 49%|████▉     | 25/51 [1:26:33<1:21:25, 187.89s/it]\u001b[A\n",
      " 51%|█████     | 26/51 [1:29:18<1:15:25, 181.02s/it]\u001b[A\n",
      " 53%|█████▎    | 27/51 [1:32:35<1:14:22, 185.96s/it]\u001b[A"
     ]
    },
    {
     "name": "stdout",
     "output_type": "stream",
     "text": [
      "Error!: 'NoneType' object is not subscriptable\n",
      "Problema en: https://www.corteconstitucional.gov.co/Relatoria/2015/C-754-15_archivos/header.htm\n",
      "Pagina: https://www.corteconstitucional.gov.co/relatoria/providencia.aspx?pg=129&buscar=&anio=&total=35718\n",
      "Etapa:129\n",
      "******************************\n"
     ]
    },
    {
     "name": "stderr",
     "output_type": "stream",
     "text": [
      "\n",
      " 55%|█████▍    | 28/51 [1:36:13<1:14:54, 195.41s/it]\u001b[A\n",
      " 57%|█████▋    | 29/51 [1:39:47<1:13:41, 200.98s/it]\u001b[A\n",
      " 59%|█████▉    | 30/51 [1:42:31<1:06:29, 189.97s/it]\u001b[A\n",
      " 61%|██████    | 31/51 [1:45:15<1:00:44, 182.22s/it]\u001b[A\n",
      " 63%|██████▎   | 32/51 [1:47:52<55:16, 174.57s/it]  \u001b[A\n",
      " 65%|██████▍   | 33/51 [1:50:32<51:01, 170.10s/it]\u001b[A\n",
      " 67%|██████▋   | 34/51 [1:53:14<47:32, 167.80s/it]\u001b[A\n",
      " 69%|██████▊   | 35/51 [1:55:57<44:24, 166.51s/it]\u001b[A\n",
      " 71%|███████   | 36/51 [1:58:31<40:38, 162.56s/it]\u001b[A\n",
      " 73%|███████▎  | 37/51 [2:02:17<42:23, 181.70s/it]\u001b[A\n",
      " 75%|███████▍  | 38/51 [2:06:15<43:01, 198.59s/it]\u001b[A\n",
      " 76%|███████▋  | 39/51 [2:09:06<38:02, 190.18s/it]\u001b[A\n",
      " 78%|███████▊  | 40/51 [2:11:36<32:39, 178.15s/it]\u001b[A\n",
      " 80%|████████  | 41/51 [2:14:12<28:36, 171.62s/it]\u001b[A\n",
      " 82%|████████▏ | 42/51 [2:16:44<24:50, 165.58s/it]\u001b[A\n",
      " 84%|████████▍ | 43/51 [2:19:35<22:17, 167.17s/it]\u001b[A\n",
      " 86%|████████▋ | 44/51 [2:22:11<19:07, 163.98s/it]\u001b[A\n",
      " 88%|████████▊ | 45/51 [2:24:36<15:50, 158.38s/it]\u001b[A\n",
      " 90%|█████████ | 46/51 [2:27:16<13:13, 158.78s/it]\u001b[A\n",
      " 92%|█████████▏| 47/51 [2:30:50<11:40, 175.24s/it]\u001b[A\n",
      " 94%|█████████▍| 48/51 [2:34:02<09:01, 180.44s/it]\u001b[A\n",
      " 96%|█████████▌| 49/51 [2:36:36<05:44, 172.35s/it]\u001b[A\n",
      " 98%|█████████▊| 50/51 [2:38:56<02:42, 162.60s/it]\u001b[A\n",
      "100%|██████████| 51/51 [2:41:22<00:00, 189.86s/it]\n"
     ]
    }
   ],
   "source": [
    "for i in tqdm(range(102,153)):\n",
    "    \n",
    "    try:\n",
    "        page_url = '/relatoria/providencia.aspx?pg='+ str(i) +'&buscar=&anio=&total=35718'\n",
    "        main_url = root_url + page_url\n",
    "\n",
    "        main_html_text = requests.get(main_url).text\n",
    "        main_soup = BeautifulSoup(main_html_text, 'lxml')\n",
    "\n",
    "        docs = main_soup.find_all('div', class_ = 'grow')\n",
    "\n",
    "        for doc in docs:\n",
    "            \n",
    "            \n",
    "            doc_link = doc.find('a')['href']\n",
    "\n",
    "            inner_doc_url = root_url + doc_link\n",
    "            \n",
    "            try:\n",
    "                \n",
    "                html_inner_doc = requests.get(inner_doc_url).text\n",
    "                inner_doc_soup = BeautifulSoup(html_inner_doc, 'lxml')\n",
    "                doc_index = doc.find('a').text\n",
    "                doc_rtf_link = root_url + (inner_doc_soup.find('a')['href'])\n",
    "\n",
    "                new_row = {'INDEX':doc_index,'LINK':inner_doc_url,'LINK_RTF':doc_rtf_link}\n",
    "                data = data.append(new_row, ignore_index=True)\n",
    "            \n",
    "            except Exception as e:\n",
    "                \n",
    "                print(\"Error!: \" + str(e))\n",
    "                print('Problema en: '+ inner_doc_url)\n",
    "                print('Pagina: ' + main_url)\n",
    "                print('Etapa:' + str(i))\n",
    "                print('*'*30)\n",
    "            \n",
    "\n",
    "    except Exception as e:\n",
    "        print(\"Error!: \" + str(e))"
   ]
  },
  {
   "cell_type": "code",
   "execution_count": 7,
   "id": "hidden-spank",
   "metadata": {
    "colab": {
     "base_uri": "https://localhost:8080/",
     "height": 419
    },
    "executionInfo": {
     "elapsed": 9680291,
     "status": "ok",
     "timestamp": 1618100350462,
     "user": {
      "displayName": "Cristian Cristancho",
      "photoUrl": "https://lh3.googleusercontent.com/a-/AOh14Gg8pIl0V_AaKknYqxYKaqtY229xAnEwl2aKBp-rAA=s64",
      "userId": "06929284856658854847"
     },
     "user_tz": 300
    },
    "id": "brutal-chamber",
    "outputId": "67fce58b-6506-4555-f224-ee2260e306b7"
   },
   "outputs": [
    {
     "data": {
      "text/html": [
       "<div>\n",
       "<style scoped>\n",
       "    .dataframe tbody tr th:only-of-type {\n",
       "        vertical-align: middle;\n",
       "    }\n",
       "\n",
       "    .dataframe tbody tr th {\n",
       "        vertical-align: top;\n",
       "    }\n",
       "\n",
       "    .dataframe thead th {\n",
       "        text-align: right;\n",
       "    }\n",
       "</style>\n",
       "<table border=\"1\" class=\"dataframe\">\n",
       "  <thead>\n",
       "    <tr style=\"text-align: right;\">\n",
       "      <th></th>\n",
       "      <th>INDEX</th>\n",
       "      <th>LINK</th>\n",
       "      <th>LINK_RTF</th>\n",
       "    </tr>\n",
       "  </thead>\n",
       "  <tbody>\n",
       "    <tr>\n",
       "      <th>0</th>\n",
       "      <td>A123-21</td>\n",
       "      <td>https://www.corteconstitucional.gov.co/Relator...</td>\n",
       "      <td>https://www.corteconstitucional.gov.co/sentenc...</td>\n",
       "    </tr>\n",
       "    <tr>\n",
       "      <th>1</th>\n",
       "      <td>A121-21</td>\n",
       "      <td>https://www.corteconstitucional.gov.co/Relator...</td>\n",
       "      <td>https://www.corteconstitucional.gov.co/sentenc...</td>\n",
       "    </tr>\n",
       "    <tr>\n",
       "      <th>2</th>\n",
       "      <td>A115-21</td>\n",
       "      <td>https://www.corteconstitucional.gov.co/Relator...</td>\n",
       "      <td>https://www.corteconstitucional.gov.co/sentenc...</td>\n",
       "    </tr>\n",
       "    <tr>\n",
       "      <th>3</th>\n",
       "      <td>A107-21</td>\n",
       "      <td>https://www.corteconstitucional.gov.co/Relator...</td>\n",
       "      <td>https://www.corteconstitucional.gov.co/sentenc...</td>\n",
       "    </tr>\n",
       "    <tr>\n",
       "      <th>4</th>\n",
       "      <td>A106-21</td>\n",
       "      <td>https://www.corteconstitucional.gov.co/Relator...</td>\n",
       "      <td>https://www.corteconstitucional.gov.co/sentenc...</td>\n",
       "    </tr>\n",
       "    <tr>\n",
       "      <th>...</th>\n",
       "      <td>...</td>\n",
       "      <td>...</td>\n",
       "      <td>...</td>\n",
       "    </tr>\n",
       "    <tr>\n",
       "      <th>5159</th>\n",
       "      <td>T-727-12</td>\n",
       "      <td>https://www.corteconstitucional.gov.co/Relator...</td>\n",
       "      <td>https://www.corteconstitucional.gov.co/sentenc...</td>\n",
       "    </tr>\n",
       "    <tr>\n",
       "      <th>5160</th>\n",
       "      <td>T-726-12</td>\n",
       "      <td>https://www.corteconstitucional.gov.co/Relator...</td>\n",
       "      <td>https://www.corteconstitucional.gov.co/sentenc...</td>\n",
       "    </tr>\n",
       "    <tr>\n",
       "      <th>5161</th>\n",
       "      <td>T-725-12</td>\n",
       "      <td>https://www.corteconstitucional.gov.co/Relator...</td>\n",
       "      <td>https://www.corteconstitucional.gov.co/sentenc...</td>\n",
       "    </tr>\n",
       "    <tr>\n",
       "      <th>5162</th>\n",
       "      <td>T-724-12</td>\n",
       "      <td>https://www.corteconstitucional.gov.co/Relator...</td>\n",
       "      <td>https://www.corteconstitucional.gov.co/sentenc...</td>\n",
       "    </tr>\n",
       "    <tr>\n",
       "      <th>5163</th>\n",
       "      <td>T-723-12</td>\n",
       "      <td>https://www.corteconstitucional.gov.co/Relator...</td>\n",
       "      <td>https://www.corteconstitucional.gov.co/sentenc...</td>\n",
       "    </tr>\n",
       "  </tbody>\n",
       "</table>\n",
       "<p>5164 rows × 3 columns</p>\n",
       "</div>"
      ],
      "text/plain": [
       "          INDEX  ...                                           LINK_RTF\n",
       "0       A123-21  ...  https://www.corteconstitucional.gov.co/sentenc...\n",
       "1       A121-21  ...  https://www.corteconstitucional.gov.co/sentenc...\n",
       "2       A115-21  ...  https://www.corteconstitucional.gov.co/sentenc...\n",
       "3       A107-21  ...  https://www.corteconstitucional.gov.co/sentenc...\n",
       "4       A106-21  ...  https://www.corteconstitucional.gov.co/sentenc...\n",
       "...         ...  ...                                                ...\n",
       "5159   T-727-12  ...  https://www.corteconstitucional.gov.co/sentenc...\n",
       "5160   T-726-12  ...  https://www.corteconstitucional.gov.co/sentenc...\n",
       "5161   T-725-12  ...  https://www.corteconstitucional.gov.co/sentenc...\n",
       "5162   T-724-12  ...  https://www.corteconstitucional.gov.co/sentenc...\n",
       "5163   T-723-12  ...  https://www.corteconstitucional.gov.co/sentenc...\n",
       "\n",
       "[5164 rows x 3 columns]"
      ]
     },
     "execution_count": 7,
     "metadata": {
      "tags": []
     },
     "output_type": "execute_result"
    }
   ],
   "source": [
    "data"
   ]
  },
  {
   "cell_type": "code",
   "execution_count": 9,
   "id": "collective-hundred",
   "metadata": {
    "executionInfo": {
     "elapsed": 494,
     "status": "ok",
     "timestamp": 1618100522670,
     "user": {
      "displayName": "Cristian Cristancho",
      "photoUrl": "https://lh3.googleusercontent.com/a-/AOh14Gg8pIl0V_AaKknYqxYKaqtY229xAnEwl2aKBp-rAA=s64",
      "userId": "06929284856658854847"
     },
     "user_tz": 300
    },
    "id": "aerial-staff"
   },
   "outputs": [],
   "source": [
    "file_name = '/content/drive/My Drive/LINKS_3.csv'\n",
    "data.to_csv(file_name, encoding='utf-8', index= False)"
   ]
  }
 ],
 "metadata": {
  "colab": {
   "name": "LINK_3.ipynb",
   "provenance": []
  },
  "kernelspec": {
   "display_name": "Python 3",
   "language": "python",
   "name": "python3"
  },
  "language_info": {
   "codemirror_mode": {
    "name": "ipython",
    "version": 3
   },
   "file_extension": ".py",
   "mimetype": "text/x-python",
   "name": "python",
   "nbconvert_exporter": "python",
   "pygments_lexer": "ipython3",
   "version": "3.8.8"
  }
 },
 "nbformat": 4,
 "nbformat_minor": 5
}
