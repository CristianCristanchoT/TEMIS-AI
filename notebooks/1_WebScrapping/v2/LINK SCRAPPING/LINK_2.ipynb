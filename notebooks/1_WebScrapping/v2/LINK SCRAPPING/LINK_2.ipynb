{
 "cells": [
  {
   "cell_type": "code",
   "execution_count": 1,
   "id": "sharing-least",
   "metadata": {
    "executionInfo": {
     "elapsed": 1088,
     "status": "ok",
     "timestamp": 1618090465034,
     "user": {
      "displayName": "Cristian Cristancho",
      "photoUrl": "https://lh3.googleusercontent.com/a-/AOh14Gg8pIl0V_AaKknYqxYKaqtY229xAnEwl2aKBp-rAA=s64",
      "userId": "06929284856658854847"
     },
     "user_tz": 300
    },
    "id": "continuous-chess"
   },
   "outputs": [],
   "source": [
    "from bs4 import BeautifulSoup\n",
    "import requests\n",
    "import pandas as pd\n",
    "from tqdm import tqdm \n",
    "from tqdm import trange\n",
    "import time\n",
    "import re"
   ]
  },
  {
   "cell_type": "code",
   "execution_count": 2,
   "id": "italic-warner",
   "metadata": {
    "colab": {
     "base_uri": "https://localhost:8080/"
    },
    "executionInfo": {
     "elapsed": 19870,
     "status": "ok",
     "timestamp": 1618090490663,
     "user": {
      "displayName": "Cristian Cristancho",
      "photoUrl": "https://lh3.googleusercontent.com/a-/AOh14Gg8pIl0V_AaKknYqxYKaqtY229xAnEwl2aKBp-rAA=s64",
      "userId": "06929284856658854847"
     },
     "user_tz": 300
    },
    "id": "-yoEauLptSFq",
    "outputId": "c8be7942-ae95-4e09-9197-4cd5dda04684"
   },
   "outputs": [
    {
     "name": "stdout",
     "output_type": "stream",
     "text": [
      "Mounted at /content/drive\n"
     ]
    }
   ],
   "source": [
    "from google.colab import drive\n",
    "drive.mount('/content/drive')"
   ]
  },
  {
   "cell_type": "code",
   "execution_count": 3,
   "id": "contemporary-copying",
   "metadata": {
    "executionInfo": {
     "elapsed": 848,
     "status": "ok",
     "timestamp": 1618090499773,
     "user": {
      "displayName": "Cristian Cristancho",
      "photoUrl": "https://lh3.googleusercontent.com/a-/AOh14Gg8pIl0V_AaKknYqxYKaqtY229xAnEwl2aKBp-rAA=s64",
      "userId": "06929284856658854847"
     },
     "user_tz": 300
    },
    "id": "sudden-walter"
   },
   "outputs": [],
   "source": [
    "data = pd.DataFrame(columns=['INDEX','LINK','LINK_RTF'])"
   ]
  },
  {
   "cell_type": "code",
   "execution_count": 4,
   "id": "guided-processing",
   "metadata": {
    "executionInfo": {
     "elapsed": 639,
     "status": "ok",
     "timestamp": 1618090505381,
     "user": {
      "displayName": "Cristian Cristancho",
      "photoUrl": "https://lh3.googleusercontent.com/a-/AOh14Gg8pIl0V_AaKknYqxYKaqtY229xAnEwl2aKBp-rAA=s64",
      "userId": "06929284856658854847"
     },
     "user_tz": 300
    },
    "id": "collective-terminology"
   },
   "outputs": [],
   "source": [
    "root_url = 'https://www.corteconstitucional.gov.co'"
   ]
  },
  {
   "cell_type": "code",
   "execution_count": 6,
   "id": "flush-nitrogen",
   "metadata": {
    "colab": {
     "base_uri": "https://localhost:8080/"
    },
    "executionInfo": {
     "elapsed": 7902230,
     "status": "ok",
     "timestamp": 1618098540120,
     "user": {
      "displayName": "Cristian Cristancho",
      "photoUrl": "https://lh3.googleusercontent.com/a-/AOh14Gg8pIl0V_AaKknYqxYKaqtY229xAnEwl2aKBp-rAA=s64",
      "userId": "06929284856658854847"
     },
     "user_tz": 300
    },
    "id": "grand-acceptance",
    "outputId": "5354937c-fe18-400d-c3d5-59b6c7641391"
   },
   "outputs": [
    {
     "name": "stderr",
     "output_type": "stream",
     "text": [
      "\n",
      "  0%|          | 0/51 [00:00<?, ?it/s]\u001b[A\n",
      "  2%|▏         | 1/51 [02:08<1:47:18, 128.78s/it]\u001b[A\n",
      "  4%|▍         | 2/51 [04:17<1:45:04, 128.66s/it]\u001b[A\n",
      "  6%|▌         | 3/51 [06:14<1:40:17, 125.36s/it]\u001b[A\n",
      "  8%|▊         | 4/51 [08:10<1:35:50, 122.36s/it]\u001b[A\n",
      " 10%|▉         | 5/51 [10:10<1:33:18, 121.71s/it]\u001b[A\n",
      " 12%|█▏        | 6/51 [12:12<1:31:18, 121.76s/it]\u001b[A\n",
      " 14%|█▎        | 7/51 [14:08<1:28:10, 120.23s/it]\u001b[A\n",
      " 16%|█▌        | 8/51 [16:08<1:26:06, 120.15s/it]\u001b[A\n",
      " 18%|█▊        | 9/51 [18:27<1:27:55, 125.62s/it]\u001b[A\n",
      " 20%|█▉        | 10/51 [20:37<1:26:41, 126.86s/it]\u001b[A\n",
      " 22%|██▏       | 11/51 [23:00<1:27:51, 131.78s/it]\u001b[A\n",
      " 24%|██▎       | 12/51 [25:01<1:23:32, 128.52s/it]\u001b[A\n",
      " 25%|██▌       | 13/51 [27:00<1:19:38, 125.75s/it]\u001b[A\n",
      " 27%|██▋       | 14/51 [29:04<1:17:14, 125.26s/it]\u001b[A\n",
      " 29%|██▉       | 15/51 [31:05<1:14:19, 123.87s/it]\u001b[A\n",
      " 31%|███▏      | 16/51 [33:18<1:13:53, 126.66s/it]\u001b[A\n",
      " 33%|███▎      | 17/51 [35:18<1:10:36, 124.61s/it]\u001b[A\n",
      " 35%|███▌      | 18/51 [37:14<1:07:06, 122.00s/it]\u001b[A\n",
      " 37%|███▋      | 19/51 [39:02<1:02:51, 117.85s/it]\u001b[A\n",
      " 39%|███▉      | 20/51 [41:00<1:00:59, 118.06s/it]\u001b[A\n",
      " 41%|████      | 21/51 [42:55<58:28, 116.94s/it]  \u001b[A\n",
      " 43%|████▎     | 22/51 [44:46<55:46, 115.38s/it]\u001b[A\n",
      " 45%|████▌     | 23/51 [46:40<53:33, 114.76s/it]\u001b[A\n",
      " 47%|████▋     | 24/51 [48:29<50:51, 113.03s/it]\u001b[A\n",
      " 49%|████▉     | 25/51 [50:18<48:28, 111.85s/it]\u001b[A\n",
      " 51%|█████     | 26/51 [52:01<45:29, 109.16s/it]\u001b[A\n",
      " 53%|█████▎    | 27/51 [53:40<42:30, 106.28s/it]\u001b[A"
     ]
    },
    {
     "name": "stdout",
     "output_type": "stream",
     "text": [
      "Error!: HTTPSConnectionPool(host='www.corteconstitucional.gov.co', port=443): Max retries exceeded with url: /Relatoria/autos/2002/A194-02.htm (Caused by NewConnectionError('<urllib3.connection.VerifiedHTTPSConnection object at 0x7f30aad7f8d0>: Failed to establish a new connection: [Errno 110] Connection timed out'))\n",
      "Problema en: https://www.corteconstitucional.gov.co/Relatoria/autos/2002/A194-02.htm\n",
      "Pagina: https://www.corteconstitucional.gov.co/relatoria/providencia.aspx?pg=78&buscar=&anio=&total=35718\n",
      "Etapa:78\n",
      "******************************\n"
     ]
    },
    {
     "name": "stderr",
     "output_type": "stream",
     "text": [
      "\n",
      " 55%|█████▍    | 28/51 [55:52<43:40, 113.95s/it]\u001b[A\n",
      " 57%|█████▋    | 29/51 [57:36<40:43, 111.07s/it]\u001b[A\n",
      " 59%|█████▉    | 30/51 [59:25<38:38, 110.39s/it]\u001b[A\n",
      " 61%|██████    | 31/51 [1:01:11<36:19, 108.98s/it]\u001b[A\n",
      " 63%|██████▎   | 32/51 [1:02:52<33:44, 106.55s/it]\u001b[A\n",
      " 65%|██████▍   | 33/51 [1:04:33<31:27, 104.86s/it]\u001b[A\n",
      " 67%|██████▋   | 34/51 [1:06:14<29:21, 103.63s/it]\u001b[A\n",
      " 69%|██████▊   | 35/51 [1:07:53<27:17, 102.34s/it]\u001b[A\n",
      " 71%|███████   | 36/51 [1:09:31<25:14, 100.97s/it]\u001b[A\n",
      " 73%|███████▎  | 37/51 [1:11:10<23:27, 100.52s/it]\u001b[A\n",
      " 75%|███████▍  | 38/51 [1:12:51<21:48, 100.63s/it]\u001b[A\n",
      " 76%|███████▋  | 39/51 [1:14:33<20:12, 101.07s/it]\u001b[A\n",
      " 78%|███████▊  | 40/51 [1:16:32<19:31, 106.50s/it]\u001b[A"
     ]
    },
    {
     "name": "stdout",
     "output_type": "stream",
     "text": [
      "Error!: 'href'\n",
      "Problema en: https://www.corteconstitucional.gov.co/Relatoria/2020/T-373-20.htm\n",
      "Pagina: https://www.corteconstitucional.gov.co/relatoria/providencia.aspx?pg=91&buscar=&anio=&total=35718\n",
      "Etapa:91\n",
      "******************************\n"
     ]
    },
    {
     "name": "stderr",
     "output_type": "stream",
     "text": [
      "\n",
      " 80%|████████  | 41/51 [1:21:00<25:47, 154.78s/it]\u001b[A\n",
      " 82%|████████▏ | 42/51 [1:25:05<27:16, 181.86s/it]\u001b[A"
     ]
    },
    {
     "name": "stdout",
     "output_type": "stream",
     "text": [
      "Error!: 'NoneType' object is not subscriptable\n",
      "Problema en: https://www.corteconstitucional.gov.co/Relatoria/2020/T-067-20.htm\n",
      "Pagina: https://www.corteconstitucional.gov.co/relatoria/providencia.aspx?pg=93&buscar=&anio=&total=35718\n",
      "Etapa:93\n",
      "******************************\n"
     ]
    },
    {
     "name": "stderr",
     "output_type": "stream",
     "text": [
      "\n",
      " 84%|████████▍ | 43/51 [1:30:15<29:23, 220.46s/it]\u001b[A\n",
      " 86%|████████▋ | 44/51 [1:37:03<32:15, 276.56s/it]\u001b[A\n",
      " 88%|████████▊ | 45/51 [1:42:42<29:32, 295.50s/it]\u001b[A\n",
      " 90%|█████████ | 46/51 [1:47:04<23:47, 285.47s/it]\u001b[A\n",
      " 92%|█████████▏| 47/51 [1:51:34<18:42, 280.65s/it]\u001b[A\n",
      " 94%|█████████▍| 48/51 [1:56:07<13:55, 278.48s/it]\u001b[A\n",
      " 96%|█████████▌| 49/51 [2:01:19<09:36, 288.38s/it]\u001b[A\n",
      " 98%|█████████▊| 50/51 [2:06:19<04:51, 291.92s/it]\u001b[A\n",
      "100%|██████████| 51/51 [2:11:41<00:00, 154.93s/it]\n"
     ]
    }
   ],
   "source": [
    "for i in tqdm(range(51,102)):\n",
    "    \n",
    "    try:\n",
    "        page_url = '/relatoria/providencia.aspx?pg='+ str(i) +'&buscar=&anio=&total=35718'\n",
    "        main_url = root_url + page_url\n",
    "\n",
    "        main_html_text = requests.get(main_url).text\n",
    "        main_soup = BeautifulSoup(main_html_text, 'lxml')\n",
    "\n",
    "        docs = main_soup.find_all('div', class_ = 'grow')\n",
    "\n",
    "        for doc in docs:\n",
    "            \n",
    "            \n",
    "            doc_link = doc.find('a')['href']\n",
    "\n",
    "            inner_doc_url = root_url + doc_link\n",
    "            \n",
    "            try:\n",
    "                \n",
    "                html_inner_doc = requests.get(inner_doc_url).text\n",
    "                inner_doc_soup = BeautifulSoup(html_inner_doc, 'lxml')\n",
    "                doc_index = doc.find('a').text\n",
    "                doc_rtf_link = root_url + (inner_doc_soup.find('a')['href'])\n",
    "\n",
    "                new_row = {'INDEX':doc_index,'LINK':inner_doc_url,'LINK_RTF':doc_rtf_link}\n",
    "                data = data.append(new_row, ignore_index=True)\n",
    "            \n",
    "            except Exception as e:\n",
    "                \n",
    "                print(\"Error!: \" + str(e))\n",
    "                print('Problema en: '+ inner_doc_url)\n",
    "                print('Pagina: ' + main_url)\n",
    "                print('Etapa:' + str(i))\n",
    "                print('*'*30)\n",
    "            \n",
    "\n",
    "    except Exception as e:\n",
    "        print(\"Error!: \" + str(e))"
   ]
  },
  {
   "cell_type": "code",
   "execution_count": 7,
   "id": "separate-cheese",
   "metadata": {
    "colab": {
     "base_uri": "https://localhost:8080/",
     "height": 419
    },
    "executionInfo": {
     "elapsed": 7897760,
     "status": "ok",
     "timestamp": 1618098540123,
     "user": {
      "displayName": "Cristian Cristancho",
      "photoUrl": "https://lh3.googleusercontent.com/a-/AOh14Gg8pIl0V_AaKknYqxYKaqtY229xAnEwl2aKBp-rAA=s64",
      "userId": "06929284856658854847"
     },
     "user_tz": 300
    },
    "id": "hairy-nudist",
    "outputId": "1239e813-1c62-4a71-e9b3-fa8226b46419"
   },
   "outputs": [
    {
     "data": {
      "text/html": [
       "<div>\n",
       "<style scoped>\n",
       "    .dataframe tbody tr th:only-of-type {\n",
       "        vertical-align: middle;\n",
       "    }\n",
       "\n",
       "    .dataframe tbody tr th {\n",
       "        vertical-align: top;\n",
       "    }\n",
       "\n",
       "    .dataframe thead th {\n",
       "        text-align: right;\n",
       "    }\n",
       "</style>\n",
       "<table border=\"1\" class=\"dataframe\">\n",
       "  <thead>\n",
       "    <tr style=\"text-align: right;\">\n",
       "      <th></th>\n",
       "      <th>INDEX</th>\n",
       "      <th>LINK</th>\n",
       "      <th>LINK_RTF</th>\n",
       "    </tr>\n",
       "  </thead>\n",
       "  <tbody>\n",
       "    <tr>\n",
       "      <th>0</th>\n",
       "      <td>A123-21</td>\n",
       "      <td>https://www.corteconstitucional.gov.co/Relator...</td>\n",
       "      <td>https://www.corteconstitucional.gov.co/sentenc...</td>\n",
       "    </tr>\n",
       "    <tr>\n",
       "      <th>1</th>\n",
       "      <td>A121-21</td>\n",
       "      <td>https://www.corteconstitucional.gov.co/Relator...</td>\n",
       "      <td>https://www.corteconstitucional.gov.co/sentenc...</td>\n",
       "    </tr>\n",
       "    <tr>\n",
       "      <th>2</th>\n",
       "      <td>A115-21</td>\n",
       "      <td>https://www.corteconstitucional.gov.co/Relator...</td>\n",
       "      <td>https://www.corteconstitucional.gov.co/sentenc...</td>\n",
       "    </tr>\n",
       "    <tr>\n",
       "      <th>3</th>\n",
       "      <td>A107-21</td>\n",
       "      <td>https://www.corteconstitucional.gov.co/Relator...</td>\n",
       "      <td>https://www.corteconstitucional.gov.co/sentenc...</td>\n",
       "    </tr>\n",
       "    <tr>\n",
       "      <th>4</th>\n",
       "      <td>A106-21</td>\n",
       "      <td>https://www.corteconstitucional.gov.co/Relator...</td>\n",
       "      <td>https://www.corteconstitucional.gov.co/sentenc...</td>\n",
       "    </tr>\n",
       "    <tr>\n",
       "      <th>...</th>\n",
       "      <td>...</td>\n",
       "      <td>...</td>\n",
       "      <td>...</td>\n",
       "    </tr>\n",
       "    <tr>\n",
       "      <th>5213</th>\n",
       "      <td>C-135-19</td>\n",
       "      <td>https://www.corteconstitucional.gov.co/Relator...</td>\n",
       "      <td>https://www.corteconstitucional.gov.co/sentenc...</td>\n",
       "    </tr>\n",
       "    <tr>\n",
       "      <th>5214</th>\n",
       "      <td>C-135-18</td>\n",
       "      <td>https://www.corteconstitucional.gov.co/Relator...</td>\n",
       "      <td>https://www.corteconstitucional.gov.co/sentenc...</td>\n",
       "    </tr>\n",
       "    <tr>\n",
       "      <th>5215</th>\n",
       "      <td>C-134-19</td>\n",
       "      <td>https://www.corteconstitucional.gov.co/Relator...</td>\n",
       "      <td>https://www.corteconstitucional.gov.co/sentenc...</td>\n",
       "    </tr>\n",
       "    <tr>\n",
       "      <th>5216</th>\n",
       "      <td>C-133-19</td>\n",
       "      <td>https://www.corteconstitucional.gov.co/Relator...</td>\n",
       "      <td>https://www.corteconstitucional.gov.co/sentenc...</td>\n",
       "    </tr>\n",
       "    <tr>\n",
       "      <th>5217</th>\n",
       "      <td>C-128-19</td>\n",
       "      <td>https://www.corteconstitucional.gov.co/Relator...</td>\n",
       "      <td>https://www.corteconstitucional.gov.co/sentenc...</td>\n",
       "    </tr>\n",
       "  </tbody>\n",
       "</table>\n",
       "<p>5218 rows × 3 columns</p>\n",
       "</div>"
      ],
      "text/plain": [
       "          INDEX  ...                                           LINK_RTF\n",
       "0       A123-21  ...  https://www.corteconstitucional.gov.co/sentenc...\n",
       "1       A121-21  ...  https://www.corteconstitucional.gov.co/sentenc...\n",
       "2       A115-21  ...  https://www.corteconstitucional.gov.co/sentenc...\n",
       "3       A107-21  ...  https://www.corteconstitucional.gov.co/sentenc...\n",
       "4       A106-21  ...  https://www.corteconstitucional.gov.co/sentenc...\n",
       "...         ...  ...                                                ...\n",
       "5213   C-135-19  ...  https://www.corteconstitucional.gov.co/sentenc...\n",
       "5214   C-135-18  ...  https://www.corteconstitucional.gov.co/sentenc...\n",
       "5215   C-134-19  ...  https://www.corteconstitucional.gov.co/sentenc...\n",
       "5216   C-133-19  ...  https://www.corteconstitucional.gov.co/sentenc...\n",
       "5217   C-128-19  ...  https://www.corteconstitucional.gov.co/sentenc...\n",
       "\n",
       "[5218 rows x 3 columns]"
      ]
     },
     "execution_count": 7,
     "metadata": {
      "tags": []
     },
     "output_type": "execute_result"
    }
   ],
   "source": [
    "data"
   ]
  },
  {
   "cell_type": "code",
   "execution_count": 9,
   "id": "beautiful-trustee",
   "metadata": {
    "executionInfo": {
     "elapsed": 661,
     "status": "ok",
     "timestamp": 1618098607284,
     "user": {
      "displayName": "Cristian Cristancho",
      "photoUrl": "https://lh3.googleusercontent.com/a-/AOh14Gg8pIl0V_AaKknYqxYKaqtY229xAnEwl2aKBp-rAA=s64",
      "userId": "06929284856658854847"
     },
     "user_tz": 300
    },
    "id": "worth-container"
   },
   "outputs": [],
   "source": [
    "file_name = '/content/drive/My Drive/LINKS_2.csv'\n",
    "data.to_csv(file_name, encoding='utf-8', index= False)"
   ]
  }
 ],
 "metadata": {
  "colab": {
   "name": "LINK_2.ipynb",
   "provenance": []
  },
  "kernelspec": {
   "display_name": "Python 3",
   "language": "python",
   "name": "python3"
  },
  "language_info": {
   "codemirror_mode": {
    "name": "ipython",
    "version": 3
   },
   "file_extension": ".py",
   "mimetype": "text/x-python",
   "name": "python",
   "nbconvert_exporter": "python",
   "pygments_lexer": "ipython3",
   "version": "3.8.8"
  }
 },
 "nbformat": 4,
 "nbformat_minor": 5
}
