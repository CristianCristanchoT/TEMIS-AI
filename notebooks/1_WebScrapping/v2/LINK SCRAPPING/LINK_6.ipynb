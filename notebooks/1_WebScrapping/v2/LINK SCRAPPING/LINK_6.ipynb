{
 "cells": [
  {
   "cell_type": "code",
   "execution_count": 1,
   "id": "loving-antique",
   "metadata": {
    "executionInfo": {
     "elapsed": 583,
     "status": "ok",
     "timestamp": 1618093976197,
     "user": {
      "displayName": "Cristian Cristancho",
      "photoUrl": "https://lh3.googleusercontent.com/a-/AOh14Gg8pIl0V_AaKknYqxYKaqtY229xAnEwl2aKBp-rAA=s64",
      "userId": "06929284856658854847"
     },
     "user_tz": 300
    },
    "id": "pressing-elite"
   },
   "outputs": [],
   "source": [
    "from bs4 import BeautifulSoup\n",
    "import requests\n",
    "import pandas as pd\n",
    "from tqdm import tqdm \n",
    "from tqdm import trange\n",
    "import time\n",
    "import re"
   ]
  },
  {
   "cell_type": "code",
   "execution_count": 2,
   "id": "regular-psychology",
   "metadata": {
    "colab": {
     "base_uri": "https://localhost:8080/"
    },
    "executionInfo": {
     "elapsed": 19563,
     "status": "ok",
     "timestamp": 1618094004104,
     "user": {
      "displayName": "Cristian Cristancho",
      "photoUrl": "https://lh3.googleusercontent.com/a-/AOh14Gg8pIl0V_AaKknYqxYKaqtY229xAnEwl2aKBp-rAA=s64",
      "userId": "06929284856658854847"
     },
     "user_tz": 300
    },
    "id": "5B2dHt_86sWm",
    "outputId": "9499ab5f-4f31-4a71-dffd-dfecdd217725"
   },
   "outputs": [
    {
     "name": "stdout",
     "output_type": "stream",
     "text": [
      "Mounted at /content/drive\n"
     ]
    }
   ],
   "source": [
    "from google.colab import drive\n",
    "drive.mount('/content/drive')"
   ]
  },
  {
   "cell_type": "code",
   "execution_count": 3,
   "id": "economic-grave",
   "metadata": {
    "executionInfo": {
     "elapsed": 413,
     "status": "ok",
     "timestamp": 1618094005722,
     "user": {
      "displayName": "Cristian Cristancho",
      "photoUrl": "https://lh3.googleusercontent.com/a-/AOh14Gg8pIl0V_AaKknYqxYKaqtY229xAnEwl2aKBp-rAA=s64",
      "userId": "06929284856658854847"
     },
     "user_tz": 300
    },
    "id": "narrow-spring"
   },
   "outputs": [],
   "source": [
    "data = pd.DataFrame(columns=['INDEX','LINK','LINK_RTF'])"
   ]
  },
  {
   "cell_type": "code",
   "execution_count": 4,
   "id": "unlikely-essence",
   "metadata": {
    "executionInfo": {
     "elapsed": 645,
     "status": "ok",
     "timestamp": 1618094006945,
     "user": {
      "displayName": "Cristian Cristancho",
      "photoUrl": "https://lh3.googleusercontent.com/a-/AOh14Gg8pIl0V_AaKknYqxYKaqtY229xAnEwl2aKBp-rAA=s64",
      "userId": "06929284856658854847"
     },
     "user_tz": 300
    },
    "id": "opposite-strengthening"
   },
   "outputs": [],
   "source": [
    "root_url = 'https://www.corteconstitucional.gov.co'"
   ]
  },
  {
   "cell_type": "code",
   "execution_count": 5,
   "id": "alpine-three",
   "metadata": {
    "colab": {
     "base_uri": "https://localhost:8080/"
    },
    "executionInfo": {
     "elapsed": 5464002,
     "status": "ok",
     "timestamp": 1618099471566,
     "user": {
      "displayName": "Cristian Cristancho",
      "photoUrl": "https://lh3.googleusercontent.com/a-/AOh14Gg8pIl0V_AaKknYqxYKaqtY229xAnEwl2aKBp-rAA=s64",
      "userId": "06929284856658854847"
     },
     "user_tz": 300
    },
    "id": "caroline-pioneer",
    "outputId": "3ae5d820-bfa7-43dd-830e-cabe1837e7a6"
   },
   "outputs": [
    {
     "name": "stderr",
     "output_type": "stream",
     "text": [
      " 94%|█████████▍| 48/51 [1:24:41<05:23, 107.71s/it]"
     ]
    },
    {
     "name": "stdout",
     "output_type": "stream",
     "text": [
      "Error!: HTTPSConnectionPool(host='www.corteconstitucional.gov.co', port=443): Max retries exceeded with url: /Relatoria/2000/C-991-00.htm (Caused by NewConnectionError('<urllib3.connection.VerifiedHTTPSConnection object at 0x7f8c96e54450>: Failed to establish a new connection: [Errno 110] Connection timed out'))\n",
      "Problema en: https://www.corteconstitucional.gov.co/Relatoria/2000/C-991-00.htm\n",
      "Pagina: https://www.corteconstitucional.gov.co/relatoria/providencia.aspx?pg=303&buscar=&anio=&total=35718\n",
      "Etapa:303\n",
      "******************************\n"
     ]
    },
    {
     "name": "stderr",
     "output_type": "stream",
     "text": [
      "100%|██████████| 51/51 [1:31:03<00:00, 107.13s/it]\n"
     ]
    }
   ],
   "source": [
    "for i in tqdm(range(255,306)):\n",
    "    \n",
    "    try:\n",
    "        page_url = '/relatoria/providencia.aspx?pg='+ str(i) +'&buscar=&anio=&total=35718'\n",
    "        main_url = root_url + page_url\n",
    "\n",
    "        main_html_text = requests.get(main_url).text\n",
    "        main_soup = BeautifulSoup(main_html_text, 'lxml')\n",
    "\n",
    "        docs = main_soup.find_all('div', class_ = 'grow')\n",
    "\n",
    "        for doc in docs:\n",
    "            \n",
    "            \n",
    "            doc_link = doc.find('a')['href']\n",
    "\n",
    "            inner_doc_url = root_url + doc_link\n",
    "            \n",
    "            try:\n",
    "                \n",
    "                html_inner_doc = requests.get(inner_doc_url).text\n",
    "                inner_doc_soup = BeautifulSoup(html_inner_doc, 'lxml')\n",
    "                doc_index = doc.find('a').text\n",
    "                doc_rtf_link = root_url + (inner_doc_soup.find('a')['href'])\n",
    "\n",
    "                new_row = {'INDEX':doc_index,'LINK':inner_doc_url,'LINK_RTF':doc_rtf_link}\n",
    "                data = data.append(new_row, ignore_index=True)\n",
    "            \n",
    "            except Exception as e:\n",
    "                \n",
    "                print(\"Error!: \" + str(e))\n",
    "                print('Problema en: '+ inner_doc_url)\n",
    "                print('Pagina: ' + main_url)\n",
    "                print('Etapa:' + str(i))\n",
    "                print('*'*30)\n",
    "            \n",
    "\n",
    "    except Exception as e:\n",
    "        print(\"Error!: \" + str(e))"
   ]
  },
  {
   "cell_type": "code",
   "execution_count": 6,
   "id": "union-austin",
   "metadata": {
    "colab": {
     "base_uri": "https://localhost:8080/",
     "height": 419
    },
    "executionInfo": {
     "elapsed": 640,
     "status": "ok",
     "timestamp": 1618099472227,
     "user": {
      "displayName": "Cristian Cristancho",
      "photoUrl": "https://lh3.googleusercontent.com/a-/AOh14Gg8pIl0V_AaKknYqxYKaqtY229xAnEwl2aKBp-rAA=s64",
      "userId": "06929284856658854847"
     },
     "user_tz": 300
    },
    "id": "suburban-binding",
    "outputId": "bde27d3d-de38-4488-a197-0adcfa9b057c"
   },
   "outputs": [
    {
     "data": {
      "text/html": [
       "<div>\n",
       "<style scoped>\n",
       "    .dataframe tbody tr th:only-of-type {\n",
       "        vertical-align: middle;\n",
       "    }\n",
       "\n",
       "    .dataframe tbody tr th {\n",
       "        vertical-align: top;\n",
       "    }\n",
       "\n",
       "    .dataframe thead th {\n",
       "        text-align: right;\n",
       "    }\n",
       "</style>\n",
       "<table border=\"1\" class=\"dataframe\">\n",
       "  <thead>\n",
       "    <tr style=\"text-align: right;\">\n",
       "      <th></th>\n",
       "      <th>INDEX</th>\n",
       "      <th>LINK</th>\n",
       "      <th>LINK_RTF</th>\n",
       "    </tr>\n",
       "  </thead>\n",
       "  <tbody>\n",
       "    <tr>\n",
       "      <th>0</th>\n",
       "      <td>T-683-03</td>\n",
       "      <td>https://www.corteconstitucional.gov.co/Relator...</td>\n",
       "      <td>https://www.corteconstitucional.gov.co/sentenc...</td>\n",
       "    </tr>\n",
       "    <tr>\n",
       "      <th>1</th>\n",
       "      <td>T-682-03</td>\n",
       "      <td>https://www.corteconstitucional.gov.co/Relator...</td>\n",
       "      <td>https://www.corteconstitucional.gov.co/sentenc...</td>\n",
       "    </tr>\n",
       "    <tr>\n",
       "      <th>2</th>\n",
       "      <td>T-680-03</td>\n",
       "      <td>https://www.corteconstitucional.gov.co/Relator...</td>\n",
       "      <td>https://www.corteconstitucional.gov.co/sentenc...</td>\n",
       "    </tr>\n",
       "    <tr>\n",
       "      <th>3</th>\n",
       "      <td>T-679-03</td>\n",
       "      <td>https://www.corteconstitucional.gov.co/Relator...</td>\n",
       "      <td>https://www.corteconstitucional.gov.co/sentenc...</td>\n",
       "    </tr>\n",
       "    <tr>\n",
       "      <th>4</th>\n",
       "      <td>T-678-03</td>\n",
       "      <td>https://www.corteconstitucional.gov.co/Relator...</td>\n",
       "      <td>https://www.corteconstitucional.gov.co/sentenc...</td>\n",
       "    </tr>\n",
       "    <tr>\n",
       "      <th>...</th>\n",
       "      <td>...</td>\n",
       "      <td>...</td>\n",
       "      <td>...</td>\n",
       "    </tr>\n",
       "    <tr>\n",
       "      <th>5145</th>\n",
       "      <td>T-902-99</td>\n",
       "      <td>https://www.corteconstitucional.gov.co/Relator...</td>\n",
       "      <td>https://www.corteconstitucional.gov.co/sentenc...</td>\n",
       "    </tr>\n",
       "    <tr>\n",
       "      <th>5146</th>\n",
       "      <td>T-901-99</td>\n",
       "      <td>https://www.corteconstitucional.gov.co/Relator...</td>\n",
       "      <td>https://www.corteconstitucional.gov.co/sentenc...</td>\n",
       "    </tr>\n",
       "    <tr>\n",
       "      <th>5147</th>\n",
       "      <td>T-900-99</td>\n",
       "      <td>https://www.corteconstitucional.gov.co/Relator...</td>\n",
       "      <td>https://www.corteconstitucional.gov.co/sentenc...</td>\n",
       "    </tr>\n",
       "    <tr>\n",
       "      <th>5148</th>\n",
       "      <td>T-899-99</td>\n",
       "      <td>https://www.corteconstitucional.gov.co/Relator...</td>\n",
       "      <td>https://www.corteconstitucional.gov.co/sentenc...</td>\n",
       "    </tr>\n",
       "    <tr>\n",
       "      <th>5149</th>\n",
       "      <td>T-898-99</td>\n",
       "      <td>https://www.corteconstitucional.gov.co/Relator...</td>\n",
       "      <td>https://www.corteconstitucional.gov.co/sentenc...</td>\n",
       "    </tr>\n",
       "  </tbody>\n",
       "</table>\n",
       "<p>5150 rows × 3 columns</p>\n",
       "</div>"
      ],
      "text/plain": [
       "          INDEX  ...                                           LINK_RTF\n",
       "0      T-683-03  ...  https://www.corteconstitucional.gov.co/sentenc...\n",
       "1      T-682-03  ...  https://www.corteconstitucional.gov.co/sentenc...\n",
       "2      T-680-03  ...  https://www.corteconstitucional.gov.co/sentenc...\n",
       "3      T-679-03  ...  https://www.corteconstitucional.gov.co/sentenc...\n",
       "4      T-678-03  ...  https://www.corteconstitucional.gov.co/sentenc...\n",
       "...         ...  ...                                                ...\n",
       "5145   T-902-99  ...  https://www.corteconstitucional.gov.co/sentenc...\n",
       "5146   T-901-99  ...  https://www.corteconstitucional.gov.co/sentenc...\n",
       "5147   T-900-99  ...  https://www.corteconstitucional.gov.co/sentenc...\n",
       "5148   T-899-99  ...  https://www.corteconstitucional.gov.co/sentenc...\n",
       "5149   T-898-99  ...  https://www.corteconstitucional.gov.co/sentenc...\n",
       "\n",
       "[5150 rows x 3 columns]"
      ]
     },
     "execution_count": 6,
     "metadata": {
      "tags": []
     },
     "output_type": "execute_result"
    }
   ],
   "source": [
    "data"
   ]
  },
  {
   "cell_type": "code",
   "execution_count": 7,
   "id": "blind-timeline",
   "metadata": {
    "executionInfo": {
     "elapsed": 631,
     "status": "ok",
     "timestamp": 1618099472229,
     "user": {
      "displayName": "Cristian Cristancho",
      "photoUrl": "https://lh3.googleusercontent.com/a-/AOh14Gg8pIl0V_AaKknYqxYKaqtY229xAnEwl2aKBp-rAA=s64",
      "userId": "06929284856658854847"
     },
     "user_tz": 300
    },
    "id": "palestinian-audience"
   },
   "outputs": [],
   "source": [
    "file_name = '/content/drive/My Drive/LINKS_6.csv'\n",
    "data.to_csv(file_name, encoding='utf-8', index= False)"
   ]
  }
 ],
 "metadata": {
  "colab": {
   "name": "LINK_6.ipynb",
   "provenance": []
  },
  "kernelspec": {
   "display_name": "Python 3",
   "language": "python",
   "name": "python3"
  },
  "language_info": {
   "codemirror_mode": {
    "name": "ipython",
    "version": 3
   },
   "file_extension": ".py",
   "mimetype": "text/x-python",
   "name": "python",
   "nbconvert_exporter": "python",
   "pygments_lexer": "ipython3",
   "version": "3.8.8"
  }
 },
 "nbformat": 4,
 "nbformat_minor": 5
}
