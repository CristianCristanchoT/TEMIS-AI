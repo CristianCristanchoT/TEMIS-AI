{
 "cells": [
  {
   "cell_type": "code",
   "execution_count": 1,
   "id": "conservative-steam",
   "metadata": {},
   "outputs": [],
   "source": [
    "import requests\n",
    "import pandas as pd\n",
    "from tqdm import tqdm \n",
    "from tqdm import trange\n",
    "import time\n",
    "import io"
   ]
  },
  {
   "cell_type": "code",
   "execution_count": 2,
   "id": "fallen-encounter",
   "metadata": {},
   "outputs": [],
   "source": [
    "root_csv = ''\n",
    "LINKS = pd.read_csv(root_csv +'LINKS_3.csv') "
   ]
  },
  {
   "cell_type": "code",
   "execution_count": 3,
   "id": "certified-return",
   "metadata": {},
   "outputs": [
    {
     "data": {
      "text/html": [
       "<div>\n",
       "<style scoped>\n",
       "    .dataframe tbody tr th:only-of-type {\n",
       "        vertical-align: middle;\n",
       "    }\n",
       "\n",
       "    .dataframe tbody tr th {\n",
       "        vertical-align: top;\n",
       "    }\n",
       "\n",
       "    .dataframe thead th {\n",
       "        text-align: right;\n",
       "    }\n",
       "</style>\n",
       "<table border=\"1\" class=\"dataframe\">\n",
       "  <thead>\n",
       "    <tr style=\"text-align: right;\">\n",
       "      <th></th>\n",
       "      <th>INDEX</th>\n",
       "      <th>LINK</th>\n",
       "      <th>LINK_RTF</th>\n",
       "    </tr>\n",
       "  </thead>\n",
       "  <tbody>\n",
       "    <tr>\n",
       "      <th>0</th>\n",
       "      <td>A123-21</td>\n",
       "      <td>https://www.corteconstitucional.gov.co/Relator...</td>\n",
       "      <td>https://www.corteconstitucional.gov.co/sentenc...</td>\n",
       "    </tr>\n",
       "    <tr>\n",
       "      <th>1</th>\n",
       "      <td>A121-21</td>\n",
       "      <td>https://www.corteconstitucional.gov.co/Relator...</td>\n",
       "      <td>https://www.corteconstitucional.gov.co/sentenc...</td>\n",
       "    </tr>\n",
       "    <tr>\n",
       "      <th>2</th>\n",
       "      <td>A115-21</td>\n",
       "      <td>https://www.corteconstitucional.gov.co/Relator...</td>\n",
       "      <td>https://www.corteconstitucional.gov.co/sentenc...</td>\n",
       "    </tr>\n",
       "    <tr>\n",
       "      <th>3</th>\n",
       "      <td>A107-21</td>\n",
       "      <td>https://www.corteconstitucional.gov.co/Relator...</td>\n",
       "      <td>https://www.corteconstitucional.gov.co/sentenc...</td>\n",
       "    </tr>\n",
       "    <tr>\n",
       "      <th>4</th>\n",
       "      <td>A106-21</td>\n",
       "      <td>https://www.corteconstitucional.gov.co/Relator...</td>\n",
       "      <td>https://www.corteconstitucional.gov.co/sentenc...</td>\n",
       "    </tr>\n",
       "    <tr>\n",
       "      <th>...</th>\n",
       "      <td>...</td>\n",
       "      <td>...</td>\n",
       "      <td>...</td>\n",
       "    </tr>\n",
       "    <tr>\n",
       "      <th>5159</th>\n",
       "      <td>T-727-12</td>\n",
       "      <td>https://www.corteconstitucional.gov.co/Relator...</td>\n",
       "      <td>https://www.corteconstitucional.gov.co/sentenc...</td>\n",
       "    </tr>\n",
       "    <tr>\n",
       "      <th>5160</th>\n",
       "      <td>T-726-12</td>\n",
       "      <td>https://www.corteconstitucional.gov.co/Relator...</td>\n",
       "      <td>https://www.corteconstitucional.gov.co/sentenc...</td>\n",
       "    </tr>\n",
       "    <tr>\n",
       "      <th>5161</th>\n",
       "      <td>T-725-12</td>\n",
       "      <td>https://www.corteconstitucional.gov.co/Relator...</td>\n",
       "      <td>https://www.corteconstitucional.gov.co/sentenc...</td>\n",
       "    </tr>\n",
       "    <tr>\n",
       "      <th>5162</th>\n",
       "      <td>T-724-12</td>\n",
       "      <td>https://www.corteconstitucional.gov.co/Relator...</td>\n",
       "      <td>https://www.corteconstitucional.gov.co/sentenc...</td>\n",
       "    </tr>\n",
       "    <tr>\n",
       "      <th>5163</th>\n",
       "      <td>T-723-12</td>\n",
       "      <td>https://www.corteconstitucional.gov.co/Relator...</td>\n",
       "      <td>https://www.corteconstitucional.gov.co/sentenc...</td>\n",
       "    </tr>\n",
       "  </tbody>\n",
       "</table>\n",
       "<p>5164 rows × 3 columns</p>\n",
       "</div>"
      ],
      "text/plain": [
       "          INDEX                                               LINK  \\\n",
       "0       A123-21  https://www.corteconstitucional.gov.co/Relator...   \n",
       "1       A121-21  https://www.corteconstitucional.gov.co/Relator...   \n",
       "2       A115-21  https://www.corteconstitucional.gov.co/Relator...   \n",
       "3       A107-21  https://www.corteconstitucional.gov.co/Relator...   \n",
       "4       A106-21  https://www.corteconstitucional.gov.co/Relator...   \n",
       "...         ...                                                ...   \n",
       "5159   T-727-12  https://www.corteconstitucional.gov.co/Relator...   \n",
       "5160   T-726-12  https://www.corteconstitucional.gov.co/Relator...   \n",
       "5161   T-725-12  https://www.corteconstitucional.gov.co/Relator...   \n",
       "5162   T-724-12  https://www.corteconstitucional.gov.co/Relator...   \n",
       "5163   T-723-12  https://www.corteconstitucional.gov.co/Relator...   \n",
       "\n",
       "                                               LINK_RTF  \n",
       "0     https://www.corteconstitucional.gov.co/sentenc...  \n",
       "1     https://www.corteconstitucional.gov.co/sentenc...  \n",
       "2     https://www.corteconstitucional.gov.co/sentenc...  \n",
       "3     https://www.corteconstitucional.gov.co/sentenc...  \n",
       "4     https://www.corteconstitucional.gov.co/sentenc...  \n",
       "...                                                 ...  \n",
       "5159  https://www.corteconstitucional.gov.co/sentenc...  \n",
       "5160  https://www.corteconstitucional.gov.co/sentenc...  \n",
       "5161  https://www.corteconstitucional.gov.co/sentenc...  \n",
       "5162  https://www.corteconstitucional.gov.co/sentenc...  \n",
       "5163  https://www.corteconstitucional.gov.co/sentenc...  \n",
       "\n",
       "[5164 rows x 3 columns]"
      ]
     },
     "execution_count": 3,
     "metadata": {},
     "output_type": "execute_result"
    }
   ],
   "source": [
    "LINKS"
   ]
  },
  {
   "cell_type": "code",
   "execution_count": null,
   "id": "immediate-corruption",
   "metadata": {
    "jupyter": {
     "source_hidden": true
    },
    "tags": []
   },
   "outputs": [
    {
     "name": "stderr",
     "output_type": "stream",
     "text": [
      "1859it [59:00, 21.79s/it] "
     ]
    },
    {
     "name": "stdout",
     "output_type": "stream",
     "text": [
      "Error!: (\"Connection broken: ConnectionAbortedError(10053, 'An established connection was aborted by the software in your host machine', None, 10053, None)\", ConnectionAbortedError(10053, 'An established connection was aborted by the software in your host machine', None, 10053, None))\n",
      "Problema en: https://www.corteconstitucional.gov.co/sentencias/2016/T-064-16.rtf\n"
     ]
    },
    {
     "name": "stderr",
     "output_type": "stream",
     "text": [
      "1868it [1:02:13, 38.48s/it]"
     ]
    },
    {
     "name": "stdout",
     "output_type": "stream",
     "text": [
      "Error!: (\"Connection broken: ConnectionAbortedError(10053, 'An established connection was aborted by the software in your host machine', None, 10053, None)\", ConnectionAbortedError(10053, 'An established connection was aborted by the software in your host machine', None, 10053, None))\n",
      "Problema en: https://www.corteconstitucional.gov.co/sentencias/2016/T-049-16.rtf\n"
     ]
    },
    {
     "name": "stderr",
     "output_type": "stream",
     "text": [
      "3089it [2:19:31, 42.45s/it]"
     ]
    },
    {
     "name": "stdout",
     "output_type": "stream",
     "text": [
      "Error!: (\"Connection broken: ConnectionResetError(10054, 'An existing connection was forcibly closed by the remote host', None, 10054, None)\", ConnectionResetError(10054, 'An existing connection was forcibly closed by the remote host', None, 10054, None))\n",
      "Problema en: https://www.corteconstitucional.gov.co/sentencias/2014/T-728-14.rtf\n"
     ]
    },
    {
     "name": "stderr",
     "output_type": "stream",
     "text": [
      "3256it [2:26:51,  6.59s/it]"
     ]
    },
    {
     "name": "stdout",
     "output_type": "stream",
     "text": [
      "Error!: HTTPSConnectionPool(host='www.corteconstitucional.gov.co', port=443): Max retries exceeded with url: /sentencias/2014/T-531-14.rtf (Caused by NewConnectionError('<urllib3.connection.HTTPSConnection object at 0x0000021FBDEE49D0>: Failed to establish a new connection: [WinError 10060] A connection attempt failed because the connected party did not properly respond after a period of time, or established connection failed because connected host has failed to respond'))\n",
      "Problema en: https://www.corteconstitucional.gov.co/sentencias/2014/T-531-14.rtf\n"
     ]
    },
    {
     "name": "stderr",
     "output_type": "stream",
     "text": [
      "3370it [2:33:32,  1.99s/it]"
     ]
    }
   ],
   "source": [
    "documents_folder = 'DOCUMENTS/'\n",
    "\n",
    "for index, row in tqdm(LINKS.iterrows()):\n",
    "    \n",
    "    try:\n",
    "        \n",
    "        #print(row['INDEX'], row['LINK_RTF'])\n",
    "        url = row['LINK_RTF'].strip(' ')\n",
    "        file = io.BytesIO(requests.get(url).content)\n",
    "        document_name = documents_folder + row['INDEX'].strip(' ') + '.rtf'\n",
    "        f = open(document_name, \"wb\")\n",
    "        f.write(file.read())\n",
    "        f.close()\n",
    "        \n",
    "    except Exception as e:\n",
    "                \n",
    "        print(\"Error!: \" + str(e))\n",
    "        print('Problema en: '+ url)\n",
    "\n"
   ]
  },
  {
   "cell_type": "code",
   "execution_count": null,
   "id": "absent-fashion",
   "metadata": {},
   "outputs": [],
   "source": [
    "3370it"
   ]
  },
  {
   "cell_type": "code",
   "execution_count": 4,
   "id": "accomplished-transfer",
   "metadata": {
    "tags": []
   },
   "outputs": [
    {
     "name": "stderr",
     "output_type": "stream",
     "text": [
      "  0%|          | 1/1794 [00:10<5:08:57, 10.34s/it]"
     ]
    },
    {
     "name": "stdout",
     "output_type": "stream",
     "text": [
      "Error!: HTTPSConnectionPool(host='www.corteconstitucional.gov.co', port=443): Read timed out.\n",
      "Problema en: https://www.corteconstitucional.gov.co/sentencias/2014/T-397-14.rtf\n",
      "ierador en: 3370\n"
     ]
    },
    {
     "name": "stderr",
     "output_type": "stream",
     "text": [
      "100%|██████████| 1794/1794 [24:16<00:00,  1.23it/s] \n"
     ]
    }
   ],
   "source": [
    "documents_folder = 'DOCUMENTS/'\n",
    "\n",
    "session = requests.Session()\n",
    "headers = {\"User-Agent\": \"Mozilla/5.0 (X11; CrOS armv7l 13729.56.0) AppleWebKit/537.36 (KHTML, like Gecko) Chrome/89.0.4389.95 Safari/537.36\"}\n",
    "\n",
    "for i in tqdm(range(3370,LINKS.shape[0])):\n",
    "    try:\n",
    "        \n",
    "        #print(row['INDEX'], row['LINK_RTF'])\n",
    "        url = LINKS.iloc[i]['LINK_RTF'].strip(' ')\n",
    "        #print(url)\n",
    "        file = io.BytesIO(session.get(url, headers=headers, timeout=10).content)\n",
    "        document_name = documents_folder + LINKS.iloc[i]['INDEX'].strip(' ') + '.rtf'\n",
    "        #print(document_name)\n",
    "        f = open(document_name, \"wb\")\n",
    "        f.write(file.read())\n",
    "        f.close()\n",
    "        time.sleep(0.5)\n",
    "        \n",
    "    except Exception as e:\n",
    "                \n",
    "        print(\"Error!: \" + str(e))\n",
    "        print('Problema en: '+ url)\n",
    "        print('ierador en: '+ str(i))"
   ]
  },
  {
   "cell_type": "code",
   "execution_count": null,
   "id": "private-granny",
   "metadata": {},
   "outputs": [],
   "source": []
  }
 ],
 "metadata": {
  "kernelspec": {
   "display_name": "Python 3",
   "language": "python",
   "name": "python3"
  },
  "language_info": {
   "codemirror_mode": {
    "name": "ipython",
    "version": 3
   },
   "file_extension": ".py",
   "mimetype": "text/x-python",
   "name": "python",
   "nbconvert_exporter": "python",
   "pygments_lexer": "ipython3",
   "version": "3.8.8"
  }
 },
 "nbformat": 4,
 "nbformat_minor": 5
}
