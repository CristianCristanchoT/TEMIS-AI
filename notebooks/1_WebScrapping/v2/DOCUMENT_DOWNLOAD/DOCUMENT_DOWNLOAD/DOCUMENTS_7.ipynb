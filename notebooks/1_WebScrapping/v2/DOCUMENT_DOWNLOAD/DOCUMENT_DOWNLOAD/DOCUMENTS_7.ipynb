{
 "cells": [
  {
   "cell_type": "code",
   "execution_count": 1,
   "id": "stunning-optimization",
   "metadata": {},
   "outputs": [],
   "source": [
    "import requests\n",
    "import pandas as pd\n",
    "from tqdm import tqdm \n",
    "from tqdm import trange\n",
    "import time\n",
    "import io"
   ]
  },
  {
   "cell_type": "code",
   "execution_count": 2,
   "id": "duplicate-neighborhood",
   "metadata": {},
   "outputs": [],
   "source": [
    "root_csv = ''\n",
    "LINKS = pd.read_csv(root_csv +'LINKS_7.csv') "
   ]
  },
  {
   "cell_type": "code",
   "execution_count": 3,
   "id": "central-logic",
   "metadata": {},
   "outputs": [
    {
     "data": {
      "text/html": [
       "<div>\n",
       "<style scoped>\n",
       "    .dataframe tbody tr th:only-of-type {\n",
       "        vertical-align: middle;\n",
       "    }\n",
       "\n",
       "    .dataframe tbody tr th {\n",
       "        vertical-align: top;\n",
       "    }\n",
       "\n",
       "    .dataframe thead th {\n",
       "        text-align: right;\n",
       "    }\n",
       "</style>\n",
       "<table border=\"1\" class=\"dataframe\">\n",
       "  <thead>\n",
       "    <tr style=\"text-align: right;\">\n",
       "      <th></th>\n",
       "      <th>INDEX</th>\n",
       "      <th>LINK</th>\n",
       "      <th>LINK_RTF</th>\n",
       "    </tr>\n",
       "  </thead>\n",
       "  <tbody>\n",
       "    <tr>\n",
       "      <th>0</th>\n",
       "      <td>T-898-99</td>\n",
       "      <td>https://www.corteconstitucional.gov.co/Relator...</td>\n",
       "      <td>https://www.corteconstitucional.gov.co/sentenc...</td>\n",
       "    </tr>\n",
       "    <tr>\n",
       "      <th>1</th>\n",
       "      <td>T-889-99</td>\n",
       "      <td>https://www.corteconstitucional.gov.co/Relator...</td>\n",
       "      <td>https://www.corteconstitucional.gov.co/sentenc...</td>\n",
       "    </tr>\n",
       "    <tr>\n",
       "      <th>2</th>\n",
       "      <td>T-888-99</td>\n",
       "      <td>https://www.corteconstitucional.gov.co/Relator...</td>\n",
       "      <td>https://www.corteconstitucional.gov.co/sentenc...</td>\n",
       "    </tr>\n",
       "    <tr>\n",
       "      <th>3</th>\n",
       "      <td>T-887-99</td>\n",
       "      <td>https://www.corteconstitucional.gov.co/Relator...</td>\n",
       "      <td>https://www.corteconstitucional.gov.co/sentenc...</td>\n",
       "    </tr>\n",
       "    <tr>\n",
       "      <th>4</th>\n",
       "      <td>T-886-99</td>\n",
       "      <td>https://www.corteconstitucional.gov.co/Relator...</td>\n",
       "      <td>https://www.corteconstitucional.gov.co/sentenc...</td>\n",
       "    </tr>\n",
       "    <tr>\n",
       "      <th>...</th>\n",
       "      <td>...</td>\n",
       "      <td>...</td>\n",
       "      <td>...</td>\n",
       "    </tr>\n",
       "    <tr>\n",
       "      <th>5214</th>\n",
       "      <td>C-416-92</td>\n",
       "      <td>https://www.corteconstitucional.gov.co/Relator...</td>\n",
       "      <td>https://www.corteconstitucional.gov.co/sentenc...</td>\n",
       "    </tr>\n",
       "    <tr>\n",
       "      <th>5215</th>\n",
       "      <td>C-221-92</td>\n",
       "      <td>https://www.corteconstitucional.gov.co/Relator...</td>\n",
       "      <td>https://www.corteconstitucional.gov.co/sentenc...</td>\n",
       "    </tr>\n",
       "    <tr>\n",
       "      <th>5216</th>\n",
       "      <td>C-005-92</td>\n",
       "      <td>https://www.corteconstitucional.gov.co/Relator...</td>\n",
       "      <td>https://www.corteconstitucional.gov.co/sentenc...</td>\n",
       "    </tr>\n",
       "    <tr>\n",
       "      <th>5217</th>\n",
       "      <td>C-004-92</td>\n",
       "      <td>https://www.corteconstitucional.gov.co/Relator...</td>\n",
       "      <td>https://www.corteconstitucional.gov.co/sentenc...</td>\n",
       "    </tr>\n",
       "    <tr>\n",
       "      <th>5218</th>\n",
       "      <td>A003-92</td>\n",
       "      <td>https://www.corteconstitucional.gov.co/Relator...</td>\n",
       "      <td>https://www.corteconstitucional.gov.co/sentenc...</td>\n",
       "    </tr>\n",
       "  </tbody>\n",
       "</table>\n",
       "<p>5219 rows × 3 columns</p>\n",
       "</div>"
      ],
      "text/plain": [
       "          INDEX                                               LINK  \\\n",
       "0      T-898-99  https://www.corteconstitucional.gov.co/Relator...   \n",
       "1      T-889-99  https://www.corteconstitucional.gov.co/Relator...   \n",
       "2      T-888-99  https://www.corteconstitucional.gov.co/Relator...   \n",
       "3      T-887-99  https://www.corteconstitucional.gov.co/Relator...   \n",
       "4      T-886-99  https://www.corteconstitucional.gov.co/Relator...   \n",
       "...         ...                                                ...   \n",
       "5214   C-416-92  https://www.corteconstitucional.gov.co/Relator...   \n",
       "5215   C-221-92  https://www.corteconstitucional.gov.co/Relator...   \n",
       "5216   C-005-92  https://www.corteconstitucional.gov.co/Relator...   \n",
       "5217   C-004-92  https://www.corteconstitucional.gov.co/Relator...   \n",
       "5218    A003-92  https://www.corteconstitucional.gov.co/Relator...   \n",
       "\n",
       "                                               LINK_RTF  \n",
       "0     https://www.corteconstitucional.gov.co/sentenc...  \n",
       "1     https://www.corteconstitucional.gov.co/sentenc...  \n",
       "2     https://www.corteconstitucional.gov.co/sentenc...  \n",
       "3     https://www.corteconstitucional.gov.co/sentenc...  \n",
       "4     https://www.corteconstitucional.gov.co/sentenc...  \n",
       "...                                                 ...  \n",
       "5214  https://www.corteconstitucional.gov.co/sentenc...  \n",
       "5215  https://www.corteconstitucional.gov.co/sentenc...  \n",
       "5216  https://www.corteconstitucional.gov.co/sentenc...  \n",
       "5217  https://www.corteconstitucional.gov.co/sentenc...  \n",
       "5218  https://www.corteconstitucional.gov.co/sentenc...  \n",
       "\n",
       "[5219 rows x 3 columns]"
      ]
     },
     "execution_count": 3,
     "metadata": {},
     "output_type": "execute_result"
    }
   ],
   "source": [
    "LINKS"
   ]
  },
  {
   "cell_type": "code",
   "execution_count": null,
   "id": "interesting-pepper",
   "metadata": {
    "jupyter": {
     "source_hidden": true
    },
    "tags": []
   },
   "outputs": [
    {
     "name": "stderr",
     "output_type": "stream",
     "text": [
      "29it [00:51,  4.59s/it]"
     ]
    },
    {
     "name": "stdout",
     "output_type": "stream",
     "text": [
      "Error!: HTTPSConnectionPool(host='www.corteconstitucional.gov.co', port=443): Max retries exceeded with url: /sentencias/1999/T-859-99.rtf (Caused by NewConnectionError('<urllib3.connection.HTTPSConnection object at 0x000002669A07B700>: Failed to establish a new connection: [WinError 10060] A connection attempt failed because the connected party did not properly respond after a period of time, or established connection failed because connected host has failed to respond'))\n",
      "Problema en: https://www.corteconstitucional.gov.co/sentencias/1999/T-859-99.rtf\n"
     ]
    },
    {
     "name": "stderr",
     "output_type": "stream",
     "text": [
      "1988it [58:45, 853.61s/it]"
     ]
    },
    {
     "name": "stdout",
     "output_type": "stream",
     "text": [
      "Error!: (\"Connection broken: ConnectionAbortedError(10053, 'An established connection was aborted by the software in your host machine', None, 10053, None)\", ConnectionAbortedError(10053, 'An established connection was aborted by the software in your host machine', None, 10053, None))\n",
      "Problema en: https://www.corteconstitucional.gov.co/sentencias/1997/T-246-97.rtf\n"
     ]
    },
    {
     "name": "stderr",
     "output_type": "stream",
     "text": [
      "2029it [1:01:58, 16.01s/it]"
     ]
    },
    {
     "name": "stdout",
     "output_type": "stream",
     "text": [
      "Error!: ('Connection aborted.', ConnectionAbortedError(10053, 'An established connection was aborted by the software in your host machine', None, 10053, None))\n",
      "Problema en: https://www.corteconstitucional.gov.co/sentencias/1997/T-164-97.rtf\n"
     ]
    },
    {
     "name": "stderr",
     "output_type": "stream",
     "text": [
      "2150it [1:04:47,  6.31it/s]"
     ]
    }
   ],
   "source": [
    "documents_folder = 'DOCUMENTS/'\n",
    "\n",
    "for index, row in tqdm(LINKS.iterrows()):\n",
    "    \n",
    "    try:\n",
    "        \n",
    "        #print(row['INDEX'], row['LINK_RTF'])\n",
    "        url = row['LINK_RTF'].strip(' ')\n",
    "        file = io.BytesIO(requests.get(url).content)\n",
    "        document_name = documents_folder + row['INDEX'].strip(' ') + '.rtf'\n",
    "        f = open(document_name, \"wb\")\n",
    "        f.write(file.read())\n",
    "        f.close()\n",
    "        \n",
    "    except Exception as e:\n",
    "                \n",
    "        print(\"Error!: \" + str(e))\n",
    "        print('Problema en: '+ url)\n",
    "\n"
   ]
  },
  {
   "cell_type": "code",
   "execution_count": null,
   "id": "inappropriate-resistance",
   "metadata": {},
   "outputs": [],
   "source": [
    "2150it "
   ]
  },
  {
   "cell_type": "code",
   "execution_count": 4,
   "id": "together-christian",
   "metadata": {
    "tags": []
   },
   "outputs": [
    {
     "name": "stderr",
     "output_type": "stream",
     "text": [
      " 37%|███▋      | 1145/3069 [10:56<1:48:50,  3.39s/it]"
     ]
    },
    {
     "name": "stdout",
     "output_type": "stream",
     "text": [
      "Error!: HTTPSConnectionPool(host='www.corteconstitucional.gov.co', port=443): Read timed out. (read timeout=10)\n",
      "Problema en: https://www.corteconstitucional.gov.co/sentencias/1995/T-377-95.rtf\n",
      "ierador en: 3294\n"
     ]
    },
    {
     "name": "stderr",
     "output_type": "stream",
     "text": [
      "100%|██████████| 3069/3069 [29:08<00:00,  1.75it/s]  \n"
     ]
    }
   ],
   "source": [
    "documents_folder = 'DOCUMENTS/'\n",
    "\n",
    "session = requests.Session()\n",
    "headers = {\"User-Agent\": \"Mozilla/5.0 (X11; CrOS armv7l 13729.56.0) AppleWebKit/537.36 (KHTML, like Gecko) Chrome/89.0.4389.95 Safari/537.36\"}\n",
    "\n",
    "for i in tqdm(range(2150,LINKS.shape[0])):\n",
    "    try:\n",
    "        \n",
    "        #print(row['INDEX'], row['LINK_RTF'])\n",
    "        url = LINKS.iloc[i]['LINK_RTF'].strip(' ')\n",
    "        #print(url)\n",
    "        file = io.BytesIO(session.get(url, headers=headers, timeout=10).content)\n",
    "        document_name = documents_folder + LINKS.iloc[i]['INDEX'].strip(' ') + '.rtf'\n",
    "        #print(document_name)\n",
    "        f = open(document_name, \"wb\")\n",
    "        f.write(file.read())\n",
    "        f.close()\n",
    "        time.sleep(0.5)\n",
    "        \n",
    "    except Exception as e:\n",
    "                \n",
    "        print(\"Error!: \" + str(e))\n",
    "        print('Problema en: '+ url)\n",
    "        print('ierador en: '+ str(i))"
   ]
  },
  {
   "cell_type": "code",
   "execution_count": null,
   "id": "periodic-crawford",
   "metadata": {},
   "outputs": [],
   "source": []
  }
 ],
 "metadata": {
  "kernelspec": {
   "display_name": "Python 3",
   "language": "python",
   "name": "python3"
  },
  "language_info": {
   "codemirror_mode": {
    "name": "ipython",
    "version": 3
   },
   "file_extension": ".py",
   "mimetype": "text/x-python",
   "name": "python",
   "nbconvert_exporter": "python",
   "pygments_lexer": "ipython3",
   "version": "3.8.8"
  }
 },
 "nbformat": 4,
 "nbformat_minor": 5
}
