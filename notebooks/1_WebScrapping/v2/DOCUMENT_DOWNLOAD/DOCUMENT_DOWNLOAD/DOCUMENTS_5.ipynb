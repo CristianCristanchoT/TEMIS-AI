{
 "cells": [
  {
   "cell_type": "code",
   "execution_count": 4,
   "id": "accepting-general",
   "metadata": {},
   "outputs": [],
   "source": [
    "import requests\n",
    "import pandas as pd\n",
    "from tqdm import tqdm \n",
    "from tqdm import trange\n",
    "import time\n",
    "import io"
   ]
  },
  {
   "cell_type": "code",
   "execution_count": 5,
   "id": "minus-affiliate",
   "metadata": {},
   "outputs": [],
   "source": [
    "root_csv = ''\n",
    "LINKS = pd.read_csv(root_csv +'LINKS_5.csv') "
   ]
  },
  {
   "cell_type": "code",
   "execution_count": 6,
   "id": "adequate-paragraph",
   "metadata": {},
   "outputs": [
    {
     "data": {
      "text/html": [
       "<div>\n",
       "<style scoped>\n",
       "    .dataframe tbody tr th:only-of-type {\n",
       "        vertical-align: middle;\n",
       "    }\n",
       "\n",
       "    .dataframe tbody tr th {\n",
       "        vertical-align: top;\n",
       "    }\n",
       "\n",
       "    .dataframe thead th {\n",
       "        text-align: right;\n",
       "    }\n",
       "</style>\n",
       "<table border=\"1\" class=\"dataframe\">\n",
       "  <thead>\n",
       "    <tr style=\"text-align: right;\">\n",
       "      <th></th>\n",
       "      <th>INDEX</th>\n",
       "      <th>LINK</th>\n",
       "      <th>LINK_RTF</th>\n",
       "    </tr>\n",
       "  </thead>\n",
       "  <tbody>\n",
       "    <tr>\n",
       "      <th>0</th>\n",
       "      <td>T-1056-07</td>\n",
       "      <td>https://www.corteconstitucional.gov.co/Relator...</td>\n",
       "      <td>https://www.corteconstitucional.gov.co/sentenc...</td>\n",
       "    </tr>\n",
       "    <tr>\n",
       "      <th>1</th>\n",
       "      <td>T-1055-07</td>\n",
       "      <td>https://www.corteconstitucional.gov.co/Relator...</td>\n",
       "      <td>https://www.corteconstitucional.gov.co/sentenc...</td>\n",
       "    </tr>\n",
       "    <tr>\n",
       "      <th>2</th>\n",
       "      <td>T-1054-07</td>\n",
       "      <td>https://www.corteconstitucional.gov.co/Relator...</td>\n",
       "      <td>https://www.corteconstitucional.gov.co/sentenc...</td>\n",
       "    </tr>\n",
       "    <tr>\n",
       "      <th>3</th>\n",
       "      <td>T-1053-07</td>\n",
       "      <td>https://www.corteconstitucional.gov.co/Relator...</td>\n",
       "      <td>https://www.corteconstitucional.gov.co/sentenc...</td>\n",
       "    </tr>\n",
       "    <tr>\n",
       "      <th>4</th>\n",
       "      <td>T-1052-07</td>\n",
       "      <td>https://www.corteconstitucional.gov.co/Relator...</td>\n",
       "      <td>https://www.corteconstitucional.gov.co/sentenc...</td>\n",
       "    </tr>\n",
       "    <tr>\n",
       "      <th>...</th>\n",
       "      <td>...</td>\n",
       "      <td>...</td>\n",
       "      <td>...</td>\n",
       "    </tr>\n",
       "    <tr>\n",
       "      <th>5145</th>\n",
       "      <td>T-687-03</td>\n",
       "      <td>https://www.corteconstitucional.gov.co/Relator...</td>\n",
       "      <td>https://www.corteconstitucional.gov.co/sentenc...</td>\n",
       "    </tr>\n",
       "    <tr>\n",
       "      <th>5146</th>\n",
       "      <td>T-686-03</td>\n",
       "      <td>https://www.corteconstitucional.gov.co/Relator...</td>\n",
       "      <td>https://www.corteconstitucional.gov.co/sentenc...</td>\n",
       "    </tr>\n",
       "    <tr>\n",
       "      <th>5147</th>\n",
       "      <td>T-685-03</td>\n",
       "      <td>https://www.corteconstitucional.gov.co/Relator...</td>\n",
       "      <td>https://www.corteconstitucional.gov.co/sentenc...</td>\n",
       "    </tr>\n",
       "    <tr>\n",
       "      <th>5148</th>\n",
       "      <td>T-684-03</td>\n",
       "      <td>https://www.corteconstitucional.gov.co/Relator...</td>\n",
       "      <td>https://www.corteconstitucional.gov.co/sentenc...</td>\n",
       "    </tr>\n",
       "    <tr>\n",
       "      <th>5149</th>\n",
       "      <td>T-683-03</td>\n",
       "      <td>https://www.corteconstitucional.gov.co/Relator...</td>\n",
       "      <td>https://www.corteconstitucional.gov.co/sentenc...</td>\n",
       "    </tr>\n",
       "  </tbody>\n",
       "</table>\n",
       "<p>5150 rows × 3 columns</p>\n",
       "</div>"
      ],
      "text/plain": [
       "           INDEX                                               LINK  \\\n",
       "0      T-1056-07  https://www.corteconstitucional.gov.co/Relator...   \n",
       "1      T-1055-07  https://www.corteconstitucional.gov.co/Relator...   \n",
       "2      T-1054-07  https://www.corteconstitucional.gov.co/Relator...   \n",
       "3      T-1053-07  https://www.corteconstitucional.gov.co/Relator...   \n",
       "4      T-1052-07  https://www.corteconstitucional.gov.co/Relator...   \n",
       "...          ...                                                ...   \n",
       "5145    T-687-03  https://www.corteconstitucional.gov.co/Relator...   \n",
       "5146    T-686-03  https://www.corteconstitucional.gov.co/Relator...   \n",
       "5147    T-685-03  https://www.corteconstitucional.gov.co/Relator...   \n",
       "5148    T-684-03  https://www.corteconstitucional.gov.co/Relator...   \n",
       "5149    T-683-03  https://www.corteconstitucional.gov.co/Relator...   \n",
       "\n",
       "                                               LINK_RTF  \n",
       "0     https://www.corteconstitucional.gov.co/sentenc...  \n",
       "1     https://www.corteconstitucional.gov.co/sentenc...  \n",
       "2     https://www.corteconstitucional.gov.co/sentenc...  \n",
       "3     https://www.corteconstitucional.gov.co/sentenc...  \n",
       "4     https://www.corteconstitucional.gov.co/sentenc...  \n",
       "...                                                 ...  \n",
       "5145  https://www.corteconstitucional.gov.co/sentenc...  \n",
       "5146  https://www.corteconstitucional.gov.co/sentenc...  \n",
       "5147  https://www.corteconstitucional.gov.co/sentenc...  \n",
       "5148  https://www.corteconstitucional.gov.co/sentenc...  \n",
       "5149  https://www.corteconstitucional.gov.co/sentenc...  \n",
       "\n",
       "[5150 rows x 3 columns]"
      ]
     },
     "execution_count": 6,
     "metadata": {},
     "output_type": "execute_result"
    }
   ],
   "source": [
    "LINKS"
   ]
  },
  {
   "cell_type": "code",
   "execution_count": 8,
   "id": "fundamental-premiere",
   "metadata": {
    "tags": []
   },
   "outputs": [
    {
     "name": "stderr",
     "output_type": "stream",
     "text": [
      "3751it [58:54,  3.49s/it]"
     ]
    },
    {
     "name": "stdout",
     "output_type": "stream",
     "text": [
      "Error!: ('Connection aborted.', ConnectionAbortedError(10053, 'An established connection was aborted by the software in your host machine', None, 10053, None))\n",
      "Problema en: https://www.corteconstitucional.gov.co/sentencias/2004/T-944-04.rtf\n"
     ]
    },
    {
     "name": "stderr",
     "output_type": "stream",
     "text": [
      "3785it [1:02:07, 16.42s/it]"
     ]
    },
    {
     "name": "stdout",
     "output_type": "stream",
     "text": [
      "Error!: (\"Connection broken: ConnectionAbortedError(10053, 'An established connection was aborted by the software in your host machine', None, 10053, None)\", ConnectionAbortedError(10053, 'An established connection was aborted by the software in your host machine', None, 10053, None))\n",
      "Problema en: https://www.corteconstitucional.gov.co/sentencias/2004/T-897-04.rtf\n"
     ]
    },
    {
     "name": "stderr",
     "output_type": "stream",
     "text": [
      "5150it [1:34:35,  1.10s/it]\n"
     ]
    }
   ],
   "source": [
    "documents_folder = 'DOCUMENTS/'\n",
    "\n",
    "for index, row in tqdm(LINKS.iterrows()):\n",
    "    \n",
    "    try:\n",
    "        \n",
    "        #print(row['INDEX'], row['LINK_RTF'])\n",
    "        url = row['LINK_RTF'].strip(' ')\n",
    "        file = io.BytesIO(requests.get(url).content)\n",
    "        document_name = documents_folder + row['INDEX'].strip(' ') + '.rtf'\n",
    "        f = open(document_name, \"wb\")\n",
    "        f.write(file.read())\n",
    "        f.close()\n",
    "        \n",
    "    except Exception as e:\n",
    "                \n",
    "        print(\"Error!: \" + str(e))\n",
    "        print('Problema en: '+ url)\n",
    "\n"
   ]
  },
  {
   "cell_type": "code",
   "execution_count": null,
   "id": "liked-watson",
   "metadata": {},
   "outputs": [],
   "source": []
  },
  {
   "cell_type": "code",
   "execution_count": null,
   "id": "handmade-swift",
   "metadata": {},
   "outputs": [],
   "source": []
  }
 ],
 "metadata": {
  "kernelspec": {
   "display_name": "Python 3",
   "language": "python",
   "name": "python3"
  },
  "language_info": {
   "codemirror_mode": {
    "name": "ipython",
    "version": 3
   },
   "file_extension": ".py",
   "mimetype": "text/x-python",
   "name": "python",
   "nbconvert_exporter": "python",
   "pygments_lexer": "ipython3",
   "version": "3.8.8"
  }
 },
 "nbformat": 4,
 "nbformat_minor": 5
}
