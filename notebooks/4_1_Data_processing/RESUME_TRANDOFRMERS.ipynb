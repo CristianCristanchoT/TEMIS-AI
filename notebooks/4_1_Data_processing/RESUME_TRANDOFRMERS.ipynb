{
 "cells": [
  {
   "cell_type": "code",
   "execution_count": 1,
   "id": "altered-average",
   "metadata": {},
   "outputs": [],
   "source": [
    "import matplotlib.pyplot as plt\n",
    "import numpy as np\n",
    "import pandas as pd\n",
    "from tqdm import tqdm\n",
    "import re\n",
    "from multiprocessing import Pool\n",
    "import matplotlib.pyplot as plt\n",
    "import seaborn as sns"
   ]
  },
  {
   "cell_type": "code",
   "execution_count": 2,
   "id": "internal-groove",
   "metadata": {},
   "outputs": [],
   "source": [
    "documents = pd.read_csv('../DATA/DATA.csv')"
   ]
  },
  {
   "cell_type": "code",
   "execution_count": 3,
   "id": "stupid-draft",
   "metadata": {},
   "outputs": [
    {
     "name": "stderr",
     "output_type": "stream",
     "text": [
      "100%|██████████| 35737/35737 [00:02<00:00, 14243.54it/s]\n"
     ]
    }
   ],
   "source": [
    "def preprocessor_sentences(text):\n",
    "    \"\"\"\n",
    "    preprocesador de texto con separación de frases por línea.\n",
    "    \"\"\"\n",
    "    text = text.replace(\"\\n\", \" \")\n",
    "    text = text.replace(\"\\xa0\", \" \")\n",
    "    text = text.replace(\"\\x93\", \" \")\n",
    "    text = text.replace(\"\\x94\", \" \")\n",
    "    text = text.replace(\"\\r\", \" \")\n",
    "    text = text.replace(\"\\t\", \" \")\n",
    "\n",
    "    return text\n",
    "\n",
    "documents[\"TEXT_PLAIN\"] = [preprocessor_sentences(str(x)) for x in tqdm(documents.TEXT)]"
   ]
  },
  {
   "cell_type": "code",
   "execution_count": 4,
   "id": "postal-benefit",
   "metadata": {
    "tags": []
   },
   "outputs": [
    {
     "name": "stdout",
     "output_type": "stream",
     "text": [
      "Auto 001/00\n",
      "\n",
      "DEBIDO PROCESO DE TUTELA-Notificación iniciación de la acción\n",
      "\n",
      "Si bien el trámite propio de la acción de tutela es breve, sumario e informal, toda vez que busca la protección inmediata de un derecho fundamental cuando quiera que éste se vea amenazado o vulnerado por la acción u omisión de una autoridad pública o de un particular en los casos expresamente señalados, no puede llevarse a cabo el proceso sin el conocimiento de la autoridad o del particular contra quien se impetró, pues de lo contrario se le estaría vulnerando en forma flagrante su derecho a la defensa y por ende al debido proceso.\n",
      "\n",
      "\n",
      "\n",
      "Referencia: Expediente T-246504\n",
      "\n",
      "Acción de tutela instaurada por Lorenza Díaz Padilla contra el Hospital San Jerónimo de Montería\n",
      "\n",
      "Magistrado Sustanciador:\n",
      "Dr. JOSÉ GREGORIO HERNÁNDEZ GALINDO\n",
      "\n",
      "Santafé de Bogotá D.C., doce (12) de enero de dos mil (2000).\n",
      "\n",
      "I. ANTECEDENTES.\n",
      "\n",
      "La accionante manifiesta que es pensionada del hospital San Jerónimo de Montería, entidad que le adeuda las mesadas pensionales desde el mes de abril del corriente año y la prima de junio. Instauró acción de tutela para la protección de los derechos a la vida, a la seguridad social y a la igualdad, por cuanto el Hospital paga a los empleados de planta y no a los pensionados.\n",
      "\n",
      "La demandada, Empresa Social del Estado \"Hospital San Jerónimo de Montería\", no tuvo oportunidad de manifestarse respecto de la presente acción por cuanto el a quo procedió a fallar, sin comunicarle la existencia de la demanda, lo que era indispensable con el fin de que ejerciera su derecho de defensa.\n",
      "\n",
      "\n",
      "II. DECISION JUDICIAL OBJETO DE REVISION\n",
      "\n",
      "El Tribunal Superior del Distrito Judicial de Montería -Sala Civil Familia- profirió fallo el 3 de agosto de 1999, mediante el cual decidió declarar improcedente la acción de tutela instaurada por Lorenza Díaz Padilla, por considerar que es menor de 65 años de edad y por lo tanto, su condición no es de ancianidad, ni de indefensión, no existiendo prueba de que el no pago de las mesadas ponga en peligro su derecho a la vida.\n",
      "\n",
      "III. CONSIDERACIONES DE LA CORTE CONSTITUCIONLA Y FUNDAMENTOS DE LA DECISION\n",
      "\n",
      "Nulidad procesal por irregularidades en el trámite de la primera instancia.\n",
      "\n",
      "Revisado el expediente, se observa que no se surtió la notificación al demandado. \n",
      "\n",
      "Si bien el trámite propio de la acción de tutela es breve, sumario e informal, toda vez que busca la protección inmediata de un derecho fundamental cuando quiera que éste se vea amenazado o vulnerado por la acción u omisión de una autoridad pública o de un particular en los casos expresamente señalados, no puede llevarse a cabo el proceso sin el conocimiento de la autoridad o del particular contra quien se impetró, pues de lo contrario se le estaría vulnerando en forma flagrante su derecho a la defensa y por ende al debido proceso.\n",
      "\n",
      "Los derechos fundamentales antes mencionados resultan seriamente comprometidos en este caso, en donde además, como se aprecia en el expediente, no se ordenó ni practicó prueba alguna, limitándose la actuación del juez al escrito petitorio de la tutela.\n",
      "\n",
      "Por lo aquí expuesto, la Sala Quinta de Revisión de la Corte Constitucional, en nombre del pueblo y por mandato de la Constitución,\n",
      "\n",
      "RESUELVE:\n",
      "\n",
      "Primero.- Dejar sin efecto la providencia del 3 de agosto de 1999, proferida por el Tribunal Superior del Distrito Judicial de Montería, y en consecuencia ABSTENERSE de efectuar la revisión de fondo del fallo dictado al resolver sobre la acción de tutela en referencia, por cuanto se advierte la existencia de una nulidad que afecta todo lo actuado.\n",
      "\n",
      "Segundo.- ORDENAR al Tribunal Superior de Montería que imparta el trámite judicial correspondiente a la primera instancia, subsanando la irregularidad expuesta, y proceda a fallar de conformidad con el procedimiento establecido.\n",
      "\n",
      "Tercero.- Para el cumplimiento de lo dispuesto en el numeral anterior se ordena que por Secretaría General de esta Corporación se devuelva el expediente a la Sala Civil - Familia del Tribunal Superior de Montería.\n",
      "\n",
      "Cuarto.- Agotado el procedimiento anterior, y su fuere el caso el de su superior jerárquico, devuélvase el expediente a esta Sala para que se surta revisión.\n",
      "\n",
      "Notifíquese, comuníquese, publíquese en la Gaceta de la Corte Constitucional y cúmplase.\n",
      "\n",
      "\n",
      "\n",
      "JOSE GREGORIO HERNANDEZ GALINDO\n",
      "Magistrado\n",
      "\n",
      "\n",
      "\n",
      "ALEJANDRO MARTINEZ CABALLERO                 FABIO MORON DIAZ\n",
      "                            Magistrado                                                                                   Magistrado\n",
      "\n",
      "\n",
      "\n",
      "MARTHA SACHICA DE MONCALEANO\n",
      "Secretaria General\n",
      "\n",
      "\n"
     ]
    }
   ],
   "source": [
    "ref = 0\n",
    "test = documents.iloc[ref].TEXT_PLAIN\n",
    "print(documents.iloc[ref].TEXT)"
   ]
  },
  {
   "cell_type": "code",
   "execution_count": 5,
   "id": "honey-attribute",
   "metadata": {},
   "outputs": [],
   "source": [
    "from transformers import pipeline"
   ]
  },
  {
   "cell_type": "code",
   "execution_count": 6,
   "id": "dramatic-robin",
   "metadata": {
    "collapsed": true,
    "jupyter": {
     "outputs_hidden": true
    },
    "tags": []
   },
   "outputs": [
    {
     "data": {
      "application/json": {
       "ascii": false,
       "bar_format": null,
       "colour": null,
       "elapsed": 0.0299985408782959,
       "initial": 0,
       "n": 0,
       "ncols": null,
       "nrows": null,
       "postfix": null,
       "prefix": "Downloading",
       "rate": null,
       "total": 1649,
       "unit": "B",
       "unit_divisor": 1000,
       "unit_scale": true
      },
      "application/vnd.jupyter.widget-view+json": {
       "model_id": "8227328aee764ec4ac4a266020171061",
       "version_major": 2,
       "version_minor": 0
      },
      "text/plain": [
       "Downloading:   0%|          | 0.00/1.65k [00:00<?, ?B/s]"
      ]
     },
     "metadata": {},
     "output_type": "display_data"
    },
    {
     "data": {
      "application/json": {
       "ascii": false,
       "bar_format": null,
       "colour": null,
       "elapsed": 0.027999401092529297,
       "initial": 0,
       "n": 0,
       "ncols": null,
       "nrows": null,
       "postfix": null,
       "prefix": "Downloading",
       "rate": null,
       "total": 1222317369,
       "unit": "B",
       "unit_divisor": 1000,
       "unit_scale": true
      },
      "application/vnd.jupyter.widget-view+json": {
       "model_id": "b34280b94b644614a1eb64ddde56e1bf",
       "version_major": 2,
       "version_minor": 0
      },
      "text/plain": [
       "Downloading:   0%|          | 0.00/1.22G [00:00<?, ?B/s]"
      ]
     },
     "metadata": {},
     "output_type": "display_data"
    },
    {
     "data": {
      "application/json": {
       "ascii": false,
       "bar_format": null,
       "colour": null,
       "elapsed": 0.032000064849853516,
       "initial": 0,
       "n": 0,
       "ncols": null,
       "nrows": null,
       "postfix": null,
       "prefix": "Downloading",
       "rate": null,
       "total": 898822,
       "unit": "B",
       "unit_divisor": 1000,
       "unit_scale": true
      },
      "application/vnd.jupyter.widget-view+json": {
       "model_id": "4d9a1cb7ee0440a1baf898c147191151",
       "version_major": 2,
       "version_minor": 0
      },
      "text/plain": [
       "Downloading:   0%|          | 0.00/899k [00:00<?, ?B/s]"
      ]
     },
     "metadata": {},
     "output_type": "display_data"
    },
    {
     "data": {
      "application/json": {
       "ascii": false,
       "bar_format": null,
       "colour": null,
       "elapsed": 0.024999141693115234,
       "initial": 0,
       "n": 0,
       "ncols": null,
       "nrows": null,
       "postfix": null,
       "prefix": "Downloading",
       "rate": null,
       "total": 456318,
       "unit": "B",
       "unit_divisor": 1000,
       "unit_scale": true
      },
      "application/vnd.jupyter.widget-view+json": {
       "model_id": "f8dc55ae32db40908c60cf702cf8543b",
       "version_major": 2,
       "version_minor": 0
      },
      "text/plain": [
       "Downloading:   0%|          | 0.00/456k [00:00<?, ?B/s]"
      ]
     },
     "metadata": {},
     "output_type": "display_data"
    },
    {
     "data": {
      "application/json": {
       "ascii": false,
       "bar_format": null,
       "colour": null,
       "elapsed": 0.024989604949951172,
       "initial": 0,
       "n": 0,
       "ncols": null,
       "nrows": null,
       "postfix": null,
       "prefix": "Downloading",
       "rate": null,
       "total": 26,
       "unit": "B",
       "unit_divisor": 1000,
       "unit_scale": true
      },
      "application/vnd.jupyter.widget-view+json": {
       "model_id": "37d8be3165064cb4af3a457825bab95f",
       "version_major": 2,
       "version_minor": 0
      },
      "text/plain": [
       "Downloading:   0%|          | 0.00/26.0 [00:00<?, ?B/s]"
      ]
     },
     "metadata": {},
     "output_type": "display_data"
    }
   ],
   "source": [
    "summarizer = pipeline(\"summarization\")"
   ]
  },
  {
   "cell_type": "code",
   "execution_count": 7,
   "id": "advised-ottawa",
   "metadata": {},
   "outputs": [
    {
     "name": "stderr",
     "output_type": "stream",
     "text": [
      "Your max_length is set to 300, but you input_length is only 225. You might consider decreasing max_length manually, e.g. summarizer('...', max_length=50)\n"
     ]
    },
    {
     "name": "stdout",
     "output_type": "stream",
     "text": [
      "[{'summary_text': ' Transfer learning, where a model is first pre-trained on a data-rich task before being fine-tuned on a downstream task, has emerged as a powerful iopsychtechnique in natural language processing (NLP) The effectiveness of transfer learning has given rise to a diversity of approaches, methodology, and practice . In this paper, we explore the landscape of transfer learning techniques for NLP by introducing a unified framework that converts every language problem into a text-to-text format .'}]\n"
     ]
    }
   ],
   "source": [
    "test_eng = \"\"\"Transfer learning, where a model is first pre-trained on a data-rich\n",
    "task before being fine-tuned on a downstream task, has emerged as a powerful \n",
    "technique in natural language processing (NLP). The effectiveness of transfer \n",
    "learning has given rise to a diversity of approaches, methodology, and practice. \n",
    "In this paper, we explore the landscape of transfer learning techniques for \n",
    "NLP by introducing a unified framework that converts every language problem \n",
    "into a text-to-text format. Our systematic study compares pretraining objectives, \n",
    "architectures, unlabeled datasets, transfer approaches, and other factors on dozens \n",
    "of language understanding tasks. By combining the insights from our exploration with \n",
    "scale and our new “Colossal Clean Crawled Corpus”, we achieve state-of-the-art \n",
    "results on many benchmarks covering summarization, question answering, text \n",
    "classification, and more. To facilitate future work on transfer learning for \n",
    "NLP, we release our dataset, pre-trained models, and code.\"\"\"\n",
    "\n",
    "summarized = summarizer(test_eng, min_length=75, max_length=300)\n",
    "print(summarized)"
   ]
  },
  {
   "cell_type": "code",
   "execution_count": 16,
   "id": "streaming-spokesman",
   "metadata": {},
   "outputs": [
    {
     "name": "stderr",
     "output_type": "stream",
     "text": [
      "Your max_length is set to 300, but you input_length is only 180. You might consider decreasing max_length manually, e.g. summarizer('...', max_length=50)\n"
     ]
    },
    {
     "name": "stdout",
     "output_type": "stream",
     "text": [
      "[{'summary_text': ' Acción de tutela instaurada by Lorenza Díaz Padilla contra el Hospital San Jerónimo de Montería . Magistrado Sustanciador: Dr. JOSÉ GREGORIO HERNÁNDEZ GALINDO  Santafé de Bogotá D.C., doce (12/12) de enero de 2,000 (2000)'}]\n"
     ]
    }
   ],
   "source": [
    "summarized = summarizer(test[500:1000], min_length=75, max_length=300)\n",
    "print(summarized)"
   ]
  },
  {
   "cell_type": "code",
   "execution_count": 17,
   "id": "several-albert",
   "metadata": {},
   "outputs": [],
   "source": [
    "from gensim.summarization import summarize"
   ]
  },
  {
   "cell_type": "code",
   "execution_count": 18,
   "id": "chemical-president",
   "metadata": {},
   "outputs": [
    {
     "name": "stdout",
     "output_type": "stream",
     "text": [
      "Auto 001/00  DEBIDO PROCESO DE TUTELA-Notificación iniciación de la acción  Si bien el trámite propio de la acción de tutela es breve, sumario e informal, toda vez que busca la protección inmediata de un derecho fundamental cuando quiera que éste se vea amenazado o vulnerado por la acción u omisión de una autoridad pública o de un particular en los casos expresamente señalados, no puede llevarse a cabo el proceso sin el conocimiento de la autoridad o del particular contra quien se impetró, pues de lo contrario se le estaría vulnerando en forma flagrante su derecho a la defensa y por ende al debido proceso.\n",
      "DECISION JUDICIAL OBJETO DE REVISION  El Tribunal Superior del Distrito Judicial de Montería -Sala Civil Familia- profirió fallo el 3 de agosto de 1999, mediante el cual decidió declarar improcedente la acción de tutela instaurada por Lorenza Díaz Padilla, por considerar que es menor de 65 años de edad y por lo tanto, su condición no es de ancianidad, ni de indefensión, no existiendo prueba de que el no pago de las mesadas ponga en peligro su derecho a la vida.\n",
      "Si bien el trámite propio de la acción de tutela es breve, sumario e informal, toda vez que busca la protección inmediata de un derecho fundamental cuando quiera que éste se vea amenazado o vulnerado por la acción u omisión de una autoridad pública o de un particular en los casos expresamente señalados, no puede llevarse a cabo el proceso sin el conocimiento de la autoridad o del particular contra quien se impetró, pues de lo contrario se le estaría vulnerando en forma flagrante su derecho a la defensa y por ende al debido proceso.\n"
     ]
    }
   ],
   "source": [
    "print((summarize(test)))"
   ]
  },
  {
   "cell_type": "code",
   "execution_count": null,
   "id": "parental-cleaning",
   "metadata": {},
   "outputs": [],
   "source": []
  }
 ],
 "metadata": {
  "kernelspec": {
   "display_name": "Python 3",
   "language": "python",
   "name": "python3"
  },
  "language_info": {
   "codemirror_mode": {
    "name": "ipython",
    "version": 3
   },
   "file_extension": ".py",
   "mimetype": "text/x-python",
   "name": "python",
   "nbconvert_exporter": "python",
   "pygments_lexer": "ipython3",
   "version": "3.7.4"
  }
 },
 "nbformat": 4,
 "nbformat_minor": 5
}
