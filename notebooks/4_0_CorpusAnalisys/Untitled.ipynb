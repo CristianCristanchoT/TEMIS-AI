{
 "cells": [
  {
   "cell_type": "code",
   "execution_count": 1,
   "id": "attached-intro",
   "metadata": {},
   "outputs": [],
   "source": [
    "import nltk\n",
    "from tqdm import tqdm\n",
    "from nltk.probability import FreqDist\n",
    "import matplotlib.pyplot as plt\n",
    "import numpy as np"
   ]
  },
  {
   "cell_type": "code",
   "execution_count": 2,
   "id": "beginning-commander",
   "metadata": {},
   "outputs": [],
   "source": [
    "my_file = open(\"../DATA/corpus.txt\", \"r\", encoding='UTF-8')"
   ]
  },
  {
   "cell_type": "code",
   "execution_count": 3,
   "id": "reflected-horizon",
   "metadata": {},
   "outputs": [],
   "source": [
    "corpus = my_file.read()"
   ]
  },
  {
   "cell_type": "code",
   "execution_count": 4,
   "id": "duplicate-cyprus",
   "metadata": {},
   "outputs": [],
   "source": [
    "tokens = corpus.split()"
   ]
  },
  {
   "cell_type": "code",
   "execution_count": 5,
   "id": "contained-calculator",
   "metadata": {},
   "outputs": [],
   "source": [
    "del corpus"
   ]
  },
  {
   "cell_type": "code",
   "execution_count": 6,
   "id": "residential-pencil",
   "metadata": {},
   "outputs": [
    {
     "data": {
      "text/plain": [
       "['auto',\n",
       " '10721',\n",
       " 'referencia',\n",
       " 'expediente',\n",
       " 't',\n",
       " '7',\n",
       " '909',\n",
       " '170',\n",
       " 'ac',\n",
       " 'acción',\n",
       " 'de',\n",
       " 'tutela',\n",
       " 'promovida',\n",
       " 'por',\n",
       " 'carmen',\n",
       " 'alicia',\n",
       " 'rodríguez',\n",
       " 'berrío',\n",
       " 'y',\n",
       " 'otros']"
      ]
     },
     "execution_count": 6,
     "metadata": {},
     "output_type": "execute_result"
    }
   ],
   "source": [
    "tokens[:20]"
   ]
  },
  {
   "cell_type": "code",
   "execution_count": 6,
   "id": "front-office",
   "metadata": {},
   "outputs": [
    {
     "data": {
      "text/plain": [
       "283956489"
      ]
     },
     "execution_count": 6,
     "metadata": {},
     "output_type": "execute_result"
    }
   ],
   "source": [
    "len(tokens)"
   ]
  },
  {
   "cell_type": "code",
   "execution_count": 7,
   "id": "finnish-photography",
   "metadata": {},
   "outputs": [
    {
     "name": "stdout",
     "output_type": "stream",
     "text": [
      "470163\n"
     ]
    }
   ],
   "source": [
    "vacabulario = sorted(set(tokens)) #Extrae palabras unicas\n",
    "print(len(vacabulario))"
   ]
  },
  {
   "cell_type": "code",
   "execution_count": null,
   "id": "portuguese-grace",
   "metadata": {},
   "outputs": [],
   "source": [
    "dic = {}\n",
    "for palabra in tqdm(vacabulario):\n",
    "  dic[palabra] = tokens.count(palabra)"
   ]
  },
  {
   "cell_type": "code",
   "execution_count": null,
   "id": "breathing-essay",
   "metadata": {},
   "outputs": [],
   "source": []
  },
  {
   "cell_type": "code",
   "execution_count": null,
   "id": "agricultural-tragedy",
   "metadata": {},
   "outputs": [],
   "source": []
  },
  {
   "cell_type": "code",
   "execution_count": null,
   "id": "dangerous-biology",
   "metadata": {},
   "outputs": [],
   "source": []
  },
  {
   "cell_type": "code",
   "execution_count": null,
   "id": "atomic-september",
   "metadata": {},
   "outputs": [],
   "source": []
  }
 ],
 "metadata": {
  "kernelspec": {
   "display_name": "Python 3",
   "language": "python",
   "name": "python3"
  },
  "language_info": {
   "codemirror_mode": {
    "name": "ipython",
    "version": 3
   },
   "file_extension": ".py",
   "mimetype": "text/x-python",
   "name": "python",
   "nbconvert_exporter": "python",
   "pygments_lexer": "ipython3",
   "version": "3.7.4"
  }
 },
 "nbformat": 4,
 "nbformat_minor": 5
}
