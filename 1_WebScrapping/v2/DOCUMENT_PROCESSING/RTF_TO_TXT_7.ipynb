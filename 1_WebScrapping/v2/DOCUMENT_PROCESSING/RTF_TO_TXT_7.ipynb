{
 "cells": [
  {
   "cell_type": "code",
   "execution_count": 1,
   "id": "signed-telling",
   "metadata": {},
   "outputs": [],
   "source": [
    "import os\n",
    "import subprocess\n",
    "from subprocess import Popen, PIPE\n",
    "import glob\n",
    "from tqdm import tqdm "
   ]
  },
  {
   "cell_type": "code",
   "execution_count": null,
   "id": "express-determination",
   "metadata": {},
   "outputs": [],
   "source": []
  },
  {
   "cell_type": "code",
   "execution_count": 2,
   "id": "advance-genius",
   "metadata": {},
   "outputs": [],
   "source": [
    "source_folder = 'C:/Users/crist/Desktop/TEMIS-AI/1_WebScrapping/v2/DOCUMENT_PROCESSING/DOCUMENTS'\n",
    "target_folder = 'C:/Users/crist/Desktop/TEMIS-AI/1_WebScrapping/v2/DOCUMENT_PROCESSING/TXT'"
   ]
  },
  {
   "cell_type": "code",
   "execution_count": 3,
   "id": "occupied-gravity",
   "metadata": {},
   "outputs": [
    {
     "name": "stderr",
     "output_type": "stream",
     "text": [
      "100%|██████████| 35737/35737 [00:00<00:00, 700743.52it/s]\n"
     ]
    }
   ],
   "source": [
    "files_path = glob.glob('C:/Users/crist/Desktop/TEMIS-AI/1_WebScrapping/v2/DOCUMENT_PROCESSING/DOCUMENTS/*', \n",
    "                   recursive = True)\n",
    "files = []\n",
    "\n",
    "for file_path in tqdm(files_path):\n",
    "    file = file_path.replace('C:/Users/crist/Desktop/TEMIS-AI/1_WebScrapping/v2/DOCUMENT_PROCESSING/DOCUMENTS\\\\','')\n",
    "    file = file.replace('.rtf','')\n",
    "    files.append(file)\n",
    "    \n",
    "    "
   ]
  },
  {
   "cell_type": "code",
   "execution_count": 4,
   "id": "mediterranean-promotion",
   "metadata": {},
   "outputs": [
    {
     "data": {
      "text/plain": [
       "['A001-00', 'A001-01', 'A001-02', 'A001-03', 'A001-04']"
      ]
     },
     "execution_count": 4,
     "metadata": {},
     "output_type": "execute_result"
    }
   ],
   "source": [
    "files[0:5]"
   ]
  },
  {
   "cell_type": "markdown",
   "id": "established-january",
   "metadata": {},
   "source": [
    "1. files[0:4467]\n",
    "2. files[4467:8934]\n",
    "3. files[8934:13401]\n",
    "4. files[13401:17868]\n",
    "5. files[17868:22335]\n",
    "6. files[22335:26802]\n",
    "7. files[26802:31269]\n",
    "8. files[31269:35737]"
   ]
  },
  {
   "cell_type": "code",
   "execution_count": 5,
   "id": "spread-rugby",
   "metadata": {},
   "outputs": [
    {
     "data": {
      "text/plain": [
       "35737"
      ]
     },
     "execution_count": 5,
     "metadata": {},
     "output_type": "execute_result"
    }
   ],
   "source": [
    "len(files)"
   ]
  },
  {
   "cell_type": "code",
   "execution_count": 6,
   "id": "split-ethernet",
   "metadata": {},
   "outputs": [
    {
     "data": {
      "text/plain": [
       "'T-999A-01'"
      ]
     },
     "execution_count": 6,
     "metadata": {},
     "output_type": "execute_result"
    }
   ],
   "source": [
    "files[35736]"
   ]
  },
  {
   "cell_type": "code",
   "execution_count": 7,
   "id": "informal-special",
   "metadata": {
    "tags": []
   },
   "outputs": [
    {
     "name": "stderr",
     "output_type": "stream",
     "text": [
      "100%|██████████| 4467/4467 [4:23:32<00:00,  3.54s/it]  \n"
     ]
    }
   ],
   "source": [
    "for file in tqdm(files[26802:31269]):\n",
    "    \n",
    "    file_name = file\n",
    "    command = 'docto -f ' + source_folder + '/' + file_name + '.rtf' + ' -O \"' + target_folder + '/' + file_name + '.txt\" -T wdFormatText' \n",
    "    #print(command)\n",
    "    process = Popen(command, stdout=PIPE, stderr=PIPE)\n",
    "    stdout, stderr = process.communicate()\n",
    "    #print(stdout)\n"
   ]
  },
  {
   "cell_type": "code",
   "execution_count": null,
   "id": "dated-grant",
   "metadata": {},
   "outputs": [],
   "source": []
  },
  {
   "cell_type": "code",
   "execution_count": null,
   "id": "monetary-enterprise",
   "metadata": {},
   "outputs": [],
   "source": []
  }
 ],
 "metadata": {
  "kernelspec": {
   "display_name": "Python 3",
   "language": "python",
   "name": "python3"
  },
  "language_info": {
   "codemirror_mode": {
    "name": "ipython",
    "version": 3
   },
   "file_extension": ".py",
   "mimetype": "text/x-python",
   "name": "python",
   "nbconvert_exporter": "python",
   "pygments_lexer": "ipython3",
   "version": "3.8.8"
  }
 },
 "nbformat": 4,
 "nbformat_minor": 5
}
