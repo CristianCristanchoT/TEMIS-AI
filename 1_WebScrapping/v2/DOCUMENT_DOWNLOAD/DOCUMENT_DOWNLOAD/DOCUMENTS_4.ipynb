{
 "cells": [
  {
   "cell_type": "code",
   "execution_count": 1,
   "id": "urban-facial",
   "metadata": {},
   "outputs": [],
   "source": [
    "import requests\n",
    "import pandas as pd\n",
    "from tqdm import tqdm \n",
    "from tqdm import trange\n",
    "import time\n",
    "import io"
   ]
  },
  {
   "cell_type": "code",
   "execution_count": 2,
   "id": "uniform-namibia",
   "metadata": {},
   "outputs": [],
   "source": [
    "root_csv = ''\n",
    "LINKS = pd.read_csv(root_csv +'LINKS_4.csv') "
   ]
  },
  {
   "cell_type": "code",
   "execution_count": 3,
   "id": "loaded-values",
   "metadata": {},
   "outputs": [
    {
     "data": {
      "text/html": [
       "<div>\n",
       "<style scoped>\n",
       "    .dataframe tbody tr th:only-of-type {\n",
       "        vertical-align: middle;\n",
       "    }\n",
       "\n",
       "    .dataframe tbody tr th {\n",
       "        vertical-align: top;\n",
       "    }\n",
       "\n",
       "    .dataframe thead th {\n",
       "        text-align: right;\n",
       "    }\n",
       "</style>\n",
       "<table border=\"1\" class=\"dataframe\">\n",
       "  <thead>\n",
       "    <tr style=\"text-align: right;\">\n",
       "      <th></th>\n",
       "      <th>INDEX</th>\n",
       "      <th>LINK</th>\n",
       "      <th>LINK_RTF</th>\n",
       "    </tr>\n",
       "  </thead>\n",
       "  <tbody>\n",
       "    <tr>\n",
       "      <th>0</th>\n",
       "      <td>T-723-12</td>\n",
       "      <td>https://www.corteconstitucional.gov.co/Relator...</td>\n",
       "      <td>https://www.corteconstitucional.gov.co/sentenc...</td>\n",
       "    </tr>\n",
       "    <tr>\n",
       "      <th>1</th>\n",
       "      <td>T-722-12</td>\n",
       "      <td>https://www.corteconstitucional.gov.co/Relator...</td>\n",
       "      <td>https://www.corteconstitucional.gov.co/sentenc...</td>\n",
       "    </tr>\n",
       "    <tr>\n",
       "      <th>2</th>\n",
       "      <td>T-721-12</td>\n",
       "      <td>https://www.corteconstitucional.gov.co/Relator...</td>\n",
       "      <td>https://www.corteconstitucional.gov.co/sentenc...</td>\n",
       "    </tr>\n",
       "    <tr>\n",
       "      <th>3</th>\n",
       "      <td>T-720-12</td>\n",
       "      <td>https://www.corteconstitucional.gov.co/Relator...</td>\n",
       "      <td>https://www.corteconstitucional.gov.co/sentenc...</td>\n",
       "    </tr>\n",
       "    <tr>\n",
       "      <th>4</th>\n",
       "      <td>T-719-12</td>\n",
       "      <td>https://www.corteconstitucional.gov.co/Relator...</td>\n",
       "      <td>https://www.corteconstitucional.gov.co/sentenc...</td>\n",
       "    </tr>\n",
       "    <tr>\n",
       "      <th>...</th>\n",
       "      <td>...</td>\n",
       "      <td>...</td>\n",
       "      <td>...</td>\n",
       "    </tr>\n",
       "    <tr>\n",
       "      <th>5145</th>\n",
       "      <td>T-1060-07</td>\n",
       "      <td>https://www.corteconstitucional.gov.co/Relator...</td>\n",
       "      <td>https://www.corteconstitucional.gov.co/sentenc...</td>\n",
       "    </tr>\n",
       "    <tr>\n",
       "      <th>5146</th>\n",
       "      <td>T-1059-07</td>\n",
       "      <td>https://www.corteconstitucional.gov.co/Relator...</td>\n",
       "      <td>https://www.corteconstitucional.gov.co/sentenc...</td>\n",
       "    </tr>\n",
       "    <tr>\n",
       "      <th>5147</th>\n",
       "      <td>T-1058-07</td>\n",
       "      <td>https://www.corteconstitucional.gov.co/Relator...</td>\n",
       "      <td>https://www.corteconstitucional.gov.co/sentenc...</td>\n",
       "    </tr>\n",
       "    <tr>\n",
       "      <th>5148</th>\n",
       "      <td>T-1057-07</td>\n",
       "      <td>https://www.corteconstitucional.gov.co/Relator...</td>\n",
       "      <td>https://www.corteconstitucional.gov.co/sentenc...</td>\n",
       "    </tr>\n",
       "    <tr>\n",
       "      <th>5149</th>\n",
       "      <td>T-1056-07</td>\n",
       "      <td>https://www.corteconstitucional.gov.co/Relator...</td>\n",
       "      <td>https://www.corteconstitucional.gov.co/sentenc...</td>\n",
       "    </tr>\n",
       "  </tbody>\n",
       "</table>\n",
       "<p>5150 rows × 3 columns</p>\n",
       "</div>"
      ],
      "text/plain": [
       "           INDEX                                               LINK  \\\n",
       "0       T-723-12  https://www.corteconstitucional.gov.co/Relator...   \n",
       "1       T-722-12  https://www.corteconstitucional.gov.co/Relator...   \n",
       "2       T-721-12  https://www.corteconstitucional.gov.co/Relator...   \n",
       "3       T-720-12  https://www.corteconstitucional.gov.co/Relator...   \n",
       "4       T-719-12  https://www.corteconstitucional.gov.co/Relator...   \n",
       "...          ...                                                ...   \n",
       "5145   T-1060-07  https://www.corteconstitucional.gov.co/Relator...   \n",
       "5146   T-1059-07  https://www.corteconstitucional.gov.co/Relator...   \n",
       "5147   T-1058-07  https://www.corteconstitucional.gov.co/Relator...   \n",
       "5148   T-1057-07  https://www.corteconstitucional.gov.co/Relator...   \n",
       "5149   T-1056-07  https://www.corteconstitucional.gov.co/Relator...   \n",
       "\n",
       "                                               LINK_RTF  \n",
       "0     https://www.corteconstitucional.gov.co/sentenc...  \n",
       "1     https://www.corteconstitucional.gov.co/sentenc...  \n",
       "2     https://www.corteconstitucional.gov.co/sentenc...  \n",
       "3     https://www.corteconstitucional.gov.co/sentenc...  \n",
       "4     https://www.corteconstitucional.gov.co/sentenc...  \n",
       "...                                                 ...  \n",
       "5145  https://www.corteconstitucional.gov.co/sentenc...  \n",
       "5146  https://www.corteconstitucional.gov.co/sentenc...  \n",
       "5147  https://www.corteconstitucional.gov.co/sentenc...  \n",
       "5148  https://www.corteconstitucional.gov.co/sentenc...  \n",
       "5149  https://www.corteconstitucional.gov.co/sentenc...  \n",
       "\n",
       "[5150 rows x 3 columns]"
      ]
     },
     "execution_count": 3,
     "metadata": {},
     "output_type": "execute_result"
    }
   ],
   "source": [
    "LINKS"
   ]
  },
  {
   "cell_type": "code",
   "execution_count": null,
   "id": "approximate-infrastructure",
   "metadata": {
    "jupyter": {
     "source_hidden": true
    },
    "tags": []
   },
   "outputs": [
    {
     "name": "stderr",
     "output_type": "stream",
     "text": [
      "1395it [58:57, 784.95s/it]"
     ]
    },
    {
     "name": "stdout",
     "output_type": "stream",
     "text": [
      "Error!: (\"Connection broken: ConnectionAbortedError(10053, 'An established connection was aborted by the software in your host machine', None, 10053, None)\", ConnectionAbortedError(10053, 'An established connection was aborted by the software in your host machine', None, 10053, None))\n",
      "Problema en: https://www.corteconstitucional.gov.co/sentencias/2011/T-235-11.rtf\n"
     ]
    },
    {
     "name": "stderr",
     "output_type": "stream",
     "text": [
      "1409it [1:02:10, 26.79s/it] "
     ]
    },
    {
     "name": "stdout",
     "output_type": "stream",
     "text": [
      "Error!: (\"Connection broken: ConnectionAbortedError(10053, 'An established connection was aborted by the software in your host machine', None, 10053, None)\", ConnectionAbortedError(10053, 'An established connection was aborted by the software in your host machine', None, 10053, None))\n",
      "Problema en: https://www.corteconstitucional.gov.co/sentencias/2011/T-209-11.rtf\n"
     ]
    },
    {
     "name": "stderr",
     "output_type": "stream",
     "text": [
      "1475it [1:05:01,  1.60it/s]"
     ]
    }
   ],
   "source": [
    "documents_folder = 'DOCUMENTS/'\n",
    "\n",
    "for index, row in tqdm(LINKS.iterrows()):\n",
    "    \n",
    "    try:\n",
    "        \n",
    "        #print(row['INDEX'], row['LINK_RTF'])\n",
    "        url = row['LINK_RTF'].strip(' ')\n",
    "        file = io.BytesIO(requests.get(url).content)\n",
    "        document_name = documents_folder + row['INDEX'].strip(' ') + '.rtf'\n",
    "        f = open(document_name, \"wb\")\n",
    "        f.write(file.read())\n",
    "        f.close()\n",
    "        \n",
    "    except Exception as e:\n",
    "                \n",
    "        print(\"Error!: \" + str(e))\n",
    "        print('Problema en: '+ url)\n",
    "\n"
   ]
  },
  {
   "cell_type": "code",
   "execution_count": null,
   "id": "portuguese-flashing",
   "metadata": {},
   "outputs": [],
   "source": [
    "1475it  "
   ]
  },
  {
   "cell_type": "code",
   "execution_count": 4,
   "id": "funded-washington",
   "metadata": {
    "tags": []
   },
   "outputs": [
    {
     "name": "stderr",
     "output_type": "stream",
     "text": [
      "  0%|          | 1/3675 [00:23<23:38:32, 23.17s/it]"
     ]
    },
    {
     "name": "stdout",
     "output_type": "stream",
     "text": [
      "Error!: HTTPSConnectionPool(host='www.corteconstitucional.gov.co', port=443): Read timed out.\n",
      "Problema en: https://www.corteconstitucional.gov.co/sentencias/2011/T-129-11.rtf\n",
      "ierador en: 1475\n"
     ]
    },
    {
     "name": "stderr",
     "output_type": "stream",
     "text": [
      "100%|██████████| 3675/3675 [44:01<00:00,  1.39it/s]  \n"
     ]
    }
   ],
   "source": [
    "documents_folder = 'DOCUMENTS/'\n",
    "\n",
    "session = requests.Session()\n",
    "headers = {\"User-Agent\": \"Mozilla/5.0 (X11; CrOS x86_64 12871.102.0) AppleWebKit/537.36 (KHTML, like Gecko) Chrome/81.0.4044.141 Safari/537.36\"}\n",
    "\n",
    "for i in tqdm(range(1475,LINKS.shape[0])):\n",
    "    try:\n",
    "        \n",
    "        #print(row['INDEX'], row['LINK_RTF'])\n",
    "        url = LINKS.iloc[i]['LINK_RTF'].strip(' ')\n",
    "        #print(url)\n",
    "        file = io.BytesIO(session.get(url, headers=headers, timeout=10).content)\n",
    "        document_name = documents_folder + LINKS.iloc[i]['INDEX'].strip(' ') + '.rtf'\n",
    "        #print(document_name)\n",
    "        f = open(document_name, \"wb\")\n",
    "        f.write(file.read())\n",
    "        f.close()\n",
    "        time.sleep(0.5)\n",
    "        \n",
    "    except Exception as e:\n",
    "                \n",
    "        print(\"Error!: \" + str(e))\n",
    "        print('Problema en: '+ url)\n",
    "        print('ierador en: '+ str(i))"
   ]
  },
  {
   "cell_type": "code",
   "execution_count": null,
   "id": "based-terminal",
   "metadata": {},
   "outputs": [],
   "source": []
  }
 ],
 "metadata": {
  "kernelspec": {
   "display_name": "Python 3",
   "language": "python",
   "name": "python3"
  },
  "language_info": {
   "codemirror_mode": {
    "name": "ipython",
    "version": 3
   },
   "file_extension": ".py",
   "mimetype": "text/x-python",
   "name": "python",
   "nbconvert_exporter": "python",
   "pygments_lexer": "ipython3",
   "version": "3.8.8"
  }
 },
 "nbformat": 4,
 "nbformat_minor": 5
}
