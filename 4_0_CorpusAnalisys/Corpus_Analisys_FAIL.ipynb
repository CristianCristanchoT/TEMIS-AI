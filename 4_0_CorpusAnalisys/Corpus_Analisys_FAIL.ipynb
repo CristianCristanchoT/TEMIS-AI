{
 "cells": [
  {
   "cell_type": "code",
   "execution_count": 1,
   "id": "artistic-window",
   "metadata": {},
   "outputs": [],
   "source": [
    "import nltk\n",
    "from tqdm import tqdm\n",
    "from nltk.probability import FreqDist\n",
    "import matplotlib.pyplot as plt\n",
    "import numpy as np"
   ]
  },
  {
   "cell_type": "code",
   "execution_count": 2,
   "id": "forced-disposition",
   "metadata": {},
   "outputs": [],
   "source": [
    "my_file = open(\"../DATA/corpus.txt\", \"r\", encoding='UTF-8')"
   ]
  },
  {
   "cell_type": "code",
   "execution_count": 3,
   "id": "cooperative-combine",
   "metadata": {},
   "outputs": [],
   "source": [
    "content = my_file.read()"
   ]
  },
  {
   "cell_type": "code",
   "execution_count": 4,
   "id": "preceding-installation",
   "metadata": {},
   "outputs": [],
   "source": [
    "corpus = content.split()"
   ]
  },
  {
   "cell_type": "code",
   "execution_count": 5,
   "id": "auburn-optics",
   "metadata": {},
   "outputs": [],
   "source": [
    "del content"
   ]
  },
  {
   "cell_type": "code",
   "execution_count": 6,
   "id": "declared-young",
   "metadata": {},
   "outputs": [
    {
     "data": {
      "text/plain": [
       "['auto',\n",
       " '10721',\n",
       " 'referencia',\n",
       " 'expediente',\n",
       " 't',\n",
       " '7',\n",
       " '909',\n",
       " '170',\n",
       " 'ac',\n",
       " 'acción',\n",
       " 'de',\n",
       " 'tutela',\n",
       " 'promovida',\n",
       " 'por',\n",
       " 'carmen',\n",
       " 'alicia',\n",
       " 'rodríguez',\n",
       " 'berrío',\n",
       " 'y',\n",
       " 'otros']"
      ]
     },
     "execution_count": 6,
     "metadata": {},
     "output_type": "execute_result"
    }
   ],
   "source": [
    "corpus[:20]"
   ]
  },
  {
   "cell_type": "code",
   "execution_count": 7,
   "id": "trying-zambia",
   "metadata": {},
   "outputs": [
    {
     "data": {
      "text/plain": [
       "283956489"
      ]
     },
     "execution_count": 7,
     "metadata": {},
     "output_type": "execute_result"
    }
   ],
   "source": [
    "len(corpus)"
   ]
  },
  {
   "cell_type": "code",
   "execution_count": 8,
   "id": "chicken-luther",
   "metadata": {},
   "outputs": [
    {
     "name": "stdout",
     "output_type": "stream",
     "text": [
      "470163\n"
     ]
    }
   ],
   "source": [
    "vacabulario = sorted(set(corpus)) #Extrae palabras unicas\n",
    "print(len(vacabulario))"
   ]
  },
  {
   "cell_type": "code",
   "execution_count": 9,
   "id": "rapid-empire",
   "metadata": {},
   "outputs": [
    {
     "name": "stdout",
     "output_type": "stream",
     "text": [
      "0.001655757195955469\n"
     ]
    }
   ],
   "source": [
    "riqueza_lexica = len(vacabulario)/len(corpus)\n",
    "print(riqueza_lexica)"
   ]
  },
  {
   "cell_type": "code",
   "execution_count": 10,
   "id": "potential-advice",
   "metadata": {},
   "outputs": [],
   "source": [
    "fdist = FreqDist(corpus)"
   ]
  },
  {
   "cell_type": "code",
   "execution_count": null,
   "id": "norwegian-atlantic",
   "metadata": {},
   "outputs": [],
   "source": [
    "fdist.plot(20)"
   ]
  },
  {
   "cell_type": "markdown",
   "id": "worthy-intent",
   "metadata": {},
   "source": [
    "## Intento 2"
   ]
  },
  {
   "cell_type": "code",
   "execution_count": 6,
   "id": "comprehensive-alliance",
   "metadata": {},
   "outputs": [
    {
     "name": "stderr",
     "output_type": "stream",
     "text": [
      "[nltk_data] Downloading package punkt to\n",
      "[nltk_data]     C:\\Users\\crist\\AppData\\Roaming\\nltk_data...\n",
      "[nltk_data]   Unzipping tokenizers\\punkt.zip.\n"
     ]
    },
    {
     "data": {
      "text/plain": [
       "True"
      ]
     },
     "execution_count": 6,
     "metadata": {},
     "output_type": "execute_result"
    }
   ],
   "source": [
    "nltk.download('punkt')"
   ]
  },
  {
   "cell_type": "code",
   "execution_count": 3,
   "id": "successful-short",
   "metadata": {},
   "outputs": [],
   "source": [
    "my_file = open(\"../DATA/corpus.txt\", \"r\", encoding='UTF-8')"
   ]
  },
  {
   "cell_type": "code",
   "execution_count": 4,
   "id": "immune-compression",
   "metadata": {},
   "outputs": [],
   "source": [
    "corpus = my_file.read()"
   ]
  },
  {
   "cell_type": "code",
   "execution_count": null,
   "id": "surface-boston",
   "metadata": {},
   "outputs": [],
   "source": [
    "tokens = nltk.tokenize.word_tokenize(corpus)"
   ]
  },
  {
   "cell_type": "code",
   "execution_count": null,
   "id": "junior-oasis",
   "metadata": {},
   "outputs": [],
   "source": [
    "del corpus"
   ]
  },
  {
   "cell_type": "code",
   "execution_count": null,
   "id": "expensive-generation",
   "metadata": {},
   "outputs": [],
   "source": [
    "tokens"
   ]
  },
  {
   "cell_type": "code",
   "execution_count": null,
   "id": "attractive-jefferson",
   "metadata": {},
   "outputs": [],
   "source": []
  },
  {
   "cell_type": "code",
   "execution_count": null,
   "id": "stainless-differential",
   "metadata": {},
   "outputs": [],
   "source": []
  },
  {
   "cell_type": "code",
   "execution_count": null,
   "id": "enhanced-medicare",
   "metadata": {},
   "outputs": [],
   "source": []
  }
 ],
 "metadata": {
  "kernelspec": {
   "display_name": "Python 3",
   "language": "python",
   "name": "python3"
  },
  "language_info": {
   "codemirror_mode": {
    "name": "ipython",
    "version": 3
   },
   "file_extension": ".py",
   "mimetype": "text/x-python",
   "name": "python",
   "nbconvert_exporter": "python",
   "pygments_lexer": "ipython3",
   "version": "3.7.4"
  }
 },
 "nbformat": 4,
 "nbformat_minor": 5
}
