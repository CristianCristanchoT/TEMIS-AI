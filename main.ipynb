{
 "cells": [
  {
   "cell_type": "code",
   "execution_count": 1,
   "id": "remarkable-matrix",
   "metadata": {},
   "outputs": [
    {
     "name": "stdout",
     "output_type": "stream",
     "text": [
      "INFO:tensorflow:Enabling eager execution\n",
      "INFO:tensorflow:Enabling v2 tensorshape\n",
      "INFO:tensorflow:Enabling resource variables\n",
      "INFO:tensorflow:Enabling tensor equality\n",
      "INFO:tensorflow:Enabling control flow v2\n"
     ]
    },
    {
     "name": "stderr",
     "output_type": "stream",
     "text": [
      "[nltk_data] Downloading package stopwords to\n",
      "[nltk_data]     /home/caicardo/nltk_data...\n",
      "[nltk_data]   Package stopwords is already up-to-date!\n",
      "[nltk_data] Downloading package punkt to /home/caicardo/nltk_data...\n",
      "[nltk_data]   Package punkt is already up-to-date!\n",
      "[nltk_data] Downloading package wordnet to /home/caicardo/nltk_data...\n",
      "[nltk_data]   Package wordnet is already up-to-date!\n",
      "[nltk_data] Downloading package stopwords to\n",
      "[nltk_data]     /home/caicardo/nltk_data...\n",
      "[nltk_data]   Package stopwords is already up-to-date!\n"
     ]
    }
   ],
   "source": [
    "import logging\n",
    "from train.train_search import train_search\n",
    "from train.train_lda import train_lda\n",
    "from core.search_run import SearchEngine, wv_vectorizer\n",
    "from core.lda_run import LDAEngine\n",
    "\n",
    "from core.preprocess import *\n",
    "from core.settings import *"
   ]
  },
  {
   "cell_type": "code",
   "execution_count": 2,
   "id": "variable-survey",
   "metadata": {},
   "outputs": [],
   "source": [
    "import numpy as np\n",
    "import pandas as pd"
   ]
  },
  {
   "cell_type": "code",
   "execution_count": 3,
   "id": "deluxe-passion",
   "metadata": {},
   "outputs": [],
   "source": [
    "logger = logging.getLogger(__name__)\n",
    "logger.setLevel(logging.DEBUG)"
   ]
  },
  {
   "cell_type": "markdown",
   "id": "nervous-player",
   "metadata": {},
   "source": [
    "## Carga de dataset"
   ]
  },
  {
   "cell_type": "code",
   "execution_count": 4,
   "id": "split-throat",
   "metadata": {},
   "outputs": [
    {
     "name": "stdout",
     "output_type": "stream",
     "text": [
      "CPU times: user 36.6 s, sys: 2.47 s, total: 39 s\n",
      "Wall time: 41.9 s\n"
     ]
    }
   ],
   "source": [
    "%%time\n",
    "df = pd.read_csv(PP_DATA_PATH)\n",
    "logger.info(\"Dataframe cargado.\")\n",
    "\n",
    "df.dropna(inplace=True)\n",
    "logger.info(\"Registros nulos removidos.\")"
   ]
  },
  {
   "cell_type": "markdown",
   "id": "charitable-chamber",
   "metadata": {},
   "source": [
    "## Entrenamiento"
   ]
  },
  {
   "cell_type": "code",
   "execution_count": null,
   "id": "religious-formation",
   "metadata": {},
   "outputs": [],
   "source": [
    "train_search(dataset_path=PP_DATA_PATH, run_preprocess=False)"
   ]
  },
  {
   "cell_type": "code",
   "execution_count": null,
   "id": "spectacular-contribution",
   "metadata": {},
   "outputs": [],
   "source": [
    "train_lda(dataset_path=PP_DATA_PATH, run_preprocess=False)"
   ]
  },
  {
   "cell_type": "code",
   "execution_count": 5,
   "id": "domestic-night",
   "metadata": {},
   "outputs": [
    {
     "name": "stdout",
     "output_type": "stream",
     "text": [
      "CPU times: user 243 ms, sys: 2.48 s, total: 2.72 s\n",
      "Wall time: 2.74 s\n"
     ]
    }
   ],
   "source": [
    "%%time\n",
    "se = SearchEngine()\n",
    "logger.info(\"Search Engine activa.\")"
   ]
  },
  {
   "cell_type": "code",
   "execution_count": 6,
   "id": "subject-worthy",
   "metadata": {},
   "outputs": [
    {
     "name": "stdout",
     "output_type": "stream",
     "text": [
      "CPU times: user 26.6 s, sys: 44.9 s, total: 1min 11s\n",
      "Wall time: 4min 29s\n"
     ]
    }
   ],
   "source": [
    "%%time\n",
    "se.calculate_doc_vectors(df)\n",
    "logger.info(\"Vectores calculados.\")"
   ]
  },
  {
   "cell_type": "code",
   "execution_count": 7,
   "id": "diagnostic-liquid",
   "metadata": {},
   "outputs": [
    {
     "name": "stdout",
     "output_type": "stream",
     "text": [
      "CPU times: user 19.5 s, sys: 15.5 s, total: 35 s\n",
      "Wall time: 38.6 s\n"
     ]
    }
   ],
   "source": [
    "%%time\n",
    "se.save_vectors()\n",
    "logger.info(\"Vectores Guardados.\")"
   ]
  },
  {
   "cell_type": "markdown",
   "id": "aggressive-victoria",
   "metadata": {},
   "source": [
    "## Carga de vectores entrenados"
   ]
  },
  {
   "cell_type": "code",
   "execution_count": 8,
   "id": "laughing-state",
   "metadata": {},
   "outputs": [
    {
     "name": "stdout",
     "output_type": "stream",
     "text": [
      "(6401514, 100)\n",
      "6401514\n",
      "CPU times: user 3.45 s, sys: 13.1 s, total: 16.6 s\n",
      "Wall time: 20.9 s\n"
     ]
    }
   ],
   "source": [
    "%%time\n",
    "se = SearchEngine()\n",
    "se.load_vectors()"
   ]
  },
  {
   "cell_type": "code",
   "execution_count": 9,
   "id": "significant-moderator",
   "metadata": {},
   "outputs": [],
   "source": [
    "lda = LDAEngine()"
   ]
  },
  {
   "cell_type": "markdown",
   "id": "corporate-swimming",
   "metadata": {},
   "source": [
    "## Búsqueda"
   ]
  },
  {
   "cell_type": "code",
   "execution_count": 18,
   "id": "korean-arena",
   "metadata": {},
   "outputs": [],
   "source": [
    "# busqueda = \"consulta previa\"\n",
    "# busqueda = \"CoNsUlTa PrEvIa\"\n",
    "busqueda = \"Algo de mugre y números pero incluyendo 4.9.8 kjasdjfhbsf CoNsUlTa PrEvIa\""
   ]
  },
  {
   "cell_type": "code",
   "execution_count": 19,
   "id": "neither-jaguar",
   "metadata": {},
   "outputs": [],
   "source": [
    "busqueda = full_preprocess(busqueda)"
   ]
  },
  {
   "cell_type": "code",
   "execution_count": 20,
   "id": "further-diabetes",
   "metadata": {},
   "outputs": [],
   "source": [
    "topics = lda.get_sentence_topics(busqueda)"
   ]
  },
  {
   "cell_type": "code",
   "execution_count": 21,
   "id": "binary-pressing",
   "metadata": {},
   "outputs": [],
   "source": [
    "main_topic = np.argmax([x[1] for x in topics])"
   ]
  },
  {
   "cell_type": "code",
   "execution_count": 22,
   "id": "ambient-buying",
   "metadata": {},
   "outputs": [
    {
     "data": {
      "text/plain": [
       "9"
      ]
     },
     "execution_count": 22,
     "metadata": {},
     "output_type": "execute_result"
    }
   ],
   "source": [
    "main_topic"
   ]
  },
  {
   "cell_type": "code",
   "execution_count": 23,
   "id": "harmful-travel",
   "metadata": {},
   "outputs": [
    {
     "name": "stdout",
     "output_type": "stream",
     "text": [
      "['nulidad', 'tribunal_superior', 'bogotá', 'corte_suprema', 'procesal']\n"
     ]
    }
   ],
   "source": [
    "print([x[0] for x in lda.lda.show_topic(main_topic)][:5])"
   ]
  },
  {
   "cell_type": "code",
   "execution_count": 24,
   "id": "scenic-action",
   "metadata": {},
   "outputs": [
    {
     "name": "stdout",
     "output_type": "stream",
     "text": [
      "Calculando distancias...\n",
      "Retornando 15 documentos.\n",
      "1. T-933-10 - párrafo 80 (Similaridad  59.2%):\n",
      "\n",
      "En su comunicación, Porvenir informó:\n",
      "“1) El número total de semanas en el Régimen de Ahorro Individual según nuestras bases de información ascienden a 637.17. Se destaca que dicho número de semanas no incluye los aportes anteriores al 1 de abril de 1994, por lo que se concluye que esa información no guarda ninguna relación con la solicitud de traslado invocada por el accionante.\n",
      "2) El número de semanas hasta el 1° de abril de 1994 corresponde a 250.57 días según la información reportada vía interactivo[1] por la OBP [Oficina de Bonos Pensionales] del Ministerio de Hacienda y Crédito Público. Esta información sí tiene connotación legal dado que es la necesaria para verificar la posibilidad de que el accionante se traslade (…).”\n",
      "--------------------------------------------------\n",
      "2. A664-17 - párrafo 193 (Similaridad  54.5%):\n",
      "\n",
      "(2) Pagos legales y extraordinarios, contribuciones de nómina, transferencias legales y extraordinarias (sin pensiones)\n",
      "(3) Los mismos del número (2) incluidas las pensiones\n",
      "(4) Pagos extraordinarios, bonificaciones, plan complementario de salud, Fondo de Vivienda y otras transferencias\n",
      "--------------------------------------------------\n",
      "3. T-966-07 - párrafo 152 (Similaridad  53.7%):\n",
      "\n",
      "- Listado de treinta y cinco jefes de hogar que han sido beneficiados con el subsidio de vivienda (folios 193 y 194 del cuaderno de pruebas número 1).\n",
      "- Impresión de la consulta efectuada en la “información histórica de cédula” correspondiente a la base de datos del Ministerio de Ambiente, Vivienda y Desarrollo Territorial (folios 199 a 265 del cuaderno de pruebas número 1).\n",
      "- Fotocopia de la Resolución 818 de 2004, expedida por el Fondo Nacional de Vivienda, “Por la cual se asignan seis mil novecientos treinta y un (6.931) subsidios familiares de vivienda urbana en los programas de retorno y reubicación para adquisición de vivienda nueva o usada, correspondientes a los recursos de bolsa para población desplazada por la violencia” (folios 266 a 342 del cuaderno de pruebas número 1).\n",
      "--------------------------------------------------\n",
      "4. C-567-97 - párrafo 136 (Similaridad  53.0%):\n",
      "\n",
      "Respecto al espíritu de la ley señala que en la exposición de motivos se estableció que “consistía en garantizar que los aspirantes a ocupar cargo o empleo público o a celebrar contrato de prestación de servicios con la administración, suministren información completa y fidedigna, que permita una evaluación acertada acerca de la idoneidad y probidad de los mismos, con el fin de que la administración, pueda tener certeza de que dichos aspirantes, efectivamente reúnen los requisitos exigidos y no tienen ningún impedimento para ocupar cargos o empleos, o celebrar contratos”.\n",
      "Adicionalmente cita un aparte de la sentencia radicada con el número 793, de la Sala de Consulta y Servicio Civil del Consejo de Estado, M.P Javier Henao Hidrón:\n",
      "“La ley se orienta en el sentido de conformar un sistema de control sobre el reclutamiento de los servidores públicos, para lo cual exige a los aspirantes a ocupar un cargo o empleo público el diligenciamiento del formato único de hoja de vida y crea el sistema único de información de personal, además, en desarrollo del precepto constitucional contenido en el artículo 122, exige como requisito para la posesión y para el desempeño del cargo, que el nombrado haga bajo juramento una declaración que contenga la información pertinente sobre sus bienes, rentas y actividad económica privada”. \n",
      "--------------------------------------------------\n",
      "5. T-546-15 - párrafo 109 (Similaridad  53.0%):\n",
      "\n",
      "· Copia de la consulta realizada en el Fondo de Solidaridad y Garantía en Salud-FOSYGA- respecto de la afiliación del señor Sergio en el sistema (folios 61 a 64)\n",
      "· Copia de la consulta realizada en el SISBEN con el número de cédula del señor Sergio (folio 65).\n",
      "· Copia de la consulta realizada en la Registraduria Nacional del Estado Civil sobre el estado de las cédulas de ciudadanía de la señora Leonor y del señor Sergio (folios 67 y 68).\n",
      "--------------------------------------------------\n",
      "6. T-1215-03 - párrafo 264 (Similaridad  52.7%):\n",
      "\n",
      "[1] Las pruebas solicitadas por esta Sala y que fueron remitidas por el Tribunal Superior de Ibagué se encuentran a folios 129 a 150 del expediente.\n",
      "[2] Por auto del 29 de enero de 2003 la Corte excluyó de revisión el expediente radicado con el número T-687328, correspondiente a la acción de tutela que en forma independiente promovió el señor Querubín Ayala contra la Presidencia de la República y otros, tramitada en la Sala Civil-Familia del Tribunal Superior de Ibagué.\n",
      "[3] Al respecto, ver las sentencia C-426 de 1997, T-001 de 1997, T-443 de 2000, T-883 de 2001, entre otras.\n",
      "--------------------------------------------------\n",
      "7. T-1026-10 - párrafo 352 (Similaridad  52.3%):\n",
      "\n",
      "La otra causal general de procedibilidad de la acción de tutela contra providencias judiciales es el haber agotado los recursos ordinarios de que disponía el actor de la acción constitucional contra la providencia controvertida.\n",
      "Al respecto concluye la Sala que no se cumplió con dicha exigencia lo que determinará declarar la improcedencia de la acción de tutela respecto del auto de 27 de enero de 2010.\n",
      "En primer lugar debe manifestarse que, en criterio de la Sala, no le asiste razón al Tribunal Superior de Distrito de Santa Rosa de Viterbo cuando afirma que contra su decisión no procede recurso alguno. Por el contrario, la Sala acoge el parecer del actor de tutela que sostiene la procedencia de recursos contra dicha providencia. Al respecto manifestó el Tribunal\n",
      "--------------------------------------------------\n",
      "8. C-077-17 - párrafo 2423 (Similaridad  52.1%):\n",
      "\n",
      "Debe aclarar la Corte que la referencia a este último precepto no implica pronunciamiento de constitucionalidad sobre su contenido material, el cual será examinado en el aparte de esta sentencia que se pronuncie sobre los vicios de fondo propuestos en las demandas, uno de los cuales se dirige contra el artículo 29.\n",
      "Contrario a lo que sostienen los demandantes y quienes avalan la inexequibilidad por ausencia de consulta previa legislativa, esta medida permitirá que mediante la consulta previa administrativa se pueda realizar de manera focalizada en las poblaciones directamente concernidas, titulares del derechos fundamental a la consulta previa, el proceso consultivo correspondiente, el cual debe utilizar mecanismos apropiados para proteger genuinamente sus derechos, garantizar el respeto de su integridad, y conducir a la adopción de las medidas que se requieran para salvaguardar a sus integrantes, sus instituciones, sus bienes, su trabajo, su cultura y el medio ambiente.\n",
      "Esa manera amplia, genérica, con altos niveles de abstracción como se describen en la ley enjuiciada las zonas del país potencialmente aptas para una Zidres, impide identificar una incidencia directa de la medida legislativa sobre comunidades étnicamente diferenciadas en forma distinta a la que se generaría frente al resto de la población ubicada en zonas apartadas del territorio nacional, con baja densidad poblacional, con dificultades de acceso y altos índices de pobreza. Esa misma configuración normativa genérica impide identificar cargas o beneficios que impliquen la modificación de la situación o posición jurídica de comunidades indígenas, negras o tribales. La ley tiene como destinatarios a la población campesina, el empresariado, e involucra a una multiplicidad de actores institucionales y privados, sin que sea posible identificar medidas que de manera directa y específica afecten positiva o negativamente a comunidades que sean titulares de la consulta; si este nivel de afectación focalizado se logra establecer una vez se identifique una zona en la que se planea constituir una Zidres, surge inmediatamente el deber de desarrollar el proceso consultivo correspondiente en los términos indicados por el Convenio 169 y la jurisprudencia de esta Corte.\n",
      "--------------------------------------------------\n",
      "9. T-667-17 - párrafo 212 (Similaridad  51.9%):\n",
      "\n",
      "En recientes pronunciamientos, la Sala Plena de la Corte Constitucional, en Sentencia SU 097 de 2017, reiteró que “la acción de tutela es, por regla general, el medio judicial adecuado y preferente para la defensa de los derechos de los pueblos indígenas y, en especial, del derecho a la consulta previa…”. \n",
      "A su vez, la Sentencia T-002 de 2017 fue más allá: esta misma Sala concedió el amparo del derecho fundamental a la consulta previa al detectar un grave incumplimiento de las obligaciones pactadas en un acuerdo de consulta previa en firme. En esa oportunidad, se precisó que el derecho fundamental a la consulta previa está compuesto por diversas etapas o fases obligatorias que deben ser agotadas y cumplidas en su totalidad y en caso de omisión en cualquiera de ellas, puede ser reclamado vía tutela.\n",
      "Además, se estableció que “la acción de tutela es el mecanismo judicial adecuado para proteger el derecho a la consulta previa de las comunidades étnicas diferenciadas. De ahí que los medios ordinarios de control carecen de la idoneidad para resolver la situación inconstitucional que produce la omisión del trámite de concertación de una decisión o el incumplimiento a lo acordado. Lo anterior, por cuanto esas herramientas procesales no ofrecen una solución clara, omnicomprensiva y definitiva a la vulneración de derechos de las comunidades que tienen una especial protección constitucional y alta vulnerabilidad. // La Sala Octava considera que el ACP, incluyendo su debida ejecución, hasta cerrar el proceso de consulta previa con la verificación del cumplimiento a lo acordado, hacen parte integral del contenido del derecho fundamental a la consulta previa, motivo por el cual, resulta pertinente sostener que, ante la inexistencia de un mecanismo ordinario de defensa judicial en el ordenamiento jurídico, dicho ACP sea susceptible de protección mediante la acción de tutela con la finalidad de que lo pactado de común acuerdo sea exigible, inmutable, vinculante y definitivo para las partes”.\n",
      "--------------------------------------------------\n",
      "10. T-637-01 - párrafo 399 (Similaridad  51.8%):\n",
      "\n",
      "[1] Hinojosa, Eduardo. Estudios sobre la historia del derecho español. Madrid, 1913. \n",
      "[1] No se incluye en esta breve \n",
      "escripción una reseña de l\n",
      "--------------------------------------------------\n",
      "11. SU913-09 - párrafo 1763 (Similaridad  51.8%):\n",
      "\n",
      "“5. Los derechos morales son aquellos que nacen como consecuencia de la creación misma y no del reconocimiento administrativo, son de carácter extrapatrimonial, inalienables, imprescriptibles e irrenunciables. \n",
      "Estos incluyen:\n",
      "el derecho a divulgar la obra\n",
      "--------------------------------------------------\n",
      "12. T-027-15 - párrafo 373 (Similaridad  51.8%):\n",
      "\n",
      "Incluye todas las concentraciones\n",
      "INCLUYE TODAS LAS FORMAS FARMACÉUTICAS\n",
      "CUBIERTO PARA USO EN EPILEPSIA REFRACTARIA A OTROS ANTIEPILÉPTICOS\n",
      "--------------------------------------------------\n",
      "13. C-196-12 - párrafo 421 (Similaridad  51.8%):\n",
      "\n",
      "1. Los gastos necesarios para la aplicación del presente Convenio se cargarán a la Cuenta Administrativa y se sufragarán mediante contribuciones anuales de los miembros pagadas de acuerdo con sus respectivos procedimientos constitucionales o institucionales y asignadas de conformidad con los párrafos 4, 5 y 6 de este artículo.\n",
      "2. En la Cuenta Administrativa se incluirán:\n",
      "a) Los gastos administrativos básicos, tales como sueldos y prestaciones, gastos de instalación y viajes oficiales; y\n",
      "--------------------------------------------------\n",
      "14. C-426-05 - párrafo 695 (Similaridad  51.8%):\n",
      "\n",
      "CARGO FIJO\n",
      "INCLUIDOS\n",
      "MINUTO\n",
      "--------------------------------------------------\n",
      "15. C-376-09 - párrafo 638 (Similaridad  51.8%):\n",
      "\n",
      "En el supuesto de que el deportista se niegue a colaborar en los exámenes complementarios, se considerará que la muestra del deportista contiene una sustancia prohibida.\n",
      "2. Otros anabolizantes, entre los que se incluyen:\n",
      "Clenbuterol, zeranol y zilpaterol.\n",
      "--------------------------------------------------\n"
     ]
    }
   ],
   "source": [
    "se.search(busqueda, df)"
   ]
  },
  {
   "cell_type": "code",
   "execution_count": null,
   "id": "related-cancer",
   "metadata": {},
   "outputs": [],
   "source": []
  }
 ],
 "metadata": {
  "kernelspec": {
   "display_name": "Python 3",
   "language": "python",
   "name": "python3"
  },
  "language_info": {
   "codemirror_mode": {
    "name": "ipython",
    "version": 3
   },
   "file_extension": ".py",
   "mimetype": "text/x-python",
   "name": "python",
   "nbconvert_exporter": "python",
   "pygments_lexer": "ipython3",
   "version": "3.9.1"
  }
 },
 "nbformat": 4,
 "nbformat_minor": 5
}
