{
 "cells": [
  {
   "cell_type": "markdown",
   "id": "raised-spine",
   "metadata": {},
   "source": [
    "## **LDA Muestra - Corte Constitucional**"
   ]
  },
  {
   "cell_type": "markdown",
   "id": "reverse-blood",
   "metadata": {},
   "source": [
    "## **Importación de librerías**"
   ]
  },
  {
   "cell_type": "code",
   "execution_count": 3,
   "id": "ambient-sitting",
   "metadata": {},
   "outputs": [
    {
     "name": "stderr",
     "output_type": "stream",
     "text": [
      "[nltk_data] Downloading package punkt to /home/caicardo/nltk_data...\n",
      "[nltk_data]   Package punkt is already up-to-date!\n",
      "[nltk_data] Downloading package stopwords to\n",
      "[nltk_data]     /home/caicardo/nltk_data...\n",
      "[nltk_data]   Package stopwords is already up-to-date!\n",
      "[nltk_data] Downloading package wordnet to /home/caicardo/nltk_data...\n",
      "[nltk_data]   Package wordnet is already up-to-date!\n"
     ]
    }
   ],
   "source": [
    "import nltk\n",
    "\n",
    "\n",
    "# tokenizadores\n",
    "from nltk.tokenize import sent_tokenize, word_tokenize \n",
    "from nltk.tokenize import TweetTokenizer\n",
    "\n",
    "# diccionarios especiales para puntuación y palabras vacias\n",
    "nltk.download('punkt') # Manejo de puntuación\n",
    "nltk.download('stopwords')\n",
    "\n",
    "# wordnet\n",
    "nltk.download('wordnet')\n",
    "\n",
    "from nltk.corpus import stopwords\n",
    "\n",
    "# lematizador basado en WordNet de nltk\n",
    "from nltk.stem import WordNetLemmatizer \n",
    "\n",
    "# steemer de nltk. Raiz de las palabras\n",
    "#from nltk.stem import SnowballStemmer\n",
    "from nltk.stem import PorterStemmer \n",
    "import gensim\n",
    "from gensim.parsing.preprocessing import STOPWORDS\n",
    "import re\n",
    "from nltk.corpus import stopwords\n",
    "from nltk.stem import WordNetLemmatizer \n"
   ]
  },
  {
   "cell_type": "code",
   "execution_count": 4,
   "id": "consecutive-denver",
   "metadata": {},
   "outputs": [
    {
     "name": "stdout",
     "output_type": "stream",
     "text": [
      "INFO:tensorflow:Enabling eager execution\n",
      "INFO:tensorflow:Enabling v2 tensorshape\n",
      "INFO:tensorflow:Enabling resource variables\n",
      "INFO:tensorflow:Enabling tensor equality\n",
      "INFO:tensorflow:Enabling control flow v2\n"
     ]
    }
   ],
   "source": [
    "# manipulación de datos\n",
    "import pandas as pd\n",
    "import numpy as np\n",
    "\n",
    "# conveniencias\n",
    "from tqdm import tqdm\n",
    "import os\n",
    "\n",
    "# proceso de texto\n",
    "import json\n",
    "import re\n",
    "import nltk\n",
    "import spacy\n",
    "from string import punctuation\n",
    "\n",
    "# procesamiento paralelo\n",
    "from multiprocessing import Pool\n",
    "\n",
    "# machine learning\n",
    "from sklearn.feature_extraction.text import CountVectorizer\n",
    "from sklearn.metrics.pairwise import cosine_distances\n",
    "from gensim.test.utils import datapath\n",
    "from gensim.models import FastText"
   ]
  },
  {
   "cell_type": "code",
   "execution_count": 5,
   "id": "previous-seafood",
   "metadata": {},
   "outputs": [],
   "source": [
    "# from tqdm.notebook import tnrange, tqdm_notebook, tqdm\n",
    "from tqdm import tqdm"
   ]
  },
  {
   "cell_type": "code",
   "execution_count": 6,
   "id": "useful-thickness",
   "metadata": {},
   "outputs": [],
   "source": [
    "from gensim.test.utils import common_texts\n",
    "from gensim.corpora.dictionary import Dictionary\n",
    "from gensim.models.ldamulticore import LdaMulticore"
   ]
  },
  {
   "cell_type": "code",
   "execution_count": 7,
   "id": "reasonable-relaxation",
   "metadata": {},
   "outputs": [],
   "source": [
    "from gensim import corpora, models"
   ]
  },
  {
   "cell_type": "code",
   "execution_count": 8,
   "id": "growing-drama",
   "metadata": {},
   "outputs": [
    {
     "name": "stderr",
     "output_type": "stream",
     "text": [
      "[nltk_data] Downloading package stopwords to\n",
      "[nltk_data]     /home/caicardo/nltk_data...\n",
      "[nltk_data]   Package stopwords is already up-to-date!\n"
     ]
    }
   ],
   "source": [
    "nltk.download('stopwords')\n",
    "nlp = spacy.load(\"es_core_news_md\")"
   ]
  },
  {
   "cell_type": "code",
   "execution_count": 9,
   "id": "gothic-investor",
   "metadata": {},
   "outputs": [],
   "source": [
    "import random"
   ]
  },
  {
   "cell_type": "code",
   "execution_count": 10,
   "id": "understood-liabilities",
   "metadata": {},
   "outputs": [],
   "source": [
    "from sklearn.feature_extraction.text import CountVectorizer"
   ]
  },
  {
   "cell_type": "code",
   "execution_count": 11,
   "id": "respected-aluminum",
   "metadata": {},
   "outputs": [],
   "source": [
    "import matplotlib.pyplot as plt"
   ]
  },
  {
   "cell_type": "markdown",
   "id": "floral-result",
   "metadata": {},
   "source": [
    "## **Definición de funciones**"
   ]
  },
  {
   "cell_type": "code",
   "execution_count": 10,
   "id": "handed-bhutan",
   "metadata": {},
   "outputs": [
    {
     "name": "stdout",
     "output_type": "stream",
     "text": [
      "!\"#$%&'()*+,-./:;<=>?@[\\]^_`{|}~\n"
     ]
    }
   ],
   "source": [
    "print(punctuation)"
   ]
  },
  {
   "cell_type": "code",
   "execution_count": 11,
   "id": "speaking-afternoon",
   "metadata": {},
   "outputs": [],
   "source": [
    "ABC = 'abcdefghijklmnñopqrstuvwxyzáéíóúü0123456789 '\n",
    "regex_pattern = \"[^{0}{1}_]\".format(ABC, ABC.upper())"
   ]
  },
  {
   "cell_type": "code",
   "execution_count": 12,
   "id": "acquired-synthetic",
   "metadata": {},
   "outputs": [],
   "source": [
    "# abc = 'abcdefghijklmnñopqrstuvwxyzáéíóúü'\n",
    "# char_remove = [c for c in caracteres if c not in ''.join([abc, abc.upper(), '0123456789', punctuation])]"
   ]
  },
  {
   "cell_type": "code",
   "execution_count": 13,
   "id": "spectacular-professor",
   "metadata": {},
   "outputs": [],
   "source": [
    "def old_preprocessor(text):\n",
    "    \"\"\"\n",
    "    preprocesador de texto\n",
    "    \"\"\"\n",
    "    if not isinstance(text, str):\n",
    "        return \"\"\n",
    "    \n",
    "    punctuations = '''!()-[]{};:'\"\\,<>./?@#$%^&*_~ºª'''\n",
    "    for char in punctuations:\n",
    "        text = text.replace(char, \" \")\n",
    "    \n",
    "    text = re.sub(\"\\s+\", \" \", text)\n",
    "    text = text.strip().lower()\n",
    "    text = re.sub(\"\\d+\", \"<NUM>\", text)\n",
    "    return text"
   ]
  },
  {
   "cell_type": "code",
   "execution_count": 14,
   "id": "alpha-sword",
   "metadata": {},
   "outputs": [],
   "source": [
    "def preprocessor(text):\n",
    "    \"\"\"\n",
    "    preprocesador de texto\n",
    "    \"\"\"\n",
    "    if not isinstance(text, str):\n",
    "        return \"\"\n",
    "    \n",
    "    # punctuations = '''!()-[]{};:'\"\\,<>./?@#$%^&*_~ºª~^`|'''\n",
    "    # for char in punctuations:\n",
    "    #     text = text.replace(char, \" \")\n",
    "    text = re.sub(regex_pattern, \" \", text)\n",
    "    text = re.sub(\"\\s+\", \" \", text)\n",
    "    text = text.strip().lower()\n",
    "    text = re.sub(\"\\d+\", \"<NUM>\", text)\n",
    "    return text"
   ]
  },
  {
   "cell_type": "code",
   "execution_count": 15,
   "id": "contrary-highway",
   "metadata": {},
   "outputs": [],
   "source": [
    "def preprocessor_sentences(text):\n",
    "    \"\"\"\n",
    "    preprocesador de texto con separación de frases por línea.\n",
    "    \"\"\"\n",
    "    if not isinstance(text, str):\n",
    "        return \"\"\n",
    "    # punctuations = '''!()-[]{};:'\"\\,<>/?@#$%^&*_~ºª'''\n",
    "    # for char in punctuations:\n",
    "    #     text = text.replace(char, \" \")\n",
    "    text = re.sub(regex_pattern, \" \", text)\n",
    "    text = re.sub(\"\\d+\", \"<NUM>\", text)\n",
    "    text = text.replace(\"\\n\\n\", \"<FIN>\")\n",
    "    text = text.replace(\".\", \"<FIN>\")\n",
    "    text = re.sub(\"\\s+\", \" \", text)\n",
    "    text = text.replace(\"<FIN>\", \"\\n\")\n",
    "    text = \"\".join([c for c in text if str.isprintable(c) or c==\"\\n\" or c==\".\"])\n",
    "    text = re.sub(\"[\\n\\r]+\", \"\\n\", text)\n",
    "    text = text.lower()\n",
    "    text = text.strip(\"\\n \")\n",
    "    return text"
   ]
  },
  {
   "cell_type": "code",
   "execution_count": 16,
   "id": "similar-incidence",
   "metadata": {},
   "outputs": [],
   "source": [
    "def wv_vectorizer(text):\n",
    "    \"\"\"\n",
    "    Calcula el vector promedio de las palabras de la frase.\n",
    "    \"\"\"\n",
    "    text = preprocessor(text)\n",
    "    vec_list = []\n",
    "    for word in [w for w in text.split() if w not in es_stopwords]:\n",
    "        vec_list.append(model.wv[word])\n",
    "    vec_list = np.array(vec_list)\n",
    "    vec = np.mean(vec_list, axis=0)\n",
    "    return vec"
   ]
  },
  {
   "cell_type": "code",
   "execution_count": 17,
   "id": "british-bracket",
   "metadata": {},
   "outputs": [],
   "source": [
    "def remove_stopwords(text):\n",
    "    tokens = text.split()\n",
    "    out = \" \".join([word for word in tokens if word not in es_stopwords])\n",
    "    return out"
   ]
  },
  {
   "cell_type": "code",
   "execution_count": 18,
   "id": "brief-baseball",
   "metadata": {},
   "outputs": [],
   "source": [
    "def lemmatize(text):\n",
    "    nlp_tokens = nlp(text)\n",
    "    lemma = [w.lemma_ for w in nlp_tokens]\n",
    "    lemma = \" \".join(lemma)\n",
    "    return lemma\n",
    "    "
   ]
  },
  {
   "cell_type": "code",
   "execution_count": 19,
   "id": "accredited-detector",
   "metadata": {},
   "outputs": [],
   "source": [
    "def transform_token(token):\n",
    "    if token.is_stop:\n",
    "        return \"<STOP>\" + token.text\n",
    "    if token.pos_!= 'PROPN':\n",
    "        return token.lemma_\n",
    "    return token.text\n",
    "\n",
    "\n",
    "def full_preprocess(text, debug=False):\n",
    "    \"\"\"\n",
    "    Performs lemmatization, stopword removal via spacy and custom list and preprocessing\n",
    "    \"\"\"\n",
    "    text = re.sub(\"\\s+\", \" \", text)\n",
    "    nlp_tokens = nlp(text)\n",
    "    mask = [w.pos_ for w in nlp_tokens]\n",
    "    spacy_pp = [transform_token(w) for w in nlp_tokens]\n",
    "\n",
    "    joint_spp = spacy_pp[0]\n",
    "    for i in range(1, len(mask)):\n",
    "        joint_spp = \"\".join([joint_spp, \"_\" if (mask[i]=='PROPN' and mask[i-1]=='PROPN') else \" \", spacy_pp[i]])\n",
    "\n",
    "    joint_spp = \" \".join([w for w in joint_spp.split() if not w.startswith(\"<STOP>\")])\n",
    "\n",
    "    preprocessed = preprocessor(joint_spp)\n",
    "\n",
    "    out = remove_stopwords(preprocessed)\n",
    "    return out\n"
   ]
  },
  {
   "cell_type": "markdown",
   "id": "cross-islam",
   "metadata": {},
   "source": [
    "## **Configuración**"
   ]
  },
  {
   "cell_type": "code",
   "execution_count": 20,
   "id": "relative-newspaper",
   "metadata": {},
   "outputs": [],
   "source": [
    "RANDOM_STATE = 42\n",
    "N_TOP_DOCS = 5\n",
    "CARACTERES = 500"
   ]
  },
  {
   "cell_type": "code",
   "execution_count": 21,
   "id": "proprietary-hebrew",
   "metadata": {},
   "outputs": [],
   "source": [
    "random.seed(RANDOM_STATE)\n",
    "np.random.seed(RANDOM_STATE)"
   ]
  },
  {
   "cell_type": "code",
   "execution_count": 22,
   "id": "cutting-outline",
   "metadata": {},
   "outputs": [],
   "source": [
    "# DATA_PATH = './scrappy/'\n",
    "DATA_PATH = \"data/cc_dump_p.csv\""
   ]
  },
  {
   "cell_type": "code",
   "execution_count": 23,
   "id": "coastal-centre",
   "metadata": {},
   "outputs": [],
   "source": [
    "es_stopwords = nltk.corpus.stopwords.words(\"spanish\")"
   ]
  },
  {
   "cell_type": "code",
   "execution_count": 24,
   "id": "hydraulic-wallet",
   "metadata": {},
   "outputs": [],
   "source": [
    "es_stopwords.remove(\"no\")"
   ]
  },
  {
   "cell_type": "code",
   "execution_count": 25,
   "id": "documentary-detection",
   "metadata": {},
   "outputs": [],
   "source": [
    "es_stopwords.append(\"<NUM>\")"
   ]
  },
  {
   "cell_type": "markdown",
   "id": "plastic-warner",
   "metadata": {},
   "source": [
    "## **Lectura de datos**"
   ]
  },
  {
   "cell_type": "code",
   "execution_count": 26,
   "id": "divided-insulin",
   "metadata": {},
   "outputs": [],
   "source": [
    "df = pd.read_csv(DATA_PATH)"
   ]
  },
  {
   "cell_type": "code",
   "execution_count": null,
   "id": "graduate-conducting",
   "metadata": {},
   "outputs": [],
   "source": [
    "df.rename({\"class\":\"class_\", \"name\":\"sentencia\"}, axis=1, inplace=True)"
   ]
  },
  {
   "cell_type": "code",
   "execution_count": 28,
   "id": "hawaiian-dutch",
   "metadata": {},
   "outputs": [
    {
     "data": {
      "text/html": [
       "<div>\n",
       "<style scoped>\n",
       "    .dataframe tbody tr th:only-of-type {\n",
       "        vertical-align: middle;\n",
       "    }\n",
       "\n",
       "    .dataframe tbody tr th {\n",
       "        vertical-align: top;\n",
       "    }\n",
       "\n",
       "    .dataframe thead th {\n",
       "        text-align: right;\n",
       "    }\n",
       "</style>\n",
       "<table border=\"1\" class=\"dataframe\">\n",
       "  <thead>\n",
       "    <tr style=\"text-align: right;\">\n",
       "      <th></th>\n",
       "      <th>Unnamed: 0</th>\n",
       "      <th>p_index</th>\n",
       "      <th>tag</th>\n",
       "      <th>text</th>\n",
       "      <th>class_</th>\n",
       "      <th>sentencia</th>\n",
       "      <th>link</th>\n",
       "    </tr>\n",
       "  </thead>\n",
       "  <tbody>\n",
       "    <tr>\n",
       "      <th>0</th>\n",
       "      <td>0</td>\n",
       "      <td>0</td>\n",
       "      <td>h5</td>\n",
       "      <td>Sentencia T-120/05</td>\n",
       "      <td>no_class</td>\n",
       "      <td>T-120-05</td>\n",
       "      <td>Relatoria/2005/T-120-05.htm</td>\n",
       "    </tr>\n",
       "    <tr>\n",
       "      <th>1</th>\n",
       "      <td>1</td>\n",
       "      <td>2</td>\n",
       "      <td>p</td>\n",
       "      <td>PROPIEDAD HORIZONTAL-Obligaciones a cargo de l...</td>\n",
       "      <td>MsoNormal</td>\n",
       "      <td>T-120-05</td>\n",
       "      <td>Relatoria/2005/T-120-05.htm</td>\n",
       "    </tr>\n",
       "    <tr>\n",
       "      <th>2</th>\n",
       "      <td>2</td>\n",
       "      <td>4</td>\n",
       "      <td>p</td>\n",
       "      <td>ADMINISTRACION DE PROPIEDAD HORIZONTAL-No pago...</td>\n",
       "      <td>MsoNormal</td>\n",
       "      <td>T-120-05</td>\n",
       "      <td>Relatoria/2005/T-120-05.htm</td>\n",
       "    </tr>\n",
       "    <tr>\n",
       "      <th>3</th>\n",
       "      <td>3</td>\n",
       "      <td>6</td>\n",
       "      <td>p</td>\n",
       "      <td>CUOTAS DE ADMINISTRACION-Compra de inmueble en...</td>\n",
       "      <td>MsoNormal</td>\n",
       "      <td>T-120-05</td>\n",
       "      <td>Relatoria/2005/T-120-05.htm</td>\n",
       "    </tr>\n",
       "    <tr>\n",
       "      <th>4</th>\n",
       "      <td>4</td>\n",
       "      <td>9</td>\n",
       "      <td>p</td>\n",
       "      <td>Referencia: expediente T-992178</td>\n",
       "      <td>MsoNormal</td>\n",
       "      <td>T-120-05</td>\n",
       "      <td>Relatoria/2005/T-120-05.htm</td>\n",
       "    </tr>\n",
       "  </tbody>\n",
       "</table>\n",
       "</div>"
      ],
      "text/plain": [
       "   Unnamed: 0  p_index tag                                               text  \\\n",
       "0           0        0  h5                                 Sentencia T-120/05   \n",
       "1           1        2   p  PROPIEDAD HORIZONTAL-Obligaciones a cargo de l...   \n",
       "2           2        4   p  ADMINISTRACION DE PROPIEDAD HORIZONTAL-No pago...   \n",
       "3           3        6   p  CUOTAS DE ADMINISTRACION-Compra de inmueble en...   \n",
       "4           4        9   p                    Referencia: expediente T-992178   \n",
       "\n",
       "      class_ sentencia                         link  \n",
       "0   no_class  T-120-05  Relatoria/2005/T-120-05.htm  \n",
       "1  MsoNormal  T-120-05  Relatoria/2005/T-120-05.htm  \n",
       "2  MsoNormal  T-120-05  Relatoria/2005/T-120-05.htm  \n",
       "3  MsoNormal  T-120-05  Relatoria/2005/T-120-05.htm  \n",
       "4  MsoNormal  T-120-05  Relatoria/2005/T-120-05.htm  "
      ]
     },
     "execution_count": 28,
     "metadata": {},
     "output_type": "execute_result"
    }
   ],
   "source": [
    "df.head()"
   ]
  },
  {
   "cell_type": "code",
   "execution_count": 29,
   "id": "driven-formation",
   "metadata": {},
   "outputs": [
    {
     "data": {
      "text/plain": [
       "6587045"
      ]
     },
     "execution_count": 29,
     "metadata": {},
     "output_type": "execute_result"
    }
   ],
   "source": [
    "len(df)"
   ]
  },
  {
   "cell_type": "code",
   "execution_count": 30,
   "id": "dirty-lithuania",
   "metadata": {},
   "outputs": [],
   "source": [
    "df = df[[isinstance(x, str) for x in df.text.values]]"
   ]
  },
  {
   "cell_type": "code",
   "execution_count": 31,
   "id": "congressional-intensity",
   "metadata": {},
   "outputs": [
    {
     "data": {
      "text/plain": [
       "6586593"
      ]
     },
     "execution_count": 31,
     "metadata": {},
     "output_type": "execute_result"
    }
   ],
   "source": [
    "len(df)"
   ]
  },
  {
   "cell_type": "markdown",
   "id": "reliable-music",
   "metadata": {},
   "source": [
    "## Revisión de caracteres problemáticos [opcional]"
   ]
  },
  {
   "cell_type": "code",
   "execution_count": null,
   "id": "sufficient-validity",
   "metadata": {},
   "outputs": [],
   "source": [
    "caracteres = {c for text in df.text.values for c in text}"
   ]
  },
  {
   "cell_type": "code",
   "execution_count": null,
   "id": "offshore-manual",
   "metadata": {},
   "outputs": [],
   "source": [
    "abc = 'abcdefghijklmnñopqrstuvwxyzáéíóúü'\n",
    "char_remove = [c for c in caracteres if c not in ''.join([abc, abc.upper(), '0123456789', punctuation])]"
   ]
  },
  {
   "cell_type": "code",
   "execution_count": null,
   "id": "waiting-abraham",
   "metadata": {},
   "outputs": [],
   "source": [
    "def get_bad_char(text):\n",
    "    return list(set([c for c in text if c not in ''.join([abc, abc.upper(), ' 0123456789', punctuation, '\\r\\n\\t'])]))"
   ]
  },
  {
   "cell_type": "code",
   "execution_count": null,
   "id": "equal-globe",
   "metadata": {},
   "outputs": [],
   "source": [
    "%%time\n",
    "df[\"bad_char\"] = [get_bad_char(x) for x in df.text.values]"
   ]
  },
  {
   "cell_type": "code",
   "execution_count": null,
   "id": "needed-feeding",
   "metadata": {},
   "outputs": [],
   "source": [
    "df[\"len_bad_char\"] = [len(x) for x in df.bad_char.values]"
   ]
  },
  {
   "cell_type": "code",
   "execution_count": null,
   "id": "dietary-amateur",
   "metadata": {},
   "outputs": [],
   "source": [
    "df[(df.len_bad_char>0)&(df.class_=='MsoNormal')]"
   ]
  },
  {
   "cell_type": "markdown",
   "id": "economic-sally",
   "metadata": {},
   "source": [
    "## Stats"
   ]
  },
  {
   "cell_type": "code",
   "execution_count": 32,
   "id": "delayed-satin",
   "metadata": {},
   "outputs": [
    {
     "name": "stdout",
     "output_type": "stream",
     "text": [
      "Cantidad de documentos: 34932\n"
     ]
    }
   ],
   "source": [
    "print(\"Cantidad de documentos: {}\".format(len(df.sentencia.unique())))"
   ]
  },
  {
   "cell_type": "code",
   "execution_count": 33,
   "id": "modular-canvas",
   "metadata": {},
   "outputs": [],
   "source": [
    "df[\"word_count\"] = [len(x.strip().split()) for x in df.text.values]"
   ]
  },
  {
   "cell_type": "code",
   "execution_count": 34,
   "id": "japanese-recipe",
   "metadata": {},
   "outputs": [
    {
     "name": "stdout",
     "output_type": "stream",
     "text": [
      "Características del párrafo más largo:\n",
      "- párrafo 22 de la sentencia T-1532-00.\n",
      "- Contiene 7456 palabras.\n"
     ]
    }
   ],
   "source": [
    "max_wc = np.max(df.word_count)\n",
    "max_wc_p = df[df.word_count==max_wc].iloc[0].to_dict()\n",
    "print(\"Características del párrafo más largo:\")\n",
    "print(\"- párrafo {0} de la sentencia {1}.\".format(max_wc_p[\"p_index\"], max_wc_p[\"sentencia\"]))\n",
    "print(\"- Contiene {} palabras.\".format(max_wc_p[\"word_count\"]))"
   ]
  },
  {
   "cell_type": "code",
   "execution_count": 35,
   "id": "checked-alcohol",
   "metadata": {},
   "outputs": [],
   "source": [
    "df[\"class_\"] = pd.Categorical(df[\"class_\"])"
   ]
  },
  {
   "cell_type": "code",
   "execution_count": 36,
   "id": "unsigned-transcript",
   "metadata": {},
   "outputs": [
    {
     "data": {
      "text/plain": [
       "MsoNormal           4550691\n",
       "MsoFootnoteText      761740\n",
       "MsoBodyText          235933\n",
       "no_class             139539\n",
       "MsoListParagraph      84887\n",
       "                     ...   \n",
       "ecxecxbodytext2           1\n",
       "ecmsobodytext             1\n",
       "decretos                  1\n",
       "de                        1\n",
       "yiv8754979524             1\n",
       "Name: class_, Length: 1357, dtype: int64"
      ]
     },
     "execution_count": 36,
     "metadata": {},
     "output_type": "execute_result"
    }
   ],
   "source": [
    "df[\"class_\"].value_counts()"
   ]
  },
  {
   "cell_type": "markdown",
   "id": "swiss-delicious",
   "metadata": {},
   "source": [
    "## **Preprocesamiento de texto (para TF-IDF)**\n",
    "\n",
    "Como el preprocesamiento no toma tanto tiempo, no hay problema en repetirlo, pero en general no es necesario volver a preprocesar los datos, se pueden guardar descomentando el código más abajo."
   ]
  },
  {
   "cell_type": "code",
   "execution_count": 37,
   "id": "cordless-thousand",
   "metadata": {},
   "outputs": [
    {
     "name": "stdout",
     "output_type": "stream",
     "text": [
      "CPU times: user 9.75 s, sys: 9.43 s, total: 19.2 s\n",
      "Wall time: 2h 3min 25s\n"
     ]
    }
   ],
   "source": [
    "%%time\n",
    "with Pool(8) as my_pool:\n",
    "    pp_list = my_pool.map(full_preprocess, df.text.values)"
   ]
  },
  {
   "cell_type": "code",
   "execution_count": 38,
   "id": "distinguished-member",
   "metadata": {},
   "outputs": [],
   "source": [
    "df[\"pp\"] = pp_list"
   ]
  },
  {
   "cell_type": "code",
   "execution_count": 39,
   "id": "approximate-pledge",
   "metadata": {},
   "outputs": [
    {
     "data": {
      "text/html": [
       "<div>\n",
       "<style scoped>\n",
       "    .dataframe tbody tr th:only-of-type {\n",
       "        vertical-align: middle;\n",
       "    }\n",
       "\n",
       "    .dataframe tbody tr th {\n",
       "        vertical-align: top;\n",
       "    }\n",
       "\n",
       "    .dataframe thead th {\n",
       "        text-align: right;\n",
       "    }\n",
       "</style>\n",
       "<table border=\"1\" class=\"dataframe\">\n",
       "  <thead>\n",
       "    <tr style=\"text-align: right;\">\n",
       "      <th></th>\n",
       "      <th>Unnamed: 0</th>\n",
       "      <th>p_index</th>\n",
       "      <th>tag</th>\n",
       "      <th>text</th>\n",
       "      <th>class_</th>\n",
       "      <th>sentencia</th>\n",
       "      <th>link</th>\n",
       "      <th>word_count</th>\n",
       "      <th>pp</th>\n",
       "    </tr>\n",
       "  </thead>\n",
       "  <tbody>\n",
       "    <tr>\n",
       "      <th>0</th>\n",
       "      <td>0</td>\n",
       "      <td>0</td>\n",
       "      <td>h5</td>\n",
       "      <td>Sentencia T-120/05</td>\n",
       "      <td>no_class</td>\n",
       "      <td>T-120-05</td>\n",
       "      <td>Relatoria/2005/T-120-05.htm</td>\n",
       "      <td>2</td>\n",
       "      <td>sentencia_t</td>\n",
       "    </tr>\n",
       "    <tr>\n",
       "      <th>1</th>\n",
       "      <td>1</td>\n",
       "      <td>2</td>\n",
       "      <td>p</td>\n",
       "      <td>PROPIEDAD HORIZONTAL-Obligaciones a cargo de l...</td>\n",
       "      <td>MsoNormal</td>\n",
       "      <td>T-120-05</td>\n",
       "      <td>Relatoria/2005/T-120-05.htm</td>\n",
       "      <td>27</td>\n",
       "      <td>propiedad_horizontal obligaciones cargo propie...</td>\n",
       "    </tr>\n",
       "    <tr>\n",
       "      <th>2</th>\n",
       "      <td>2</td>\n",
       "      <td>4</td>\n",
       "      <td>p</td>\n",
       "      <td>ADMINISTRACION DE PROPIEDAD HORIZONTAL-No pago...</td>\n",
       "      <td>MsoNormal</td>\n",
       "      <td>T-120-05</td>\n",
       "      <td>Relatoria/2005/T-120-05.htm</td>\n",
       "      <td>10</td>\n",
       "      <td>administracion propiedad_horizontal no pago cu...</td>\n",
       "    </tr>\n",
       "    <tr>\n",
       "      <th>3</th>\n",
       "      <td>3</td>\n",
       "      <td>6</td>\n",
       "      <td>p</td>\n",
       "      <td>CUOTAS DE ADMINISTRACION-Compra de inmueble en...</td>\n",
       "      <td>MsoNormal</td>\n",
       "      <td>T-120-05</td>\n",
       "      <td>Relatoria/2005/T-120-05.htm</td>\n",
       "      <td>14</td>\n",
       "      <td>cuotas administracion compra inmueble remate d...</td>\n",
       "    </tr>\n",
       "    <tr>\n",
       "      <th>4</th>\n",
       "      <td>4</td>\n",
       "      <td>9</td>\n",
       "      <td>p</td>\n",
       "      <td>Referencia: expediente T-992178</td>\n",
       "      <td>MsoNormal</td>\n",
       "      <td>T-120-05</td>\n",
       "      <td>Relatoria/2005/T-120-05.htm</td>\n",
       "      <td>3</td>\n",
       "      <td>referencia expediente t</td>\n",
       "    </tr>\n",
       "  </tbody>\n",
       "</table>\n",
       "</div>"
      ],
      "text/plain": [
       "   Unnamed: 0  p_index tag                                               text  \\\n",
       "0           0        0  h5                                 Sentencia T-120/05   \n",
       "1           1        2   p  PROPIEDAD HORIZONTAL-Obligaciones a cargo de l...   \n",
       "2           2        4   p  ADMINISTRACION DE PROPIEDAD HORIZONTAL-No pago...   \n",
       "3           3        6   p  CUOTAS DE ADMINISTRACION-Compra de inmueble en...   \n",
       "4           4        9   p                    Referencia: expediente T-992178   \n",
       "\n",
       "      class_ sentencia                         link  word_count  \\\n",
       "0   no_class  T-120-05  Relatoria/2005/T-120-05.htm           2   \n",
       "1  MsoNormal  T-120-05  Relatoria/2005/T-120-05.htm          27   \n",
       "2  MsoNormal  T-120-05  Relatoria/2005/T-120-05.htm          10   \n",
       "3  MsoNormal  T-120-05  Relatoria/2005/T-120-05.htm          14   \n",
       "4  MsoNormal  T-120-05  Relatoria/2005/T-120-05.htm           3   \n",
       "\n",
       "                                                  pp  \n",
       "0                                        sentencia_t  \n",
       "1  propiedad_horizontal obligaciones cargo propie...  \n",
       "2  administracion propiedad_horizontal no pago cu...  \n",
       "3  cuotas administracion compra inmueble remate d...  \n",
       "4                            referencia expediente t  "
      ]
     },
     "execution_count": 39,
     "metadata": {},
     "output_type": "execute_result"
    }
   ],
   "source": [
    "df.head()"
   ]
  },
  {
   "cell_type": "markdown",
   "id": "varying-thanksgiving",
   "metadata": {},
   "source": [
    "**Guardar datos preprocesados**"
   ]
  },
  {
   "cell_type": "code",
   "execution_count": 40,
   "id": "solar-situation",
   "metadata": {},
   "outputs": [],
   "source": [
    "df.to_csv(\"data/cc_dump_full_pp_20210508.csv\")"
   ]
  },
  {
   "cell_type": "markdown",
   "id": "animated-minneapolis",
   "metadata": {},
   "source": [
    "## Para datos ya preprocesados, empezar acá"
   ]
  },
  {
   "cell_type": "code",
   "execution_count": 27,
   "id": "convenient-blood",
   "metadata": {},
   "outputs": [],
   "source": [
    "df = pd.read_csv(\"data/cc_dump_full_pp_20210508.csv\")"
   ]
  },
  {
   "cell_type": "code",
   "execution_count": 28,
   "id": "manual-clearing",
   "metadata": {},
   "outputs": [
    {
     "data": {
      "text/plain": [
       "6586593"
      ]
     },
     "execution_count": 28,
     "metadata": {},
     "output_type": "execute_result"
    }
   ],
   "source": [
    "len(df)"
   ]
  },
  {
   "cell_type": "code",
   "execution_count": 29,
   "id": "three-injection",
   "metadata": {},
   "outputs": [
    {
     "data": {
      "text/html": [
       "<div>\n",
       "<style scoped>\n",
       "    .dataframe tbody tr th:only-of-type {\n",
       "        vertical-align: middle;\n",
       "    }\n",
       "\n",
       "    .dataframe tbody tr th {\n",
       "        vertical-align: top;\n",
       "    }\n",
       "\n",
       "    .dataframe thead th {\n",
       "        text-align: right;\n",
       "    }\n",
       "</style>\n",
       "<table border=\"1\" class=\"dataframe\">\n",
       "  <thead>\n",
       "    <tr style=\"text-align: right;\">\n",
       "      <th></th>\n",
       "      <th>Unnamed: 0</th>\n",
       "      <th>Unnamed: 0.1</th>\n",
       "      <th>p_index</th>\n",
       "      <th>tag</th>\n",
       "      <th>text</th>\n",
       "      <th>class_</th>\n",
       "      <th>sentencia</th>\n",
       "      <th>link</th>\n",
       "      <th>word_count</th>\n",
       "      <th>pp</th>\n",
       "    </tr>\n",
       "  </thead>\n",
       "  <tbody>\n",
       "    <tr>\n",
       "      <th>0</th>\n",
       "      <td>0</td>\n",
       "      <td>0</td>\n",
       "      <td>0</td>\n",
       "      <td>h5</td>\n",
       "      <td>Sentencia T-120/05</td>\n",
       "      <td>no_class</td>\n",
       "      <td>T-120-05</td>\n",
       "      <td>Relatoria/2005/T-120-05.htm</td>\n",
       "      <td>2</td>\n",
       "      <td>sentencia_t</td>\n",
       "    </tr>\n",
       "    <tr>\n",
       "      <th>1</th>\n",
       "      <td>1</td>\n",
       "      <td>1</td>\n",
       "      <td>2</td>\n",
       "      <td>p</td>\n",
       "      <td>PROPIEDAD HORIZONTAL-Obligaciones a cargo de l...</td>\n",
       "      <td>MsoNormal</td>\n",
       "      <td>T-120-05</td>\n",
       "      <td>Relatoria/2005/T-120-05.htm</td>\n",
       "      <td>27</td>\n",
       "      <td>propiedad_horizontal obligaciones cargo propie...</td>\n",
       "    </tr>\n",
       "    <tr>\n",
       "      <th>2</th>\n",
       "      <td>2</td>\n",
       "      <td>2</td>\n",
       "      <td>4</td>\n",
       "      <td>p</td>\n",
       "      <td>ADMINISTRACION DE PROPIEDAD HORIZONTAL-No pago...</td>\n",
       "      <td>MsoNormal</td>\n",
       "      <td>T-120-05</td>\n",
       "      <td>Relatoria/2005/T-120-05.htm</td>\n",
       "      <td>10</td>\n",
       "      <td>administracion propiedad_horizontal no pago cu...</td>\n",
       "    </tr>\n",
       "    <tr>\n",
       "      <th>3</th>\n",
       "      <td>3</td>\n",
       "      <td>3</td>\n",
       "      <td>6</td>\n",
       "      <td>p</td>\n",
       "      <td>CUOTAS DE ADMINISTRACION-Compra de inmueble en...</td>\n",
       "      <td>MsoNormal</td>\n",
       "      <td>T-120-05</td>\n",
       "      <td>Relatoria/2005/T-120-05.htm</td>\n",
       "      <td>14</td>\n",
       "      <td>cuotas administracion compra inmueble remate d...</td>\n",
       "    </tr>\n",
       "    <tr>\n",
       "      <th>4</th>\n",
       "      <td>4</td>\n",
       "      <td>4</td>\n",
       "      <td>9</td>\n",
       "      <td>p</td>\n",
       "      <td>Referencia: expediente T-992178</td>\n",
       "      <td>MsoNormal</td>\n",
       "      <td>T-120-05</td>\n",
       "      <td>Relatoria/2005/T-120-05.htm</td>\n",
       "      <td>3</td>\n",
       "      <td>referencia expediente t</td>\n",
       "    </tr>\n",
       "  </tbody>\n",
       "</table>\n",
       "</div>"
      ],
      "text/plain": [
       "   Unnamed: 0  Unnamed: 0.1  p_index tag  \\\n",
       "0           0             0        0  h5   \n",
       "1           1             1        2   p   \n",
       "2           2             2        4   p   \n",
       "3           3             3        6   p   \n",
       "4           4             4        9   p   \n",
       "\n",
       "                                                text     class_ sentencia  \\\n",
       "0                                 Sentencia T-120/05   no_class  T-120-05   \n",
       "1  PROPIEDAD HORIZONTAL-Obligaciones a cargo de l...  MsoNormal  T-120-05   \n",
       "2  ADMINISTRACION DE PROPIEDAD HORIZONTAL-No pago...  MsoNormal  T-120-05   \n",
       "3  CUOTAS DE ADMINISTRACION-Compra de inmueble en...  MsoNormal  T-120-05   \n",
       "4                    Referencia: expediente T-992178  MsoNormal  T-120-05   \n",
       "\n",
       "                          link  word_count  \\\n",
       "0  Relatoria/2005/T-120-05.htm           2   \n",
       "1  Relatoria/2005/T-120-05.htm          27   \n",
       "2  Relatoria/2005/T-120-05.htm          10   \n",
       "3  Relatoria/2005/T-120-05.htm          14   \n",
       "4  Relatoria/2005/T-120-05.htm           3   \n",
       "\n",
       "                                                  pp  \n",
       "0                                        sentencia_t  \n",
       "1  propiedad_horizontal obligaciones cargo propie...  \n",
       "2  administracion propiedad_horizontal no pago cu...  \n",
       "3  cuotas administracion compra inmueble remate d...  \n",
       "4                            referencia expediente t  "
      ]
     },
     "execution_count": 29,
     "metadata": {},
     "output_type": "execute_result"
    }
   ],
   "source": [
    "df.head()"
   ]
  },
  {
   "cell_type": "markdown",
   "id": "injured-subscription",
   "metadata": {},
   "source": [
    "#### Ejemplo preproceso"
   ]
  },
  {
   "cell_type": "code",
   "execution_count": 30,
   "id": "published-sister",
   "metadata": {},
   "outputs": [
    {
     "name": "stdout",
     "output_type": "stream",
     "text": [
      "Original:\n",
      "16- La Corte destaca\n",
      "que el anterior análisis es compatible con los criterios desarrollados en la\n",
      "sentencia C-215 de 1999, MP Martha Victoria Sáchica de Moncaleano, citada por\n",
      "el actor y por varios de los intervinientes para sustentar la\n",
      "inconstitucionalidad del término de prescripción consagrado por la norma\n",
      "acusada.  Así, esa providencia declaró la inconstitucionalidad del término de\n",
      "caducidad establecido por el artículo 11 de la Ley 472 de 1998, según el cual,\n",
      "la acción popular caducaba en 5 años cuando estaba dirigida a volver las cosas\n",
      "a su estado anterior. El argumento central de la Corte fue que no se justifica un\n",
      "término de caducidad, “mientras subsista la vulneración a un derecho o interés\n",
      "colectivo y exista la posibilidad de volver las cosas al estado anterior para\n",
      "hacer cesar esa violación”, pues en tal evento debe entenderse que “cualquiera\n",
      "de los miembros del grupo social debe tener la oportunidad de acudir a la\n",
      "justicia, para obtener esa protección”. Nótese pues que en el caso de la acción\n",
      "popular, la vulneración del interés colectivo subsiste, y existe además la\n",
      "posibilidad de retrotraer las cosas a su estado inicial, por lo cual, el\n",
      "término de caducidad resultaba injustificado. En cambio, en el caso del fuero\n",
      "sindical, la prescripción se justifica, no sólo por razones de seguridad\n",
      "jurídica sino por el sentido mismo que tiene el fuero sindical. En efecto, la\n",
      "imprescriptibilidad de las reclamaciones del trabajador aforado podría hacer\n",
      "perder su significado al fuero sindical, que es proteger el derecho de\n",
      "asociación, pues ¿qué beneficio tiene para la libertad sindical reintegrar a un\n",
      "trabajador treinta años después de ocurridos los hechos?.  \n",
      "-*-*-*-*-*-*-*-*-*-*-*-*-*-*-*-*-*-*-*-*\n",
      "Preprocesado:\n",
      "corte destacar análisis compatible criterio desarrollado sentencia c mp_martha_victoria_sáchica moncaleano citado actor intervinient sustentar inconstitucionalidad término prescripción consagrado norma acusado providencia declarar inconstitucionalidad término caducidad establecido artículo ley acción popular caducar año dirigido volver argumento central corte justificar término caducidad subsistir vulneración derecho interés colectivo existir posibilidad volver cesar violación evento entender cualquiera miembro grupo social oportunidad acudir justicia obtener protección nótese caso acción popular vulneración interés colectivo subsistir posibilidad retrotraer inicial término caducidad resultar injustificado cambio caso fuero sindical prescripción justificar razón seguridad jurídico fuero sindical efecto imprescriptibilidad reclamación trabajador aforado perder significado fuero sindical proteger derecho asociación beneficio libertad sindical reintegrar trabajador treinta año ocurrido hecho\n",
      "-*-*-*-*-*-*-*-*-*-*-*-*-*-*-*-*-*-*-*-*\n",
      "Quitar palabras vacías (stop words):\n",
      "corte destacar análisis compatible criterio desarrollado sentencia c mp_martha_victoria_sáchica moncaleano citado actor intervinient sustentar inconstitucionalidad término prescripción consagrado norma acusado providencia declarar inconstitucionalidad término caducidad establecido artículo ley acción popular caducar año dirigido volver argumento central corte justificar término caducidad subsistir vulneración derecho interés colectivo existir posibilidad volver cesar violación evento entender cualquiera miembro grupo social oportunidad acudir justicia obtener protección nótese caso acción popular vulneración interés colectivo subsistir posibilidad retrotraer inicial término caducidad resultar injustificado cambio caso fuero sindical prescripción justificar razón seguridad jurídico fuero sindical efecto imprescriptibilidad reclamación trabajador aforado perder significado fuero sindical proteger derecho asociación beneficio libertad sindical reintegrar trabajador treinta año ocurrido hecho\n",
      "-*-*-*-*-*-*-*-*-*-*-*-*-*-*-*-*-*-*-*-*\n",
      "Lematización:\n",
      "corte destacar análisis compatible criterio desarrollado sentencia c mp_martha_victoria_sáchico moncaleano citado actor intervinient sustentar inconstitucionalidad término prescripción consagrado norma acusado providencia declarar inconstitucionalidad término caducidad establecido artículo ley acción popular caducar año dirigido volver argumento central corte justificar término caducidad subsistir vulneración derecho interés colectivo existir posibilidad volver cesar violación evento entender cualquiera miembro grupo social oportunidad acudir justicia obtener protección nótese caso acción popular vulneración interés colectivo subsistir posibilidad retrotraer inicial término caducidad resultar injustificado cambio caso fuero sindical prescripción justificar razón seguridad jurídico fuero sindical efecto imprescriptibilidad reclamación trabajador aforado perder significado fuero sindical proteger derecho asociación beneficio libertad sindical reintegrar trabajador treinta año ocurrido hecho\n",
      "-*-*-*-*-*-*-*-*-*-*-*-*-*-*-*-*-*-*-*-*\n",
      "Full Preprocess:\n",
      "corte destacar análisis compatible criterio desarrollado sentencia c mp_martha_victoria_sáchica moncaleano citado actor intervinient sustentar inconstitucionalidad término prescripción consagrado norma acusado providencia declarar inconstitucionalidad término caducidad establecido artículo ley acción popular caducar año dirigido volver argumento central corte justificar término caducidad subsistir vulneración derecho interés colectivo existir posibilidad volver cesar violación evento entender cualquiera miembro grupo social oportunidad acudir justicia obtener protección nótese caso acción popular vulneración interés colectivo subsistir posibilidad retrotraer inicial término caducidad resultar injustificado cambio caso fuero sindical prescripción justificar razón seguridad jurídico fuero sindical efecto imprescriptibilidad reclamación trabajador aforado perder significado fuero sindical proteger derecho asociación beneficio libertad sindical reintegrar trabajador treinta año ocurrido hecho\n",
      "-*-*-*-*-*-*-*-*-*-*-*-*-*-*-*-*-*-*-*-*\n",
      "Full Preprocess debug:\n",
      "corte destacar análisis compatible criterio desarrollado sentencia c mp_martha_victoria_sáchica moncaleano citado actor intervinient sustentar inconstitucionalidad término prescripción consagrado norma acusado providencia declarar inconstitucionalidad término caducidad establecido artículo ley acción popular caducar año dirigido volver argumento central corte justificar término caducidad subsistir vulneración derecho interés colectivo existir posibilidad volver cesar violación evento entender cualquiera miembro grupo social oportunidad acudir justicia obtener protección nótese caso acción popular vulneración interés colectivo subsistir posibilidad retrotraer inicial término caducidad resultar injustificado cambio caso fuero sindical prescripción justificar razón seguridad jurídico fuero sindical efecto imprescriptibilidad reclamación trabajador aforado perder significado fuero sindical proteger derecho asociación beneficio libertad sindical reintegrar trabajador treinta año ocurrido hecho\n"
     ]
    }
   ],
   "source": [
    "# Ejemplo\n",
    "id_ejemplo = 687\n",
    "print(\"Original:\\n{}\".format(df.iloc[id_ejemplo].text))\n",
    "print(\"-*\"*20)\n",
    "print(\"Preprocesado:\\n{}\".format(df.iloc[id_ejemplo].pp))\n",
    "print(\"-*\"*20)\n",
    "print(\"Quitar palabras vacías (stop words):\\n{}\".format(remove_stopwords(df.iloc[id_ejemplo].pp)))\n",
    "print(\"-*\"*20)\n",
    "print(\"Lematización:\\n{}\".format(lemmatize(remove_stopwords(df.iloc[id_ejemplo].pp))))\n",
    "print(\"-*\"*20)\n",
    "print(\"Full Preprocess:\\n{}\".format(full_preprocess(df.iloc[id_ejemplo].text)))\n",
    "print(\"-*\"*20)\n",
    "print(\"Full Preprocess debug:\\n{}\".format(full_preprocess(df.iloc[id_ejemplo].text, debug=True)))"
   ]
  },
  {
   "cell_type": "markdown",
   "id": "religious-external",
   "metadata": {},
   "source": [
    "### Verificaciones de textos vacíos"
   ]
  },
  {
   "cell_type": "code",
   "execution_count": 31,
   "id": "chemical-landscape",
   "metadata": {},
   "outputs": [
    {
     "data": {
      "text/html": [
       "<div>\n",
       "<style scoped>\n",
       "    .dataframe tbody tr th:only-of-type {\n",
       "        vertical-align: middle;\n",
       "    }\n",
       "\n",
       "    .dataframe tbody tr th {\n",
       "        vertical-align: top;\n",
       "    }\n",
       "\n",
       "    .dataframe thead th {\n",
       "        text-align: right;\n",
       "    }\n",
       "</style>\n",
       "<table border=\"1\" class=\"dataframe\">\n",
       "  <thead>\n",
       "    <tr style=\"text-align: right;\">\n",
       "      <th></th>\n",
       "      <th>Unnamed: 0</th>\n",
       "      <th>Unnamed: 0.1</th>\n",
       "      <th>p_index</th>\n",
       "      <th>tag</th>\n",
       "      <th>text</th>\n",
       "      <th>class_</th>\n",
       "      <th>sentencia</th>\n",
       "      <th>link</th>\n",
       "      <th>word_count</th>\n",
       "      <th>pp</th>\n",
       "    </tr>\n",
       "  </thead>\n",
       "  <tbody>\n",
       "  </tbody>\n",
       "</table>\n",
       "</div>"
      ],
      "text/plain": [
       "Empty DataFrame\n",
       "Columns: [Unnamed: 0, Unnamed: 0.1, p_index, tag, text, class_, sentencia, link, word_count, pp]\n",
       "Index: []"
      ]
     },
     "execution_count": 31,
     "metadata": {},
     "output_type": "execute_result"
    }
   ],
   "source": [
    "df[df.text.isnull()]"
   ]
  },
  {
   "cell_type": "code",
   "execution_count": 32,
   "id": "damaged-black",
   "metadata": {
    "scrolled": true
   },
   "outputs": [
    {
     "data": {
      "text/html": [
       "<div>\n",
       "<style scoped>\n",
       "    .dataframe tbody tr th:only-of-type {\n",
       "        vertical-align: middle;\n",
       "    }\n",
       "\n",
       "    .dataframe tbody tr th {\n",
       "        vertical-align: top;\n",
       "    }\n",
       "\n",
       "    .dataframe thead th {\n",
       "        text-align: right;\n",
       "    }\n",
       "</style>\n",
       "<table border=\"1\" class=\"dataframe\">\n",
       "  <thead>\n",
       "    <tr style=\"text-align: right;\">\n",
       "      <th></th>\n",
       "      <th>Unnamed: 0</th>\n",
       "      <th>Unnamed: 0.1</th>\n",
       "      <th>p_index</th>\n",
       "      <th>tag</th>\n",
       "      <th>text</th>\n",
       "      <th>class_</th>\n",
       "      <th>sentencia</th>\n",
       "      <th>link</th>\n",
       "      <th>word_count</th>\n",
       "      <th>pp</th>\n",
       "    </tr>\n",
       "  </thead>\n",
       "  <tbody>\n",
       "  </tbody>\n",
       "</table>\n",
       "</div>"
      ],
      "text/plain": [
       "Empty DataFrame\n",
       "Columns: [Unnamed: 0, Unnamed: 0.1, p_index, tag, text, class_, sentencia, link, word_count, pp]\n",
       "Index: []"
      ]
     },
     "execution_count": 32,
     "metadata": {},
     "output_type": "execute_result"
    }
   ],
   "source": [
    "df[df.pp==\"\"]"
   ]
  },
  {
   "cell_type": "code",
   "execution_count": 33,
   "id": "approximate-ireland",
   "metadata": {},
   "outputs": [],
   "source": [
    "# df = df[df.pp!=\"\"].copy()\n",
    "df = df[df.text.notnull()].copy()"
   ]
  },
  {
   "cell_type": "code",
   "execution_count": 34,
   "id": "alpha-jumping",
   "metadata": {},
   "outputs": [
    {
     "data": {
      "text/plain": [
       "6586593"
      ]
     },
     "execution_count": 34,
     "metadata": {},
     "output_type": "execute_result"
    }
   ],
   "source": [
    "len(df)"
   ]
  },
  {
   "cell_type": "code",
   "execution_count": 35,
   "id": "voluntary-discrimination",
   "metadata": {},
   "outputs": [
    {
     "data": {
      "text/html": [
       "<div>\n",
       "<style scoped>\n",
       "    .dataframe tbody tr th:only-of-type {\n",
       "        vertical-align: middle;\n",
       "    }\n",
       "\n",
       "    .dataframe tbody tr th {\n",
       "        vertical-align: top;\n",
       "    }\n",
       "\n",
       "    .dataframe thead th {\n",
       "        text-align: right;\n",
       "    }\n",
       "</style>\n",
       "<table border=\"1\" class=\"dataframe\">\n",
       "  <thead>\n",
       "    <tr style=\"text-align: right;\">\n",
       "      <th></th>\n",
       "      <th>Unnamed: 0</th>\n",
       "      <th>Unnamed: 0.1</th>\n",
       "      <th>p_index</th>\n",
       "      <th>tag</th>\n",
       "      <th>text</th>\n",
       "      <th>class_</th>\n",
       "      <th>sentencia</th>\n",
       "      <th>link</th>\n",
       "      <th>word_count</th>\n",
       "      <th>pp</th>\n",
       "    </tr>\n",
       "  </thead>\n",
       "  <tbody>\n",
       "    <tr>\n",
       "      <th>205</th>\n",
       "      <td>205</td>\n",
       "      <td>205</td>\n",
       "      <td>123</td>\n",
       "      <td>p</td>\n",
       "      <td>(…)</td>\n",
       "      <td>MsoNormal</td>\n",
       "      <td>T-515-06</td>\n",
       "      <td>Relatoria/2006/T-515-06.htm</td>\n",
       "      <td>1</td>\n",
       "      <td>NaN</td>\n",
       "    </tr>\n",
       "    <tr>\n",
       "      <th>597</th>\n",
       "      <td>597</td>\n",
       "      <td>597</td>\n",
       "      <td>95</td>\n",
       "      <td>p</td>\n",
       "      <td>(...)</td>\n",
       "      <td>MsoNormal</td>\n",
       "      <td>C-381-00</td>\n",
       "      <td>Relatoria/2000/C-381-00.htm</td>\n",
       "      <td>1</td>\n",
       "      <td>NaN</td>\n",
       "    </tr>\n",
       "    <tr>\n",
       "      <th>601</th>\n",
       "      <td>601</td>\n",
       "      <td>601</td>\n",
       "      <td>103</td>\n",
       "      <td>p</td>\n",
       "      <td>(…)</td>\n",
       "      <td>MsoNormal</td>\n",
       "      <td>C-381-00</td>\n",
       "      <td>Relatoria/2000/C-381-00.htm</td>\n",
       "      <td>1</td>\n",
       "      <td>NaN</td>\n",
       "    </tr>\n",
       "    <tr>\n",
       "      <th>671</th>\n",
       "      <td>671</td>\n",
       "      <td>671</td>\n",
       "      <td>246</td>\n",
       "      <td>p</td>\n",
       "      <td>(…)</td>\n",
       "      <td>MsoNormal</td>\n",
       "      <td>C-381-00</td>\n",
       "      <td>Relatoria/2000/C-381-00.htm</td>\n",
       "      <td>1</td>\n",
       "      <td>NaN</td>\n",
       "    </tr>\n",
       "    <tr>\n",
       "      <th>1078</th>\n",
       "      <td>1078</td>\n",
       "      <td>1078</td>\n",
       "      <td>642</td>\n",
       "      <td>p</td>\n",
       "      <td>(…)</td>\n",
       "      <td>MsoNormal</td>\n",
       "      <td>T-241-16</td>\n",
       "      <td>Relatoria/2016/T-241-16.htm</td>\n",
       "      <td>1</td>\n",
       "      <td>NaN</td>\n",
       "    </tr>\n",
       "    <tr>\n",
       "      <th>...</th>\n",
       "      <td>...</td>\n",
       "      <td>...</td>\n",
       "      <td>...</td>\n",
       "      <td>...</td>\n",
       "      <td>...</td>\n",
       "      <td>...</td>\n",
       "      <td>...</td>\n",
       "      <td>...</td>\n",
       "      <td>...</td>\n",
       "      <td>...</td>\n",
       "    </tr>\n",
       "    <tr>\n",
       "      <th>6585671</th>\n",
       "      <td>6586123</td>\n",
       "      <td>6586123</td>\n",
       "      <td>602</td>\n",
       "      <td>p</td>\n",
       "      <td>716</td>\n",
       "      <td>MsoNormal</td>\n",
       "      <td>C-307-20</td>\n",
       "      <td>Relatoria/2020/C-307-20.htm</td>\n",
       "      <td>1</td>\n",
       "      <td>NaN</td>\n",
       "    </tr>\n",
       "    <tr>\n",
       "      <th>6585672</th>\n",
       "      <td>6586124</td>\n",
       "      <td>6586124</td>\n",
       "      <td>603</td>\n",
       "      <td>p</td>\n",
       "      <td>608</td>\n",
       "      <td>MsoNormal</td>\n",
       "      <td>C-307-20</td>\n",
       "      <td>Relatoria/2020/C-307-20.htm</td>\n",
       "      <td>1</td>\n",
       "      <td>NaN</td>\n",
       "    </tr>\n",
       "    <tr>\n",
       "      <th>6585673</th>\n",
       "      <td>6586125</td>\n",
       "      <td>6586125</td>\n",
       "      <td>604</td>\n",
       "      <td>p</td>\n",
       "      <td>113</td>\n",
       "      <td>MsoNormal</td>\n",
       "      <td>C-307-20</td>\n",
       "      <td>Relatoria/2020/C-307-20.htm</td>\n",
       "      <td>1</td>\n",
       "      <td>NaN</td>\n",
       "    </tr>\n",
       "    <tr>\n",
       "      <th>6585674</th>\n",
       "      <td>6586126</td>\n",
       "      <td>6586126</td>\n",
       "      <td>605</td>\n",
       "      <td>p</td>\n",
       "      <td>2676</td>\n",
       "      <td>MsoNormal</td>\n",
       "      <td>C-307-20</td>\n",
       "      <td>Relatoria/2020/C-307-20.htm</td>\n",
       "      <td>1</td>\n",
       "      <td>NaN</td>\n",
       "    </tr>\n",
       "    <tr>\n",
       "      <th>6585849</th>\n",
       "      <td>6586301</td>\n",
       "      <td>6586301</td>\n",
       "      <td>898</td>\n",
       "      <td>p</td>\n",
       "      <td>(...)</td>\n",
       "      <td>MsoNormal</td>\n",
       "      <td>C-307-20</td>\n",
       "      <td>Relatoria/2020/C-307-20.htm</td>\n",
       "      <td>1</td>\n",
       "      <td>NaN</td>\n",
       "    </tr>\n",
       "  </tbody>\n",
       "</table>\n",
       "<p>183955 rows × 10 columns</p>\n",
       "</div>"
      ],
      "text/plain": [
       "         Unnamed: 0  Unnamed: 0.1  p_index tag   text     class_ sentencia  \\\n",
       "205             205           205      123   p    (…)  MsoNormal  T-515-06   \n",
       "597             597           597       95   p  (...)  MsoNormal  C-381-00   \n",
       "601             601           601      103   p   (…)   MsoNormal  C-381-00   \n",
       "671             671           671      246   p    (…)  MsoNormal  C-381-00   \n",
       "1078           1078          1078      642   p    (…)  MsoNormal  T-241-16   \n",
       "...             ...           ...      ...  ..    ...        ...       ...   \n",
       "6585671     6586123       6586123      602   p    716  MsoNormal  C-307-20   \n",
       "6585672     6586124       6586124      603   p    608  MsoNormal  C-307-20   \n",
       "6585673     6586125       6586125      604   p    113  MsoNormal  C-307-20   \n",
       "6585674     6586126       6586126      605   p   2676  MsoNormal  C-307-20   \n",
       "6585849     6586301       6586301      898   p  (...)  MsoNormal  C-307-20   \n",
       "\n",
       "                                link  word_count   pp  \n",
       "205      Relatoria/2006/T-515-06.htm           1  NaN  \n",
       "597      Relatoria/2000/C-381-00.htm           1  NaN  \n",
       "601      Relatoria/2000/C-381-00.htm           1  NaN  \n",
       "671      Relatoria/2000/C-381-00.htm           1  NaN  \n",
       "1078     Relatoria/2016/T-241-16.htm           1  NaN  \n",
       "...                              ...         ...  ...  \n",
       "6585671  Relatoria/2020/C-307-20.htm           1  NaN  \n",
       "6585672  Relatoria/2020/C-307-20.htm           1  NaN  \n",
       "6585673  Relatoria/2020/C-307-20.htm           1  NaN  \n",
       "6585674  Relatoria/2020/C-307-20.htm           1  NaN  \n",
       "6585849  Relatoria/2020/C-307-20.htm           1  NaN  \n",
       "\n",
       "[183955 rows x 10 columns]"
      ]
     },
     "execution_count": 35,
     "metadata": {},
     "output_type": "execute_result"
    }
   ],
   "source": [
    "df[~np.array([isinstance(x, str) for x in df.pp.values])]"
   ]
  },
  {
   "cell_type": "code",
   "execution_count": 36,
   "id": "monetary-seller",
   "metadata": {},
   "outputs": [],
   "source": [
    "df = df[[isinstance(x, str) for x in df.pp.values]].copy()"
   ]
  },
  {
   "cell_type": "markdown",
   "id": "lasting-nylon",
   "metadata": {},
   "source": [
    "## LDA"
   ]
  },
  {
   "cell_type": "code",
   "execution_count": 37,
   "id": "caring-southwest",
   "metadata": {},
   "outputs": [],
   "source": [
    "# sample for testing purposes\n",
    "doc_list = df.sentencia.unique().tolist()\n",
    "doc_sample = random.sample(doc_list, k=int(len(doc_list)/10))"
   ]
  },
  {
   "cell_type": "code",
   "execution_count": 38,
   "id": "expired-personal",
   "metadata": {},
   "outputs": [],
   "source": [
    "df_sample = df[df.sentencia.isin(doc_sample)].copy()"
   ]
  },
  {
   "cell_type": "code",
   "execution_count": 39,
   "id": "printable-middle",
   "metadata": {},
   "outputs": [
    {
     "data": {
      "text/html": [
       "<div>\n",
       "<style scoped>\n",
       "    .dataframe tbody tr th:only-of-type {\n",
       "        vertical-align: middle;\n",
       "    }\n",
       "\n",
       "    .dataframe tbody tr th {\n",
       "        vertical-align: top;\n",
       "    }\n",
       "\n",
       "    .dataframe thead th {\n",
       "        text-align: right;\n",
       "    }\n",
       "</style>\n",
       "<table border=\"1\" class=\"dataframe\">\n",
       "  <thead>\n",
       "    <tr style=\"text-align: right;\">\n",
       "      <th></th>\n",
       "      <th>Unnamed: 0</th>\n",
       "      <th>Unnamed: 0.1</th>\n",
       "      <th>p_index</th>\n",
       "      <th>tag</th>\n",
       "      <th>text</th>\n",
       "      <th>class_</th>\n",
       "      <th>sentencia</th>\n",
       "      <th>link</th>\n",
       "      <th>word_count</th>\n",
       "      <th>pp</th>\n",
       "    </tr>\n",
       "  </thead>\n",
       "  <tbody>\n",
       "    <tr>\n",
       "      <th>3990</th>\n",
       "      <td>3990</td>\n",
       "      <td>3990</td>\n",
       "      <td>0</td>\n",
       "      <td>p</td>\n",
       "      <td>Sentencia\\r\\nC-251/20</td>\n",
       "      <td>MsoNormal</td>\n",
       "      <td>C-251-20</td>\n",
       "      <td>Relatoria/2020/C-251-20.htm</td>\n",
       "      <td>2</td>\n",
       "      <td>sentencia_c</td>\n",
       "    </tr>\n",
       "    <tr>\n",
       "      <th>3991</th>\n",
       "      <td>3991</td>\n",
       "      <td>3991</td>\n",
       "      <td>2</td>\n",
       "      <td>p</td>\n",
       "      <td>DECRETO\\r\\nLEGISLATIVO EN DESARROLLO DE ESTADO...</td>\n",
       "      <td>MsoNormal</td>\n",
       "      <td>C-251-20</td>\n",
       "      <td>Relatoria/2020/C-251-20.htm</td>\n",
       "      <td>16</td>\n",
       "      <td>decreto_legislativo desarrollo emergencia auto...</td>\n",
       "    </tr>\n",
       "    <tr>\n",
       "      <th>3992</th>\n",
       "      <td>3992</td>\n",
       "      <td>3992</td>\n",
       "      <td>4</td>\n",
       "      <td>p</td>\n",
       "      <td>ESTADO\\r\\nDE EMERGENCIA ECONOMICA, SOCIAL Y EC...</td>\n",
       "      <td>MsoNormal</td>\n",
       "      <td>C-251-20</td>\n",
       "      <td>Relatoria/2020/C-251-20.htm</td>\n",
       "      <td>15</td>\n",
       "      <td>emergencia economico social ecologico derivado...</td>\n",
       "    </tr>\n",
       "    <tr>\n",
       "      <th>3993</th>\n",
       "      <td>3993</td>\n",
       "      <td>3993</td>\n",
       "      <td>6</td>\n",
       "      <td>p</td>\n",
       "      <td>CONTROL\\r\\nCONSTITUCIONAL DE DECRETO LEGISLATI...</td>\n",
       "      <td>MsoNormal</td>\n",
       "      <td>C-251-20</td>\n",
       "      <td>Relatoria/2020/C-251-20.htm</td>\n",
       "      <td>13</td>\n",
       "      <td>control constitucional decreto_legislativo eme...</td>\n",
       "    </tr>\n",
       "    <tr>\n",
       "      <th>3994</th>\n",
       "      <td>3994</td>\n",
       "      <td>3994</td>\n",
       "      <td>8</td>\n",
       "      <td>p</td>\n",
       "      <td>DECRETO\\r\\nLEGISLATIVO DE ESTADO DE EMERGENCIA...</td>\n",
       "      <td>MsoNormal</td>\n",
       "      <td>C-251-20</td>\n",
       "      <td>Relatoria/2020/C-251-20.htm</td>\n",
       "      <td>14</td>\n",
       "      <td>decreto_legislativo emergencia economico socia...</td>\n",
       "    </tr>\n",
       "  </tbody>\n",
       "</table>\n",
       "</div>"
      ],
      "text/plain": [
       "      Unnamed: 0  Unnamed: 0.1  p_index tag  \\\n",
       "3990        3990          3990        0   p   \n",
       "3991        3991          3991        2   p   \n",
       "3992        3992          3992        4   p   \n",
       "3993        3993          3993        6   p   \n",
       "3994        3994          3994        8   p   \n",
       "\n",
       "                                                   text     class_ sentencia  \\\n",
       "3990                              Sentencia\\r\\nC-251/20  MsoNormal  C-251-20   \n",
       "3991  DECRETO\\r\\nLEGISLATIVO EN DESARROLLO DE ESTADO...  MsoNormal  C-251-20   \n",
       "3992  ESTADO\\r\\nDE EMERGENCIA ECONOMICA, SOCIAL Y EC...  MsoNormal  C-251-20   \n",
       "3993  CONTROL\\r\\nCONSTITUCIONAL DE DECRETO LEGISLATI...  MsoNormal  C-251-20   \n",
       "3994  DECRETO\\r\\nLEGISLATIVO DE ESTADO DE EMERGENCIA...  MsoNormal  C-251-20   \n",
       "\n",
       "                             link  word_count  \\\n",
       "3990  Relatoria/2020/C-251-20.htm           2   \n",
       "3991  Relatoria/2020/C-251-20.htm          16   \n",
       "3992  Relatoria/2020/C-251-20.htm          15   \n",
       "3993  Relatoria/2020/C-251-20.htm          13   \n",
       "3994  Relatoria/2020/C-251-20.htm          14   \n",
       "\n",
       "                                                     pp  \n",
       "3990                                        sentencia_c  \n",
       "3991  decreto_legislativo desarrollo emergencia auto...  \n",
       "3992  emergencia economico social ecologico derivado...  \n",
       "3993  control constitucional decreto_legislativo eme...  \n",
       "3994  decreto_legislativo emergencia economico socia...  "
      ]
     },
     "execution_count": 39,
     "metadata": {},
     "output_type": "execute_result"
    }
   ],
   "source": [
    "df_sample.head()"
   ]
  },
  {
   "cell_type": "code",
   "execution_count": 40,
   "id": "prepared-bailey",
   "metadata": {},
   "outputs": [],
   "source": [
    "# DESCARGAR MEMORIA!\n",
    "df = None"
   ]
  },
  {
   "cell_type": "code",
   "execution_count": 41,
   "id": "opposite-girlfriend",
   "metadata": {},
   "outputs": [],
   "source": [
    "# %%time\n",
    "# print(\"stopwords\")\n",
    "# with Pool(8) as my_pool:\n",
    "#     lemma_list = my_pool.map(remove_stopwords, df_sample.pp.values)"
   ]
  },
  {
   "cell_type": "code",
   "execution_count": 42,
   "id": "german-desert",
   "metadata": {},
   "outputs": [],
   "source": [
    "# %%time\n",
    "# print(\"lemma\")\n",
    "# with Pool(8) as my_pool:\n",
    "#     lemma_list = my_pool.map(lemmatize, lemma_list)"
   ]
  },
  {
   "cell_type": "code",
   "execution_count": 43,
   "id": "joined-deficit",
   "metadata": {},
   "outputs": [],
   "source": [
    "# df_sample[\"lemma_stop\"] = lemma_list"
   ]
  },
  {
   "cell_type": "code",
   "execution_count": 44,
   "id": "behind-avenue",
   "metadata": {},
   "outputs": [],
   "source": [
    "df_sample[\"lemma_stop\"] = df_sample[\"pp\"]"
   ]
  },
  {
   "cell_type": "code",
   "execution_count": 45,
   "id": "composite-dragon",
   "metadata": {},
   "outputs": [],
   "source": [
    "# df.to_csv(\"data/df_lemma.csv\")"
   ]
  },
  {
   "cell_type": "code",
   "execution_count": 46,
   "id": "cheap-highway",
   "metadata": {},
   "outputs": [],
   "source": [
    "# df = pd.read_csv(\"data/df_lemma.csv\")"
   ]
  },
  {
   "cell_type": "code",
   "execution_count": 47,
   "id": "hispanic-fever",
   "metadata": {},
   "outputs": [
    {
     "data": {
      "text/html": [
       "<div>\n",
       "<style scoped>\n",
       "    .dataframe tbody tr th:only-of-type {\n",
       "        vertical-align: middle;\n",
       "    }\n",
       "\n",
       "    .dataframe tbody tr th {\n",
       "        vertical-align: top;\n",
       "    }\n",
       "\n",
       "    .dataframe thead th {\n",
       "        text-align: right;\n",
       "    }\n",
       "</style>\n",
       "<table border=\"1\" class=\"dataframe\">\n",
       "  <thead>\n",
       "    <tr style=\"text-align: right;\">\n",
       "      <th></th>\n",
       "      <th>Unnamed: 0</th>\n",
       "      <th>Unnamed: 0.1</th>\n",
       "      <th>p_index</th>\n",
       "      <th>tag</th>\n",
       "      <th>text</th>\n",
       "      <th>class_</th>\n",
       "      <th>sentencia</th>\n",
       "      <th>link</th>\n",
       "      <th>word_count</th>\n",
       "      <th>pp</th>\n",
       "      <th>lemma_stop</th>\n",
       "    </tr>\n",
       "  </thead>\n",
       "  <tbody>\n",
       "  </tbody>\n",
       "</table>\n",
       "</div>"
      ],
      "text/plain": [
       "Empty DataFrame\n",
       "Columns: [Unnamed: 0, Unnamed: 0.1, p_index, tag, text, class_, sentencia, link, word_count, pp, lemma_stop]\n",
       "Index: []"
      ]
     },
     "execution_count": 47,
     "metadata": {},
     "output_type": "execute_result"
    }
   ],
   "source": [
    "df_sample[[isinstance(a, float) for a in df_sample.lemma_stop.values]]"
   ]
  },
  {
   "cell_type": "code",
   "execution_count": 48,
   "id": "prescription-luther",
   "metadata": {},
   "outputs": [],
   "source": [
    "df_sample = df_sample[[isinstance(a, str) for a in df_sample.lemma_stop.values]]"
   ]
  },
  {
   "cell_type": "code",
   "execution_count": 49,
   "id": "available-month",
   "metadata": {},
   "outputs": [
    {
     "data": {
      "text/html": [
       "<div>\n",
       "<style scoped>\n",
       "    .dataframe tbody tr th:only-of-type {\n",
       "        vertical-align: middle;\n",
       "    }\n",
       "\n",
       "    .dataframe tbody tr th {\n",
       "        vertical-align: top;\n",
       "    }\n",
       "\n",
       "    .dataframe thead th {\n",
       "        text-align: right;\n",
       "    }\n",
       "</style>\n",
       "<table border=\"1\" class=\"dataframe\">\n",
       "  <thead>\n",
       "    <tr style=\"text-align: right;\">\n",
       "      <th></th>\n",
       "      <th>Unnamed: 0</th>\n",
       "      <th>Unnamed: 0.1</th>\n",
       "      <th>p_index</th>\n",
       "      <th>tag</th>\n",
       "      <th>text</th>\n",
       "      <th>class_</th>\n",
       "      <th>sentencia</th>\n",
       "      <th>link</th>\n",
       "      <th>word_count</th>\n",
       "      <th>pp</th>\n",
       "      <th>lemma_stop</th>\n",
       "    </tr>\n",
       "  </thead>\n",
       "  <tbody>\n",
       "  </tbody>\n",
       "</table>\n",
       "</div>"
      ],
      "text/plain": [
       "Empty DataFrame\n",
       "Columns: [Unnamed: 0, Unnamed: 0.1, p_index, tag, text, class_, sentencia, link, word_count, pp, lemma_stop]\n",
       "Index: []"
      ]
     },
     "execution_count": 49,
     "metadata": {},
     "output_type": "execute_result"
    }
   ],
   "source": [
    "df_sample[df_sample.lemma_stop.str.contains(\"\\n\")]"
   ]
  },
  {
   "cell_type": "code",
   "execution_count": 50,
   "id": "likely-solution",
   "metadata": {},
   "outputs": [],
   "source": [
    "corpus_path = \"cc_lemma_corpus_sample.txt\""
   ]
  },
  {
   "cell_type": "code",
   "execution_count": 51,
   "id": "unavailable-investing",
   "metadata": {},
   "outputs": [],
   "source": [
    "df_sample.lemma_stop.to_csv(corpus_path, index=False, header=False)"
   ]
  },
  {
   "cell_type": "code",
   "execution_count": 52,
   "id": "convertible-stadium",
   "metadata": {},
   "outputs": [],
   "source": [
    "class MyCorpus:\n",
    "    def __init__(self, file_path: str, dictionary):\n",
    "        self.dictionary = dictionary\n",
    "        self.file_path = file_path\n",
    "    def __iter__(self):\n",
    "        for line in open(self.file_path):\n",
    "            # assume there's one document per line, tokens separated by whitespace\n",
    "            yield self.dictionary.doc2bow(line.lower().strip().split())\n"
   ]
  },
  {
   "cell_type": "code",
   "execution_count": 53,
   "id": "martial-communication",
   "metadata": {},
   "outputs": [
    {
     "name": "stdout",
     "output_type": "stream",
     "text": [
      "CPU times: user 14.1 s, sys: 134 ms, total: 14.3 s\n",
      "Wall time: 14.4 s\n"
     ]
    }
   ],
   "source": [
    "%%time\n",
    "cc_dict = corpora.Dictionary(line.lower().strip().split() for line in open(corpus_path))"
   ]
  },
  {
   "cell_type": "code",
   "execution_count": 54,
   "id": "signed-routine",
   "metadata": {},
   "outputs": [
    {
     "data": {
      "text/plain": [
       "122523"
      ]
     },
     "execution_count": 54,
     "metadata": {},
     "output_type": "execute_result"
    }
   ],
   "source": [
    "len(cc_dict)"
   ]
  },
  {
   "cell_type": "code",
   "execution_count": 55,
   "id": "nutritional-guest",
   "metadata": {},
   "outputs": [],
   "source": [
    "cc_dict.filter_extremes(no_above=0.5, keep_n=200000)\n",
    "cc_dict.compactify()  # remove gaps in id sequence after words that were removed"
   ]
  },
  {
   "cell_type": "code",
   "execution_count": 56,
   "id": "photographic-abortion",
   "metadata": {},
   "outputs": [
    {
     "data": {
      "text/plain": [
       "34320"
      ]
     },
     "execution_count": 56,
     "metadata": {},
     "output_type": "execute_result"
    }
   ],
   "source": [
    "len(cc_dict)"
   ]
  },
  {
   "cell_type": "markdown",
   "id": "applicable-error",
   "metadata": {},
   "source": [
    "## Extraer palabras más frecuentes por documento (no párrafo)"
   ]
  },
  {
   "cell_type": "code",
   "execution_count": 57,
   "id": "liberal-airfare",
   "metadata": {},
   "outputs": [
    {
     "name": "stdout",
     "output_type": "stream",
     "text": [
      "CPU times: user 1min 28s, sys: 368 ms, total: 1min 28s\n",
      "Wall time: 1min 29s\n"
     ]
    }
   ],
   "source": [
    "%%time\n",
    "doc_dict = {doc:' '.join(df_sample[df_sample.sentencia==doc][\"lemma_stop\"].values) for doc in df_sample.sentencia.unique()}"
   ]
  },
  {
   "cell_type": "code",
   "execution_count": 58,
   "id": "large-archives",
   "metadata": {},
   "outputs": [],
   "source": [
    "doc_word_dict = {d:list(set(doc_dict[d].strip().split())) for d in doc_dict}"
   ]
  },
  {
   "cell_type": "code",
   "execution_count": 59,
   "id": "faced-spirit",
   "metadata": {},
   "outputs": [
    {
     "name": "stdout",
     "output_type": "stream",
     "text": [
      "(0, 'sentencia_c')\n"
     ]
    }
   ],
   "source": [
    "for item in cc_dict.iteritems():\n",
    "    print(item)\n",
    "    break"
   ]
  },
  {
   "cell_type": "code",
   "execution_count": 60,
   "id": "illegal-prevention",
   "metadata": {
    "scrolled": true
   },
   "outputs": [
    {
     "name": "stdout",
     "output_type": "stream",
     "text": [
      "C-251-20 ['contexto', 'aprovechamiento', 'sic', 'notifíquese', 'posterior', 'ejercido', 'social', 'colapsibl', 'opc', 'conmocionar', 'gestionar', 'respectivo', 'condicionamiento', 'trabajador', 'sentencia_c', 'correr', 'resaltar', 'economía', 'condicionalidad', 'diario_oficial', 'interpretar', 'ende', 'incorporación', 'servicios_públicos', 'oportunidad', 'fuerza', 'optar', 'rendimiento', 'elemento', 'actualización', 'responder', 'iniciativa', 'agravación', 'vigencia', 'contrarir', 'destinado', 'creado', 'territorial', 'renovar', 'modalidad', 'excepcional', 'arca', 'obtener', 'proporcionado', 'b', 'nodeid', 'plasmar', 'dificultad', 'limitado', 'usuario', 'juzgar', 'celebración', 'voluntario', 'personalidad', 'criterio', 'preventivo', 'innecesario', 'ibídem', 'fungir', 'monarca', 'innegable', 'consecuente', 'examine', 'resuelve', 'modifiquen', 'agricultura', 'gubernamental', 'episodio', 'derecho', 'función', 'personería', 'autorización', 'lógica', 'conferida', 'precepto', 'proceso', 'revisión', 'oms', 'publica', 'favorabilidad', 'pago', 'lina_novoa', 'implementar', 'emergencia', 'comprobar', 'acotación', 'suspender', 'manual', 'reúnar', 'confierar', 'gobernador', 'diferencia', 'margen', 'administración', 'recuperación', 'diferimiento', 'banck', 'órgano', 'entregado', 'cooperativa', 'hallar', 'datos', 'diana', 'acto', 'venezuela', 'expresión', 'previsto', 'diferencial', 'interior', 'evolución', 'provenir', 'experimentar', 'precedente', 'marcar', 'aprobar', 'instancia', 'discriminatorio', 'razonable', 'inminente', 'distinto', 'comunidad', 'equilibrado', 'departamental', 'analizar', 'alirio_ovalle_reyes', 'transitorio', 'consagrar', 'desbordamiento', 'tipo', 'declarado', 'etc', 'intensidad', 'ciencia', 'perjuicio', 'recaar', 'dimensión', 'esencial', 'reflejar', 'excepcion', 'condenar', 'correo', 'facultar', 'río', 'pérdida', 'ir', 'acontecimiento', 'tier', 'desconozcar', 'primero', 'cargo', 'territoriales', 'opción', 'loa', 'nación', 'efectivo', 'virtud', 'tener', '_findeter', 'sobrevenir', 'resolutivo', 'contribuir', 'incentivo', 'allegar', 'poder', 'igualmente', 'implementado', 'tributario', 'suministro', 'proyectar', 'a_gonza', 'findeter', 'satisfecho', 'mitigación', 'diferido', 'pensar', 'expedir', 'territorio_', 'civil', 'superar', 'veredal', 'combinar', 'sala', 'financiación', 'examinar', 'cuyo', 'priorización', 'directorio_fmt', 'indicado', 'servicios', 'expedición', 'presupuesto', 'numeral', 'país', 'omitir', 'pasar', 'aplicar', 'indígena', 'séptimo', 'proporcional', 'remitir', 'derechos_humanos', 'unidad', 'desarrolllo', 'suspensión', 'crecimiento', 'juzgamiento', 'concreto', 'fáctico', 'infra', 'intangibl', 'superintendencia_financiera', 'frágil', 'ajustado', 'deliberación', 'noventa', 'específicamente', 'mayoría', 'vecinal', 'publicado', 'temblor', 'institución', 'especial', 'dinero', 'disposición', 'contener', 'partido', 'revision', 'eduardo_cubides', 'integrante', 'perspectiva', 'órden', 'compensada', 'impedir', 'actualizado', 'hecho', 'imprescindible', 'prescribir', 'realizar', 'familia', 'superación', 'colación', 'caber', 'rendir', 'comercio_exterior', 'extenso', 'dispuesto', 'objetivo', 'considerando', 'transitoria', 'dato', 'armonizar', 'seguimiento', 'raza', 'guir', 'surgir', 'compatible', 'recibido', 'gc', 'evitar', 'firmado', 'contencioso_administrativo', 'compatibilidad', 'exequibilidad_condicionada', 'ausencia', 'grado', 'discurrir', 'posibilidad', 'indexación', 'atribución', 'importante', 'tensión', 'consultar', 'actual', 'senado', 'conformar', 'carlos_bernal_pulido', 'menor', 'ministerios', 'desarrollo_territorial_', 'reunir', 'congreso', 'incompatibilidad', 'discriminación', 'latestreleased', 'legal', 'otorgado', 'real', 'captado', 'agosto', 'concepto', 'evalúar', 'lengua', 'expedido', 'independencia', 'pruebas', 'detalladamente', 'diez', 'fondo_nacional', 'gloria', 'concejos', 'respetar', 'comercializadora', 'inexequibilidad', 'renta', 'abril', 'término', 'cubrir', 'asociación', 'g', 'canalizar', 'aumentar', 'sentencia', 'trasladar', 'alia', 'prever', 'ofrecido', 'solicitar', 'presupuestos', 'crédito', 'mandato', 'amenacir', 'pena', 'análisis', 'gov', 'establecimiento', 'asignar', 'agua', 'funcionamiento', 'injustificados', 'asunto', 'antonio_josé_lizarazo_ocampo', 'previamente', 'hacienda', 'ejecución', 'prestadores', 'prohibir', 'límite', 'artículo', 'continuación', 'desproporcionar', 'elegir', 'premisa', 'ejecutivo', 'iv', 'perpetuo', 'dado', 'ciego', 'parcialmente', 'intervenir', 'brindir', 'iva', 'publicaciones', 'celebrar', 'sistema', 'sumado', 'situación', 'complementar', 'normal', 'economico', 'invitar', 'facultir', 'iii', 'habilitación', 'diseñar', 'convocar', 'adverso', 'basado', 'ampliar', 'recaer', 'lograr', 'agua_potable', 'difundir', 'autónomo', 'lista', 'discrecionalmente', 'oficial', 'sometido', 'condiciones', 'reporte', 'licuado', 'tributo', 'efectos', 'aprobada', 'hallarir', 'participación', 'liquidez', 'proferida', 'fng', 'anterior', 'presentar', 'modificado', 'idoneidad', 'completamente', 'comprometer', 'enriquecer', 'imposibilidad', 'tratamiento', 'definición', 'impacto', 'utilidad', 'acceder', 'originar', 'actor', 'mantener', 'aprobado', 'parágrafo', 'c', 'sospechoso', 'cálculo', 'restringido', 'formular', 'rural', 'suscripción', 'creencia', 'proveniente', 'presidencia', 'art', 'caja', 'salud', 'alcaldesa', 'historico', 'idónea', 'desarrollo', 'accionista', 'requieran', 'organización', 'incluido', 'departamento', 'estructura', 'apartado', 'alberto', 'judice', 'motivación', 'esencia', 'gobernadores', 'materia', 'fondo', 'ciento', 'reconexión', 'ix', 'restringe', 'creación', 'beneficio', 'interrumpir', 'separación', 'bioseguridad', 'quinto', 'establece', 'potestativa', 'invertir', 'colombia_s', 'alternativa', 'ocupar', 'conveniente', 'parámetro', 'competitivo', 'caracterizar', 'repercusión', 'exención_gmf', 'significar', 'pls', 'directo', 'consideración', 'naturaleza', 'régimen', 'destinar', 'usualmente', 'examen', 'aclarar', 'cuestionamiento', 'simultáneo', 'empresas', 'contradizar', 'cuantitativamente', 'restricción', 'carecer', 'suscribir', 'imponer', 'corpu', 'movimientos_financieros', 'económico', 'afectación', 'calendario', 'colegio', 'concesión', 'fuente', 'conservación', 'estatal', 'relación', 'injustificado', 'comunitario', 'emergencias_', 'adoptadas', 'comité', 'diferenciado', 'conocimiento', 'viceministro_', 'utilización', 'verificar', 'fronterizo', 'período', 'definido', 'intangibilidad', 'servicios_públicos_domiciliarios_', 'gasto', 'cantidad', 'firma', 'previsión', 'herramienta', 'eléctrico', 'expediente', 'ocurrencia', 'interconectadas', 'prisión', 'ver', 'entrega', 'formulario_único_territorial', 'guardar', 'coincidir', 'argumento', 'arbitrariedad', 'exponer', 'trato', 'contención', 'luz', 'fijar', 'permanente', 'reafirmar', 'decretado', 'zonas', 'trastrocar', 'fundamentales', 'considerable', 'tecnológicos', 'autoriza', 'verificación', 'atendido', 'denominación', 'tribunal', 'exp', 'comercio', 'listado', 'exequibilidad', 'pregunta', 'correspondiente', 'asimismo', 'lez', 'carlos_ernesto_camargo_assis', '<NUM>fwcc_cluster', 'porcentaje', 'esquema', 'reglamentar', 'noveno', 'cúmplase', 'expresar', 'consecuencia', 'colaboración', 'plantear', 'expedida', 'regular', 'temporalidad', 'adopción', 'generar', 'inherente', 'noviembre', 'trámite', 'boyacá', 'mínimo', 'inclusión', '_decreto', 'precisar', 'enjuiciar', 'respectar', 'adicional', 'públicos', 'decreto_declaratorio', 'determinar', 'página', 'asociado', 'indispensable', 'apoyo_fiscal', 'comprender', 'd', 'electrónico', 'coordinar', 'supeditado', 'reparo', 'relacionado', 'zona', 'fundamentar', 'correcto', 'celeridad', 'creer', 'definir', 'i', 'com', 'proferir', 'esneda_saavedra_restrepo', 'causa', 'degradante', 'específica', 'establecido', 'desmejorar', 'facturación', 'cuestión', 'aprobación', 'obsta', 'secretaria', 'auto', 'febrero', 'prestar', 'integrado', 'contenido', 'general', 'configuración', 'prestadoro', 'modesto', 'rigor', 'público', 'adoptar', 'humano', 'certificación', 'inundación', 'máximo', 'temporalmente', 'enlace', 'extensión', 'documento', 'necesario', 'referente', '_oficio', 'derivar', 'quedar', 'industria', 'defender', 'potencial', 'entrada', 'ambiente', 'siguiente', 'gobernadora', 'solucionar', 'difícilmente', 'ejercicio', 'universo', 'sanitario', 'inversión', 'requerir', 'fechado', 'tríadico', 'sexto', 'concretar', 'especificar', 'allá', 'libertad', 'dividendo', 'revisar', 'eliminar', 'respetado', 'suficiencia', 'presentado', 'exigencia', 'pacto_internacional', 'alejandro_linares_cantillo', 'presupuestal', 'ministerio_público', 'domiciliario', 'consistente', 'suscrita', 'hogar', 'ineludible', 'escrutinio', 'realización', 'defensa_nacional', 'comunicar', 'vincular', 'justificación', 'credito', 'adoptado', 'intermediario', 'indicar', 'magdalena_correa', 'traslado', 'incremento', 'duración', 'sostenibilidad', 'optimización', 'vigor', 'otorgamiento', 'fuerar', 'vulnerar', 'comunicaciones', 'exento', 'saneamiento', 'resultar', 'priorizar', 'inferior', 'ordinario', 'presente', 'incondicionado', 'calcular', 'tecnologías', 'fundamentación', 'urf', 'asignación', 'reiterar', 'pagadero', 'método', 'problema', 'omisión', 'natasha_avendaño_garcía', 'desplazamiento', 'capital', 'aducir', 'regulado', 'gobernaciones', 'desplazar', 'tratado', 'anormal', 'deterioro', 'encaminado', 'constitucionalidad', 'departamento_administrativo', 'estándar', '_antecedentes', 'leer', 'absoluto', 'desprender', 'eléctrica', 'tendiente', 'enfatizar', 'atribuir', 'equivalente', 'provisión', 'firmar', 'perturbir', 'minenergia', 'considerar', 'crea', 'v', 'dispositivo', 'puntos_seguros', 'relevante', 'secretaría', 'luis_guillermo_guerrero_pérez', 'fácticamente', 'expedito', 'faltar', 'avalado', 'naturalmente', 'derogar', 'expideír', 'suscriptor', 'saneamiento_básico', 'entender', 'valorar', 'escrito', 'noticias', 'exequible', 'irretroactividad', 'veinte', 'stella_ortiz_delgado', 'doce', 'protección', 'producir', 'segregación', 'dictador', 'empleado', 'ámbito', 'mencionada', 'secretaría_', 'energía', 'cabo', 'faculta', 'so', 'importancia', 'fundamento', 'id', 'oficio', 'lineamiento', 'rango', 'haber', 'optativo', 'querer', 'superintendencia', 'resumen', 'proyectado', 'depender', 'ordenamiento', 'planes_departamentales', 'incumplimiento', 'comunicado', 'distrital', 'nominal', 'dicho', 'pertinencia', 'señalada', 'ec', 'inmediato', 'naturales', 'interrumpen', 'rojas', 'penal', 'crédito_público', 'medida', 'cierre', 'rol', 'ordenar', 'antieconómica', 'delegación', 'emilio_ovalle_martínez', 'apreciar', 'mayor', 'rama', 'cuarto', 'aclaración', 'excluir', 'militar', 'sustantivo', 'completo', 'mayoritariamente', 'adicionalmente', 'traumática', 'emergencia_económica', 'afectado', 'iniciar', 'carta_política', 'financiar', 'contar', 'detallado', 'urbano', 'ministerio', 'constitución', 'grave', 'quince', 'inédito', 'bogotá', 'concentración', 'alterno', 'causen', 'religión', 'publicos', 'regir', 'cundinamarca', 'tanque', 'utilizar', 'co', 'postulado', 'expuesto', 'características', 'definitivo', 'vii', 'área', 'interpretación', 'tarifa', 'derecho_constitucional', 'ordenado', 'conforme', 'derecho_internacional', 'esp', 'trascendencia', 'temporal', 'aplazamiento', 'referir', 'valoración', 'turno', 'poner', 'acerca', 'persona', 'procedencia', 'niño', 'conexión', 'autonomía', 'porcentual', 'decreto_legislativo', 'financiero', 'respectivamente', 'causar', 'continúar', 'asociación_nacional', 'decidir', 'invocar', '<NUM>qkq', 'extender', 'desastre', 'fijación', 'comunal', 'advertir', 'incapacitado', 'característica', 'título', 'cartera', 'facilitar', 'abuso', 'radicado', 'técnico', 'terremoto', 'señalado', 'estudiado', 'reducción', 'ingreso', 'intocable', 'vencimiento', 'ecologico', 'reformar', 'constitucionalmente', 'condición', 'insertar', 'compensado', 'cooperativo', 'reinstalación', 'sostenimiento', 'motivo', 'salvaguardar', 'modificación', 'consistir', 'monto', 'aparato', 'gabinete', 'emisión', 'operacion', 'clase', 'disponible', 'externo', 'asociativo', 'resolución', 'productor', 'transitoriamente', 'superior', 'implementación', 'estadístico', 'práctica', 'tal', 'acreditir', 'humanos', 'carácter', 'tomar', 'fome', 'indígén', 'portal', 'gravemente', 'expresado', 'yukpa', 'adición', 'requerido', 'adquisitivo', 'resumir', 'suscrito', 'riesgo', 'preferir', 'aumento', 'participativo', 'ayudar', 'preciso', 'gobierno', 'pagar', 'precooperativa', 'amparo', 'falla', 'taxativo', 'fenómeno', 'leee', 'php', 'alegar', 'fijado', 'evaluó', 'fecha', 'listar_sector_pub', 'remuneración', 'dictado', 'decretar', 'deporte', 'desagregacer', 'esforzar', 'ausente', 'envasada', 'prevención', 'número', 'cooperación', 'confiscación', 'integral', 'agrupación', 'esclavitud', 'bajo', 'coronavirus', 'operación', 'cristina_pardo_schlesinger', 'transporte', 'disponibilidad', 'aporte', 'vigilar', 'contrato', 'manifestación', 'exención', 'articulado', 'enunciar', 'adviertar', 'fin', 'solventar', 'cualitativamente', 'encargar', 'p', 'constitucionales', 'vía', 'vertical', 'político', 'contraríen', 'exclusivamente', 'perjudicar', 'local', 'n', 'minhacienda', 'cero', 'habilitar', 'estimar', 'sectact', 'reafirmación', 'atinente', 'fundamental', 'suponer', 'aliviar', 'ramo', 'favorable', 'amplio', 'jurídico', 'estudios_constitucionales_carlos_restrepo_piedrahita', 'destinataria', 'simultáneamente', 'piso', 'incluir', 'anotar', 'vulnerabilidad', 'texto', 'pertinente', 'tortura', 'pensiones_territoriales', 'línea', 'intención', 'competir', 'usar', 'méndez', 'treinta', 'operativo', '_informe', 'alfredo_peña_franco', 'costo', 'hacer', 'solicitud', 'red', 'información', 'elegibl', 'exterior', 'complejo', 'adicionar', 'aislamiento', 'promedio', 'octubre', 'contraer', 'facultad', 'rápido', 'alcalde', 'lapso', 'débil', 'nombre', 'vínculo', 'familiar', 'palabra', 'flujo', 'nacional', 'preocupación', 'ministro', 'ecologica', 'corte_constitucional', 'despacho', 'aseo', 'beneficiario', 'causado', 'junio', 'gravedad', 'agrave', 'innovación', 'traumático', 'guerra', 'reiterada', 'ocasión', 'compensar', 'voto', 'creg', 'restringir', 'quiebra', 'creciente', 'destacar', 'ser', 'segundo', 'punto', 'arbitrario', 'material', 'potencializar', 'ejercer', 'exenciones', 'cámara', 'propósito', 'prestadora', 'organismo', 'dable', 'decreto', 'avalancha', 'accidente', 'autorizado', 'inferir', 'facultades', 'dieciséis', 'ponente', 'declaración', 'básico', 'obligatorio', 'motivar', 'libro', 'mixto', 'consulta', 'ii', 'empresa', 'junto', 'ley', 'tecnología', 'modifíquese', 'prorrogable', 'pueblo', 'sobrevinient', 'requisito', 'ecológico', 'comuníquese', 'contradicción', 'reúnir', 'extraordinario', 'racismo', 'sustento', 'relevancia', '_escrito', 'tesoro_nacional', 'garantizar', 'proporcionar', 'factura', 'intermediación', 'distrito', 'mero', 'labor', 'opinión', 'preliminar', 'registrado', 'operar', 'constatar', 'sustentar', 'nivel', 'sujeto', 'sospechosas', 'vi', '_concepto', 'cultura', 'procedimiento', 'exclusión', 'trabajo', 'finalidad', 'gas', 'ocasionar', 'requerimiento', 'limitar', 'colombia', 'procurar', 'delegar', 'endeudamiento', 'distinción', 'web', 'cotidianamente', 'año', 'gestión', 'regulación', 'idnoticia', 'concedar', 'departamentos', 'cuarta', 'interrumpar', 'financiera', 'eficiente', 'grupo', 'legislador', 'incidencia', 'jorge_corredor', 'cópiese', 'introducir', 'según', 'alterar', 'sáchico', 'conocido', 'reconocimiento', 'mencionar', 'horizontal', 'eiusdem', 'concurrente', 'acusación', 'constitucionalismo', 'sociedad', 'error', 'instituto', 'sexo', 'departamentos_', 'incurrir', 'conjunto', 'debidamente', 'exceder', 'secretaría_jurídica', 'crediticio', 'revaluación', 'efectuar', 'junta', 'atención', 'fonpet', 'directdcd', 'habilitir', 'lugar', 'frontera', 'prohibición', '_artículo', 'perturbación', 'potable', 'ostentar', 'referido', 'corporación', 'jurisprudencia', 'anexo', 'afirmar', 'pre', 'poderoso', 'normalmente', 'dieciocho', 'avalar', 'administrativo', 'bloque', 'adquierar', 'intermedio', 'unificar', 'interferir', '<NUM>fconexioncontent', 'traer', 'mil', 'calidad', 'autogestión', 'voluntariedad', 'antioquia', 'emitir', 'aplicable', 'continuidad', 'ordinariamente', 'permitir', 'razón', 'futuro', 'políticos', 'administradora', 'resuelto', 'eficaz', 'derechos', 'expresa', 'folio', 'condicionado', 'juridicidad', 'momento', 'satisfacción', 'especialmente', 'conveniencia', 'brindar', 'modificar', 'asamblea', 'convertir', 'comisión', 'salario', 'legislativo', 'crear', 'constitución_política', 're', 'asegurar', 'medidas', 'entrañar', 'listar_sector_gas', 'solicitant', 'derechos_civiles', 'estrato', 'potestad', 'reparar', 'directos', 'contado', 'cregas', 'continuo', 'derivado', 'retorno', 'financiamiento', 'politico', 'rutadeldesarrollo', 'territorio', 'pilar', 'participaciones', 'normales', 'adquirir', 'proyecto', 'coronavirus_covid', 'forzado', 'humanitario', 'desarrollo_sostenible', 'existencia', 'beneficiaria', 'excepción', 'preferencia', 'responsabilidad', 'erario', 'operatividad', 'indexado', 'inicio', 'determinado', 'expidir', 'favor', 'manejo', 'instrumento', 'ciclo', 'actuación', 'prolongar', 'encontrar', 'peso', 'acueducto', 'exigible', 'relativamente', 'vinculación', 'oportuno', 'mitigar', 'jaime_luis_olivella_márquez', 'vigilancia', 'exclusivo', 'líneas', 'informe', 'celebrir', 'suceder', 'sufrir', 'asumir', 'cambio', 'gocir', 'ciudad', 'reconocer', 'eficacia', 'específico', 'desaparición', 'faceta', 'creditos', 'interno', 'detallar', 'federación_nacional', 'representativo', 'planta', 'otorgar', 'emergencia_', 'expresir', 'eventual', 'producto', 'recuperar', 'vigilado', 'recurso', 'causal', 'disminuir', 'estudio', 'ratificado', 'divergencia', 'inviable', 'imperioso', 'sgp', 'copia', 'contemplado', 'prueba', 'habea', 'petróleo', 'consumo', 'obligado', 'aspecto', 'competente', 'exequibles', 'respuesta', 'declaratoria', 'vulnerable', 'constante', 'comercial', 'sujeción', 'abordar', 'rubro', 'inconstitucionalidad', 'estimación', 'intempestivamente', 'referencia', 'polietileno', 'productivo', 'to', 'pretexto', 'asunción', 'archivo', 'renovación', 'representación', 'anuncio', 'satisfacer', 'municipal', 'stop', 'deuda', 'vehículo', 'previo', 'siquiera', 'mes', 'impugnar', 'gmf', 'proyección', 'imprevisto', 'inter', 'buscar', 'desconocer', 'plazo', 'ocurrir', 'sitio', 'principio', 'actúar', 'justicia', 'ofertado', 'corriente', 'distribución', 'oficio_n', 'numeroso', 'anunciar', 'subsidiado', 'reglado', 'formulado', 'absolutamente', 'meramente', 'anuncia', 'secretaria_', 'justificado', 'violar', 'cobro', 'intrínsecamente', 'insistir', 'sintetizar', 'enfrentar', 'corresponda', 'estricto', 'fundado', 'operir', 'integridad', 'global', 'realizado', 'sistema_tríadico', 'anualidad', 'igualdad', 'actividad', 'entidades', 'aislamiento_preventivo_obligatorio', 'https', 'garant', 'alcantarillado', 'destierro', 'webcenter', 'suspendar', 'sala_plena', 'atender', 'organizaciones', 'evaluar', 'personal', 'magistrado', 'efecto', 'carga', 'obedecer', 'configurar', 'www', 'catálogo', 'soporte', 'tercero', 'atribuido', 'magistrada', 'ministra', 'ley_estatutaria', 'emitido', 'servicio', 'sobreviniente', 'tabla', 'explicar', 'cumplimiento', 'desarrollo_rural', 'secretaria_jurídica', 'biocombustibl', 'vista', 'entidad', 'podra', 'privatización', 'exposición', 'accionario', 'continuar', 'cruel', '<NUM>_', 'turismo', 'aspiración', 'objeto', 'privado', 'impuesto', 'establecer', 'contratar', 'autoridad', 'destino', 'registro', 'andrés_vence_villar', 'dejar', 'existir', 'llevar', 'cp', 'constitucional', 'presidente', 'conmoción', 'matrimonio', 'internacional', 'respaldado', 'irreconciliabl', 'fundante', 'protección_social', 'transferir', 'desgracia', 'gravamen', 'manifiesto', 'reorientar', 'subrayar', 'sostener', 'fnd', 'libremente', 'alcances', 'reestructuración', 'natural', 'expresamente', 'marzo', '_sentencia_c', 'relaciones_exteriores', 'tratar', 'recibir', 'automático', 'interés', 'autorizar', 'sección', 'intervinient', 'conciencia', 'centrar', 'inhumano', 'procurador_', 'discrecional', 'componer', 'posesión', 'comprometido', 'entendido', 'bancoldex', 'garante', 'urgente', 'consejo', 'precisamente', 'expreso', 'contrario', 'determinación', 'alto', 'particular', 'anexan', 'venta', 'único', 'servicios_públicos_domiciliarios', 'mantenimiento', 'constituyar', 'comprensión', 'reunión', 'seguridad', 'vigente', 'digitalmente', 'respaldar', 'caso', 'cumplir', '<NUM>f', 'destinación', 'imperativo', 'legalidad', '<NUM>fidcprimaryfile', 'normalidad', 'presunción', 'servidumbre', 'widgets', 'adecuado', 'reconocido', 'núcleo', 'martha', 'domiciliarios', 'acudir', 'mercado', 'concreción', 'showproperty', 'tarifaria', 'implicar', 'multilaterales', 'conformidad', 'dirigido', 'crisis', 'cuantía', 'sector', 'vivienda', 'obligar', 'movimiento', 'dirección_', 'manejen', 'mecanismo', 'cuestionario', 'arts', 'directriz', 'integrar', 'ofrecer', 'estrictamente', 'habitante', 'patrón', 'seguir', 'conferido', 'pretender', 'reyser', 'infortunio', 'aprovisionamiento', 'democrático', 'independiente', 'poseer', 'fiscal', 'solicitado', 'conceder', 'escala', 'prestir', 'educación_nacional', 'identificar', 'tasa', 'tornar', 'conjurar', 'conexidad', 'calamidad', 'vulneren', 'residencial', 'ríos', 'reducir', 'dar', 'judicial', 'base', 'municipio', 'second', 'nombrar', 'omnímodo', 'cifra', 'constitucion', 'corteconstitucional', '_ley', 'extiendar', 'justificar', 'u', 'disponer', 'dilucidar', 'dictar', 'soportar', 'emergencias', 'representante', 'subsidiar', 'proporcionalidad', 'claro', '_', 'frente', 'medio', 'coherente', 'sub', 'dirección', 'declarar', 'minas', 'garantía', 'brote', 'acceso', 'síntesis', 'alcaldias', 'proteger', 'obligación', 'aplicación', 'señalar', 'constituir', 'fut', 'suficiente', 'julio', 'condicionar', 'fortalecer', 'procurador', 'gratuidad', 'juicio', 'oficializar', 'filosófico', 'involucrar', 'corresponder', 'concordancia', 'deber', 'colombiano', 'falta', 'sustancialmente', 'requiera', 'finalmente', 'conclusión', 'devaluación', 'carrotanqu', 'evidenciar', 'tercer', 'olga_luci', 'covid', 'suprimar', 'origen', 'periodo', 'http', 'competencia', 'reglamento', 'corte', 'banca', 'universidad_externado', 'banco', 'daniela_amaya', 'combustible', 'necesidad', 'fundar', 'reglamentado', 'afectar', 'prestación', 'restante', 'pandemia', 'válido', 'saldo', 'desproporcionado', 'pequeño', 'garantías', 'exclusiones', 'diálogo', 'república', 'finalizar', 'mencionado', 'subsidio', 'validez', 'conllevar', 'josé_fernando', 'sistema_', 'incorporar', 'mérito', 'supuesto', 'veintinueve', 'vinculado', 'control', 'forma', 'tendient', 'subsidiariedad', 'auténtico', 'administrar', 'sumar', 'viii', 'marco', 'inicialmente', 'diferir', 'acta', 'habilitante', 'pronunciar', 'desembolso', 'proveer', 'vida', 'obre', 'recompra', 'remedio', 'exigir', 'servicios_publicos', 'aludir', 'limitación', 'instalado', 'ratificar', 'victoria', 'dólar', 'excluido', 'capítulo', 'norma', 'parcial', 'únicamente', 'prestador', 'regla', 'declaratorio', 'arguyen', 'central', 'reportado', 'dirigir', 'mismos', 'serie', 'salvamento', 'motivado', 'directamente', 'orden', 'diciembre', 'decreta', 'negativo', 'déficit', 'exigido', 'facultativo', 'líquido', 'someter', 'capacidad', 'actuar', 'impongar', 'incompatible', '_superintendencia', 'regulación_financiera', 'desarrollo_territorial_s', 'excepcionalísimo', 'premeditadamente', 'sustanciador', 'política', 'ecológica', 'desfinanciación', 'apoyo', 'normativo', 'generado', 'fajardo_rivera', 'publicación', 'conferir', 'existente', 'protocolo', 'estatutario', 'csdn', 'ente', 'erigir', 'perfil', 'errar', 'cometer', 'evento', 'basar', 'institucional', 'renovable', 'formal', 'prórroga', 'desarrollar', 'deferente', 'intervención', 'apoyar', 'perturbar', 'requeír', 'beneficiar', 'gobernación', 'espd', 'alcance', 'dotar', 'manifestar', 'precedencia', 'párrafo', 'nómina', 'concluir', 'decisión', 'proceder', 'representar', 'participar', 'concejo', 'controlar', 'acción', 'económicamente', 'categoría', 'exigente', 'mayo', 'oferta', 'descrito', 'apalancamiento', 'comparable', 'solvencia', 'particularmente', 'valoraanalitik', 'providencia']\n"
     ]
    }
   ],
   "source": [
    "for d in doc_word_dict:\n",
    "    print(d, doc_word_dict[d])\n",
    "    break"
   ]
  },
  {
   "cell_type": "code",
   "execution_count": 61,
   "id": "processed-today",
   "metadata": {},
   "outputs": [],
   "source": [
    "doc_df = pd.DataFrame([{\"name\":doc, \"words\":' '.join(doc_word_dict[doc])} for doc in doc_word_dict])"
   ]
  },
  {
   "cell_type": "code",
   "execution_count": 62,
   "id": "severe-trash",
   "metadata": {},
   "outputs": [
    {
     "data": {
      "text/html": [
       "<div>\n",
       "<style scoped>\n",
       "    .dataframe tbody tr th:only-of-type {\n",
       "        vertical-align: middle;\n",
       "    }\n",
       "\n",
       "    .dataframe tbody tr th {\n",
       "        vertical-align: top;\n",
       "    }\n",
       "\n",
       "    .dataframe thead th {\n",
       "        text-align: right;\n",
       "    }\n",
       "</style>\n",
       "<table border=\"1\" class=\"dataframe\">\n",
       "  <thead>\n",
       "    <tr style=\"text-align: right;\">\n",
       "      <th></th>\n",
       "      <th>name</th>\n",
       "      <th>words</th>\n",
       "    </tr>\n",
       "  </thead>\n",
       "  <tbody>\n",
       "    <tr>\n",
       "      <th>0</th>\n",
       "      <td>C-251-20</td>\n",
       "      <td>contexto aprovechamiento sic notifíquese poste...</td>\n",
       "    </tr>\n",
       "    <tr>\n",
       "      <th>1</th>\n",
       "      <td>A260-17</td>\n",
       "      <td>juzgado_tercero_promiscuo notifíquese stop deu...</td>\n",
       "    </tr>\n",
       "    <tr>\n",
       "      <th>2</th>\n",
       "      <td>A433-15</td>\n",
       "      <td>hecho mayor mencionado presidenta realizar con...</td>\n",
       "    </tr>\n",
       "    <tr>\n",
       "      <th>3</th>\n",
       "      <td>SU061-18</td>\n",
       "      <td>contexto notifíquese construir presuntamente a...</td>\n",
       "    </tr>\n",
       "    <tr>\n",
       "      <th>4</th>\n",
       "      <td>T-573-10</td>\n",
       "      <td>selectivo contexto sic notifíquese social cons...</td>\n",
       "    </tr>\n",
       "    <tr>\n",
       "      <th>...</th>\n",
       "      <td>...</td>\n",
       "      <td>...</td>\n",
       "    </tr>\n",
       "    <tr>\n",
       "      <th>3488</th>\n",
       "      <td>T-494-95</td>\n",
       "      <td>fabio_morón_díaz contexto deír diseñado sic no...</td>\n",
       "    </tr>\n",
       "    <tr>\n",
       "      <th>3489</th>\n",
       "      <td>T-233-04</td>\n",
       "      <td>resumir recordar notifíquese stop privar deuda...</td>\n",
       "    </tr>\n",
       "    <tr>\n",
       "      <th>3490</th>\n",
       "      <td>T-091-11</td>\n",
       "      <td>diagnosticado dolencia contexto vender negació...</td>\n",
       "    </tr>\n",
       "    <tr>\n",
       "      <th>3491</th>\n",
       "      <td>C-375-02</td>\n",
       "      <td>parámetro notaría_ satisfacer municipal antece...</td>\n",
       "    </tr>\n",
       "    <tr>\n",
       "      <th>3492</th>\n",
       "      <td>T-1498-00</td>\n",
       "      <td>fabio_morón_díaz fiscalia serio notifíquese st...</td>\n",
       "    </tr>\n",
       "  </tbody>\n",
       "</table>\n",
       "<p>3493 rows × 2 columns</p>\n",
       "</div>"
      ],
      "text/plain": [
       "           name                                              words\n",
       "0      C-251-20  contexto aprovechamiento sic notifíquese poste...\n",
       "1       A260-17  juzgado_tercero_promiscuo notifíquese stop deu...\n",
       "2       A433-15  hecho mayor mencionado presidenta realizar con...\n",
       "3      SU061-18  contexto notifíquese construir presuntamente a...\n",
       "4      T-573-10  selectivo contexto sic notifíquese social cons...\n",
       "...         ...                                                ...\n",
       "3488   T-494-95  fabio_morón_díaz contexto deír diseñado sic no...\n",
       "3489   T-233-04  resumir recordar notifíquese stop privar deuda...\n",
       "3490   T-091-11  diagnosticado dolencia contexto vender negació...\n",
       "3491   C-375-02  parámetro notaría_ satisfacer municipal antece...\n",
       "3492  T-1498-00  fabio_morón_díaz fiscalia serio notifíquese st...\n",
       "\n",
       "[3493 rows x 2 columns]"
      ]
     },
     "execution_count": 62,
     "metadata": {},
     "output_type": "execute_result"
    }
   ],
   "source": [
    "doc_df"
   ]
  },
  {
   "cell_type": "code",
   "execution_count": 63,
   "id": "mineral-imperial",
   "metadata": {},
   "outputs": [],
   "source": [
    "cv = CountVectorizer(max_df=0.5)"
   ]
  },
  {
   "cell_type": "code",
   "execution_count": 64,
   "id": "instant-magic",
   "metadata": {},
   "outputs": [
    {
     "data": {
      "text/plain": [
       "CountVectorizer(max_df=0.5)"
      ]
     },
     "execution_count": 64,
     "metadata": {},
     "output_type": "execute_result"
    }
   ],
   "source": [
    "cv.fit(doc_df.words)"
   ]
  },
  {
   "cell_type": "code",
   "execution_count": 65,
   "id": "reported-citation",
   "metadata": {
    "scrolled": true
   },
   "outputs": [
    {
     "data": {
      "text/plain": [
       "{'abril',\n",
       " 'acceso',\n",
       " 'accionante',\n",
       " 'acción',\n",
       " 'actividad',\n",
       " 'acto',\n",
       " 'actor',\n",
       " 'actuación',\n",
       " 'acudir',\n",
       " 'administración',\n",
       " 'administrar',\n",
       " 'administrativo',\n",
       " 'adoptado',\n",
       " 'adoptar',\n",
       " 'advertir',\n",
       " 'afectado',\n",
       " 'afectar',\n",
       " 'afirmar',\n",
       " 'agosto',\n",
       " 'alcance',\n",
       " 'amparo',\n",
       " 'analizar',\n",
       " 'antecedente',\n",
       " 'anterior',\n",
       " 'análisis',\n",
       " 'aplicación',\n",
       " 'aplicar',\n",
       " 'argumento',\n",
       " 'art',\n",
       " 'artículo',\n",
       " 'asegurar',\n",
       " 'aspecto',\n",
       " 'asumir',\n",
       " 'asunto',\n",
       " 'atención',\n",
       " 'atender',\n",
       " 'auto',\n",
       " 'autoridad',\n",
       " 'año',\n",
       " 'base',\n",
       " 'bogotá',\n",
       " 'calidad',\n",
       " 'carecer',\n",
       " 'cargo',\n",
       " 'carta',\n",
       " 'carácter',\n",
       " 'caso',\n",
       " 'causa',\n",
       " 'circuito',\n",
       " 'circunstancia',\n",
       " 'citado',\n",
       " 'ciudadano',\n",
       " 'competencia',\n",
       " 'competente',\n",
       " 'comunicación',\n",
       " 'comuníquese',\n",
       " 'conceder',\n",
       " 'concepto',\n",
       " 'concluir',\n",
       " 'concreto',\n",
       " 'condición',\n",
       " 'confirmar',\n",
       " 'conforme',\n",
       " 'conformidad',\n",
       " 'conocimiento',\n",
       " 'consagrado',\n",
       " 'consecuencia',\n",
       " 'consideración',\n",
       " 'considerar',\n",
       " 'constitucional',\n",
       " 'constitución',\n",
       " 'constitución_política',\n",
       " 'constituir',\n",
       " 'contar',\n",
       " 'contenido',\n",
       " 'contrario',\n",
       " 'control',\n",
       " 'corporación',\n",
       " 'corresponder',\n",
       " 'correspondiente',\n",
       " 'corte',\n",
       " 'corte_constitucional',\n",
       " 'criterio',\n",
       " 'cumplimiento',\n",
       " 'cumplir',\n",
       " 'cuyo',\n",
       " 'cúmplar',\n",
       " 'dar',\n",
       " 'deber',\n",
       " 'decidir',\n",
       " 'decisión',\n",
       " 'declarar',\n",
       " 'decreto',\n",
       " 'defensa',\n",
       " 'definir',\n",
       " 'dejar',\n",
       " 'demanda',\n",
       " 'demandado',\n",
       " 'demandante',\n",
       " 'demostrar',\n",
       " 'derecho',\n",
       " 'desarrollar',\n",
       " 'desarrollo',\n",
       " 'desconocer',\n",
       " 'determinado',\n",
       " 'determinar',\n",
       " 'dicho',\n",
       " 'diciembre',\n",
       " 'directo',\n",
       " 'disponer',\n",
       " 'disposición',\n",
       " 'dispuesto',\n",
       " 'distinto',\n",
       " 'dr',\n",
       " 'económico',\n",
       " 'efectivo',\n",
       " 'efecto',\n",
       " 'efectuar',\n",
       " 'ejercer',\n",
       " 'ejercicio',\n",
       " 'elemento',\n",
       " 'encontrar',\n",
       " 'enero',\n",
       " 'entender',\n",
       " 'entidad',\n",
       " 'escrito',\n",
       " 'especial',\n",
       " 'específico',\n",
       " 'establecer',\n",
       " 'establecido',\n",
       " 'estimar',\n",
       " 'estudio',\n",
       " 'evento',\n",
       " 'evitar',\n",
       " 'exigir',\n",
       " 'existencia',\n",
       " 'existir',\n",
       " 'expediente',\n",
       " 'expresar',\n",
       " 'expuesto',\n",
       " 'facultad',\n",
       " 'fallo',\n",
       " 'falta',\n",
       " 'febrero',\n",
       " 'fecha',\n",
       " 'finalmente',\n",
       " 'fondo',\n",
       " 'forma',\n",
       " 'frente',\n",
       " 'función',\n",
       " 'fundamental',\n",
       " 'fundamento',\n",
       " 'gaceta',\n",
       " 'garantizar',\n",
       " 'garantía',\n",
       " 'general',\n",
       " 'generar',\n",
       " 'haber',\n",
       " 'hacer',\n",
       " 'hecho',\n",
       " 'igualdad',\n",
       " 'igualmente',\n",
       " 'ii',\n",
       " 'iii',\n",
       " 'impedir',\n",
       " 'implicar',\n",
       " 'imponer',\n",
       " 'inciso',\n",
       " 'incluir',\n",
       " 'indicar',\n",
       " 'inmediato',\n",
       " 'instancia',\n",
       " 'integrado',\n",
       " 'interponer',\n",
       " 'intervención',\n",
       " 'interés',\n",
       " 'iv',\n",
       " 'judicial',\n",
       " 'juez',\n",
       " 'juicio',\n",
       " 'julio',\n",
       " 'junio',\n",
       " 'jurisdicción',\n",
       " 'jurisprudencia',\n",
       " 'jurídico',\n",
       " 'justicia',\n",
       " 'juzgado',\n",
       " 'legal',\n",
       " 'ley',\n",
       " 'lograr',\n",
       " 'magistrado',\n",
       " 'magistrado_ponente',\n",
       " 'mandato',\n",
       " 'manifestar',\n",
       " 'marco',\n",
       " 'martha',\n",
       " 'marzo',\n",
       " 'materia',\n",
       " 'material',\n",
       " 'mayo',\n",
       " 'mecanismo',\n",
       " 'medida',\n",
       " 'medio',\n",
       " 'mencionado',\n",
       " 'mes',\n",
       " 'mil',\n",
       " 'motivo',\n",
       " 'mérito',\n",
       " 'mínimo',\n",
       " 'naturaleza',\n",
       " 'necesario',\n",
       " 'necesidad',\n",
       " 'negar',\n",
       " 'nombre',\n",
       " 'norma',\n",
       " 'notificación',\n",
       " 'notifíquese',\n",
       " 'noviembre',\n",
       " 'num',\n",
       " 'numeral',\n",
       " 'objetivo',\n",
       " 'objeto',\n",
       " 'obligación',\n",
       " 'observar',\n",
       " 'obstante',\n",
       " 'obtener',\n",
       " 'ocasión',\n",
       " 'octubre',\n",
       " 'ocurrir',\n",
       " 'oportunidad',\n",
       " 'orden',\n",
       " 'ordenamiento',\n",
       " 'ordenar',\n",
       " 'ordinario',\n",
       " 'otorgar',\n",
       " 'pago',\n",
       " 'particular',\n",
       " 'perjuicio',\n",
       " 'permitir',\n",
       " 'persona',\n",
       " 'pertinente',\n",
       " 'petición',\n",
       " 'poder',\n",
       " 'poner',\n",
       " 'posibilidad',\n",
       " 'precisar',\n",
       " 'presentado',\n",
       " 'presentar',\n",
       " 'presente',\n",
       " 'prestación',\n",
       " 'pretender',\n",
       " 'pretensión',\n",
       " 'previo',\n",
       " 'previsto',\n",
       " 'primero',\n",
       " 'principio',\n",
       " 'problema',\n",
       " 'procedencia',\n",
       " 'procedente',\n",
       " 'proceder',\n",
       " 'procedimiento',\n",
       " 'proceso',\n",
       " 'producir',\n",
       " 'proferido',\n",
       " 'proferir',\n",
       " 'pronunciar',\n",
       " 'protección',\n",
       " 'proteger',\n",
       " 'providencia',\n",
       " 'prueba',\n",
       " 'pueblo',\n",
       " 'puesto',\n",
       " 'punto',\n",
       " 'público',\n",
       " 'quedar',\n",
       " 'razón',\n",
       " 'realizar',\n",
       " 'recibir',\n",
       " 'reconocer',\n",
       " 'recurso',\n",
       " 'referencia',\n",
       " 'referido',\n",
       " 'referir',\n",
       " 'regla',\n",
       " 'regular',\n",
       " 'reiterar',\n",
       " 'relacionado',\n",
       " 'relación',\n",
       " 'remitir',\n",
       " 'requerir',\n",
       " 'requisito',\n",
       " 'resolución',\n",
       " 'resolver',\n",
       " 'respectivo',\n",
       " 'respuesta',\n",
       " 'resuelve',\n",
       " 'resultar',\n",
       " 'revisar',\n",
       " 'revisión',\n",
       " 'revocar',\n",
       " 'sala',\n",
       " 'secretaria_',\n",
       " 'seguridad',\n",
       " 'sentencia',\n",
       " 'sentencia_t',\n",
       " 'septiembre',\n",
       " 'servicio',\n",
       " 'señalado',\n",
       " 'señalar',\n",
       " 'señor',\n",
       " 'siguiente',\n",
       " 'sistema',\n",
       " 'situación',\n",
       " 'social',\n",
       " 'solicitado',\n",
       " 'solicitar',\n",
       " 'solicitud',\n",
       " 'sostener',\n",
       " 'stop',\n",
       " 'suficiente',\n",
       " 'sujeto',\n",
       " 'superior',\n",
       " 'sáchico',\n",
       " 'tal',\n",
       " 'tener',\n",
       " 'tercero',\n",
       " 'texto',\n",
       " 'tipo',\n",
       " 'tomar',\n",
       " 'tratar',\n",
       " 'tribunal',\n",
       " 'trámite',\n",
       " 'tutela',\n",
       " 'término',\n",
       " 'ver',\n",
       " 'victoria',\n",
       " 'vida',\n",
       " 'vigente',\n",
       " 'violación',\n",
       " 'virtud',\n",
       " 'vulneración',\n",
       " 'vulnerado',\n",
       " 'vulnerar',\n",
       " 'vía',\n",
       " 'único'}"
      ]
     },
     "execution_count": 65,
     "metadata": {},
     "output_type": "execute_result"
    }
   ],
   "source": [
    "cv.stop_words_"
   ]
  },
  {
   "cell_type": "code",
   "execution_count": 66,
   "id": "specific-mailman",
   "metadata": {},
   "outputs": [
    {
     "data": {
      "text/plain": [
       "345"
      ]
     },
     "execution_count": 66,
     "metadata": {},
     "output_type": "execute_result"
    }
   ],
   "source": [
    "len(cv.stop_words_)"
   ]
  },
  {
   "cell_type": "markdown",
   "id": "dependent-combination",
   "metadata": {},
   "source": [
    "## Remove stopwords"
   ]
  },
  {
   "cell_type": "code",
   "execution_count": 67,
   "id": "ethical-giving",
   "metadata": {},
   "outputs": [],
   "source": [
    "stop_ids = [cc_dict.token2id[w] for w in cv.stop_words_]"
   ]
  },
  {
   "cell_type": "code",
   "execution_count": 68,
   "id": "treated-joint",
   "metadata": {},
   "outputs": [],
   "source": [
    "cc_dict.filter_tokens(bad_ids=stop_ids)\n",
    "cc_dict.compactify()"
   ]
  },
  {
   "cell_type": "markdown",
   "id": "square-nomination",
   "metadata": {},
   "source": [
    "## Quitar palabras cortas"
   ]
  },
  {
   "cell_type": "code",
   "execution_count": 70,
   "id": "ready-signature",
   "metadata": {},
   "outputs": [],
   "source": [
    "word_set = list(set([w for doc in doc_word_dict for w in doc_word_dict[doc]]))"
   ]
  },
  {
   "cell_type": "code",
   "execution_count": 73,
   "id": "attended-calculator",
   "metadata": {},
   "outputs": [],
   "source": [
    "word_len = [(w, len(w)) for w in word_set]"
   ]
  },
  {
   "cell_type": "code",
   "execution_count": 74,
   "id": "recovered-samuel",
   "metadata": {},
   "outputs": [],
   "source": [
    "short_words = [word for word, length in word_len if length<3]"
   ]
  },
  {
   "cell_type": "code",
   "execution_count": 75,
   "id": "sapphire-spectacular",
   "metadata": {},
   "outputs": [
    {
     "data": {
      "text/plain": [
       "442"
      ]
     },
     "execution_count": 75,
     "metadata": {},
     "output_type": "execute_result"
    }
   ],
   "source": [
    "len(short_words)"
   ]
  },
  {
   "cell_type": "code",
   "execution_count": 77,
   "id": "loved-mobile",
   "metadata": {},
   "outputs": [],
   "source": [
    "short_words = [w for w in short_words if w in cc_dict.token2id.keys()]\n",
    "short_ids = [cc_dict.token2id[w] for w in short_words]"
   ]
  },
  {
   "cell_type": "code",
   "execution_count": 78,
   "id": "elder-clearance",
   "metadata": {},
   "outputs": [],
   "source": [
    "cc_dict.filter_tokens(bad_ids=short_ids)\n",
    "cc_dict.compactify()"
   ]
  },
  {
   "cell_type": "markdown",
   "id": "humanitarian-dispute",
   "metadata": {},
   "source": [
    "## Train LDA"
   ]
  },
  {
   "cell_type": "code",
   "execution_count": 79,
   "id": "turned-medium",
   "metadata": {},
   "outputs": [],
   "source": [
    "light_corpus = MyCorpus(corpus_path, cc_dict)"
   ]
  },
  {
   "cell_type": "code",
   "execution_count": 80,
   "id": "floating-frederick",
   "metadata": {},
   "outputs": [
    {
     "name": "stdout",
     "output_type": "stream",
     "text": [
      "CPU times: user 7.83 s, sys: 36.4 ms, total: 7.87 s\n",
      "Wall time: 7.88 s\n"
     ]
    }
   ],
   "source": [
    "%%time\n",
    "tfidf = models.TfidfModel(light_corpus)"
   ]
  },
  {
   "cell_type": "code",
   "execution_count": 81,
   "id": "imperial-heaven",
   "metadata": {},
   "outputs": [],
   "source": [
    "class TfidfCorpus:\n",
    "    def __init__(self, corpus, model):\n",
    "        self.corpus = corpus\n",
    "        self.model = model\n",
    "    def __iter__(self):\n",
    "        for line in self.corpus:\n",
    "            # assume there's one document per line, tokens separated by whitespace\n",
    "            yield self.model[line]\n"
   ]
  },
  {
   "cell_type": "code",
   "execution_count": 82,
   "id": "reflected-oakland",
   "metadata": {},
   "outputs": [],
   "source": [
    "corpus_tfidf = TfidfCorpus(light_corpus, tfidf)"
   ]
  },
  {
   "cell_type": "code",
   "execution_count": 83,
   "id": "subsequent-graham",
   "metadata": {},
   "outputs": [
    {
     "name": "stdout",
     "output_type": "stream",
     "text": [
      "CPU times: user 1min 47s, sys: 1.14 s, total: 1min 48s\n",
      "Wall time: 1min 48s\n"
     ]
    }
   ],
   "source": [
    "%%time\n",
    "# Train the model on the corpus.\n",
    "lda = LdaMulticore(corpus_tfidf,\n",
    "                   id2word=cc_dict,\n",
    "                   num_topics=8,\n",
    "                   workers=4,\n",
    "                   per_word_topics=True,\n",
    "                   random_state=RANDOM_STATE,\n",
    "                   passes=1)"
   ]
  },
  {
   "cell_type": "code",
   "execution_count": 84,
   "id": "suspended-permit",
   "metadata": {},
   "outputs": [
    {
     "name": "stdout",
     "output_type": "stream",
     "text": [
      "0::['acusado', 'nacional', '_sentencia', 'internacional', 'libertad', 'constitucionalidad', 'supra', 'régimen', 'sector', 'legislador']\n",
      "1::['pensión', 'laboral', '_cuaderno', 'trabajador', 'contrato', 'pensional', 'salario', 'invalidez', 'reconocimiento', 'pruebas']\n",
      "2::['salud', 'médico', 'menor', 'tratamiento', 'familia', 'niño', 'medicamento', 'edad', 'asistencia', 'paciente']\n",
      "3::['folio', 'cuaderno', 'cfr', 'principal', 'folios', 'nulidad', 'manuel_josé_cepeda_espinosa', 'luis_ernesto_vargas_silva', '_josé_gregorio_hernández_galindo', 'selección']\n",
      "4::['ministerio', 'tribunal_superior', 'copia', 'nación', 'expediente_t', 'sentencias_t', 'municipio', 'juzgado_', 'distrito_judicial', 'bogotá_d']\n",
      "5::['_sentencia_t', 'magistrada', 'presidente', 'accion', 'sala_plena', 'moncaleano', 'república', 'congreso', 'proyecto', 'decision']\n",
      "6::['_sentencia_c', 'voto', 'penal', 'impugnación', 'insértese', 'legislador', 'salvamento', 'cópiese', 'interpretación', 'conducta']\n",
      "7::['_corte_constitucional', 'ibídem', 'sentencia_c', 'reiteración', 'inconstitucionalidad', 'méndez', 'jaime_córdoba_triviño', 'sala_plena', '_rodrigo_escobar_gil', 'atribución']\n",
      "\n"
     ]
    }
   ],
   "source": [
    "x=lda.show_topics(num_topics=8, num_words=10,formatted=False)\n",
    "topics_words = [(tp[0], [wd[0] for wd in tp[1]]) for tp in x]\n",
    "\n",
    "#Below Code Prints Topics and Words\n",
    "for topic,words in topics_words:\n",
    "    print(str(topic)+ \"::\"+ str(words))\n",
    "print()\n",
    "\n",
    "#Below Code Prints Only Words \n",
    "# for topic,words in topics_words:\n",
    "#     print(\" \".join(words))\n"
   ]
  },
  {
   "cell_type": "code",
   "execution_count": 85,
   "id": "fifth-airport",
   "metadata": {},
   "outputs": [
    {
     "name": "stdout",
     "output_type": "stream",
     "text": [
      "\n",
      "Perplexity:  -8.631606194447553\n",
      "CPU times: user 2min 17s, sys: 378 ms, total: 2min 17s\n",
      "Wall time: 2min 17s\n"
     ]
    }
   ],
   "source": [
    "%%time\n",
    "# Compute Perplexity\n",
    "print('\\nPerplexity: ', lda.log_perplexity([x for x in light_corpus]))  # a measure of how good the model is. lower the better."
   ]
  },
  {
   "cell_type": "code",
   "execution_count": 86,
   "id": "alpine-drunk",
   "metadata": {},
   "outputs": [
    {
     "name": "stdout",
     "output_type": "stream",
     "text": [
      "Topics:  2\tPerplexity: -8.4585\n",
      "Topics:  3\tPerplexity: -8.4573\n",
      "Topics:  4\tPerplexity: -8.4319\n",
      "Topics:  5\tPerplexity: -8.4519\n",
      "Topics:  6\tPerplexity: -8.5279\n",
      "Topics:  7\tPerplexity: -8.5730\n",
      "Topics:  8\tPerplexity: -8.6514\n",
      "Topics:  9\tPerplexity: -8.7572\n",
      "Topics:  10\tPerplexity: -8.9378\n",
      "Topics:  11\tPerplexity: -9.2249\n",
      "Topics:  12\tPerplexity: -9.3055\n",
      "Topics:  13\tPerplexity: -9.3558\n",
      "Topics:  14\tPerplexity: -9.1235\n",
      "Topics:  15\tPerplexity: -9.8188\n",
      "Topics:  16\tPerplexity: -9.5724\n",
      "Topics:  17\tPerplexity: -10.0218\n",
      "Topics:  18\tPerplexity: -9.9078\n",
      "Topics:  19\tPerplexity: -9.9997\n",
      "Topics:  20\tPerplexity: -10.3416\n",
      "Topics:  21\tPerplexity: -10.4347\n",
      "Topics:  22\tPerplexity: -10.5308\n",
      "Topics:  23\tPerplexity: -10.6941\n",
      "Topics:  24\tPerplexity: -10.7874\n",
      "Topics:  25\tPerplexity: -10.9594\n",
      "Topics:  26\tPerplexity: -10.5338\n",
      "Topics:  27\tPerplexity: -11.2289\n",
      "Topics:  28\tPerplexity: -11.3943\n",
      "Topics:  29\tPerplexity: -11.5475\n",
      "Topics:  30\tPerplexity: -10.7155\n",
      "Topics:  31\tPerplexity: -11.8278\n",
      "Topics:  32\tPerplexity: -11.3065\n"
     ]
    }
   ],
   "source": [
    "%%time\n",
    "corpus_list = [x for x in light_corpus]\n",
    "for i in range(2, 33):\n",
    "    lda = LdaMulticore(corpus_tfidf,\n",
    "                       id2word=cc_dict,\n",
    "                       num_topics=i,\n",
    "                       workers=4,\n",
    "                       per_word_topics=True,\n",
    "                       random_state=RANDOM_STATE,\n",
    "                       passes=1)\n",
    "    print('Topics: {0: 2d}\\tPerplexity: {1:.4f}'.format(i, lda.log_perplexity(corpus_list)))"
   ]
  },
  {
   "cell_type": "code",
   "execution_count": 12,
   "id": "horizontal-cabinet",
   "metadata": {},
   "outputs": [],
   "source": [
    "perplex_list = [-8.4585, -8.4573, -8.4319, -8.4519, -8.5279, -8.5730, -8.6514, -8.7572, -8.9378, -9.2249, -9.3055, -9.3558, -9.1235, -9.8188, -9.5724, -10.0218, -9.9078, -9.9997, -10.3416, -10.4347, -10.5308, -10.6941, -10.7874, -10.9594, -10.5338, -11.2289, -11.3943, -11.5475, -10.7155, -11.8278, -11.3065]"
   ]
  },
  {
   "cell_type": "code",
   "execution_count": 14,
   "id": "alien-zealand",
   "metadata": {},
   "outputs": [
    {
     "data": {
      "image/png": "[encoded data removed]",
      "text/plain": [
       "<Figure size 1080x720 with 1 Axes>"
      ]
     },
     "metadata": {
      "needs_background": "light"
     },
     "output_type": "display_data"
    }
   ],
   "source": [
    "fig, ax = plt.subplots(1,1, figsize=(15,10))\n",
    "ax.plot(perplex_list)\n",
    "plt.show()"
   ]
  },
  {
   "cell_type": "code",
   "execution_count": null,
   "id": "alone-coffee",
   "metadata": {},
   "outputs": [],
   "source": []
  },
  {
   "cell_type": "code",
   "execution_count": 72,
   "id": "improving-nicholas",
   "metadata": {},
   "outputs": [
    {
     "name": "stdout",
     "output_type": "stream",
     "text": [
      "CPU times: user 1min 52s, sys: 1.24 s, total: 1min 53s\n",
      "Wall time: 1min 53s\n"
     ]
    }
   ],
   "source": [
    "%%time\n",
    "# Train the model on the corpus.\n",
    "lda2 = LdaMulticore(corpus_tfidf,\n",
    "                   id2word=cc_dict,\n",
    "                   num_topics=16,\n",
    "                   workers=4,\n",
    "                   per_word_topics=True,\n",
    "                   random_state=RANDOM_STATE,\n",
    "                   passes=1)"
   ]
  },
  {
   "cell_type": "code",
   "execution_count": 73,
   "id": "republican-beaver",
   "metadata": {},
   "outputs": [
    {
     "name": "stdout",
     "output_type": "stream",
     "text": [
      "0::['pensión', 'presidente', 'invalidez', 'república', 'seccion', 'congreso', 'pensional', 'reiteración', 'proyecto', 'semana']\n",
      "1::['_sentencia_t', 'gabriel_eduardo_mendoza_martelo', 'sierra', '<num>a', '<num>o', 'porto', 'exequible', 'rojas', 'humberto_antonio', 'r']\n",
      "2::['m', 'p', 'c', 'cfr', 'sala_plena', 'expediente_t', 'pruebas', 't', '_p', '_sentencia_t']\n",
      "3::['folio', 'cuaderno', 'folios', 'principal', '_cuaderno', 'copia', 'ministerio', 'fotocopia', 'fls', 'nación']\n",
      "4::['salud', 'médico', 'tratamiento', 'examen', 's', 'jorge_ignacio_pretelt_chaljub', 'eps', 'paciente', 'constitucionalidad', 'tratante']\n",
      "5::['i', 'carrera', 'manuel_josé_cepeda_espinosa', 'concurso', 'fl', 'antonio_barrera_carbonell', 'supra', 'ut', 'súplica', 'precedente']\n",
      "6::['t', 'mp', '_corte_constitucional', 'moncaleano', 'sentencias_t', 'jaime_córdoba_triviño', 'c', 'sala_cuarta', '_', 'sachico']\n",
      "7::['inconstitucionalidad', 'atribución', 'luis_guillermo_guerrero_pérez', 'jorge_iván_palacio_palacio', 'cosa', 'sala_plena', 'secretario_', 'magistrada_ponente', 'constitucionalidad', 'jaime_araújo_rentería']\n",
      "8::['d', 'ayuda', 'humanitario', 'menor', 'salud', 'b', 'hijo', 'familia', 'edad', '_c']\n",
      "9::['magistrada', 'administracion', 'gerardo', 'monroy_cabra', 'mujer', 'apoyo', 'bogotá_d', 'conclusión', 'concordancia', 'alimentario']\n",
      "10::['accion', 'nulidad', 'irremediable', 'procedibilidad', 'excepcional', 'v', 'improcedencia', 'i', 'defecto', 'transitorio']\n",
      "11::['legislador', 'contrato', 'libertad', 'interpretación', 'c', 'empresa', 'régimen', 'acusado', 'normativo', 'sociedad']\n",
      "12::['tribunal_superior', 'impugnación', 'corte_suprema', 'distrito_judicial', 'luis_ernesto_vargas_silva', 'juzgado_', 'conflicto', 'instaurado', 'cali', 'accionado']\n",
      "13::['voto', 'ibídem', 'salvamento', 'aclaración', 'asistencia', 'vivienda', 'sector', 'infraestructura', 'policía', 'municipio']\n",
      "14::['publíquese', 'f', 'méndez', 'insértese', 'cópiese', 'sentencia_c', 'rodrigo_escobar_gil', 'uariv', 'vi', 'secretaría_']\n",
      "15::['_sentencia_c', 'salario', 'sala_', 'trabajador', 'salud', 'educación', 'familia', 'alejandro_linares_cantillo', 'laboral', 'pagar']\n",
      "\n"
     ]
    }
   ],
   "source": [
    "x=lda2.show_topics(num_topics=16, num_words=10,formatted=False)\n",
    "topics_words = [(tp[0], [wd[0] for wd in tp[1]]) for tp in x]\n",
    "\n",
    "#Below Code Prints Topics and Words\n",
    "for topic,words in topics_words:\n",
    "    print(str(topic)+ \"::\"+ str(words))\n",
    "print()\n",
    "\n",
    "#Below Code Prints Only Words \n",
    "# for topic,words in topics_words:\n",
    "#     print(\" \".join(words))\n"
   ]
  },
  {
   "cell_type": "code",
   "execution_count": 74,
   "id": "warming-masters",
   "metadata": {},
   "outputs": [
    {
     "name": "stdout",
     "output_type": "stream",
     "text": [
      "\n",
      "Perplexity:  -9.785772425888313\n",
      "CPU times: user 2min 24s, sys: 189 ms, total: 2min 24s\n",
      "Wall time: 2min 25s\n"
     ]
    }
   ],
   "source": [
    "%%time\n",
    "# Compute Perplexity\n",
    "print('\\nPerplexity: ', lda2.log_perplexity([x for x in light_corpus]))  # a measure of how good the model is. lower the better."
   ]
  },
  {
   "cell_type": "code",
   "execution_count": null,
   "id": "entitled-population",
   "metadata": {},
   "outputs": [],
   "source": [
    "from gensim "
   ]
  },
  {
   "cell_type": "code",
   "execution_count": 76,
   "id": "opening-romance",
   "metadata": {},
   "outputs": [
    {
     "ename": "NameError",
     "evalue": "name 'CoherenceModel' is not defined",
     "output_type": "error",
     "traceback": [
      "\u001b[0;31m---------------------------------------------------------------------------\u001b[0m",
      "\u001b[0;31mNameError\u001b[0m                                 Traceback (most recent call last)",
      "\u001b[0;32m<ipython-input-76-4affdce6c8fd>\u001b[0m in \u001b[0;36m<module>\u001b[0;34m\u001b[0m\n\u001b[1;32m      1\u001b[0m \u001b[0;31m# Compute Coherence Score\u001b[0m\u001b[0;34m\u001b[0m\u001b[0;34m\u001b[0m\u001b[0;34m\u001b[0m\u001b[0m\n\u001b[0;32m----> 2\u001b[0;31m \u001b[0mcoherence_model_lda\u001b[0m \u001b[0;34m=\u001b[0m \u001b[0mCoherenceModel\u001b[0m\u001b[0;34m(\u001b[0m\u001b[0mmodel\u001b[0m\u001b[0;34m=\u001b[0m\u001b[0mlda\u001b[0m\u001b[0;34m,\u001b[0m \u001b[0mtexts\u001b[0m\u001b[0;34m=\u001b[0m\u001b[0;34m[\u001b[0m\u001b[0mx\u001b[0m \u001b[0;32mfor\u001b[0m \u001b[0mx\u001b[0m \u001b[0;32min\u001b[0m \u001b[0mlight_corpus\u001b[0m\u001b[0;34m]\u001b[0m\u001b[0;34m,\u001b[0m \u001b[0mdictionary\u001b[0m\u001b[0;34m=\u001b[0m\u001b[0mcc_dict\u001b[0m\u001b[0;34m,\u001b[0m \u001b[0mcoherence\u001b[0m\u001b[0;34m=\u001b[0m\u001b[0;34m'c_v'\u001b[0m\u001b[0;34m)\u001b[0m\u001b[0;34m\u001b[0m\u001b[0;34m\u001b[0m\u001b[0m\n\u001b[0m\u001b[1;32m      3\u001b[0m \u001b[0mcoherence_lda\u001b[0m \u001b[0;34m=\u001b[0m \u001b[0mcoherence_model_lda\u001b[0m\u001b[0;34m.\u001b[0m\u001b[0mget_coherence\u001b[0m\u001b[0;34m(\u001b[0m\u001b[0;34m)\u001b[0m\u001b[0;34m\u001b[0m\u001b[0;34m\u001b[0m\u001b[0m\n\u001b[1;32m      4\u001b[0m \u001b[0mprint\u001b[0m\u001b[0;34m(\u001b[0m\u001b[0;34m'\\nCoherence Score: '\u001b[0m\u001b[0;34m,\u001b[0m \u001b[0mcoherence_lda\u001b[0m\u001b[0;34m)\u001b[0m\u001b[0;34m\u001b[0m\u001b[0;34m\u001b[0m\u001b[0m\n",
      "\u001b[0;31mNameError\u001b[0m: name 'CoherenceModel' is not defined"
     ]
    }
   ],
   "source": [
    "# Compute Coherence Score\n",
    "coherence_model_lda = CoherenceModel(model=lda, texts=[x for x in light_corpus], dictionary=cc_dict, coherence='c_v')\n",
    "coherence_lda = coherence_model_lda.get_coherence()\n",
    "print('\\nCoherence Score: ', coherence_lda)"
   ]
  },
  {
   "cell_type": "code",
   "execution_count": 120,
   "id": "future-seventh",
   "metadata": {},
   "outputs": [],
   "source": [
    "# frase = \"Deberes y atribuciones del juez para obtener la prueba genética ADN\"\n",
    "frase = \"Acceso a la salud del adulto mayor\""
   ]
  },
  {
   "cell_type": "code",
   "execution_count": 28,
   "id": "retained-helicopter",
   "metadata": {},
   "outputs": [
    {
     "name": "stdout",
     "output_type": "stream",
     "text": [
      "[(0, 0.03125019), (1, 0.03125019), (2, 0.03125019), (3, 0.03125019), (4, 0.03125019), (5, 0.6981773), (6, 0.11432161), (7, 0.03125019)]\n"
     ]
    }
   ],
   "source": [
    "bow_busqueda = cc_dict.doc2bow(frase.split())\n",
    "\n",
    "print(lda.get_document_topics(bow_busqueda))"
   ]
  },
  {
   "cell_type": "code",
   "execution_count": null,
   "id": "conscious-fields",
   "metadata": {},
   "outputs": [],
   "source": [
    "topn_words = {'Topic_' + str(i): [word for word, prob in lda.show_topic(i, topn=10)] for i in range(0, lda.num_topics)}"
   ]
  },
  {
   "cell_type": "code",
   "execution_count": null,
   "id": "usual-allocation",
   "metadata": {},
   "outputs": [],
   "source": [
    "topn_words"
   ]
  },
  {
   "cell_type": "code",
   "execution_count": null,
   "id": "interesting-subject",
   "metadata": {},
   "outputs": [],
   "source": [
    "for i in range(8):\n",
    "    print(i, lda.show_topic(i))"
   ]
  },
  {
   "cell_type": "code",
   "execution_count": null,
   "id": "solid-advancement",
   "metadata": {},
   "outputs": [],
   "source": [
    "lda.print_topics(num_topics=8, num_words=10)"
   ]
  },
  {
   "cell_type": "code",
   "execution_count": 56,
   "id": "assigned-planning",
   "metadata": {},
   "outputs": [
    {
     "data": {
      "text/html": [
       "<div>\n",
       "<style scoped>\n",
       "    .dataframe tbody tr th:only-of-type {\n",
       "        vertical-align: middle;\n",
       "    }\n",
       "\n",
       "    .dataframe tbody tr th {\n",
       "        vertical-align: top;\n",
       "    }\n",
       "\n",
       "    .dataframe thead th {\n",
       "        text-align: right;\n",
       "    }\n",
       "</style>\n",
       "<table border=\"1\" class=\"dataframe\">\n",
       "  <thead>\n",
       "    <tr style=\"text-align: right;\">\n",
       "      <th></th>\n",
       "      <th>INDEX</th>\n",
       "      <th>DOCUMENT_TYPE</th>\n",
       "      <th>LINK</th>\n",
       "      <th>DOCUMENT</th>\n",
       "      <th>DOCUMENT_WITH_SIGNS</th>\n",
       "      <th>DOCUMENT_CLEAN</th>\n",
       "      <th>tipo</th>\n",
       "      <th>pp</th>\n",
       "    </tr>\n",
       "  </thead>\n",
       "  <tbody>\n",
       "    <tr>\n",
       "      <th>52</th>\n",
       "      <td>A475-20</td>\n",
       "      <td>A</td>\n",
       "      <td>https://www.corteconstitucional.gov.co/Relator...</td>\n",
       "      <td>auto 47520\\n \\n \\nreferencia: expediente d-113...</td>\n",
       "      <td>auto 47520  referencia: expediente d-11306 dem...</td>\n",
       "      <td>auto 47520 referencia expediente d 11306 deman...</td>\n",
       "      <td>A</td>\n",
       "      <td>auto &lt;NUM&gt; referencia expediente d &lt;NUM&gt; deman...</td>\n",
       "    </tr>\n",
       "    <tr>\n",
       "      <th>58</th>\n",
       "      <td>A469-20</td>\n",
       "      <td>A</td>\n",
       "      <td>https://www.corteconstitucional.gov.co/Relator...</td>\n",
       "      <td>auto 46920\\n \\n \\nexpediente: d-13967\\n \\nasun...</td>\n",
       "      <td>auto 46920  expediente: d-13967 asunto: recurs...</td>\n",
       "      <td>auto 46920 expediente d 13967 asunto recurso d...</td>\n",
       "      <td>A</td>\n",
       "      <td>auto &lt;NUM&gt; expediente d &lt;NUM&gt; asunto recurso d...</td>\n",
       "    </tr>\n",
       "    <tr>\n",
       "      <th>84</th>\n",
       "      <td>A440-20</td>\n",
       "      <td>A</td>\n",
       "      <td>https://www.corteconstitucional.gov.co/Relator...</td>\n",
       "      <td>auto\\r\\n44020\\n \\n \\nreferencia: expediente\\r\\...</td>\n",
       "      <td>auto 44020  referencia: expediente t-7785975 a...</td>\n",
       "      <td>auto 44020 referencia expediente t 7785975 acc...</td>\n",
       "      <td>A</td>\n",
       "      <td>auto &lt;NUM&gt; referencia expediente t &lt;NUM&gt; acció...</td>\n",
       "    </tr>\n",
       "    <tr>\n",
       "      <th>114</th>\n",
       "      <td>A406-20</td>\n",
       "      <td>A</td>\n",
       "      <td>https://www.corteconstitucional.gov.co/Relator...</td>\n",
       "      <td>auto\\r\\n40620\\n \\n \\nexpediente: d-12329\\n \\nr...</td>\n",
       "      <td>auto 40620  expediente: d-12329 referencia: so...</td>\n",
       "      <td>auto 40620 expediente d 12329 referencia solic...</td>\n",
       "      <td>A</td>\n",
       "      <td>auto &lt;NUM&gt; expediente d &lt;NUM&gt; referencia solic...</td>\n",
       "    </tr>\n",
       "    <tr>\n",
       "      <th>118</th>\n",
       "      <td>A402-20</td>\n",
       "      <td>A</td>\n",
       "      <td>https://www.corteconstitucional.gov.co/Relator...</td>\n",
       "      <td>auto 40220\\n \\n \\nexpediente d-13808\\n \\nsolic...</td>\n",
       "      <td>auto 40220  expediente d-13808 solicitud de me...</td>\n",
       "      <td>auto 40220 expediente d 13808 solicitud de med...</td>\n",
       "      <td>A</td>\n",
       "      <td>auto &lt;NUM&gt; expediente d &lt;NUM&gt; solicitud de med...</td>\n",
       "    </tr>\n",
       "    <tr>\n",
       "      <th>...</th>\n",
       "      <td>...</td>\n",
       "      <td>...</td>\n",
       "      <td>...</td>\n",
       "      <td>...</td>\n",
       "      <td>...</td>\n",
       "      <td>...</td>\n",
       "      <td>...</td>\n",
       "      <td>...</td>\n",
       "    </tr>\n",
       "    <tr>\n",
       "      <th>34106</th>\n",
       "      <td>C-345-93</td>\n",
       "      <td>C</td>\n",
       "      <td>https://www.corteconstitucional.gov.co/Relator...</td>\n",
       "      <td>sentencia no\\n\\r\\n\\r\\n\\n\\nsentencia\\r\\nno. c-3...</td>\n",
       "      <td>sentencia no sentencia no. c-34593  cosa juzga...</td>\n",
       "      <td>sentencia no sentencia no c 34593 cosa juzgada...</td>\n",
       "      <td>C</td>\n",
       "      <td>sentencia no sentencia no c &lt;NUM&gt; cosa juzgada...</td>\n",
       "    </tr>\n",
       "    <tr>\n",
       "      <th>34242</th>\n",
       "      <td>C-005-93</td>\n",
       "      <td>C</td>\n",
       "      <td>https://www.corteconstitucional.gov.co/Relator...</td>\n",
       "      <td>sentencia no\\n\\r\\n\\r\\n\\n\\nsentencia\\r\\nc-00593...</td>\n",
       "      <td>sentencia no sentencia c-00593 juegos electron...</td>\n",
       "      <td>sentencia no sentencia c 00593 juegos electron...</td>\n",
       "      <td>C</td>\n",
       "      <td>sentencia no sentencia c &lt;NUM&gt; juegos electron...</td>\n",
       "    </tr>\n",
       "    <tr>\n",
       "      <th>34268</th>\n",
       "      <td>T-581-92</td>\n",
       "      <td>T</td>\n",
       "      <td>https://www.corteconstitucional.gov.co/Relator...</td>\n",
       "      <td>sentencia no\\n\\r\\n\\r\\n\\n\\nsentencia no.\\r\\nt-5...</td>\n",
       "      <td>sentencia no sentencia no. t-58192 derecho al ...</td>\n",
       "      <td>sentencia no sentencia no t 58192 derecho al t...</td>\n",
       "      <td>T</td>\n",
       "      <td>sentencia no sentencia no t &lt;NUM&gt; derecho al t...</td>\n",
       "    </tr>\n",
       "    <tr>\n",
       "      <th>34270</th>\n",
       "      <td>T-577-92</td>\n",
       "      <td>T</td>\n",
       "      <td>https://www.corteconstitucional.gov.co/Relator...</td>\n",
       "      <td>sentencia no\\n\\r\\n\\r\\n\\n\\nsentencia no.\\r\\nt-5...</td>\n",
       "      <td>sentencia no sentencia no. t-57792 banco de da...</td>\n",
       "      <td>sentencia no sentencia no t 57792 banco de dat...</td>\n",
       "      <td>T</td>\n",
       "      <td>sentencia no sentencia no t &lt;NUM&gt; banco de dat...</td>\n",
       "    </tr>\n",
       "    <tr>\n",
       "      <th>34365</th>\n",
       "      <td>T-451-92</td>\n",
       "      <td>T</td>\n",
       "      <td>https://www.corteconstitucional.gov.co/Relator...</td>\n",
       "      <td>sentencia no\\n\\r\\n\\r\\n\\n\\nsentencia no. t-4519...</td>\n",
       "      <td>sentencia no sentencia no. t-45192 derechos fu...</td>\n",
       "      <td>sentencia no sentencia no t 45192 derechos fun...</td>\n",
       "      <td>T</td>\n",
       "      <td>sentencia no sentencia no t &lt;NUM&gt; derechos fun...</td>\n",
       "    </tr>\n",
       "  </tbody>\n",
       "</table>\n",
       "<p>14525 rows × 8 columns</p>\n",
       "</div>"
      ],
      "text/plain": [
       "           INDEX DOCUMENT_TYPE  \\\n",
       "52       A475-20             A   \n",
       "58       A469-20             A   \n",
       "84       A440-20             A   \n",
       "114      A406-20             A   \n",
       "118      A402-20             A   \n",
       "...          ...           ...   \n",
       "34106   C-345-93             C   \n",
       "34242   C-005-93             C   \n",
       "34268   T-581-92             T   \n",
       "34270   T-577-92             T   \n",
       "34365   T-451-92             T   \n",
       "\n",
       "                                                    LINK  \\\n",
       "52     https://www.corteconstitucional.gov.co/Relator...   \n",
       "58     https://www.corteconstitucional.gov.co/Relator...   \n",
       "84     https://www.corteconstitucional.gov.co/Relator...   \n",
       "114    https://www.corteconstitucional.gov.co/Relator...   \n",
       "118    https://www.corteconstitucional.gov.co/Relator...   \n",
       "...                                                  ...   \n",
       "34106  https://www.corteconstitucional.gov.co/Relator...   \n",
       "34242  https://www.corteconstitucional.gov.co/Relator...   \n",
       "34268  https://www.corteconstitucional.gov.co/Relator...   \n",
       "34270  https://www.corteconstitucional.gov.co/Relator...   \n",
       "34365  https://www.corteconstitucional.gov.co/Relator...   \n",
       "\n",
       "                                                DOCUMENT  \\\n",
       "52     auto 47520\\n \\n \\nreferencia: expediente d-113...   \n",
       "58     auto 46920\\n \\n \\nexpediente: d-13967\\n \\nasun...   \n",
       "84     auto\\r\\n44020\\n \\n \\nreferencia: expediente\\r\\...   \n",
       "114    auto\\r\\n40620\\n \\n \\nexpediente: d-12329\\n \\nr...   \n",
       "118    auto 40220\\n \\n \\nexpediente d-13808\\n \\nsolic...   \n",
       "...                                                  ...   \n",
       "34106  sentencia no\\n\\r\\n\\r\\n\\n\\nsentencia\\r\\nno. c-3...   \n",
       "34242  sentencia no\\n\\r\\n\\r\\n\\n\\nsentencia\\r\\nc-00593...   \n",
       "34268  sentencia no\\n\\r\\n\\r\\n\\n\\nsentencia no.\\r\\nt-5...   \n",
       "34270  sentencia no\\n\\r\\n\\r\\n\\n\\nsentencia no.\\r\\nt-5...   \n",
       "34365  sentencia no\\n\\r\\n\\r\\n\\n\\nsentencia no. t-4519...   \n",
       "\n",
       "                                     DOCUMENT_WITH_SIGNS  \\\n",
       "52     auto 47520  referencia: expediente d-11306 dem...   \n",
       "58     auto 46920  expediente: d-13967 asunto: recurs...   \n",
       "84     auto 44020  referencia: expediente t-7785975 a...   \n",
       "114    auto 40620  expediente: d-12329 referencia: so...   \n",
       "118    auto 40220  expediente d-13808 solicitud de me...   \n",
       "...                                                  ...   \n",
       "34106  sentencia no sentencia no. c-34593  cosa juzga...   \n",
       "34242  sentencia no sentencia c-00593 juegos electron...   \n",
       "34268  sentencia no sentencia no. t-58192 derecho al ...   \n",
       "34270  sentencia no sentencia no. t-57792 banco de da...   \n",
       "34365  sentencia no sentencia no. t-45192 derechos fu...   \n",
       "\n",
       "                                          DOCUMENT_CLEAN tipo  \\\n",
       "52     auto 47520 referencia expediente d 11306 deman...    A   \n",
       "58     auto 46920 expediente d 13967 asunto recurso d...    A   \n",
       "84     auto 44020 referencia expediente t 7785975 acc...    A   \n",
       "114    auto 40620 expediente d 12329 referencia solic...    A   \n",
       "118    auto 40220 expediente d 13808 solicitud de med...    A   \n",
       "...                                                  ...  ...   \n",
       "34106  sentencia no sentencia no c 34593 cosa juzgada...    C   \n",
       "34242  sentencia no sentencia c 00593 juegos electron...    C   \n",
       "34268  sentencia no sentencia no t 58192 derecho al t...    T   \n",
       "34270  sentencia no sentencia no t 57792 banco de dat...    T   \n",
       "34365  sentencia no sentencia no t 45192 derechos fun...    T   \n",
       "\n",
       "                                                      pp  \n",
       "52     auto <NUM> referencia expediente d <NUM> deman...  \n",
       "58     auto <NUM> expediente d <NUM> asunto recurso d...  \n",
       "84     auto <NUM> referencia expediente t <NUM> acció...  \n",
       "114    auto <NUM> expediente d <NUM> referencia solic...  \n",
       "118    auto <NUM> expediente d <NUM> solicitud de med...  \n",
       "...                                                  ...  \n",
       "34106  sentencia no sentencia no c <NUM> cosa juzgada...  \n",
       "34242  sentencia no sentencia c <NUM> juegos electron...  \n",
       "34268  sentencia no sentencia no t <NUM> derecho al t...  \n",
       "34270  sentencia no sentencia no t <NUM> banco de dat...  \n",
       "34365  sentencia no sentencia no t <NUM> derechos fun...  \n",
       "\n",
       "[14525 rows x 8 columns]"
      ]
     },
     "execution_count": 56,
     "metadata": {},
     "output_type": "execute_result"
    }
   ],
   "source": [
    "df[df.pp.str.contains(\"problema jurídico\")|df.pp.str.contains(\"pregunta jurídica\")]"
   ]
  },
  {
   "cell_type": "code",
   "execution_count": 58,
   "id": "confirmed-mouse",
   "metadata": {},
   "outputs": [
    {
     "data": {
      "text/plain": [
       "['auto 10721\\n\\xa0\\n\\xa0\\nreferencia: expediente t-7.909.170 ac.\\n\\xa0\\nacción\\r\\nde tutela promovida por carmen alicia rodríguez berrío y otros contra holding\\r\\ninmobiliaria y otros.\\n\\xa0\\nasunto:\\r\\nsolicitud de\\r\\ncumplimiento de la sentencia t-020 de 2021.\\n\\xa0\\npeticionaria:\\r\\ncarmen alicia rodríguez berrío.\\n\\xa0\\nmagistrada\\r\\nsustanciadora:\\ngloria\\r\\nstella ortiz delgado.\\n\\xa0\\n\\xa0\\nbogotá,\\r\\nd.c., nueve (9) de marzo de dos mil veintiuno (2021).\\n\\xa0\\n\\xa0\\nla\\r\\nsuscrita magistrada sustanciadora, en ejercicio de sus competencias\\r\\nconstitucionales y legales, profiere el presente auto con fundamento en los\\r\\nsiguientes:\\nantecedentes\\n\\xa0\\n1. el pasado 27 de enero, la sala\\r\\nsexta de revisión profirió la sentencia t-020 de 2021[1]. en el caso\\r\\nparticular de la señora carmen alicia, dicha providencia concedió el amparo de los derechos a la estabilidad laboral reforzada y al mínimo\\r\\nvital. \\n\\xa0\\n2. en consecuencia, esta corporación le ordenó a holding\\r\\ninmobiliaria reintegrar a la peticionaria al trabajo que desempeñaba en la\\r\\nempresa. lo anterior, porque declaró ineficaz el despido. además, le ordenó reconocerle\\r\\nla indemnización prevista en el inciso 2º del artículo 26 de la ley 361 de 1997,\\r\\nlas prestaciones, los salarios y los aportes dejados de percibir.\\xa0 de igual\\r\\nforma, le ordenó a positiva arl pagarle las incapacidades pendientes.\\n\\xa0\\n3. mediante escritos del 26 de febrero y del 1º de marzo de 2021, la actora solicitó a la corte constitucional el\\r\\ncumplimiento de la decisión. \\n\\xa0\\nconsideraciones\\n\\xa0\\ncompetencia\\r\\nde la magistrada sustanciadora para proferir este auto\\n\\xa0\\n1. en sesión del 25 de febrero de 2021, la sala plena aclaró que\\r\\nlos magistrados ponentes son competentes para conocer de los asuntos sometidos\\r\\na su consideración, siempre que se trate de aspectos procedimentales y su\\r\\nresolución no implique un estudio de fondo. lo anterior, con fundamento en los\\r\\nsiguientes argumentos:\\n\\xa0\\n1.1. en primer lugar, según el artículo 34[2] del decreto\\r\\n2591 de 1991[3],\\r\\nlas salas de revisión conocen de los fallos de tutela de conformidad con el\\r\\nprocedimiento vigente para los tribunales del distrito judicial. no obstante,\\r\\nni el decreto estatutario ni la regulación de esas corporaciones aluden a la\\r\\ncompetencia para tramitar las solicitudes de cumplimiento y los incidentes de desacato.\\r\\nlo mismo se predica del artículo 56 del acuerdo 02 de 2015[4], que establece\\r\\nel funcionamiento de las salas. \\n\\xa0\\npor consiguiente, no existe disposición especial que se refiera a\\r\\nla competencia en estos asuntos. de ahí que deba acudirse al código general del\\r\\nproceso como norma supletoria.\\n\\xa0\\n1.2. en segundo lugar, el artículo 35[5] de ese código\\r\\nindica que el magistrado sustanciador dictará los autos que no correspondan a\\r\\nla sala de decisión.\\n\\xa0\\n1.3. por último, en atención a los principios de celeridad y de eficiencia\\r\\nen la administración de justicia, el magistrado sustanciador debe resolver los\\r\\nasuntos que requieran de impulso procesal. esto es, aquellos que no supongan la\\r\\nmodificación de situaciones jurídicas ni la definición de aspectos sustanciales.\\n\\xa0\\ncompetencia de la corte\\r\\nconstitucional en el trámite de las solicitudes de cumplimiento\\n\\xa0\\n2.\\xa0 el artículo 36 del decreto 2591 de 1991 establece que los\\r\\nfallos dictados por la corte deberán comunicarse al juez de primera instancia y\\r\\nque este, a su vez, los notificará a las partes. asimismo, los artículos 23[6],\\r\\n27[7]\\r\\ny 52[8]\\r\\nde esa normativa señalan que, ante la inobservancia de una orden de tutela, el\\r\\nbeneficiario puede solicitar simultánea o sucesivamente: (i) su cumplimiento,\\r\\npor medio del trámite de cumplimiento; yo (ii) la imposición de\\r\\nsanciones a la autoridad renuente, mediante el incidente de desacato[9].\\n\\xa0\\n3. en virtud de lo\\r\\nanterior, esta corte ha considerado que, por regla general, el juez de primera\\r\\ninstancia es la autoridad competente para verificar el cumplimiento del fallo\\r\\nde tutela. ello, a pesar de que la decisión se hubiese dictado en la segunda\\r\\ninstancia o en sede de revisión[10].\\n\\xa0\\n4. no obstante, en casos excepcionales,\\r\\nesta corporación puede verificar la observancia de sus sentencias y tramitar el\\r\\nincidente de desacato. en particular, la corte ha indicado que esta facultad se\\r\\nactiva, entre otras, en las siguientes situaciones:\\n\\xa0\\n\\x93(i) cuando ha habido\\r\\nmanifiesto incumplimiento de las decisiones de tutela, sin que los jueces de\\r\\nprimera instancia hayan podido adoptar las medidas que hagan efectiva la orden\\r\\nde protección, (ii) o dichas medidas han sido insuficientes o ineficaces, o (iii)\\r\\ncuando, en presencia de un estado de cosas inconstitucional, que afecta a un\\r\\nconjunto amplio de personas, se han emitido órdenes complejas, para cuya\\r\\nefectividad es necesario un permanente seguimiento y la adopción de nuevas\\r\\ndeterminaciones, de acuerdo con las circunstancias de una situación que se\\r\\nprolonga en el tiempo\\x94[11]. \\n\\xa0\\ncaso concreto\\n\\xa0\\n5. en esta oportunidad, la señora carmen alicia\\r\\nrodríguez berrío solicitó a la corte adelantar el trámite de cumplimiento de la\\r\\nsentencia t-020 de 2021. ello, ante la presunta renuencia de holding\\r\\ninmobiliaria y positiva arl de acatar las órdenes de protección contenidas en\\r\\nla decisión.\\n\\xa0\\nal respecto, la suscrita magistrada advierte que no se configura\\r\\nninguna de las causales que habilitan la intervención de esta corporación. en\\r\\nefecto, la peticionaria no allegó elementos de juicio que evidencien el\\r\\nmanifiesto incumplimiento de las órdenes de tutela ni la insuficiencia o la\\r\\nineficacia de las medidas adoptadas por el juez de primera instancia, autoridad\\r\\ncompetente para iniciar la actuación pretendida.\\n\\xa0\\n6. visto lo anterior, este despacho se abstendrá de tramitar la\\r\\nsolicitud de cumplimiento presentada por la peticionaria. asimismo, ordenará su\\r\\nremisión al juzgado séptimo civil municipal de santa marta, autoridad que\\r\\nconoció de la acción de tutela en única instancia y, por consiguiente, es\\r\\ncompetente para conocer del asunto.\\n\\xa0\\ncon\\r\\nfundamento en lo expuesto, la suscrita magistrada sustanciadora,\\n\\xa0\\nresuelve\\n\\xa0\\n\\xa0\\nprimero.- abstenerse de tramitar la solicitud de cumplimiento de la sentencia t-020\\r\\nde 2021, promovida por la señora carmen alicia rodríguez\\r\\nberrío.\\n\\xa0\\nsegundo.- por\\r\\nsecretaría general de la corte constitucional, disponer que la\\r\\nsolicitud presentada por la señora carmen\\r\\nalicia rodríguez berrío sea remitida al juzgado\\r\\nséptimo civil municipal de santa marta, para lo de su\\r\\ncompetencia.\\n\\xa0\\ntercero.- ordenar que, por secretaría general de la corporación, se comunique la\\r\\ndecisión adoptada en esta providencia a la\\r\\nseñora carmen alicia rodríguez berrío[12].\\n\\xa0\\ncomuníquese y cúmplase, \\n\\xa0\\n\\xa0\\n\\xa0\\ngloria\\r\\nstella ortiz delgado\\nmagistrada\\r\\nsustanciadora\\n\\xa0\\n\\xa0\\n\\xa0\\nmartha\\r\\nvictoria sáchica méndez\\nsecretaria\\r\\ngeneral\\n\\xa0\\n\\xa0\\n\\xa0\\n\\xa0\\n']"
      ]
     },
     "execution_count": 58,
     "metadata": {},
     "output_type": "execute_result"
    }
   ],
   "source": [
    "df.iloc[0].DOCUMENT.split(\"\\n\\n\")"
   ]
  },
  {
   "cell_type": "markdown",
   "id": "celtic-garden",
   "metadata": {},
   "source": [
    "## **Entrenamiento de vectores de palabras**"
   ]
  },
  {
   "cell_type": "markdown",
   "id": "considered-madrid",
   "metadata": {},
   "source": [
    "No es necesario entrenar el modelo con el corpus cada vez que se ejecute el libro, pasar a \"cargar modelo\""
   ]
  },
  {
   "cell_type": "markdown",
   "id": "stunning-supplier",
   "metadata": {},
   "source": [
    "**Prueba Segmentación por frases**"
   ]
  },
  {
   "cell_type": "code",
   "execution_count": 25,
   "id": "monthly-august",
   "metadata": {
    "scrolled": true
   },
   "outputs": [
    {
     "name": "stdout",
     "output_type": "stream",
     "text": [
      "0. auto <num> referencia expediente t <num>\n",
      "1. <num>\n",
      "2. <num> ac\n",
      "3.  acción de tutela promovida por carmen alicia rodríguez berrío y otros contra holding inmobiliaria y otros\n",
      "4.  asunto solicitud de cumplimiento de la sentencia t <num> de <num>\n",
      "5.  peticionaria carmen alicia rodríguez berrío\n",
      "6.  magistrada sustanciadora gloria stella ortiz delgado\n",
      "7.  bogotá d\n",
      "8. c\n",
      "9.  nueve <num> de marzo de dos mil veintiuno <num> \n",
      "10.  la suscrita magistrada sustanciadora en ejercicio de sus competencias constitucionales y legales profiere el presente auto con fundamento en los siguientes antecedentes <num>\n",
      "11.  el pasado <num> de enero la sala sexta de revisión profirió la sentencia t <num> de <num> <num> \n",
      "12.  en el caso particular de la señora carmen alicia dicha providencia concedió el amparo de los derechos a la estabilidad laboral reforzada y al mínimo vital\n",
      "13.  <num>\n",
      "14.  en consecuencia esta corporación le ordenó a holding inmobiliaria reintegrar a la peticionaria al trabajo que desempeñaba en la empresa\n",
      "15.  lo anterior porque declaró ineficaz el despido\n",
      "16.  además le ordenó reconocerle la indemnización prevista en el inciso <num> del artículo <num> de la ley <num> de <num> las prestaciones los salarios y los aportes dejados de percibir\n",
      "17.  de igual forma le ordenó a positiva arl pagarle las incapacidades pendientes\n",
      "18.  <num>\n",
      "19.  mediante escritos del <num> de febrero y del <num> de marzo de <num> la actora solicitó a la corte constitucional el cumplimiento de la decisión\n",
      "20.  consideraciones competencia de la magistrada sustanciadora para proferir este auto <num>\n",
      "21.  en sesión del <num> de febrero de <num> la sala plena aclaró que los magistrados ponentes son competentes para conocer de los asuntos sometidos a su consideración siempre que se trate de aspectos procedimentales y su resolución no implique un estudio de fondo\n",
      "22.  lo anterior con fundamento en los siguientes argumentos <num>\n",
      "23. <num>\n",
      "24.  en primer lugar según el artículo <num> <num> del decreto <num> de <num> <num> las salas de revisión conocen de los fallos de tutela de conformidad con el procedimiento vigente para los tribunales del distrito judicial\n",
      "25.  no obstante ni el decreto estatutario ni la regulación de esas corporaciones aluden a la competencia para tramitar las solicitudes de cumplimiento y los incidentes de desacato\n",
      "26.  lo mismo se predica del artículo <num> del acuerdo <num> de <num> <num> que establece el funcionamiento de las salas\n",
      "27.  por consiguiente no existe disposición especial que se refiera a la competencia en estos asuntos\n",
      "28.  de ahí que deba acudirse al código general del proceso como norma supletoria\n",
      "29.  <num>\n",
      "30. <num>\n",
      "31.  en segundo lugar el artículo <num> <num> de ese código indica que el magistrado sustanciador dictará los autos que no correspondan a la sala de decisión\n",
      "32.  <num>\n",
      "33. <num>\n",
      "34.  por último en atención a los principios de celeridad y de eficiencia en la administración de justicia el magistrado sustanciador debe resolver los asuntos que requieran de impulso procesal\n",
      "35.  esto es aquellos que no supongan la modificación de situaciones jurídicas ni la definición de aspectos sustanciales\n",
      "36.  competencia de la corte constitucional en el trámite de las solicitudes de cumplimiento <num>\n",
      "37.  el artículo <num> del decreto <num> de <num> establece que los fallos dictados por la corte deberán comunicarse al juez de primera instancia y que este a su vez los notificará a las partes\n",
      "38.  asimismo los artículos <num> <num> <num> <num> y <num> <num> de esa normativa señalan que ante la inobservancia de una orden de tutela el beneficiario puede solicitar simultánea o sucesivamente i su cumplimiento por medio del trámite de cumplimiento yo ii la imposición de sanciones a la autoridad renuente mediante el incidente de desacato <num> \n",
      "39.  <num>\n",
      "40.  en virtud de lo anterior esta corte ha considerado que por regla general el juez de primera instancia es la autoridad competente para verificar el cumplimiento del fallo de tutela\n",
      "41.  ello a pesar de que la decisión se hubiese dictado en la segunda instancia o en sede de revisión <num> \n",
      "42.  <num>\n",
      "43.  no obstante en casos excepcionales esta corporación puede verificar la observancia de sus sentencias y tramitar el incidente de desacato\n",
      "44.  en particular la corte ha indicado que esta facultad se activa entre otras en las siguientes situaciones  i cuando ha habido manifiesto incumplimiento de las decisiones de tutela sin que los jueces de primera instancia hayan podido adoptar las medidas que hagan efectiva la orden de protección ii o dichas medidas han sido insuficientes o ineficaces o iii cuando en presencia de un estado de cosas inconstitucional que afecta a un conjunto amplio de personas se han emitido órdenes complejas para cuya efectividad es necesario un permanente seguimiento y la adopción de nuevas determinaciones de acuerdo con las circunstancias de una situación que se prolonga en el tiempo <num> \n",
      "45.  caso concreto <num>\n",
      "46.  en esta oportunidad la señora carmen alicia rodríguez berrío solicitó a la corte adelantar el trámite de cumplimiento de la sentencia t <num> de <num>\n",
      "47.  ello ante la presunta renuencia de holding inmobiliaria y positiva arl de acatar las órdenes de protección contenidas en la decisión\n",
      "48.  al respecto la suscrita magistrada advierte que no se configura ninguna de las causales que habilitan la intervención de esta corporación\n",
      "49.  en efecto la peticionaria no allegó elementos de juicio que evidencien el manifiesto incumplimiento de las órdenes de tutela ni la insuficiencia o la ineficacia de las medidas adoptadas por el juez de primera instancia autoridad competente para iniciar la actuación pretendida\n",
      "50.  <num>\n",
      "51.  visto lo anterior este despacho se abstendrá de tramitar la solicitud de cumplimiento presentada por la peticionaria\n",
      "52.  asimismo ordenará su remisión al juzgado séptimo civil municipal de santa marta autoridad que conoció de la acción de tutela en única instancia y por consiguiente es competente para conocer del asunto\n",
      "53.  con fundamento en lo expuesto la suscrita magistrada sustanciadora resuelve primero\n",
      "54.  abstenerse de tramitar la solicitud de cumplimiento de la sentencia t <num> de <num> promovida por la señora carmen alicia rodríguez berrío\n",
      "55.  segundo\n",
      "56.  por secretaría general de la corte constitucional disponer que la solicitud presentada por la señora carmen alicia rodríguez berrío sea remitida al juzgado séptimo civil municipal de santa marta para lo de su competencia\n",
      "57.  tercero\n",
      "58.  ordenar que por secretaría general de la corporación se comunique la decisión adoptada en esta providencia a la señora carmen alicia rodríguez berrío <num> \n",
      "59.  comuníquese y cúmplase gloria stella ortiz delgado magistrada sustanciadora martha victoria sáchica méndez secretaria general\n"
     ]
    }
   ],
   "source": [
    "for i, frase in enumerate([frase for frase in preprocessor_sentences(df.iloc[0].DOCUMENT).split(\"\\n\")]):\n",
    "    print(\"{0}. {1}\".format(i, frase))"
   ]
  },
  {
   "cell_type": "markdown",
   "id": "transsexual-plaza",
   "metadata": {},
   "source": [
    "**Guardar Corpus de documentos segmentados por frase**"
   ]
  },
  {
   "cell_type": "code",
   "execution_count": 24,
   "id": "organizational-distribution",
   "metadata": {},
   "outputs": [],
   "source": [
    "with open(\"data/corpus/corpus_cc_v1.2.txt\", \"w\") as file:\n",
    "    for doc in df.DOCUMENT.values:\n",
    "        file.write(preprocessor_sentences(doc))\n",
    "        file.write(\"\\n\")"
   ]
  },
  {
   "cell_type": "code",
   "execution_count": null,
   "id": "sexual-block",
   "metadata": {},
   "outputs": [],
   "source": [
    "carpeta = os.getcwd()\n",
    "direccion_corpus = os.path.join(carpeta, 'corpus_cc.txt')"
   ]
  },
  {
   "cell_type": "code",
   "execution_count": null,
   "id": "wired-highway",
   "metadata": {},
   "outputs": [],
   "source": [
    "corpus_file = datapath(direccion_corpus)         # absolute path to corpus\n",
    "model = FastText(size=100, \n",
    "                 window=5, \n",
    "                 min_count=5, \n",
    "                 workers=-1, \n",
    "                 seed=RANDOM_STATE)\n",
    "model.build_vocab(corpus_file=corpus_file)      # scan over corpus to build the vocabulary\n",
    "total_words = model.corpus_total_words          # number of words in the corpus\n",
    "model.train(corpus_file=corpus_file, total_words=total_words, epochs=5)"
   ]
  },
  {
   "cell_type": "markdown",
   "id": "flying-headline",
   "metadata": {},
   "source": [
    "**Guardar modelo** "
   ]
  },
  {
   "cell_type": "code",
   "execution_count": 78,
   "id": "loving-shift",
   "metadata": {},
   "outputs": [],
   "source": [
    "model.save(\"modelo_cc.vec\")"
   ]
  },
  {
   "cell_type": "markdown",
   "id": "employed-position",
   "metadata": {},
   "source": [
    "**Cargar modelo**"
   ]
  },
  {
   "cell_type": "code",
   "execution_count": 32,
   "id": "demanding-feelings",
   "metadata": {},
   "outputs": [],
   "source": [
    "model = FastText.load(\"modelo_cc.vec\")"
   ]
  },
  {
   "cell_type": "markdown",
   "id": "previous-pontiac",
   "metadata": {},
   "source": [
    "## **Calcular vectores de las frases y los documentos**"
   ]
  },
  {
   "cell_type": "markdown",
   "id": "terminal-photographer",
   "metadata": {},
   "source": [
    "**Entrenar vectores de documentos**"
   ]
  },
  {
   "cell_type": "code",
   "execution_count": 60,
   "id": "associate-hughes",
   "metadata": {},
   "outputs": [],
   "source": [
    "df = df[df.DOCUMENT==df.DOCUMENT].copy()"
   ]
  },
  {
   "cell_type": "code",
   "execution_count": 66,
   "id": "critical-taiwan",
   "metadata": {},
   "outputs": [],
   "source": [
    "df[\"is_vec\"] = [isinstance(x, np.ndarray) for x in df.vec.values]"
   ]
  },
  {
   "cell_type": "code",
   "execution_count": 68,
   "id": "compatible-blogger",
   "metadata": {},
   "outputs": [],
   "source": [
    "df = df[df.is_vec].copy()"
   ]
  },
  {
   "cell_type": "code",
   "execution_count": 69,
   "id": "conscious-taylor",
   "metadata": {},
   "outputs": [
    {
     "name": "stdout",
     "output_type": "stream",
     "text": [
      "CPU times: user 659 ms, sys: 1.65 s, total: 2.31 s\n",
      "Wall time: 3min 3s\n"
     ]
    }
   ],
   "source": [
    "%%time\n",
    "with Pool(8) as libreypool:\n",
    "    vectors = libreypool.map(wv_vectorizer, df.pp.values)\n",
    "\n",
    "df[\"vec\"] = vectors"
   ]
  },
  {
   "cell_type": "code",
   "execution_count": 70,
   "id": "embedded-bidding",
   "metadata": {},
   "outputs": [],
   "source": [
    "doc_vectors = np.array([x for x in df.vec.values])\n",
    "# doc_vectors = df.vec.values"
   ]
  },
  {
   "cell_type": "markdown",
   "id": "incomplete-tsunami",
   "metadata": {},
   "source": [
    "**Guardar documentos con vectores**"
   ]
  },
  {
   "cell_type": "code",
   "execution_count": 16,
   "id": "computational-weekend",
   "metadata": {},
   "outputs": [],
   "source": [
    "df.to_csv(\"documents_vectors.csv\")"
   ]
  },
  {
   "cell_type": "markdown",
   "id": "front-collaboration",
   "metadata": {},
   "source": [
    "**Cálculo de vector de la frase**"
   ]
  },
  {
   "cell_type": "code",
   "execution_count": 85,
   "id": "binding-terrorist",
   "metadata": {},
   "outputs": [],
   "source": [
    "frase = \"falsos positivos\""
   ]
  },
  {
   "cell_type": "code",
   "execution_count": 86,
   "id": "collect-petite",
   "metadata": {},
   "outputs": [],
   "source": [
    "# calcular el vector de la frase\n",
    "phrase_vec = wv_vectorizer(frase)"
   ]
  },
  {
   "cell_type": "code",
   "execution_count": 87,
   "id": "chronic-correlation",
   "metadata": {},
   "outputs": [
    {
     "data": {
      "text/plain": [
       "array([-7.9891179e-04, -8.3545595e-04,  7.9064514e-05, -1.3889532e-04,\n",
       "        7.7432662e-05, -9.4342715e-04,  8.5287174e-04, -1.5671623e-03,\n",
       "       -3.0127165e-04,  5.8555260e-04,  1.4666485e-04, -5.9159973e-04,\n",
       "        5.9816433e-04, -2.6181113e-04,  5.0692237e-04,  1.0184325e-04,\n",
       "        1.4262067e-03,  1.0098720e-03,  1.1577185e-03, -1.2289413e-04,\n",
       "        6.6517445e-04, -1.1912251e-03,  9.5556816e-04, -3.6705533e-04,\n",
       "        1.1676630e-03, -4.8767758e-04,  1.1756071e-03,  6.2923471e-04,\n",
       "        1.2166422e-03, -5.3517980e-04,  1.2296244e-03, -2.8679153e-04,\n",
       "        1.8864045e-03, -3.0844501e-04,  2.9044930e-04,  1.0440049e-03,\n",
       "        4.0050963e-04, -2.2457402e-04,  1.5262102e-03, -1.7055466e-03,\n",
       "       -6.2408613e-04, -2.0565407e-03, -5.7985861e-04,  1.4982749e-03,\n",
       "       -2.7552780e-04, -4.6384637e-04,  4.6858302e-04,  5.4883078e-04,\n",
       "       -2.3545537e-04,  9.4649848e-04,  1.6477994e-04,  1.7281016e-04,\n",
       "        1.3864455e-03,  4.8082497e-05, -2.1727444e-03,  5.0347362e-04,\n",
       "       -1.0834538e-03, -1.5092340e-03, -3.9520612e-04,  6.3935900e-04,\n",
       "        5.8647565e-04, -1.2344588e-03, -3.7395692e-04, -7.5181574e-04,\n",
       "        5.3128612e-04, -3.4607956e-04, -1.2176819e-03,  1.0188714e-03,\n",
       "       -5.5096124e-04, -1.1009976e-03, -9.8869868e-04,  1.2449472e-03,\n",
       "        4.7091435e-04,  1.5644506e-04,  3.1373487e-04,  9.4810734e-04,\n",
       "        3.0198914e-04,  7.6955784e-04,  4.8430194e-04, -7.3207368e-04,\n",
       "       -1.1980091e-03, -1.2181065e-04,  1.4787791e-03, -1.5305686e-03,\n",
       "       -2.8918951e-04, -3.1897574e-04, -2.3771427e-05,  1.2649427e-04,\n",
       "        9.9295017e-04,  8.1198500e-04,  8.7847072e-04, -1.6760549e-03,\n",
       "       -5.2799779e-04,  1.6988839e-03, -6.7132578e-04,  8.7505512e-05,\n",
       "       -9.6322224e-04, -2.6207126e-05, -4.3169278e-04,  2.7666320e-04],\n",
       "      dtype=float32)"
      ]
     },
     "execution_count": 87,
     "metadata": {},
     "output_type": "execute_result"
    }
   ],
   "source": [
    "phrase_vec"
   ]
  },
  {
   "cell_type": "code",
   "execution_count": 88,
   "id": "knowing-nirvana",
   "metadata": {},
   "outputs": [],
   "source": [
    "# Calcular distancia de la frase a los documentos\n",
    "distances = cosine_distances(phrase_vec.reshape(1, -1), doc_vectors)\n",
    "# distances = cosine_distances(phrase_vec, doc_vectors)"
   ]
  },
  {
   "cell_type": "code",
   "execution_count": 89,
   "id": "insured-animal",
   "metadata": {},
   "outputs": [],
   "source": [
    "distances = distances.flatten()"
   ]
  },
  {
   "cell_type": "code",
   "execution_count": 90,
   "id": "leading-emission",
   "metadata": {},
   "outputs": [],
   "source": [
    "top_docs = np.argsort(distances, )[:N_TOP_DOCS]"
   ]
  },
  {
   "cell_type": "code",
   "execution_count": 91,
   "id": "differential-plate",
   "metadata": {},
   "outputs": [
    {
     "name": "stdout",
     "output_type": "stream",
     "text": [
      "1.  T-340-09:\n",
      "ii\n",
      "\n",
      "\n",
      "sentencia\n",
      "t-34009\n",
      " \n",
      "licencia de maternidad-pago de licencia proporcionalmente a las semanas cotizadasderecho\n",
      "al minimo vital de la madre y su hijo-pago de licencia de maternidad proporcionalmente\n",
      "a las semanas cotizadaslicencia de maternidad-caso en que se ha\n",
      "presentado interrupción de semanas de cotización\n",
      " \n",
      " referencia: expedientes t-2141913 y t-2141928 (acumulados).\n",
      "                                               \n",
      "acciones de\n",
      "tutela instauradas por helen hernández holguín y edna juli\n",
      "----------------------------------------------------------------------\n",
      "2.  T-1273-05:\n",
      "republica de colombia\n",
      "\n",
      "\n",
      "sentencia t-127305\n",
      " \n",
      "accion de tutela-procedencia excepcional para pago de sumas\n",
      "de dinero originadas en contrato de prestación de servicios \n",
      " \n",
      "esta corporación ha señalado enfáticamente, en\n",
      "relación con las obligaciones derivadas de relaciones contractuales o de\n",
      "prestación de servicios que la acción de tutela no es un mecanismo jurídico\n",
      "adecuado para reclamar derechos de carácter contractual. sin embargo, también\n",
      "ha dicho que el mecanismo de amparo procede excepcion\n",
      "----------------------------------------------------------------------\n",
      "3.  T-679-08:\n",
      "sala séptima de revisión\n",
      "\n",
      "\n",
      "sentencia t-67908\n",
      " \n",
      "inaplicacion de normas del plan obligatorio de salud-reglas jurisprudenciales\n",
      " \n",
      "inaplicacion de normas del plan obligatorio de salud-no se cumplen las condiciones exigidas para tutelar los derechos\n",
      " \n",
      " \n",
      "referencia: expediente t-1851545.\n",
      " \n",
      "acción de\n",
      "tutela instaurada por patricio antonio gonzález ríos contra solsalud eps y\n",
      "direccion territorial de salud de caldas.\n",
      " \n",
      "procedencia: juzgado 1° de ejecución de penas y medidas de seguridad\n",
      "de manizales.\n",
      "\n",
      "----------------------------------------------------------------------\n",
      "4.  T-560-06:\n",
      "república de colombia\n",
      "\n",
      "\n",
      "sentencia\n",
      "t-56006\n",
      " \n",
      "accion de tutela contra entidad promotora de\n",
      "salud-procedencia para ordenar suministro medicamentos no incluidos en el\n",
      "pos\n",
      " \n",
      "derecho a la salud-fundamental por\n",
      "conexidad\n",
      " \n",
      "derecho a la salud-requisitos para el suministro de medicamentos no incluidos en el\n",
      "pos\n",
      " \n",
      "sistema de seguridad social en salud-equilibrio estructural\n",
      " \n",
      " \n",
      "referencia: expediente t-1318434\n",
      " \n",
      "acción de tutela instaurada por ruth hartz\n",
      "de caro contra salud colpatria eps.\n",
      " \n",
      "magistra\n",
      "----------------------------------------------------------------------\n",
      "5.  T-599-12:\n",
      "sentencia t-59912\n",
      " \n",
      " \n",
      "accion de tutela para\n",
      "reconocimiento de pension de invalidez-procedencia excepcional\n",
      " \n",
      "accion\n",
      "de tutela para reconocimiento de pension de invalidez-procedencia para proteger derechos fundamentales al mínimo\n",
      "vital y a la seguridad social\n",
      " \n",
      "en este caso dos aspectos le permiten concluir a la sala\n",
      "que los medios de defensa ordinario son ineficaces: (i) el accionante hace\n",
      "parte de un grupo de especial protección constitucional por las disminuciones\n",
      "físicas que padece, que\n",
      "----------------------------------------------------------------------\n"
     ]
    }
   ],
   "source": [
    "for i, doc in enumerate(zip(df.iloc[top_docs].DOCUMENT, df.iloc[top_docs].INDEX)):\n",
    "    print(f\"{i+1}. {doc[1]}:\\n{doc[0][:CARACTERES]}\")\n",
    "    print(\"-\"*70)"
   ]
  },
  {
   "cell_type": "markdown",
   "id": "violent-conditioning",
   "metadata": {},
   "source": [
    "## **Búsqueda Literal**"
   ]
  },
  {
   "cell_type": "code",
   "execution_count": 116,
   "id": "therapeutic-airfare",
   "metadata": {},
   "outputs": [],
   "source": [
    "busqueda = \"ponente alejandro linares cantillo\""
   ]
  },
  {
   "cell_type": "code",
   "execution_count": 108,
   "id": "cordless-minister",
   "metadata": {},
   "outputs": [],
   "source": [
    "df[\"año\"] = [x.split()[0].split(\"-\")[-1] for x in df.INDEX.values]"
   ]
  },
  {
   "cell_type": "code",
   "execution_count": 118,
   "id": "binding-building",
   "metadata": {},
   "outputs": [],
   "source": [
    "AÑO_INICIO = 11\n",
    "AÑO_FIN = 19\n",
    "TIPO_SENTENCIA = 'S'"
   ]
  },
  {
   "cell_type": "code",
   "execution_count": 117,
   "id": "finnish-raleigh",
   "metadata": {},
   "outputs": [
    {
     "name": "stdout",
     "output_type": "stream",
     "text": [
      "Total encontrados: 5\n",
      "--------------------\n",
      "1.  SU495-20:\n",
      "sentencia su49520\n",
      " \n",
      " \n",
      "referencia:\n",
      "expediente t-7.783.646\n",
      " \n",
      "acción de\n",
      "tutela interpuesta por dorian jaime mejía galeano contra la\n",
      "sala de definición de situaciones jurídicas y la sección de apelación del\n",
      "tribunal para la paz de la jurisdicción especial para la paz. \n",
      " \n",
      "magistrado\n",
      "ponente:\n",
      "alejandro\n",
      "linares cantillo\n",
      " \n",
      " \n",
      "bogotá, d.c., veintisiete (27) de noviembre de dos mil\n",
      "veinte (2020)\n",
      " \n",
      " \n",
      "la sala plena de la corte constitucional, en ejercicio de\n",
      "sus atribuciones constitucionales y de los\n",
      "----------------------------------------------------------------------\n",
      "2.  SU379-19:\n",
      "nota de\n",
      "relatoria: mediante auto\n",
      "586 de fecha 29 de octubre de 2019, el cual se anexa a la presente providencia,\n",
      "se aclara la orden proferida en el resolutivo tercero, en el sentido de indicar\n",
      "que se deja sin efectos únicamente la decisión proferida dentro del proceso de pérdida\n",
      "de investidura contra el señor álvaro escobar gonzález, en segunda instancia,\n",
      "por la sección primera del consejo de estado el 2 de junio de 2016, dejando\n",
      "inalterados los demás contenidos de la misma. \n",
      " \n",
      " \n",
      "sentenci\n",
      "----------------------------------------------------------------------\n",
      "3.  SU062-18:\n",
      "sentencia su06218\n",
      " \n",
      "accion de tutela contra\n",
      "providencias judiciales-requisitos generales y especiales de procedibilidad\n",
      " \n",
      "defecto procedimental por\n",
      "exceso ritual manifiesto y defecto factico por omision en la valoracion de las\n",
      "pruebas\n",
      " \n",
      "defecto factico-dimensión\n",
      "negativa por no incorporar, practicar o valorar pruebas solicitadas o\n",
      "decretadas\n",
      " \n",
      "la sala concluye que la omisión de incorporar y, en\n",
      "consecuencia, de valorar una prueba solicitada o insinuada en el proceso y\n",
      "requerida para estab\n",
      "----------------------------------------------------------------------\n",
      "4.  SU588-16:\n",
      "sentencia su58816\n",
      " \n",
      " \n",
      "accion de tutela\n",
      "para ordenar reconocimiento y pago de la pension de invalidez-procedencia excepcional\n",
      " \n",
      "accion\n",
      "de tutela para el reconocimiento de pension de invalidez-reglas de\n",
      "procedencia \n",
      " \n",
      "personas con\n",
      "discapacidad como sujetos de especial proteccion constitucional-protección nacional e internacional \n",
      " \n",
      "el estado colombiano\n",
      "debe, a través de todos sus estamentos, garantizar a todas las personas el\n",
      "efectivo goce de sus derechos constitucionales. en desarrollo de d\n",
      "----------------------------------------------------------------------\n",
      "5.  SU391-16:\n",
      "sentencia su39116\n",
      " \n",
      " \n",
      "cosa juzgada\n",
      "constitucional-configuración\n",
      " \n",
      "en primer lugar, existe identidad de partes entre\n",
      "la acción de tutela promovida en enero de 2013 y la presentada en esta ocasión.\n",
      "en segundo lugar, existe identidad de hechos, por cuanto el sustento fáctico\n",
      "para formular la vulneración del derecho a la igualdad es el mismo en la acción\n",
      "de tutela planteada en enero de 2013 y en la que revisa la corte en esta\n",
      "ocasión. así, en ambos casos la supuesta vulneración se basa en la\n",
      "\n",
      "----------------------------------------------------------------------\n"
     ]
    }
   ],
   "source": [
    "print(\"Total encontrados:\", len(df[(df.pp.str.contains(busqueda.lower()))&(df.tipo==TI)&]))\n",
    "print(\"-\"*20)\n",
    "df_tmp = df[(df.pp.str.contains(busqueda.lower()))&(df.tipo=='S')].head(N_TOP_DOCS)\n",
    "\n",
    "for i, doc in enumerate(zip(df_tmp.DOCUMENT, df_tmp.INDEX)):\n",
    "    print(f\"{i+1}. {doc[1]}:\\n{doc[0][:CARACTERES]}\")\n",
    "    print(\"-\"*70)"
   ]
  },
  {
   "cell_type": "code",
   "execution_count": null,
   "id": "amateur-snake",
   "metadata": {},
   "outputs": [],
   "source": []
  },
  {
   "cell_type": "code",
   "execution_count": 148,
   "id": "cultural-variation",
   "metadata": {},
   "outputs": [],
   "source": [
    "def get_ponente(text):\n",
    "    if \"magistrado ponente\" not in text:\n",
    "        return \"N/A\"\n",
    "    indice = text.index(\"ponente\")\n",
    "    ponente = \" \".join(text[indice:indice+200].split()[1:4])\n",
    "    return ponente"
   ]
  },
  {
   "cell_type": "code",
   "execution_count": 149,
   "id": "assumed-mirror",
   "metadata": {},
   "outputs": [
    {
     "data": {
      "text/html": [
       "<div>\n",
       "<style scoped>\n",
       "    .dataframe tbody tr th:only-of-type {\n",
       "        vertical-align: middle;\n",
       "    }\n",
       "\n",
       "    .dataframe tbody tr th {\n",
       "        vertical-align: top;\n",
       "    }\n",
       "\n",
       "    .dataframe thead th {\n",
       "        text-align: right;\n",
       "    }\n",
       "</style>\n",
       "<table border=\"1\" class=\"dataframe\">\n",
       "  <thead>\n",
       "    <tr style=\"text-align: right;\">\n",
       "      <th></th>\n",
       "      <th>INDEX</th>\n",
       "      <th>DOCUMENT_TYPE</th>\n",
       "      <th>LINK</th>\n",
       "      <th>DOCUMENT</th>\n",
       "      <th>DOCUMENT_WITH_SIGNS</th>\n",
       "      <th>DOCUMENT_CLEAN</th>\n",
       "      <th>tipo</th>\n",
       "      <th>pp</th>\n",
       "      <th>vec</th>\n",
       "      <th>is_vec</th>\n",
       "      <th>año</th>\n",
       "      <th>ponente</th>\n",
       "    </tr>\n",
       "  </thead>\n",
       "  <tbody>\n",
       "    <tr>\n",
       "      <th>8739</th>\n",
       "      <td>T-020-21</td>\n",
       "      <td>T</td>\n",
       "      <td>https://www.corteconstitucional.gov.co/Relator...</td>\n",
       "      <td>sentencia t-02021\\n \\n \\nreferencia: expedient...</td>\n",
       "      <td>sentencia t-02021  referencia: expedientes (i)...</td>\n",
       "      <td>sentencia t 02021 referencia expedientes i t 7...</td>\n",
       "      <td>T</td>\n",
       "      <td>sentencia t 02021 referencia expedientes i t 7...</td>\n",
       "      <td>[-8.243717e-05, 3.299988e-05, -5.2083982e-05, ...</td>\n",
       "      <td>True</td>\n",
       "      <td>21</td>\n",
       "      <td>N/A</td>\n",
       "    </tr>\n",
       "    <tr>\n",
       "      <th>8740</th>\n",
       "      <td>T-019-21</td>\n",
       "      <td>T</td>\n",
       "      <td>https://www.corteconstitucional.gov.co/Relator...</td>\n",
       "      <td>sentencia t-01921\\n \\n \\nreferencia:\\r\\nexpedi...</td>\n",
       "      <td>sentencia t-01921  referencia: expediente t-7....</td>\n",
       "      <td>sentencia t 01921 referencia expediente t 7 89...</td>\n",
       "      <td>T</td>\n",
       "      <td>sentencia t 01921 referencia expediente t 7 89...</td>\n",
       "      <td>[-3.213584e-05, 6.351033e-05, -9.341354e-05, -...</td>\n",
       "      <td>True</td>\n",
       "      <td>21</td>\n",
       "      <td>el 14 de</td>\n",
       "    </tr>\n",
       "    <tr>\n",
       "      <th>8741</th>\n",
       "      <td>T-017-21</td>\n",
       "      <td>T</td>\n",
       "      <td>https://www.corteconstitucional.gov.co/Relator...</td>\n",
       "      <td>sentencia\\r\\nt-01721\\n \\n \\nreferencia: expedi...</td>\n",
       "      <td>sentencia t-01721  referencia: expediente t-7....</td>\n",
       "      <td>sentencia t 01721 referencia expediente t 7 91...</td>\n",
       "      <td>T</td>\n",
       "      <td>sentencia t 01721 referencia expediente t 7 91...</td>\n",
       "      <td>[-0.00026038743, 4.8819413e-05, -7.825945e-05,...</td>\n",
       "      <td>True</td>\n",
       "      <td>21</td>\n",
       "      <td>cristina pardo schlesinger</td>\n",
       "    </tr>\n",
       "    <tr>\n",
       "      <th>8742</th>\n",
       "      <td>T-015-21</td>\n",
       "      <td>T</td>\n",
       "      <td>https://www.corteconstitucional.gov.co/Relator...</td>\n",
       "      <td>sentencia t-01521\\n \\n \\nreferencia: expedient...</td>\n",
       "      <td>sentencia t-01521  referencia: expediente t-7....</td>\n",
       "      <td>sentencia t 01521 referencia expediente t 7 89...</td>\n",
       "      <td>T</td>\n",
       "      <td>sentencia t 01521 referencia expediente t 7 89...</td>\n",
       "      <td>[-4.1070634e-05, -9.840238e-05, -0.00013082263...</td>\n",
       "      <td>True</td>\n",
       "      <td>21</td>\n",
       "      <td>diana fajardo rivera</td>\n",
       "    </tr>\n",
       "    <tr>\n",
       "      <th>8743</th>\n",
       "      <td>T-002-21</td>\n",
       "      <td>T</td>\n",
       "      <td>https://www.corteconstitucional.gov.co/Relator...</td>\n",
       "      <td>sentencia t-00221\\n \\n \\nreferencia: expedient...</td>\n",
       "      <td>sentencia t-00221  referencia: expediente t-7....</td>\n",
       "      <td>sentencia t 00221 referencia expediente t 7 87...</td>\n",
       "      <td>T</td>\n",
       "      <td>sentencia t 00221 referencia expediente t 7 87...</td>\n",
       "      <td>[-0.00014265596, -1.723251e-05, -0.00015529948...</td>\n",
       "      <td>True</td>\n",
       "      <td>21</td>\n",
       "      <td>de la libertad</td>\n",
       "    </tr>\n",
       "  </tbody>\n",
       "</table>\n",
       "</div>"
      ],
      "text/plain": [
       "          INDEX DOCUMENT_TYPE  \\\n",
       "8739   T-020-21             T   \n",
       "8740   T-019-21             T   \n",
       "8741   T-017-21             T   \n",
       "8742   T-015-21             T   \n",
       "8743   T-002-21             T   \n",
       "\n",
       "                                                   LINK  \\\n",
       "8739  https://www.corteconstitucional.gov.co/Relator...   \n",
       "8740  https://www.corteconstitucional.gov.co/Relator...   \n",
       "8741  https://www.corteconstitucional.gov.co/Relator...   \n",
       "8742  https://www.corteconstitucional.gov.co/Relator...   \n",
       "8743  https://www.corteconstitucional.gov.co/Relator...   \n",
       "\n",
       "                                               DOCUMENT  \\\n",
       "8739  sentencia t-02021\\n \\n \\nreferencia: expedient...   \n",
       "8740  sentencia t-01921\\n \\n \\nreferencia:\\r\\nexpedi...   \n",
       "8741  sentencia\\r\\nt-01721\\n \\n \\nreferencia: expedi...   \n",
       "8742  sentencia t-01521\\n \\n \\nreferencia: expedient...   \n",
       "8743  sentencia t-00221\\n \\n \\nreferencia: expedient...   \n",
       "\n",
       "                                    DOCUMENT_WITH_SIGNS  \\\n",
       "8739  sentencia t-02021  referencia: expedientes (i)...   \n",
       "8740  sentencia t-01921  referencia: expediente t-7....   \n",
       "8741  sentencia t-01721  referencia: expediente t-7....   \n",
       "8742  sentencia t-01521  referencia: expediente t-7....   \n",
       "8743  sentencia t-00221  referencia: expediente t-7....   \n",
       "\n",
       "                                         DOCUMENT_CLEAN tipo  \\\n",
       "8739  sentencia t 02021 referencia expedientes i t 7...    T   \n",
       "8740  sentencia t 01921 referencia expediente t 7 89...    T   \n",
       "8741  sentencia t 01721 referencia expediente t 7 91...    T   \n",
       "8742  sentencia t 01521 referencia expediente t 7 89...    T   \n",
       "8743  sentencia t 00221 referencia expediente t 7 87...    T   \n",
       "\n",
       "                                                     pp  \\\n",
       "8739  sentencia t 02021 referencia expedientes i t 7...   \n",
       "8740  sentencia t 01921 referencia expediente t 7 89...   \n",
       "8741  sentencia t 01721 referencia expediente t 7 91...   \n",
       "8742  sentencia t 01521 referencia expediente t 7 89...   \n",
       "8743  sentencia t 00221 referencia expediente t 7 87...   \n",
       "\n",
       "                                                    vec  is_vec año  \\\n",
       "8739  [-8.243717e-05, 3.299988e-05, -5.2083982e-05, ...    True  21   \n",
       "8740  [-3.213584e-05, 6.351033e-05, -9.341354e-05, -...    True  21   \n",
       "8741  [-0.00026038743, 4.8819413e-05, -7.825945e-05,...    True  21   \n",
       "8742  [-4.1070634e-05, -9.840238e-05, -0.00013082263...    True  21   \n",
       "8743  [-0.00014265596, -1.723251e-05, -0.00015529948...    True  21   \n",
       "\n",
       "                         ponente  \n",
       "8739                         N/A  \n",
       "8740                    el 14 de  \n",
       "8741  cristina pardo schlesinger  \n",
       "8742        diana fajardo rivera  \n",
       "8743              de la libertad  "
      ]
     },
     "execution_count": 149,
     "metadata": {},
     "output_type": "execute_result"
    }
   ],
   "source": [
    "df[df.tipo!='A'].head()"
   ]
  },
  {
   "cell_type": "code",
   "execution_count": 150,
   "id": "optimum-berkeley",
   "metadata": {},
   "outputs": [
    {
     "data": {
      "text/plain": [
       "T    18786\n",
       "A     8737\n",
       "C     6529\n",
       "S      388\n",
       "Name: tipo, dtype: int64"
      ]
     },
     "execution_count": 150,
     "metadata": {},
     "output_type": "execute_result"
    }
   ],
   "source": [
    "df.tipo.value_counts()"
   ]
  },
  {
   "cell_type": "code",
   "execution_count": 151,
   "id": "demonstrated-corpus",
   "metadata": {},
   "outputs": [],
   "source": [
    "df[\"ponente\"] = [get_ponente(text) if tipo!='A' else \"N/A\" for text, tipo in zip(df.pp.values, df.tipo.values)]"
   ]
  },
  {
   "cell_type": "code",
   "execution_count": 152,
   "id": "enclosed-birmingham",
   "metadata": {},
   "outputs": [
    {
     "data": {
      "text/html": [
       "<div>\n",
       "<style scoped>\n",
       "    .dataframe tbody tr th:only-of-type {\n",
       "        vertical-align: middle;\n",
       "    }\n",
       "\n",
       "    .dataframe tbody tr th {\n",
       "        vertical-align: top;\n",
       "    }\n",
       "\n",
       "    .dataframe thead th {\n",
       "        text-align: right;\n",
       "    }\n",
       "</style>\n",
       "<table border=\"1\" class=\"dataframe\">\n",
       "  <thead>\n",
       "    <tr style=\"text-align: right;\">\n",
       "      <th></th>\n",
       "      <th>INDEX</th>\n",
       "      <th>DOCUMENT_TYPE</th>\n",
       "      <th>LINK</th>\n",
       "      <th>DOCUMENT</th>\n",
       "      <th>DOCUMENT_WITH_SIGNS</th>\n",
       "      <th>DOCUMENT_CLEAN</th>\n",
       "      <th>tipo</th>\n",
       "      <th>pp</th>\n",
       "      <th>vec</th>\n",
       "      <th>is_vec</th>\n",
       "      <th>año</th>\n",
       "      <th>ponente</th>\n",
       "    </tr>\n",
       "  </thead>\n",
       "  <tbody>\n",
       "    <tr>\n",
       "      <th>8739</th>\n",
       "      <td>T-020-21</td>\n",
       "      <td>T</td>\n",
       "      <td>https://www.corteconstitucional.gov.co/Relator...</td>\n",
       "      <td>sentencia t-02021\\n \\n \\nreferencia: expedient...</td>\n",
       "      <td>sentencia t-02021  referencia: expedientes (i)...</td>\n",
       "      <td>sentencia t 02021 referencia expedientes i t 7...</td>\n",
       "      <td>T</td>\n",
       "      <td>sentencia t 02021 referencia expedientes i t 7...</td>\n",
       "      <td>[-8.243717e-05, 3.299988e-05, -5.2083982e-05, ...</td>\n",
       "      <td>True</td>\n",
       "      <td>21</td>\n",
       "      <td>N/A</td>\n",
       "    </tr>\n",
       "    <tr>\n",
       "      <th>8740</th>\n",
       "      <td>T-019-21</td>\n",
       "      <td>T</td>\n",
       "      <td>https://www.corteconstitucional.gov.co/Relator...</td>\n",
       "      <td>sentencia t-01921\\n \\n \\nreferencia:\\r\\nexpedi...</td>\n",
       "      <td>sentencia t-01921  referencia: expediente t-7....</td>\n",
       "      <td>sentencia t 01921 referencia expediente t 7 89...</td>\n",
       "      <td>T</td>\n",
       "      <td>sentencia t 01921 referencia expediente t 7 89...</td>\n",
       "      <td>[-3.213584e-05, 6.351033e-05, -9.341354e-05, -...</td>\n",
       "      <td>True</td>\n",
       "      <td>21</td>\n",
       "      <td>el 14 de</td>\n",
       "    </tr>\n",
       "    <tr>\n",
       "      <th>8741</th>\n",
       "      <td>T-017-21</td>\n",
       "      <td>T</td>\n",
       "      <td>https://www.corteconstitucional.gov.co/Relator...</td>\n",
       "      <td>sentencia\\r\\nt-01721\\n \\n \\nreferencia: expedi...</td>\n",
       "      <td>sentencia t-01721  referencia: expediente t-7....</td>\n",
       "      <td>sentencia t 01721 referencia expediente t 7 91...</td>\n",
       "      <td>T</td>\n",
       "      <td>sentencia t 01721 referencia expediente t 7 91...</td>\n",
       "      <td>[-0.00026038743, 4.8819413e-05, -7.825945e-05,...</td>\n",
       "      <td>True</td>\n",
       "      <td>21</td>\n",
       "      <td>N/A</td>\n",
       "    </tr>\n",
       "    <tr>\n",
       "      <th>8742</th>\n",
       "      <td>T-015-21</td>\n",
       "      <td>T</td>\n",
       "      <td>https://www.corteconstitucional.gov.co/Relator...</td>\n",
       "      <td>sentencia t-01521\\n \\n \\nreferencia: expedient...</td>\n",
       "      <td>sentencia t-01521  referencia: expediente t-7....</td>\n",
       "      <td>sentencia t 01521 referencia expediente t 7 89...</td>\n",
       "      <td>T</td>\n",
       "      <td>sentencia t 01521 referencia expediente t 7 89...</td>\n",
       "      <td>[-4.1070634e-05, -9.840238e-05, -0.00013082263...</td>\n",
       "      <td>True</td>\n",
       "      <td>21</td>\n",
       "      <td>N/A</td>\n",
       "    </tr>\n",
       "    <tr>\n",
       "      <th>8743</th>\n",
       "      <td>T-002-21</td>\n",
       "      <td>T</td>\n",
       "      <td>https://www.corteconstitucional.gov.co/Relator...</td>\n",
       "      <td>sentencia t-00221\\n \\n \\nreferencia: expedient...</td>\n",
       "      <td>sentencia t-00221  referencia: expediente t-7....</td>\n",
       "      <td>sentencia t 00221 referencia expediente t 7 87...</td>\n",
       "      <td>T</td>\n",
       "      <td>sentencia t 00221 referencia expediente t 7 87...</td>\n",
       "      <td>[-0.00014265596, -1.723251e-05, -0.00015529948...</td>\n",
       "      <td>True</td>\n",
       "      <td>21</td>\n",
       "      <td>N/A</td>\n",
       "    </tr>\n",
       "  </tbody>\n",
       "</table>\n",
       "</div>"
      ],
      "text/plain": [
       "          INDEX DOCUMENT_TYPE  \\\n",
       "8739   T-020-21             T   \n",
       "8740   T-019-21             T   \n",
       "8741   T-017-21             T   \n",
       "8742   T-015-21             T   \n",
       "8743   T-002-21             T   \n",
       "\n",
       "                                                   LINK  \\\n",
       "8739  https://www.corteconstitucional.gov.co/Relator...   \n",
       "8740  https://www.corteconstitucional.gov.co/Relator...   \n",
       "8741  https://www.corteconstitucional.gov.co/Relator...   \n",
       "8742  https://www.corteconstitucional.gov.co/Relator...   \n",
       "8743  https://www.corteconstitucional.gov.co/Relator...   \n",
       "\n",
       "                                               DOCUMENT  \\\n",
       "8739  sentencia t-02021\\n \\n \\nreferencia: expedient...   \n",
       "8740  sentencia t-01921\\n \\n \\nreferencia:\\r\\nexpedi...   \n",
       "8741  sentencia\\r\\nt-01721\\n \\n \\nreferencia: expedi...   \n",
       "8742  sentencia t-01521\\n \\n \\nreferencia: expedient...   \n",
       "8743  sentencia t-00221\\n \\n \\nreferencia: expedient...   \n",
       "\n",
       "                                    DOCUMENT_WITH_SIGNS  \\\n",
       "8739  sentencia t-02021  referencia: expedientes (i)...   \n",
       "8740  sentencia t-01921  referencia: expediente t-7....   \n",
       "8741  sentencia t-01721  referencia: expediente t-7....   \n",
       "8742  sentencia t-01521  referencia: expediente t-7....   \n",
       "8743  sentencia t-00221  referencia: expediente t-7....   \n",
       "\n",
       "                                         DOCUMENT_CLEAN tipo  \\\n",
       "8739  sentencia t 02021 referencia expedientes i t 7...    T   \n",
       "8740  sentencia t 01921 referencia expediente t 7 89...    T   \n",
       "8741  sentencia t 01721 referencia expediente t 7 91...    T   \n",
       "8742  sentencia t 01521 referencia expediente t 7 89...    T   \n",
       "8743  sentencia t 00221 referencia expediente t 7 87...    T   \n",
       "\n",
       "                                                     pp  \\\n",
       "8739  sentencia t 02021 referencia expedientes i t 7...   \n",
       "8740  sentencia t 01921 referencia expediente t 7 89...   \n",
       "8741  sentencia t 01721 referencia expediente t 7 91...   \n",
       "8742  sentencia t 01521 referencia expediente t 7 89...   \n",
       "8743  sentencia t 00221 referencia expediente t 7 87...   \n",
       "\n",
       "                                                    vec  is_vec año   ponente  \n",
       "8739  [-8.243717e-05, 3.299988e-05, -5.2083982e-05, ...    True  21       N/A  \n",
       "8740  [-3.213584e-05, 6.351033e-05, -9.341354e-05, -...    True  21  el 14 de  \n",
       "8741  [-0.00026038743, 4.8819413e-05, -7.825945e-05,...    True  21       N/A  \n",
       "8742  [-4.1070634e-05, -9.840238e-05, -0.00013082263...    True  21       N/A  \n",
       "8743  [-0.00014265596, -1.723251e-05, -0.00015529948...    True  21       N/A  "
      ]
     },
     "execution_count": 152,
     "metadata": {},
     "output_type": "execute_result"
    }
   ],
   "source": [
    "df[df.tipo!='A'].head()"
   ]
  },
  {
   "cell_type": "code",
   "execution_count": 153,
   "id": "gross-yukon",
   "metadata": {},
   "outputs": [],
   "source": [
    "ponentes = df.ponente.value_counts().to_frame()"
   ]
  },
  {
   "cell_type": "code",
   "execution_count": 158,
   "id": "detected-retro",
   "metadata": {},
   "outputs": [
    {
     "data": {
      "text/html": [
       "<div>\n",
       "<style scoped>\n",
       "    .dataframe tbody tr th:only-of-type {\n",
       "        vertical-align: middle;\n",
       "    }\n",
       "\n",
       "    .dataframe tbody tr th {\n",
       "        vertical-align: top;\n",
       "    }\n",
       "\n",
       "    .dataframe thead th {\n",
       "        text-align: right;\n",
       "    }\n",
       "</style>\n",
       "<table border=\"1\" class=\"dataframe\">\n",
       "  <thead>\n",
       "    <tr style=\"text-align: right;\">\n",
       "      <th></th>\n",
       "      <th>ponente</th>\n",
       "    </tr>\n",
       "  </thead>\n",
       "  <tbody>\n",
       "    <tr>\n",
       "      <th>N/A</th>\n",
       "      <td>12120</td>\n",
       "    </tr>\n",
       "    <tr>\n",
       "      <th>dr alvaro tafur</th>\n",
       "      <td>998</td>\n",
       "    </tr>\n",
       "    <tr>\n",
       "      <th>dr marco gerardo</th>\n",
       "      <td>975</td>\n",
       "    </tr>\n",
       "    <tr>\n",
       "      <th>dr alfredo beltrán</th>\n",
       "      <td>964</td>\n",
       "    </tr>\n",
       "    <tr>\n",
       "      <th>dr rodrigo escobar</th>\n",
       "      <td>921</td>\n",
       "    </tr>\n",
       "    <tr>\n",
       "      <th>...</th>\n",
       "      <td>...</td>\n",
       "    </tr>\n",
       "    <tr>\n",
       "      <th>dr ciro angarita</th>\n",
       "      <td>6</td>\n",
       "    </tr>\n",
       "    <tr>\n",
       "      <th>fabio morón díaz</th>\n",
       "      <td>6</td>\n",
       "    </tr>\n",
       "    <tr>\n",
       "      <th>jaime araújo rentería</th>\n",
       "      <td>6</td>\n",
       "    </tr>\n",
       "    <tr>\n",
       "      <th>josé antonio cepeda</th>\n",
       "      <td>6</td>\n",
       "    </tr>\n",
       "    <tr>\n",
       "      <th>e dr jairo</th>\n",
       "      <td>6</td>\n",
       "    </tr>\n",
       "  </tbody>\n",
       "</table>\n",
       "<p>112 rows × 1 columns</p>\n",
       "</div>"
      ],
      "text/plain": [
       "                       ponente\n",
       "N/A                      12120\n",
       "dr alvaro tafur            998\n",
       "dr marco gerardo           975\n",
       "dr alfredo beltrán         964\n",
       "dr rodrigo escobar         921\n",
       "...                        ...\n",
       "dr ciro angarita             6\n",
       "fabio morón díaz             6\n",
       "jaime araújo rentería        6\n",
       "josé antonio cepeda          6\n",
       "e dr jairo                   6\n",
       "\n",
       "[112 rows x 1 columns]"
      ]
     },
     "execution_count": 158,
     "metadata": {},
     "output_type": "execute_result"
    }
   ],
   "source": [
    "ponentes[(ponentes.ponente>5)]"
   ]
  },
  {
   "cell_type": "code",
   "execution_count": 161,
   "id": "applicable-character",
   "metadata": {},
   "outputs": [
    {
     "name": "stdout",
     "output_type": "stream",
     "text": [
      "0 N/A 12120\n",
      "1 dr alvaro tafur 998\n",
      "2 dr marco gerardo 975\n",
      "3 dr alfredo beltrán 964\n",
      "4 dr rodrigo escobar 921\n",
      "5 dr jaime córdoba 891\n",
      "6 dr manuel josé 740\n",
      "7 dr humberto antonio 705\n",
      "8 mauricio gonzález cuervo 680\n",
      "9 dr carlos gaviria 633\n",
      "10 dr jaime araújo 616\n",
      "11 dr jose gregorio 587\n",
      "12 jorge ignacio pretelt 572\n",
      "13 gabriel eduardo mendoza 566\n",
      "14 luis guillermo guerrero 565\n",
      "15 dr eduardo cifuentes 544\n",
      "16 dr fabio moron 542\n",
      "17 luis ernesto vargas 502\n",
      "18 dr vladimiro naranjo 502\n",
      "19 jorge iván palacio 470\n",
      "20 dr nilson pinilla 469\n",
      "21 dr antonio barrera 436\n",
      "22 dr hernando herrera 421\n",
      "23 alberto rojas ríos 415\n",
      "24 dr alejandro martínez 378\n",
      "25 dr jaime araujo 361\n",
      "26 dr eduardo montealegre 355\n",
      "27 dr josé gregorio 348\n",
      "28 dr alejandro martinez 335\n",
      "29 nilson pinilla pinilla 316\n",
      "30 alejandro linares cantillo 290\n",
      "31 dr jorge arango 273\n",
      "32 dr manuel jose 247\n",
      "33 humberto antonio sierra 230\n",
      "34 carlos bernal pulido 197\n",
      "35 dra clara inés 174\n",
      "36 dr luis ernesto 169\n",
      "37 alejandro martinez caballero 167\n",
      "38 dr juan carlos 166\n",
      "39 josé fernando reyes 164\n",
      "40 dr jorge ignacio 162\n",
      "41 dr fabio morón 153\n",
      "42 dr gabriel eduardo 146\n",
      "43 juan carlos henao 141\n",
      "44 dr jorge iván 137\n",
      "45 antonio barrera carbonell 130\n",
      "46 jorge ivan palacio 79\n",
      "47 h2 style= margin 77\n",
      "48 eduardo cifuentes muñoz 71\n",
      "49 alexei julio estrada 65\n",
      "50 aquiles arrieta gómez 63\n",
      "51 hernando herrera vergara 62\n",
      "52 dr alfredo beltran 54\n",
      "53 mauricio gonzalez cuervo 54\n",
      "54 jorge arango mejia 52\n",
      "55 antonio josé lizarazo 51\n",
      "56 dr jaime cordoba 49\n",
      "57 maría victoria calle 47\n",
      "58 dra clara ines 45\n",
      "59 e dr rodrigo 41\n",
      "60 dr simon rodriguez 35\n",
      "61 h1 style= margin 35\n",
      "62 dr mauricio gonzález 35\n",
      "63 dr álvaro tafur 33\n",
      "64 gloria stella ortiz 32\n",
      "65 dr jaime sanin 30\n",
      "66 luís ernesto vargas 29\n",
      "67 ciro angarita baron 28\n",
      "68 carlos gaviria díaz 27\n",
      "69 h4 style= margin 26\n",
      "70 h5 style= margin 25\n",
      "71 e iván humberto 24\n",
      "72 dr jorge ivan 23\n",
      "73 alejandro martínez caballero 22\n",
      "74 alberto rojas rios 22\n",
      "75 carlos gaviria diaz 21\n",
      "76 dr humberto sierra 21\n",
      "77 rodrigo escobar gil 20\n",
      "78 h3 style= margin 18\n",
      "79 e josé antonio 15\n",
      "80 dr julio cesar 15\n",
      "81 andrés mutis vanegas 15\n",
      "82 e richard s 14\n",
      "83 que el médico 14\n",
      "84 doctor jose gregorio 14\n",
      "85 jaime córdoba triviño 13\n",
      "86 e dra carmenza 13\n",
      "87 razón por la 13\n",
      "88 span style= font 13\n",
      "89 del derecho a 12\n",
      "90 jorge arango mejía 12\n",
      "91 esencial de la 12\n",
      "92 e dra martha 11\n",
      "93 doctor jorge arango 10\n",
      "94 ordenó que se 10\n",
      "95 e dra cristina 10\n",
      "96 dra maría victoria 10\n",
      "97 dr jairo charry 9\n",
      "98 esencial del derecho 9\n",
      "99 cristina pardo schlesinger 9\n",
      "100 doctor ciro angarita 9\n",
      "101 marco gerardo monroy 8\n",
      "102 alvaro tafur galvis 7\n",
      "103 ciro angarita barón 7\n",
      "104 diana fajardo rivera 7\n",
      "105 martha victoria sáchica 7\n",
      "106 dr luís ernesto 6\n",
      "107 dr ciro angarita 6\n",
      "108 fabio morón díaz 6\n",
      "109 jaime araújo rentería 6\n",
      "110 josé antonio cepeda 6\n",
      "111 e dr jairo 6\n",
      "112 dr mauricio gonzalez 5\n",
      "113 dra cristina pardo 5\n",
      "114 vladimiro naranjo mesa 5\n",
      "115 e adriana maria 5\n",
      "116 magistrado josé gregorio 5\n",
      "117 h6 style= margin 5\n",
      "118 h3 h3 style= 5\n",
      "119 fabio moron diaz 5\n",
      "120 maria victoria calle 5\n",
      "121 magistrado jose gregorio 5\n",
      "122 manuel josé cepeda 5\n",
      "123 de la ayuda 5\n",
      "124 dr rodrigo uprimny 5\n",
      "125 del sistema de 5\n",
      "126 de la seguridad 5\n",
      "127 simon rodriguez rodriguez 4\n",
      "128 de la sentencia 4\n",
      "129 que los médicos 4\n",
      "130 dr jaime araùjo 4\n",
      "131 jaime sanin greiffenstein 4\n",
      "132 de la reparación 4\n",
      "133 esenciales de la 4\n",
      "134 del derecho de 4\n",
      "135 del derecho fundamental 4\n",
      "136 propios del bienestar 3\n",
      "137 educativos que pueden 3\n",
      "138 e myriam avila 3\n",
      "139 de la prórroga 3\n",
      "140 de la política 3\n",
      "141 del debido proceso 3\n",
      "142 martha victoria sachica 3\n",
      "143 el derecho a 3\n",
      "144 eduardo montealegre lynett 3\n",
      "145 e adriana maría 3\n",
      "146 alfredo beltrán sierra 3\n",
      "147 dr nilson pinillla 3\n",
      "148 jaime araujo renteria 3\n",
      "149 del sistema educativo 3\n",
      "150 del proyecto de 3\n",
      "151 adriana maría guillén 3\n",
      "152 del principio de 3\n",
      "153 de acceso disponibilidad 3\n",
      "154 derecho a la 3\n",
      "155 prestacionales reconocidos y 3\n",
      "156 etapas y fases 3\n",
      "157 esencial del debido 3\n",
      "158 myriam ávila roldán 3\n",
      "159 fundamental que integra 3\n",
      "160 e dra clara 3\n",
      "161 fundamentales del juicio 2\n",
      "162 clara inés vargas 2\n",
      "163 y ii exponer 2\n",
      "164 de este derecho 2\n",
      "165 class=msonormal style= margin 2\n",
      "166 del derecho al 2\n",
      "167 e h1 style= 2\n",
      "168 y iii programación 2\n",
      "169 de promoción prevención 2\n",
      "170 esencial de este 2\n",
      "171 básicos de información 2\n",
      "172 según jurisprudencia de 2\n",
      "173 0cm margin left 2\n",
      "174 href= ftn1 name= 2\n",
      "175 span lang=es co 2\n",
      "176 con el fin 2\n",
      "177 presupuestos para que 2\n",
      "178 así como los 2\n",
      "179 el estado debe 2\n",
      "180 de un conjunto 2\n",
      "181 e myriam ávila 2\n",
      "182 actúe como compartimento 2\n",
      "183 más importantes de 2\n",
      "184 a la educacion 2\n",
      "185 de los programas 2\n",
      "186 de la identidad 2\n",
      "187 podrá decretar de 2\n",
      "188 mediante auto de 2\n",
      "189 y en esa 2\n",
      "190 e hernán correa 2\n",
      "191 luis ernesto varga 2\n",
      "192 de la inversión 2\n",
      "193 del territorio colombiano 2\n",
      "194 no puede comprometer 2\n",
      "195 luís guillermo guerrero 2\n",
      "196 alberto rojas rêos 2\n",
      "197 de habitabilidad ante 2\n",
      "198 que permitan garantizar 2\n",
      "199 esenciales que delimitan 2\n",
      "200 e dra catalina 2\n",
      "201 e h2 style= 2\n",
      "202 jose fernando reyes 2\n",
      "203 de la libertad 2\n",
      "204 mediante auto del 2\n",
      "205 de accesibilidad reiteración 2\n",
      "206 iván humberto escrucería 2\n",
      "207 inseparables liquidacion de 2\n",
      "208 de alojamiento temporal 2\n",
      "209 adriana maria guillen 2\n",
      "210 de la base 2\n",
      "211 que refuerza el 2\n",
      "212 esenciales y hace 2\n",
      "213 size 14 0pt 2\n",
      "214 dra martha victoria 2\n",
      "215 deberá consignar la 2\n",
      "216 e andrés mutis 2\n",
      "217 básicos del derecho 2\n",
      "218 i el sistema 2\n",
      "219 inseparables base reguladora 2\n",
      "220 que eleven el 2\n",
      "221 dres jorge arango 2\n",
      "222 dra mirén de 2\n",
      "223 h1dr jaime araujo 2\n",
      "224 jorge enrique ibáñez 2\n",
      "225 esenciales del derecho 2\n",
      "226 adriana m guillén 2\n",
      "227 altere el entorno 2\n",
      "228 puede decretar las 1\n",
      "229 personal inevitable pues 1\n",
      "230 de esta iniciativa 1\n",
      "231 establecido para resolver 1\n",
      "232 de reincorporacion politica 1\n",
      "233 económico informalidad minera 1\n",
      "234 religioso precedente fijado 1\n",
      "235 tributo competencia para 1\n",
      "236 físicos urbanos y 1\n",
      "237 me permito aclarar 1\n",
      "238 logístico documental y 1\n",
      "239 del impuesto de 1\n",
      "240 personas con las 1\n",
      "241 myriam ávila roldan 1\n",
      "242 prestacional no lo 1\n",
      "243 gin bottom 0001pt 1\n",
      "244 10 i solicitó 1\n",
      "245 axial en el 1\n",
      "246 económico o monetario 1\n",
      "247 de la sección 1\n",
      "248 de la agenda 1\n",
      "249 w roman serif 1\n",
      "250 decidendi obiter dictum 1\n",
      "251 de los derechos 1\n",
      "252 1 el relativo 1\n",
      "253 del 7 de 1\n",
      "254 de la tutela 1\n",
      "255 doctor josé gregorio 1\n",
      "256 conforme se observa 1\n",
      "257 alejandro martinez caballlero 1\n",
      "258 básicos por asambleas 1\n",
      "259 particular y previamente 1\n",
      "260 anatomicos inhibición por 1\n",
      "261 una vez cumplidos 1\n",
      "262 in bottom 0cm 1\n",
      "263 de habitabilidad al 1\n",
      "264 rafael e ostau 1\n",
      "265 de las comisiones 1\n",
      "266 dr hernado herrera 1\n",
      "267 jairo e duque 1\n",
      "268 i reducción en 1\n",
      "269 de alimentación salud 1\n",
      "270 dra clara elena 1\n",
      "271 dr jaime vidal 1\n",
      "272 de alimentación alojamiento 1\n",
      "273 e n bottom 1\n",
      "274 esencial 1 preparación 1\n",
      "275 raph dr vladimiro 1\n",
      "276 y productos usualmente 1\n",
      "277 josé antonio lizarazo 1\n",
      "278 no iba poder 1\n",
      "279 dr manuel span 1\n",
      "280 h1 h1 style= 1\n",
      "281 quien hoy conduce 1\n",
      "282 esenciales esta exigencia 1\n",
      "283 y inter ideograph 1\n",
      "284 h3dr jaime araujo 1\n",
      "285 ttom 0cm margin 1\n",
      "286 puede lograrse a 1\n",
      "287 constitucionales y legales 1\n",
      "288 tyle= font size 1\n",
      "289 el registro de 1\n",
      "290 del paquete de 1\n",
      "291 de defensa tcnica 1\n",
      "292 ley de apropiaciones 1\n",
      "293 teleológico la participación 1\n",
      "294 h3 style= line 1\n",
      "295 caso en que 1\n",
      "296 determinante de la 1\n",
      "297 que la jurisprudencia 1\n",
      "298 de su patrimonio 1\n",
      "299 consideren relevantes no 1\n",
      "300 y quienes hayan 1\n",
      "301 h2 h2 style= 1\n",
      "302 de accesibilidad universal 1\n",
      "303 del referido proceso 1\n",
      "304 como quiera que 1\n",
      "305 subjetivos que lo 1\n",
      "306 de la sanción 1\n",
      "307 la idea de 1\n",
      "308 de justicia distributiva 1\n",
      "309 meramente estético y 1\n",
      "310 esenciales del recomendado 1\n",
      "311 inmobiliarios impuesto sobre 1\n",
      "312 del iva de 1\n",
      "313 proyecto de ley 1\n",
      "314 el 14 de 1\n",
      "315 de integralidad accesibilidad 1\n",
      "316 fundamentales ya que 1\n",
      "317 margin left 7 1\n",
      "318 surgen deberes específicos 1\n",
      "319 gn justify text 1\n",
      "320 class=msonormal style= text 1\n",
      "321 carlos gavira diaz 1\n",
      "322 exencion tributaria condición 1\n",
      "323 el oficio bz 1\n",
      "324 para evitar dilaciones 1\n",
      "325 y iii exponer 1\n",
      "326 jorge ignacio preteltchaljub 1\n",
      "327 esenciales del desarrollo 1\n",
      "328 esencial del ordenamiento 1\n",
      "329 de la ruta 1\n",
      "330 étnico en un 1\n",
      "331 dra catalina botero 1\n",
      "332 quien pudo dar 1\n",
      "333 que integre el 1\n",
      "334 discriminatorio igualdad de 1\n",
      "335 que integran el 1\n",
      "336 idóneo para que 1\n",
      "337 normativos que inciden 1\n",
      "338 de diseño universal 1\n",
      "339 h6dr alvaro tafur 1\n",
      "340 económico a través 1\n",
      "341 y prestaciones en 1\n",
      "342 drs josé gregorio 1\n",
      "343 el inciso primero 1\n",
      "344 territoriales creación legalcongreso 1\n",
      "345 del concepto de 1\n",
      "346 v la acumulación 1\n",
      "347 primigenio indispensable que 1\n",
      "348 consideró necesario disponer 1\n",
      "349 y etapas referencia 1\n",
      "350 anatómicos importados y 1\n",
      "351 no consignaron dentro 1\n",
      "352 dr nilosn pinilla 1\n",
      "353 estructurales del derecho 1\n",
      "354 ight 16 75pt 1\n",
      "355 ht 16 75pt 1\n",
      "356 mal style= margin 1\n",
      "357 rechazó la demanda 1\n",
      "358 así frente a 1\n",
      "359 dra maria victoria 1\n",
      "360 p dr jaime 1\n",
      "361 de los acuerdos 1\n",
      "362 doctor fabio morón 1\n",
      "363 por secretaría general 1\n",
      "364 sigue convencido de 1\n",
      "365 tramita asuntos que 1\n",
      "366 atención en salud 1\n",
      "367 o los servidores 1\n",
      "368 rgin bottom 0001pt 1\n",
      "369 75pt margin bottom 1\n",
      "370 h6dr jaime córdoba 1\n",
      "371 preferente y principal 1\n",
      "372 que tengan la 1\n",
      "373 anatomicos a extranjeros 1\n",
      "374 se refieren a 1\n",
      "375 se encuentran comprendidos 1\n",
      "376 dr antoniobarrera carbonell 1\n",
      "377 económico en lo 1\n",
      "378 esenciales del pot 1\n",
      "379 discriminatorio por ello 1\n",
      "380 que considere necesario 1\n",
      "381 para el goce 1\n",
      "382 del deber de 1\n",
      "383 adriana guillén arango 1\n",
      "384 que hacen parte 1\n",
      "385 explican en la 1\n",
      "386 legalidad de los 1\n",
      "387 b del pacto 1\n",
      "388 ter ideograph dr 1\n",
      "389 ormal style= margin 1\n",
      "390 que activa la 1\n",
      "391 de la competencia 1\n",
      "392 de la providencia 1\n",
      "393 dr mal style= 1\n",
      "394 axiológicos del ordenamiento 1\n",
      "395 básicodebido proceso en 1\n",
      "396 marítimos el subsuelo 1\n",
      "397 de los dineros 1\n",
      "398 esencial derecho penal 1\n",
      "399 estricto de la 1\n",
      "400 ciro angarita bar0n 1\n",
      "401 más importantes igualmente 1\n",
      "402 tal hecho no 1\n",
      "403 decidió admitir la 1\n",
      "404 b cuestiones previas 1\n",
      "405 de manera clara 1\n",
      "406 médico previsto para 1\n",
      "407 dr rodrlgo escobar 1\n",
      "408 en procesos de 1\n",
      "409 no puede justificarse 1\n",
      "410 del núcleo familiar 1\n",
      "411 xt align justify 1\n",
      "412 margin right 11 1\n",
      "413 del beneficio tributario 1\n",
      "414 prioritario de los 1\n",
      "415 separados a procedimientos 1\n",
      "416 algunas pruebas para 1\n",
      "417 al doctor dídier 1\n",
      "418 esenciales del sistema 1\n",
      "419 dr omar enrique 1\n",
      "420 en interacción recíproca 1\n",
      "421 en alusión al 1\n",
      "422 del núcleo esencial 1\n",
      "423 jurídico del sistema 1\n",
      "424 subsidio familiar características 1\n",
      "425 de la obligación 1\n",
      "426 disponibilidad accesibilidad aceptabilidad 1\n",
      "427 de la conducta 1\n",
      "428 del vínculo tributario 1\n",
      "429 font size 14 1\n",
      "430 naval de apostadero 1\n",
      "431 i financiación y 1\n",
      "432 más importantes y 1\n",
      "433 directamente entrelazados que 1\n",
      "434 h4 dra clara 1\n",
      "435 del contrato de 1\n",
      "436 dra humberto antonio 1\n",
      "437 pt margin bottom 1\n",
      "438 de carácter fundamental 1\n",
      "439 fundamental de lucha 1\n",
      "440 comportamiento contrario a 1\n",
      "441 solicitó declarar improcedente 1\n",
      "442 las cotizaciones de 1\n",
      "443 no se agota 1\n",
      "444 inseparables que condicionan 1\n",
      "445 estudiaron y finalmente 1\n",
      "446 de una manera 1\n",
      "447 obligatorio pretensión se 1\n",
      "448 elementales del núcleo 1\n",
      "449 constituyen o no 1\n",
      "450 pro homine en 1\n",
      "451 esencial e insustituible 1\n",
      "452 respecto de los 1\n",
      "453 cancelación la autoridad 1\n",
      "454 alojamiento transitorio y 1\n",
      "455 ign justify text 1\n",
      "456 libertad de concurrencia 1\n",
      "457 importante del convenio 1\n",
      "458 de ayuda requeridos 1\n",
      "459 territorial hipótesis de 1\n",
      "460 transversal que abarca 1\n",
      "461 de continuidad así 1\n",
      "462 prestacional y requiere 1\n",
      "463 delegacion de funciones 1\n",
      "464 que agota el 1\n",
      "465 iv de manera 1\n",
      "466 en la legislación 1\n",
      "467 el oficio 2017 1\n",
      "468 para determinar el 1\n",
      "469 principal de la 1\n",
      "470 y presentacion de 1\n",
      "471 de modo que 1\n",
      "472 tecnológico e incluso 1\n",
      "473 del tributo o 1\n",
      "474 de la violencia 1\n",
      "475 el artículo 29 1\n",
      "476 t 7 0cm 1\n",
      "477 esencial el interés 1\n",
      "478 integrante del interés 1\n",
      "479 jairo jiménez aristizabal 1\n",
      "480 de un tipo 1\n",
      "481 sentencia t 113303 1\n",
      "482 incumplidos así tales 1\n",
      "483 esenciales carecen de 1\n",
      "484 dr al varo 1\n",
      "485 93 el registro 1\n",
      "486 hernan olano garcia 1\n",
      "487 álvaro tafur galvis 1\n",
      "488 de violencia y 1\n",
      "489 afectivo que en 1\n",
      "490 en el mundo 1\n",
      "491 de la supervisión 1\n",
      "492 la carta adopta 1\n",
      "493 rup finalidad de 1\n",
      "494 dr jos gregorio 1\n",
      "495 institucional y procesal 1\n",
      "496 al proveer sobre 1\n",
      "497 básico de la 1\n",
      "498 por la misma 1\n",
      "499 químicos o propiedades 1\n",
      "500 del mismo y 1\n",
      "501 constitutivo de la 1\n",
      "502 cuando no exista 1\n",
      "503 manuel jose cepeda 1\n",
      "504 de la ratio 1\n",
      "505 podrá adoptar una 1\n",
      "506 directamente entrelazados compuesto 1\n",
      "507 de la higiene 1\n",
      "508 0pt dr carlos 1\n",
      "509 más adecuado oportuno 1\n",
      "510 básicosprincipio de autonomia 1\n",
      "511 de la diversidad 1\n",
      "512 naturales el derecho 1\n",
      "513 es condición indispensable 1\n",
      "514 ext justify inter 1\n",
      "515 participativo papel en 1\n",
      "516 anatómicos a extranjeros 1\n",
      "517 son artículos de 1\n",
      "518 sean parcialmente reformulados 1\n",
      "519 e luis javier 1\n",
      "520 en el proceso 1\n",
      "521 dr luis erensto 1\n",
      "522 para publicación de 1\n",
      "523 las responsabilidades y 1\n",
      "524 integrales del derecho 1\n",
      "525 dr fidalgo javier 1\n",
      "526 de participación política 1\n",
      "527 que obliga de 1\n",
      "528 ordenó oficiar al 1\n",
      "529 dr jaimen sanin 1\n",
      "530 de asistencia mínima 1\n",
      "531 del tributo tales 1\n",
      "532 dr span style= 1\n",
      "533 que se recibieron 1\n",
      "534 de integración de 1\n",
      "535 fácticos es claro 1\n",
      "536 social que obliga 1\n",
      "537 doctor carlos gustavo 1\n",
      "538 de naturaleza variable 1\n",
      "539 la protección por 1\n",
      "540 e inclusión de 1\n",
      "541 son los siguientes 1\n",
      "542 del sistema nacional 1\n",
      "543 de cada delito 1\n",
      "544 el derecho fundamental 1\n",
      "545 también resulta jurídicamente 1\n",
      "546 que su informe 1\n",
      "547 de archivística constituyera 1\n",
      "548 la constitución política 1\n",
      "549 siendo las cámaras 1\n",
      "550 dr alejandromartinez caballero 1\n",
      "551 de restitución exige 1\n",
      "552 memoriales suscritos por 1\n",
      "553 del sivjrnr actúan 1\n",
      "554 magistrado onormal align=center 1\n",
      "555 antonio barrera carbonelll 1\n",
      "556 esencial derecho de 1\n",
      "557 graph dr simon 1\n",
      "558 inseparables pension de 1\n",
      "559 de la indemnización 1\n",
      "560 fundamentales a pesar 1\n",
      "561 disciplinario la norma 1\n",
      "562 argumentando que él 1\n",
      "563 e ministerio de 1\n",
      "564 esenciales del debido 1\n",
      "565 dr luis ernsesto 1\n",
      "566 realizó consulta ante 1\n",
      "567 en materia salarial 1\n",
      "568 de transferencia de 1\n",
      "569 por tal razón 1\n",
      "570 es precisamente el 1\n",
      "571 del caso considera 1\n",
      "572 left 7 0cm 1\n",
      "573 del régimen prestacional 1\n",
      "574 sea cumplido a 1\n",
      "575 0001pt text align 1\n",
      "576 stify text justify 1\n",
      "577 drs vladimiro naranjo 1\n",
      "578 ordenó fijar en 1\n",
      "579 donald josé dix 1\n",
      "580 solicitando negar la 1\n",
      "581 en contratacion estatal 1\n",
      "582 gloria stella ortíz 1\n",
      "583 h2 style= text 1\n",
      "584 informativo y pedagógico 1\n",
      "585 básico derecho al 1\n",
      "586 ify inter ideograph 1\n",
      "587 irregularidad en tramite 1\n",
      "588 se enmarcan dentro 1\n",
      "589 inicial o de 1\n",
      "590 dentro de los 1\n",
      "591 podrá en cualquier 1\n",
      "592 horizontal es eminentemente 1\n",
      "593 importante de la 1\n",
      "594 4 0pt color 1\n",
      "595 propio de la 1\n",
      "596 que busca su 1\n",
      "597 no están exentos 1\n",
      "598 dr eduardo cifuentez 1\n",
      "599 afectivos y emocionales 1\n",
      "600 olvidó indicar explícitamente 1\n",
      "601 de accesibilidad a 1\n",
      "602 margin right 16 1\n",
      "603 de asequibilidad accesibilidad 1\n",
      "604 religioso al afectar 1\n",
      "605 objetivo del estado 1\n",
      "606 de la calidad 1\n",
      "607 de dicho derecho 1\n",
      "608 josé gregorio hernández 1\n",
      "609 de asequibilidad derecho 1\n",
      "610 y su interrelación 1\n",
      "611 que caracterizan nuestra 1\n",
      "612 para cálculo de 1\n",
      "613 del espacio publico 1\n",
      "614 anatómicos dignos de 1\n",
      "615 el director adjuntó 1\n",
      "616 básicos de la 1\n",
      "617 de organismos genéticamente 1\n",
      "618 de haberse hecho 1\n",
      "619 de gasto del 1\n",
      "620 básico para la 1\n",
      "621 mínimos protegidos por 1\n",
      "622 en el fallo 1\n",
      "623 central del derecho 1\n",
      "624 base y porcentaje 1\n",
      "625 de segundo debate 1\n",
      "626 inseparables el monto 1\n",
      "627 deograph dr alvaro 1\n",
      "628 incurrió en la 1\n",
      "629 de la justicia 1\n",
      "630 ante la necesidad 1\n",
      "631 definitorios esenciales en 1\n",
      "632 de jorge arango 1\n",
      "633 left 198 9pt 1\n",
      "634 como derecho a 1\n",
      "635 de sensibilidad social 1\n",
      "636 que la sala 1\n",
      "637 sancionatorio buscan aminorar 1\n",
      "638 de la habitabilidad 1\n",
      "639 del fallo atacado 1\n",
      "640 ahora bien la 1\n",
      "641 de rehabilitación del 1\n",
      "642 fáctico común de 1\n",
      "643 iv el deber 1\n",
      "644 de atención que 1\n",
      "645 preventivo derecho a 1\n",
      "646 de la parte 1\n",
      "647 a los comisionados 1\n",
      "648 desplazados reglamentación de 1\n",
      "649 subjetivos adicionalesacto punible 1\n",
      "650 11 7 2 1\n",
      "651 de igualdad problemas 1\n",
      "652 dr jaime sanín 1\n",
      "653 han sido clasificados 1\n",
      "654 étnicamente diferenciado de 1\n",
      "655 lang=es co style= 1\n",
      "656 f no sólo 1\n",
      "657 para que el 1\n",
      "658 dr jacobo pérez 1\n",
      "659 anatómicos derecho a 1\n",
      "660 pensional como en 1\n",
      "661 inadmitió la demanda 1\n",
      "662 judicial del sistema 1\n",
      "663 la objetividad en 1\n",
      "664 haya sido hecho 1\n",
      "665 exentos ref d 1\n",
      "666 de un servicio 1\n",
      "667 estos son i 1\n",
      "668 198 9pt margin 1\n",
      "669 sexo del registro 1\n",
      "670 del auto acusado 1\n",
      "671 de suspensión se 1\n",
      "672 admite la intervención 1\n",
      "673 un juicioso análisis 1\n",
      "674 de la medida 1\n",
      "675 del snaipd y 1\n",
      "676 observaciones ciudadanas a 1\n",
      "677 necesario para lograr 1\n",
      "678 plebiscitario al paso 1\n",
      "679 y no tiene 1\n",
      "680 estructurales en su 1\n",
      "681 eduardo cifuentes agosto 1\n",
      "682 específico del derecho 1\n",
      "683 que garantizan la 1\n",
      "684 las pruebas enviadas 1\n",
      "685 solicitó el aporte 1\n",
      "686 y v un 1\n",
      "687 jose gregorio hernandez 1\n",
      "688 de la ley 1\n",
      "689 en contratacion administrativa 1\n",
      "690 recurre a posturas 1\n",
      "691 adriana maria guillén 1\n",
      "692 esenciales se encuentran 1\n",
      "693 e gloria stella 1\n",
      "694 ii las gacetas 1\n",
      "695 social demuestra una 1\n",
      "696 y elementos accion 1\n",
      "697 al resolver sobre 1\n",
      "698 usos volumen peso 1\n",
      "699 de los proyectos 1\n",
      "700 lu bogotá dc 1\n",
      "701 jaime araujo rentería 1\n",
      "702 esencial y por 1\n",
      "703 sancionatorio del código 1\n",
      "704 rechazando la demanda 1\n",
      "705 leve carga que 1\n",
      "706 principales autonomia universitaria 1\n",
      "707 como una estrategia 1\n",
      "708 doctor alfredo beltrán 1\n",
      "709 central en el 1\n",
      "710 resocializador justicia transicional 1\n",
      "711 oneroso ahora dada 1\n",
      "712 inter ideograph dr 1\n",
      "713 fundamental del ordenamiento 1\n",
      "714 sobre el caso 1\n",
      "715 s tiene n 1\n",
      "716 del derecho disciplinario 1\n",
      "717 h5 h5 style= 1\n",
      "718 de la individualidad 1\n",
      "719 centrales la separación 1\n",
      "720 h4 align=left style= 1\n",
      "721 en este caso 1\n",
      "722 el dr alfredo 1\n",
      "723 imprescindibles para permitir 1\n",
      "724 que establece la 1\n",
      "725 dr hernando gómez 1\n",
      "726 de reparación económica 1\n",
      "727 vinculó al iss 1\n",
      "728 ass=msonormal style= margin 1\n",
      "729 para que adoptara 1\n",
      "730 deben respetar los 1\n",
      "731 sonormal style= margin 1\n",
      "732 presupuesto de gastos 1\n",
      "733 lúdicos y el 1\n",
      "734 solicitó tanto a 1\n",
      "735 del auto que 1\n",
      "736 de las decisiones 1\n",
      "737 equidad tributaria definición 1\n",
      "738 invariables cuales son 1\n",
      "739 y una justificación 1\n",
      "740 del proyecto artículo 1\n",
      "741 del pacto por 1\n",
      "742 de derecho a 1\n",
      "743 prestacionales necesarios para 1\n",
      "744 no existan las 1\n",
      "745 de la atención 1\n",
      "746 anatomicos post mortem 1\n",
      "747 justify inter ideograph 1\n",
      "748 e rodrigo uprimny 1\n",
      "749 básicos reparacion integral 1\n",
      "750 incidente de reparacion 1\n",
      "751 otorgando a las 1\n",
      "752 del derecho se 1\n",
      "753 fecha recibido por 1\n",
      "754 control participativo desarrollo 1\n",
      "755 interdisciplinario existencia de 1\n",
      "756 h4dr álvaro tafur 1\n",
      "757 fáctico constituido por 1\n",
      "758 esencial del proyecto 1\n",
      "759 orgánicos del estado 1\n",
      "760 de la sala 1\n",
      "761 right 2 55pt 1\n",
      "762 consideran que así 1\n",
      "763 dejando en cabeza 1\n",
      "764 en efecto el 1\n",
      "765 en proceso de 1\n",
      "766 organico o institucional 1\n",
      "767 ii consideraciones de 1\n",
      "768 an lang=es co 1\n",
      "769 no obstante que 1\n",
      "770 básicos del núcleo 1\n",
      "771 adversarial del sistema 1\n",
      "772 de reparacion integral 1\n",
      "773 de dicho texto 1\n",
      "774 solidario que depende 1\n",
      "775 principio de generalidad 1\n",
      "776 en los procesos 1\n",
      "777 de ayuda referencia 1\n",
      "778 en trámite de 1\n",
      "779 es co style= 1\n",
      "780 procedió a rechazar 1\n",
      "781 la carga de 1\n",
      "782 estructurales del problema 1\n",
      "783 doctores jose gregorio 1\n",
      "784 el resarcimiento por 1\n",
      "785 =msonormal style= margin 1\n",
      "786 la jurisprudencia constitucional 1\n",
      "787 h5dr rodrigo escobar 1\n",
      "788 de la protección 1\n",
      "789 cruciales de su 1\n",
      "790 fundamentales es la 1\n",
      "791 denominado gasto público 1\n",
      "792 dr vladimirio naranjo 1\n",
      "793 corpóreo indiscutible por 1\n",
      "794 coercitivo y en 1\n",
      "795 esenciales cual es 1\n",
      "796 prestacional del derecho 1\n",
      "797 dr guillermo gonzález 1\n",
      "798 e h5 style= 1\n",
      "799 especial consistente en 1\n",
      "800 de la fiscalía 1\n",
      "801 pues no hay 1\n",
      "802 ofició a coomeva 1\n",
      "803 del cuadro clínico 1\n",
      "804 constitutivos y complementarios 1\n",
      "805 iii dr jaime 1\n",
      "806 julio cesar ortiz 1\n",
      "807 como fundamento para 1\n",
      "808 0cm margin right 1\n",
      "809 top 0cm margin 1\n",
      "810 luis carlos sáchica 1\n",
      "811 h3 h2 style= 1\n",
      "812 inflacionario o de 1\n",
      "813 que no compromete 1\n",
      "814 8 primero ordenar 1\n",
      "815 el principio de 1\n",
      "816 indefectible de la 1\n",
      "817 dr fabio morn 1\n",
      "818 adopte las medidas 1\n",
      "819 económico del derecho 1\n",
      "820 de vivienda del 1\n",
      "821 de que se 1\n",
      "822 que pueden incorporarse 1\n",
      "823 religioso católico con 1\n",
      "824 existe una amplia 1\n"
     ]
    }
   ],
   "source": [
    "for i, (index, r) in enumerate(ponentes.iterrows()):\n",
    "    print(i, index, r.ponente)"
   ]
  },
  {
   "cell_type": "markdown",
   "id": "otherwise-monroe",
   "metadata": {},
   "source": [
    "## **[EN CONSTRUCCIÓN] Análisis de frecuencia de palabras**"
   ]
  },
  {
   "cell_type": "code",
   "execution_count": 120,
   "id": "korean-jacob",
   "metadata": {},
   "outputs": [],
   "source": [
    "df[\"palabras\"] = [len(doc.split()) for doc in df.pp.values]"
   ]
  },
  {
   "cell_type": "code",
   "execution_count": 137,
   "id": "downtown-seminar",
   "metadata": {},
   "outputs": [
    {
     "data": {
      "image/png": "[encoded data removed]",
      "text/plain": [
       "<Figure size 432x288 with 1 Axes>"
      ]
     },
     "metadata": {
      "needs_background": "light"
     },
     "output_type": "display_data"
    }
   ],
   "source": [
    "fig, ax = plt.subplots(1,1)\n",
    "# fig.set_figheight(15)\n",
    "# fig.set_figwidth(15)\n",
    "# # ax.set_size_inches(10,15)\n",
    "ax.set_xlim(10000)\n",
    "ax.rev\n",
    "ax.hist(df.palabras.values, bins=10000)\n",
    "\n",
    "# data['pm2.5'].hist(bins=1000,grid=False)\n",
    "# ax.set_xlabel(\"Palabras\", fontsize=15)\n",
    "# ax.set_ylabel(\"Documentos\",fontsize=15)\n",
    "plt.show()"
   ]
  },
  {
   "cell_type": "code",
   "execution_count": 139,
   "id": "industrial-crossing",
   "metadata": {},
   "outputs": [
    {
     "data": {
      "text/plain": [
       "33328"
      ]
     },
     "execution_count": 139,
     "metadata": {},
     "output_type": "execute_result"
    }
   ],
   "source": [
    "np.argmax(df.palabras.values)"
   ]
  },
  {
   "cell_type": "code",
   "execution_count": 145,
   "id": "received-alert",
   "metadata": {},
   "outputs": [
    {
     "name": "stdout",
     "output_type": "stream",
     "text": [
      "https://www.corteconstitucional.gov.co/Relatoria/1996/C-037-96.htm\n"
     ]
    }
   ],
   "source": [
    "print(df.iloc[np.argmax(df.palabras.values)].LINK)"
   ]
  },
  {
   "cell_type": "code",
   "execution_count": 146,
   "id": "falling-allah",
   "metadata": {},
   "outputs": [],
   "source": [
    "from bs4 import BeautifulSoup"
   ]
  },
  {
   "cell_type": "code",
   "execution_count": 148,
   "id": "cleared-expense",
   "metadata": {},
   "outputs": [],
   "source": [
    "main_soup = BeautifulSoup(df.iloc[np.argmax(df.palabras.values)].DOCUMENT, 'lxml')"
   ]
  },
  {
   "cell_type": "code",
   "execution_count": 149,
   "id": "sealed-ethics",
   "metadata": {},
   "outputs": [
    {
     "data": {
      "text/plain": [
       "'LEY ESTATUTARIA JUSTICIA\\n\\n\\n'"
      ]
     },
     "execution_count": 149,
     "metadata": {},
     "output_type": "execute_result"
    }
   ],
   "source": [
    "main_soup.text"
   ]
  },
  {
   "cell_type": "code",
   "execution_count": 150,
   "id": "dense-hobby",
   "metadata": {},
   "outputs": [],
   "source": [
    "with open(\"sentencia_sucia.txt\", \"w\") as f:\n",
    "    f.write(df.iloc[np.argmax(df.palabras.values)].DOCUMENT)"
   ]
  },
  {
   "cell_type": "code",
   "execution_count": null,
   "id": "bridal-intermediate",
   "metadata": {},
   "outputs": [],
   "source": []
  },
  {
   "cell_type": "code",
   "execution_count": 35,
   "id": "arbitrary-package",
   "metadata": {},
   "outputs": [],
   "source": [
    "X = ['mi mamá me mima', 'mi mamá me ama', 'amo a mi mamá']"
   ]
  },
  {
   "cell_type": "code",
   "execution_count": 36,
   "id": "alpha-greenhouse",
   "metadata": {},
   "outputs": [],
   "source": [
    "from sklearn.feature_extraction.text import CountVectorizer"
   ]
  },
  {
   "cell_type": "code",
   "execution_count": 37,
   "id": "vanilla-vietnamese",
   "metadata": {},
   "outputs": [
    {
     "data": {
      "text/plain": [
       "CountVectorizer(ngram_range=(1, 3))"
      ]
     },
     "execution_count": 37,
     "metadata": {},
     "output_type": "execute_result"
    }
   ],
   "source": [
    "vec = CountVectorizer(ngram_range=(1,3))\n",
    "vec.fit(X)"
   ]
  },
  {
   "cell_type": "code",
   "execution_count": 39,
   "id": "tracked-river",
   "metadata": {},
   "outputs": [
    {
     "data": {
      "text/plain": [
       "{'mi': 11,\n",
       " 'mamá': 4,\n",
       " 'me': 8,\n",
       " 'mima': 14,\n",
       " 'mi mamá': 12,\n",
       " 'mamá me': 5,\n",
       " 'me mima': 10,\n",
       " 'mi mamá me': 13,\n",
       " 'mamá me mima': 7,\n",
       " 'ama': 0,\n",
       " 'me ama': 9,\n",
       " 'mamá me ama': 6,\n",
       " 'amo': 1,\n",
       " 'amo mi': 2,\n",
       " 'amo mi mamá': 3}"
      ]
     },
     "execution_count": 39,
     "metadata": {},
     "output_type": "execute_result"
    }
   ],
   "source": [
    "vec.vocabulary_"
   ]
  }
 ],
 "metadata": {
  "kernelspec": {
   "display_name": "Python 3",
   "language": "python",
   "name": "python3"
  },
  "language_info": {
   "codemirror_mode": {
    "name": "ipython",
    "version": 3
   },
   "file_extension": ".py",
   "mimetype": "text/x-python",
   "name": "python",
   "nbconvert_exporter": "python",
   "pygments_lexer": "ipython3",
   "version": "3.9.1"
  }
 },
 "nbformat": 4,
 "nbformat_minor": 5
}
