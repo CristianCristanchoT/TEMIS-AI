{
 "cells": [
  {
   "cell_type": "markdown",
   "id": "collaborative-blond",
   "metadata": {},
   "source": [
    "# **Taller de pipelines en Tensorflow**\n",
    "  \n",
    "**Objetivo**:\n",
    "\n",
    "Leer el conjunto de datos del proyecto usando las utilidades de datos de tf.data"
   ]
  },
  {
   "cell_type": "markdown",
   "id": "decimal-anime",
   "metadata": {},
   "source": [
    "### **Imports**"
   ]
  },
  {
   "cell_type": "code",
   "execution_count": 3,
   "id": "emerging-authorization",
   "metadata": {},
   "outputs": [],
   "source": [
    "import tensorflow as tf\n",
    "# import tensorflow_text as text\n",
    "import pandas as pd\n",
    "import numpy as np"
   ]
  },
  {
   "cell_type": "markdown",
   "id": "compatible-acquisition",
   "metadata": {},
   "source": [
    "### **Cargar corpus como líneas en Tensorflow**"
   ]
  },
  {
   "cell_type": "code",
   "execution_count": 4,
   "id": "polar-share",
   "metadata": {},
   "outputs": [],
   "source": [
    "dataset = tf.data.TextLineDataset(\"cc_lemma_corpus.txt\")"
   ]
  },
  {
   "cell_type": "code",
   "execution_count": 7,
   "id": "threatened-simulation",
   "metadata": {},
   "outputs": [
    {
     "name": "stdout",
     "output_type": "stream",
     "text": [
      "b'sentencia t'\n",
      "b'propiedad horizontal obligaci\\xc3\\xb3n cargo propietario bien privado expensa com\\xc3\\xban regimen propiedad horizontal solidaridad pago propietario anterior nuevo propietario'\n",
      "b'administracion propiedad horizontal no pago cuota administraci\\xc3\\xb3n condominio'\n",
      "b'cuota administracion comprar inmueble remate deudo concepto'\n",
      "b'referencia expediente t'\n"
     ]
    }
   ],
   "source": [
    "for line in dataset.take(5):\n",
    "  print(line.numpy())\n"
   ]
  },
  {
   "cell_type": "code",
   "execution_count": null,
   "id": "therapeutic-moses",
   "metadata": {},
   "outputs": [],
   "source": []
  }
 ],
 "metadata": {
  "kernelspec": {
   "display_name": "Python 3",
   "language": "python",
   "name": "python3"
  },
  "language_info": {
   "codemirror_mode": {
    "name": "ipython",
    "version": 3
   },
   "file_extension": ".py",
   "mimetype": "text/x-python",
   "name": "python",
   "nbconvert_exporter": "python",
   "pygments_lexer": "ipython3",
   "version": "3.9.1"
  }
 },
 "nbformat": 4,
 "nbformat_minor": 5
}
